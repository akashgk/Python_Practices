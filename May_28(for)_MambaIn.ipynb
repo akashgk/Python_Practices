{
 "cells": [
  {
   "cell_type": "code",
   "execution_count": 1,
   "id": "2c042532",
   "metadata": {},
   "outputs": [],
   "source": [
    "l = [1,2,3,4,\"prince\", \"francis\", 45.56]"
   ]
  },
  {
   "cell_type": "code",
   "execution_count": 2,
   "id": "34ca331d",
   "metadata": {},
   "outputs": [
    {
     "name": "stdout",
     "output_type": "stream",
     "text": [
      "1\n",
      "2\n",
      "3\n",
      "4\n",
      "prince\n",
      "francis\n",
      "45.56\n"
     ]
    }
   ],
   "source": [
    "for i in l:\n",
    "    print(i)"
   ]
  },
  {
   "cell_type": "code",
   "execution_count": 3,
   "id": "9e630874",
   "metadata": {},
   "outputs": [],
   "source": [
    "for i in l:\n",
    "    pass"
   ]
  },
  {
   "cell_type": "code",
   "execution_count": 4,
   "id": "226072fe",
   "metadata": {},
   "outputs": [],
   "source": [
    "s = \"prince\""
   ]
  },
  {
   "cell_type": "code",
   "execution_count": 5,
   "id": "14bcd99b",
   "metadata": {},
   "outputs": [
    {
     "name": "stdout",
     "output_type": "stream",
     "text": [
      "p\n",
      "r\n",
      "i\n",
      "n\n",
      "c\n",
      "e\n"
     ]
    }
   ],
   "source": [
    "for i in s:\n",
    "    print(i)"
   ]
  },
  {
   "cell_type": "code",
   "execution_count": 7,
   "id": "4e246e14",
   "metadata": {},
   "outputs": [
    {
     "name": "stdout",
     "output_type": "stream",
     "text": [
      "1\n",
      "2\n",
      "3\n",
      "4\n",
      "prince\n",
      "francis\n",
      "45.56\n",
      "if for loop is going to complete itself it will execute else\n"
     ]
    }
   ],
   "source": [
    "for i in l:\n",
    "    print(i)\n",
    "else:\n",
    "    print(\"if for loop is going to complete itself it will execute else\")"
   ]
  },
  {
   "cell_type": "code",
   "execution_count": 8,
   "id": "4c55657d",
   "metadata": {},
   "outputs": [
    {
     "name": "stdout",
     "output_type": "stream",
     "text": [
      "1\n",
      "2\n",
      "3\n"
     ]
    }
   ],
   "source": [
    "for i in l:\n",
    "    if i == 4:\n",
    "        break\n",
    "    print(i)\n",
    "else:\n",
    "    print(\"this will execute only if for is going to complete itself\")"
   ]
  },
  {
   "cell_type": "code",
   "execution_count": 10,
   "id": "09fef04e",
   "metadata": {},
   "outputs": [
    {
     "name": "stdout",
     "output_type": "stream",
     "text": [
      "p\n",
      "r\n",
      "i\n"
     ]
    }
   ],
   "source": [
    "s = \"prince\"\n",
    "for i in s:\n",
    "    if i == 'n':\n",
    "        break\n",
    "    print(i)\n",
    "else:\n",
    "    print(\"print string\", s)"
   ]
  },
  {
   "cell_type": "code",
   "execution_count": 11,
   "id": "a801e6ab",
   "metadata": {},
   "outputs": [
    {
     "name": "stdout",
     "output_type": "stream",
     "text": [
      "p\n",
      "r\n",
      "i\n",
      "n\n",
      "c\n",
      "e\n",
      "print string prince\n"
     ]
    }
   ],
   "source": [
    "s = \"prince\"\n",
    "for i in s:\n",
    "    if i == 'z':\n",
    "        break\n",
    "    print(i)\n",
    "else:\n",
    "    print(\"print string\", s)"
   ]
  },
  {
   "cell_type": "code",
   "execution_count": 12,
   "id": "4827caee",
   "metadata": {},
   "outputs": [],
   "source": [
    "t = (4,5,6,7,8,6,\"prince\")"
   ]
  },
  {
   "cell_type": "code",
   "execution_count": 13,
   "id": "db75c37e",
   "metadata": {},
   "outputs": [
    {
     "name": "stdout",
     "output_type": "stream",
     "text": [
      "4\n",
      "5\n",
      "6\n",
      "7\n",
      "8\n",
      "6\n",
      "prince\n"
     ]
    }
   ],
   "source": [
    "for i in t:\n",
    "    print(i)"
   ]
  },
  {
   "cell_type": "code",
   "execution_count": 14,
   "id": "58db1708",
   "metadata": {},
   "outputs": [],
   "source": [
    "b = {4,5,6,7,7,7,7,7,7,7,7,8,\"prince\"}"
   ]
  },
  {
   "cell_type": "code",
   "execution_count": 15,
   "id": "e008158f",
   "metadata": {},
   "outputs": [
    {
     "data": {
      "text/plain": [
       "set"
      ]
     },
     "execution_count": 15,
     "metadata": {},
     "output_type": "execute_result"
    }
   ],
   "source": [
    "type(b)"
   ]
  },
  {
   "cell_type": "code",
   "execution_count": 16,
   "id": "967e265a",
   "metadata": {},
   "outputs": [
    {
     "name": "stdout",
     "output_type": "stream",
     "text": [
      "4\n",
      "5\n",
      "6\n",
      "7\n",
      "8\n",
      "prince\n"
     ]
    }
   ],
   "source": [
    "for i in b:\n",
    "    print(i)"
   ]
  },
  {
   "cell_type": "code",
   "execution_count": 17,
   "id": "0d2dab70",
   "metadata": {},
   "outputs": [
    {
     "data": {
      "text/plain": [
       "{4, 5, 6, 7, 8, 'prince'}"
      ]
     },
     "execution_count": 17,
     "metadata": {},
     "output_type": "execute_result"
    }
   ],
   "source": [
    "b"
   ]
  },
  {
   "cell_type": "code",
   "execution_count": 18,
   "id": "03f3a82e",
   "metadata": {},
   "outputs": [],
   "source": [
    "d = {'key1':'prince', 'contact':'prince.francis64@gmail.com',\"position\":\"Mamba kid\"}"
   ]
  },
  {
   "cell_type": "code",
   "execution_count": 25,
   "id": "d1a033eb",
   "metadata": {},
   "outputs": [
    {
     "name": "stdout",
     "output_type": "stream",
     "text": [
      "key1 - prince\n",
      "contact - prince.francis64@gmail.com\n",
      "position - Mamba kid\n"
     ]
    }
   ],
   "source": [
    "for i in d:\n",
    "    print(i ,\"-\",d[i])"
   ]
  },
  {
   "cell_type": "code",
   "execution_count": 32,
   "id": "44d5182e",
   "metadata": {},
   "outputs": [
    {
     "name": "stdout",
     "output_type": "stream",
     "text": [
      "Prince \n",
      "Prince Prince \n",
      "Prince Prince Prince \n"
     ]
    }
   ],
   "source": [
    "for i in range(1,4):\n",
    "    print(i*\"Prince \")"
   ]
  },
  {
   "cell_type": "code",
   "execution_count": 31,
   "id": "b0c47870",
   "metadata": {},
   "outputs": [
    {
     "data": {
      "text/plain": [
       "[1, 2, 3]"
      ]
     },
     "execution_count": 31,
     "metadata": {},
     "output_type": "execute_result"
    }
   ],
   "source": [
    "list(range(1,4))"
   ]
  },
  {
   "cell_type": "code",
   "execution_count": 33,
   "id": "f23d69d2",
   "metadata": {},
   "outputs": [
    {
     "data": {
      "text/plain": [
       "range(0, 9)"
      ]
     },
     "execution_count": 33,
     "metadata": {},
     "output_type": "execute_result"
    }
   ],
   "source": [
    "range(9)"
   ]
  },
  {
   "cell_type": "code",
   "execution_count": 34,
   "id": "d911ce62",
   "metadata": {},
   "outputs": [
    {
     "data": {
      "text/plain": [
       "[0, 1, 2, 3, 4, 5, 6, 7, 8]"
      ]
     },
     "execution_count": 34,
     "metadata": {},
     "output_type": "execute_result"
    }
   ],
   "source": [
    "list(range(9))"
   ]
  },
  {
   "cell_type": "code",
   "execution_count": 35,
   "id": "a4b89a3b",
   "metadata": {},
   "outputs": [
    {
     "name": "stdout",
     "output_type": "stream",
     "text": [
      "0\n",
      "1\n",
      "2\n",
      "3\n",
      "4\n",
      "5\n",
      "6\n",
      "7\n",
      "8\n",
      "9\n"
     ]
    }
   ],
   "source": [
    "for i in range(10):\n",
    "    print(i)"
   ]
  },
  {
   "cell_type": "code",
   "execution_count": 36,
   "id": "98f76c61",
   "metadata": {},
   "outputs": [
    {
     "data": {
      "text/plain": [
       "[0, 2, 4, 6, 8]"
      ]
     },
     "execution_count": 36,
     "metadata": {},
     "output_type": "execute_result"
    }
   ],
   "source": [
    "list(range(0,9,2))"
   ]
  },
  {
   "cell_type": "code",
   "execution_count": 37,
   "id": "9e4de592",
   "metadata": {},
   "outputs": [
    {
     "data": {
      "text/plain": [
       "[]"
      ]
     },
     "execution_count": 37,
     "metadata": {},
     "output_type": "execute_result"
    }
   ],
   "source": [
    "list(range(0,9,-1))"
   ]
  },
  {
   "cell_type": "code",
   "execution_count": 38,
   "id": "ab3dae7a",
   "metadata": {},
   "outputs": [
    {
     "data": {
      "text/plain": [
       "[9, 8, 7, 6, 5, 4, 3, 2, 1]"
      ]
     },
     "execution_count": 38,
     "metadata": {},
     "output_type": "execute_result"
    }
   ],
   "source": [
    "list(range(9,0,-1))"
   ]
  },
  {
   "cell_type": "code",
   "execution_count": 40,
   "id": "8a9beecb",
   "metadata": {},
   "outputs": [
    {
     "name": "stdout",
     "output_type": "stream",
     "text": [
      "Prince \n",
      "\n",
      "Prince Prince \n",
      "\n",
      "Prince Prince Prince \n",
      "\n",
      "Prince Prince Prince Prince \n",
      "\n"
     ]
    }
   ],
   "source": [
    "n = 4\n",
    "for i in range(4):\n",
    "    for j in range(0,i+1):\n",
    "        print(\"Prince\", end=\" \")\n",
    "    print(\"\\n\")"
   ]
  },
  {
   "cell_type": "code",
   "execution_count": 48,
   "id": "97e790d7",
   "metadata": {},
   "outputs": [
    {
     "name": "stdout",
     "output_type": "stream",
     "text": [
      "         prince  \n",
      "      prince  prince  \n",
      "   prince  prince  prince  \n",
      "prince  prince  prince  prince  \n"
     ]
    }
   ],
   "source": [
    "n = 4\n",
    "k = n\n",
    "for i in range(n):\n",
    "    k = k-1\n",
    "    print('   '*k, end='')\n",
    "    for j in range(i+1):\n",
    "        print(\"prince  \", end='')\n",
    "    print()"
   ]
  },
  {
   "cell_type": "code",
   "execution_count": 49,
   "id": "85f48f6e",
   "metadata": {},
   "outputs": [],
   "source": [
    "t = (3,23,45,7,2,4,5,6)"
   ]
  },
  {
   "cell_type": "code",
   "execution_count": 56,
   "id": "7f8aefa5",
   "metadata": {},
   "outputs": [
    {
     "name": "stdout",
     "output_type": "stream",
     "text": [
      "0 - 3\n",
      "1 - 23\n",
      "2 - 45\n",
      "3 - 7\n",
      "4 - 2\n",
      "5 - 4\n",
      "6 - 5\n",
      "7 - 6\n"
     ]
    }
   ],
   "source": [
    "for i in range(len(t)):\n",
    "    print(i,\"-\",t[i])"
   ]
  },
  {
   "cell_type": "code",
   "execution_count": 57,
   "id": "35a504e2",
   "metadata": {},
   "outputs": [
    {
     "data": {
      "text/plain": [
       "[0, 1, 2, 3, 4, 5, 6, 7]"
      ]
     },
     "execution_count": 57,
     "metadata": {},
     "output_type": "execute_result"
    }
   ],
   "source": [
    "list(range(len(t)))"
   ]
  },
  {
   "cell_type": "code",
   "execution_count": 58,
   "id": "1ede022c",
   "metadata": {},
   "outputs": [],
   "source": [
    "s = \"iNeuron\""
   ]
  },
  {
   "cell_type": "code",
   "execution_count": 60,
   "id": "9b8d3834",
   "metadata": {},
   "outputs": [
    {
     "name": "stdout",
     "output_type": "stream",
     "text": [
      "0 i\n",
      "1 N\n",
      "2 e\n",
      "3 u\n",
      "4 r\n",
      "5 o\n",
      "6 n\n"
     ]
    }
   ],
   "source": [
    "for i in range(len(s)):\n",
    "    print(i,s[i])"
   ]
  },
  {
   "cell_type": "code",
   "execution_count": 61,
   "id": "55eba9fd",
   "metadata": {},
   "outputs": [
    {
     "data": {
      "text/plain": [
       "[7, 6, 5, 4, 3, 2, 1]"
      ]
     },
     "execution_count": 61,
     "metadata": {},
     "output_type": "execute_result"
    }
   ],
   "source": [
    "list(range(len(s),0,-1))"
   ]
  },
  {
   "cell_type": "code",
   "execution_count": 62,
   "id": "62b2c190",
   "metadata": {},
   "outputs": [
    {
     "data": {
      "text/plain": [
       "[7, 6, 5, 4, 3, 2, 1, 0]"
      ]
     },
     "execution_count": 62,
     "metadata": {},
     "output_type": "execute_result"
    }
   ],
   "source": [
    "list(range(len(s),-1,-1))"
   ]
  },
  {
   "cell_type": "code",
   "execution_count": 69,
   "id": "653c713f",
   "metadata": {},
   "outputs": [
    {
     "name": "stdout",
     "output_type": "stream",
     "text": [
      "6 n\n",
      "5 o\n",
      "4 r\n",
      "3 u\n",
      "2 e\n",
      "1 N\n",
      "0 i\n"
     ]
    }
   ],
   "source": [
    "for i in list(range(len(s)-1,-1,-1)):\n",
    "    print(i,s[i])"
   ]
  },
  {
   "cell_type": "code",
   "execution_count": 70,
   "id": "71d3b90b",
   "metadata": {},
   "outputs": [
    {
     "data": {
      "text/plain": [
       "{'key1': 'prince',\n",
       " 'contact': 'prince.francis64@gmail.com',\n",
       " 'position': 'Mamba kid'}"
      ]
     },
     "execution_count": 70,
     "metadata": {},
     "output_type": "execute_result"
    }
   ],
   "source": [
    "d"
   ]
  },
  {
   "cell_type": "code",
   "execution_count": 73,
   "id": "02069948",
   "metadata": {},
   "outputs": [
    {
     "name": "stdout",
     "output_type": "stream",
     "text": [
      "('key1', 'prince') <class 'tuple'> <class 'str'>\n",
      "('contact', 'prince.francis64@gmail.com') <class 'tuple'> <class 'str'>\n",
      "('position', 'Mamba kid') <class 'tuple'> <class 'str'>\n"
     ]
    }
   ],
   "source": [
    "for i in d.items():\n",
    "    print(i, type(i),type(i[1]))"
   ]
  },
  {
   "cell_type": "code",
   "execution_count": 74,
   "id": "fda35183",
   "metadata": {},
   "outputs": [],
   "source": [
    "l = [\"prince\",\"francis\", 232424,\"prince.francis64@gmail.com\",343,2323232]"
   ]
  },
  {
   "cell_type": "code",
   "execution_count": 76,
   "id": "7b21fd4b",
   "metadata": {},
   "outputs": [],
   "source": [
    "l1=[]\n",
    "for i in l:\n",
    "    if type(i)==int:\n",
    "        l1.append(i)"
   ]
  },
  {
   "cell_type": "code",
   "execution_count": 77,
   "id": "58e08f88",
   "metadata": {},
   "outputs": [
    {
     "data": {
      "text/plain": [
       "[232424, 343, 2323232]"
      ]
     },
     "execution_count": 77,
     "metadata": {},
     "output_type": "execute_result"
    }
   ],
   "source": [
    "l1"
   ]
  },
  {
   "cell_type": "code",
   "execution_count": 78,
   "id": "44f21790",
   "metadata": {},
   "outputs": [],
   "source": [
    "d = {1:23244, \"name\":\"prince\", \"email_id\":\"prince.francis64@gmail.com\",234:\"asfdasf\",\"43\":\"Asdfasdf\",234:\"3435\"}"
   ]
  },
  {
   "cell_type": "code",
   "execution_count": 81,
   "id": "3131b4d8",
   "metadata": {},
   "outputs": [
    {
     "name": "stdout",
     "output_type": "stream",
     "text": [
      "1 23244\n",
      "234 3435\n"
     ]
    }
   ],
   "source": [
    "for i in d:\n",
    "    if type(i)==int:\n",
    "        print(i,d[i])"
   ]
  },
  {
   "cell_type": "code",
   "execution_count": 83,
   "id": "2069a146",
   "metadata": {},
   "outputs": [
    {
     "name": "stdout",
     "output_type": "stream",
     "text": [
      "a 4\n",
      "d 1\n",
      "c 2\n",
      "b 2\n"
     ]
    }
   ],
   "source": [
    "s = \"aaaabbccd\"\n",
    "for i in set(s):\n",
    "    print(i, s.count(i))"
   ]
  },
  {
   "cell_type": "code",
   "execution_count": 84,
   "id": "92f06f28",
   "metadata": {},
   "outputs": [
    {
     "name": "stdout",
     "output_type": "stream",
     "text": [
      "2\n",
      "3\n",
      "2\n",
      "4\n",
      "4\n",
      "2\n",
      "2\n",
      "5\n",
      "5\n",
      "2\n",
      "2\n",
      "4\n"
     ]
    }
   ],
   "source": [
    "i = 232442255224\n",
    "for i in str(i):\n",
    "    print(i)"
   ]
  },
  {
   "cell_type": "code",
   "execution_count": 85,
   "id": "74793b23",
   "metadata": {},
   "outputs": [],
   "source": [
    "t = (\"prince\",\"francis\",[1,2,3,4,5],(3,4,5,6),{\"key1\":\"prince\", \"key2\":\"francis\"})"
   ]
  },
  {
   "cell_type": "code",
   "execution_count": 87,
   "id": "f40549ad",
   "metadata": {},
   "outputs": [
    {
     "name": "stdout",
     "output_type": "stream",
     "text": [
      "3\n",
      "3\n"
     ]
    }
   ],
   "source": [
    "for i in t:\n",
    "    if type(i)==list or type(i)==tuple:\n",
    "        for j in i:\n",
    "            if j==3:\n",
    "                print(j)\n",
    "        "
   ]
  },
  {
   "cell_type": "code",
   "execution_count": 89,
   "id": "56061066",
   "metadata": {},
   "outputs": [],
   "source": [
    "t = (\"prince\",\"francis\",[1,2,3,4,5],(3,4,5,6),{3:\"prince\", \"key2\":\"francis\"})"
   ]
  },
  {
   "cell_type": "code",
   "execution_count": 90,
   "id": "c4523edb",
   "metadata": {},
   "outputs": [
    {
     "name": "stdout",
     "output_type": "stream",
     "text": [
      "3\n",
      "3\n",
      "3 prince\n"
     ]
    }
   ],
   "source": [
    "for i in t:\n",
    "    if type(i)==list or type(i)==tuple:\n",
    "        for j in i:\n",
    "            if j==3:\n",
    "                print(j)\n",
    "    elif type(i)==dict:\n",
    "        for k in i:\n",
    "            if k==3:\n",
    "                print(k,i[k])\n",
    "        "
   ]
  },
  {
   "cell_type": "code",
   "execution_count": 91,
   "id": "d777ca26",
   "metadata": {},
   "outputs": [],
   "source": [
    "t = (\"prince\",\"francis\",[1,2,3,4,5],(3,4,5,6),{3:3, \"key2\":\"francis\"})"
   ]
  },
  {
   "cell_type": "code",
   "execution_count": 92,
   "id": "31d881bf",
   "metadata": {},
   "outputs": [
    {
     "name": "stdout",
     "output_type": "stream",
     "text": [
      "3\n",
      "3\n",
      "3\n",
      "3\n"
     ]
    }
   ],
   "source": [
    "for i in t:\n",
    "    if type(i)==list or type(i)==tuple:\n",
    "        for j in i:\n",
    "            if j==3:\n",
    "                print(j)\n",
    "    elif type(i)==dict:\n",
    "        for k in i.items():\n",
    "            for j in k:\n",
    "                if j==3:\n",
    "                    print(j)\n",
    "            \n",
    "        "
   ]
  },
  {
   "cell_type": "code",
   "execution_count": 93,
   "id": "843b2f02",
   "metadata": {},
   "outputs": [
    {
     "name": "stdout",
     "output_type": "stream",
     "text": [
      "3\n",
      "3\n",
      "3\n",
      "3\n"
     ]
    }
   ],
   "source": [
    "for i in t:\n",
    "    if type(i)==list or type(i)==tuple:\n",
    "        for j in i:\n",
    "            if j==3:\n",
    "                print(j)\n",
    "    elif type(i)==dict:\n",
    "        for k,v in i.items():\n",
    "            if k == 3 or v==3:\n",
    "                print(k)\n",
    "                print(v)\n",
    "            \n",
    "        "
   ]
  },
  {
   "cell_type": "code",
   "execution_count": 94,
   "id": "da6c8260",
   "metadata": {},
   "outputs": [
    {
     "data": {
      "text/plain": [
       "{1: 23244,\n",
       " 'name': 'prince',\n",
       " 'email_id': 'prince.francis64@gmail.com',\n",
       " 234: '3435',\n",
       " '43': 'Asdfasdf'}"
      ]
     },
     "execution_count": 94,
     "metadata": {},
     "output_type": "execute_result"
    }
   ],
   "source": [
    "d"
   ]
  },
  {
   "cell_type": "code",
   "execution_count": 95,
   "id": "20bdd4f7",
   "metadata": {},
   "outputs": [],
   "source": [
    "d= {4:3, \"key1\":\"prince\", \"key2\":\"francis\"}"
   ]
  },
  {
   "cell_type": "code",
   "execution_count": 96,
   "id": "cc286210",
   "metadata": {},
   "outputs": [
    {
     "name": "stdout",
     "output_type": "stream",
     "text": [
      "(4, 3)\n",
      "('key1', 'prince')\n",
      "('key2', 'francis')\n"
     ]
    }
   ],
   "source": [
    "for i in d.items():\n",
    "    print(i)"
   ]
  },
  {
   "cell_type": "code",
   "execution_count": 97,
   "id": "a35460df",
   "metadata": {},
   "outputs": [
    {
     "data": {
      "text/plain": [
       "dict_items([(4, 3), ('key1', 'prince'), ('key2', 'francis')])"
      ]
     },
     "execution_count": 97,
     "metadata": {},
     "output_type": "execute_result"
    }
   ],
   "source": [
    "d.items()"
   ]
  },
  {
   "cell_type": "code",
   "execution_count": 98,
   "id": "c6ec8e49",
   "metadata": {},
   "outputs": [
    {
     "name": "stdout",
     "output_type": "stream",
     "text": [
      "4 3\n",
      "key1 prince\n",
      "key2 francis\n"
     ]
    }
   ],
   "source": [
    "for i,j in d.items():\n",
    "    print(i,j)"
   ]
  },
  {
   "cell_type": "code",
   "execution_count": 99,
   "id": "2e5cab12",
   "metadata": {},
   "outputs": [],
   "source": [
    "a = 10\n",
    "b = 20\n",
    "c = 30"
   ]
  },
  {
   "cell_type": "code",
   "execution_count": 100,
   "id": "962ac515",
   "metadata": {},
   "outputs": [],
   "source": [
    "a,b,c = 10,20,30"
   ]
  },
  {
   "cell_type": "code",
   "execution_count": 101,
   "id": "2d8d300d",
   "metadata": {},
   "outputs": [],
   "source": [
    "a,b,c = (10,20,30)"
   ]
  },
  {
   "cell_type": "code",
   "execution_count": null,
   "id": "a70671a0",
   "metadata": {},
   "outputs": [],
   "source": [
    "q1 :\n",
    "ineruon \n",
    "ineruon ineruon \n",
    "ineruon ineruon ineruon\n",
    "ineruon ineruon ineruon ineruon\n",
    "\n",
    "q2 - \n",
    "\n",
    "          ineruon\n",
    "    ineruon      ineruon\n",
    "ineruon\t\tineruon \tineruon\n",
    "\tineruon\t\t ineruon\n",
    "\t\t  ineruon\n",
    "\n",
    "l = [[1,2,3,4] , (2,3,4,5,6) , (3,4,5,6,7) , set([23,4,5,45,4,4,5,45,45,4,5]) , {'k1' :\"sudh\" , \"k2\" : \"ineuron\",\"k3\":\n",
    "            \"kumar\" , 3:6 , 7:8} , [\"ineuron\" , \"data science \"]]\n",
    "\n",
    "q3 : Try to extract all the list entity \n",
    "q4 : Try to extract all the dict enteties\n",
    "q5 : Try to extract all the tuples entities\n",
    "q6 : Try to extract all the numerical data it may b a part of dict key and values \n",
    "q7 : Try to give summation of all the numeric data \n",
    "q8 : Try to filter out all the odd values out all numeric data which is a part of a list \n",
    "q9 : Try to extract \"ineruon\" out of this data\n",
    "q10 :Try to find out a number of occurances of all the data \n",
    "q11 : Try to find out number of keys in dict element\n",
    "q12 : Try to filter out all the string data \n",
    "q13 : Try to Find  out alphanum in data\n",
    "q14 : Try to find out multiplication of all numeric value in  the individual collection inside dataset \n",
    "q15 : Try to unwrape all the collection inside collection and create a flat list"
   ]
  },
  {
   "cell_type": "code",
   "execution_count": 102,
   "id": "31e8b0aa",
   "metadata": {},
   "outputs": [],
   "source": [
    "l = [[1,2,3,4] , (2,3,4,5,6) , (3,4,5,6,7) , set([23,4,5,45,4,4,5,45,45,4,5]) , {'k1' :\"sudh\" , \"k2\" : \"ineuron\",\"k3\":\n",
    "            \"kumar\" , 3:6 , 7:8} , [\"ineuron\" , \"data science \"]]\n"
   ]
  },
  {
   "cell_type": "code",
   "execution_count": 104,
   "id": "f78b120f",
   "metadata": {},
   "outputs": [
    {
     "name": "stdout",
     "output_type": "stream",
     "text": [
      "[1, 2, 3, 4]\n",
      "['ineuron', 'data science ']\n"
     ]
    }
   ],
   "source": [
    "for i in l:    #question 3\n",
    "    if type(i)==list:\n",
    "        print(i)"
   ]
  },
  {
   "cell_type": "code",
   "execution_count": 105,
   "id": "1ea0b786",
   "metadata": {},
   "outputs": [
    {
     "name": "stdout",
     "output_type": "stream",
     "text": [
      "{'k1': 'sudh', 'k2': 'ineuron', 'k3': 'kumar', 3: 6, 7: 8}\n"
     ]
    }
   ],
   "source": [
    "for i in l:  #question 4\n",
    "    if type(i)==dict:\n",
    "        print(i)"
   ]
  },
  {
   "cell_type": "code",
   "execution_count": 106,
   "id": "4e0ca909",
   "metadata": {},
   "outputs": [
    {
     "name": "stdout",
     "output_type": "stream",
     "text": [
      "(2, 3, 4, 5, 6)\n",
      "(3, 4, 5, 6, 7)\n"
     ]
    }
   ],
   "source": [
    "for i in l:  #question 5\n",
    "    if type(i)==tuple:\n",
    "        print(i)"
   ]
  },
  {
   "cell_type": "code",
   "execution_count": 107,
   "id": "6b892e76",
   "metadata": {},
   "outputs": [
    {
     "name": "stdout",
     "output_type": "stream",
     "text": [
      "3\n",
      "6\n",
      "7\n",
      "8\n"
     ]
    }
   ],
   "source": [
    "for i in l:  #question 6\n",
    "    if type(i)==dict:\n",
    "        for j,k in i.items():\n",
    "            if type(j)==int or type(k)==int:\n",
    "                print(j)\n",
    "                print(k)"
   ]
  },
  {
   "cell_type": "code",
   "execution_count": 110,
   "id": "36aa4d6d",
   "metadata": {},
   "outputs": [
    {
     "data": {
      "text/plain": [
       "[[1, 2, 3, 4],\n",
       " (2, 3, 4, 5, 6),\n",
       " (3, 4, 5, 6, 7),\n",
       " {4, 5, 23, 45},\n",
       " {'k1': 'sudh', 'k2': 'ineuron', 'k3': 'kumar', 3: 6, 7: 8},\n",
       " ['ineuron', 'data science ']]"
      ]
     },
     "execution_count": 110,
     "metadata": {},
     "output_type": "execute_result"
    }
   ],
   "source": [
    "l"
   ]
  },
  {
   "cell_type": "code",
   "execution_count": 116,
   "id": "ca13021d",
   "metadata": {},
   "outputs": [],
   "source": [
    "l1=[]   #question 7\n",
    "for i in l:\n",
    "    if type(i)==list or type(i)==tuple or type(i)==set:\n",
    "        for j in i:\n",
    "            if type(j)==int:\n",
    "                l1.append(j)\n",
    "    elif type(i)==dict:\n",
    "        for j,k in i.items():\n",
    "            if type(j)==int or type(k)==int:\n",
    "                l1.append(j)\n",
    "                l1.append(k)"
   ]
  },
  {
   "cell_type": "code",
   "execution_count": 117,
   "id": "2cd0fe23",
   "metadata": {},
   "outputs": [
    {
     "data": {
      "text/plain": [
       "[1, 2, 3, 4, 2, 3, 4, 5, 6, 3, 4, 5, 6, 7, 45, 4, 5, 23, 3, 6, 7, 8]"
      ]
     },
     "execution_count": 117,
     "metadata": {},
     "output_type": "execute_result"
    }
   ],
   "source": [
    "l1"
   ]
  },
  {
   "cell_type": "code",
   "execution_count": 118,
   "id": "b5210189",
   "metadata": {},
   "outputs": [
    {
     "data": {
      "text/plain": [
       "156"
      ]
     },
     "execution_count": 118,
     "metadata": {},
     "output_type": "execute_result"
    }
   ],
   "source": [
    "sum(l1)"
   ]
  },
  {
   "cell_type": "code",
   "execution_count": 125,
   "id": "b4fb4430",
   "metadata": {},
   "outputs": [
    {
     "name": "stdout",
     "output_type": "stream",
     "text": [
      "1\n",
      "3\n"
     ]
    }
   ],
   "source": [
    "for i in l:     #question 8\n",
    "    if type(i)==list:\n",
    "        for j in i:\n",
    "            if type(j)==int and j%2!=0:\n",
    "                print(j)"
   ]
  },
  {
   "cell_type": "code",
   "execution_count": 130,
   "id": "723b9231",
   "metadata": {},
   "outputs": [
    {
     "name": "stdout",
     "output_type": "stream",
     "text": [
      "ineuron\n",
      "ineuron\n"
     ]
    }
   ],
   "source": [
    "for i in l:    #question 9 \n",
    "    if type(i)==list:\n",
    "        for j in i:\n",
    "            if j=='ineuron':\n",
    "                print(j)\n",
    "    elif type(i)==dict:\n",
    "        for j,k in i.items():\n",
    "            if k=='ineuron':\n",
    "                print(k)"
   ]
  },
  {
   "cell_type": "code",
   "execution_count": 134,
   "id": "be458859",
   "metadata": {},
   "outputs": [],
   "source": [
    "l1=[]      #question 10\n",
    "for i in l:\n",
    "    if type(i)==list or type(i)==tuple or type(i)==set:\n",
    "        for j in i:\n",
    "            l1.append(j)\n",
    "    elif type(i)==dict:\n",
    "        for j in i.items():\n",
    "            for k in j:\n",
    "                l1.append(k)"
   ]
  },
  {
   "cell_type": "code",
   "execution_count": 137,
   "id": "c72ab130",
   "metadata": {},
   "outputs": [
    {
     "name": "stdout",
     "output_type": "stream",
     "text": [
      "1 1\n",
      "2 2\n",
      "3 4\n",
      "4 4\n",
      "5 3\n",
      "6 3\n",
      "7 2\n",
      "k1 1\n",
      "8 1\n",
      "data science  1\n",
      "45 1\n",
      "sudh 1\n",
      "k3 1\n",
      "ineuron 2\n",
      "23 1\n",
      "kumar 1\n",
      "k2 1\n"
     ]
    }
   ],
   "source": [
    "for i in set(l1):\n",
    "    print(i,l1.count(i))"
   ]
  },
  {
   "cell_type": "code",
   "execution_count": 138,
   "id": "992a6574",
   "metadata": {},
   "outputs": [
    {
     "data": {
      "text/plain": [
       "[[1, 2, 3, 4],\n",
       " (2, 3, 4, 5, 6),\n",
       " (3, 4, 5, 6, 7),\n",
       " {4, 5, 23, 45},\n",
       " {'k1': 'sudh', 'k2': 'ineuron', 'k3': 'kumar', 3: 6, 7: 8},\n",
       " ['ineuron', 'data science ']]"
      ]
     },
     "execution_count": 138,
     "metadata": {},
     "output_type": "execute_result"
    }
   ],
   "source": [
    "l"
   ]
  },
  {
   "cell_type": "code",
   "execution_count": 140,
   "id": "c2d0a927",
   "metadata": {},
   "outputs": [],
   "source": [
    "s = 0   #question 11\n",
    "for i in l:\n",
    "    if type(i)==dict:\n",
    "        for j in i.items():\n",
    "            s=s+1"
   ]
  },
  {
   "cell_type": "code",
   "execution_count": 141,
   "id": "ae5557e5",
   "metadata": {},
   "outputs": [
    {
     "data": {
      "text/plain": [
       "5"
      ]
     },
     "execution_count": 141,
     "metadata": {},
     "output_type": "execute_result"
    }
   ],
   "source": [
    "s"
   ]
  },
  {
   "cell_type": "code",
   "execution_count": 142,
   "id": "b56a90c6",
   "metadata": {},
   "outputs": [],
   "source": [
    "l1=[]   #question 12\n",
    "for i in l:\n",
    "    if type(i)==list or type(i)==tuple or type(i)==set:\n",
    "        for j in i:\n",
    "            if type(j)==str:\n",
    "                l1.append(j)\n",
    "    elif type(i)==dict:\n",
    "        for j,k in i.items():\n",
    "            if type(j)==str or type(k)==str:\n",
    "                l1.append(j)\n",
    "                l1.append(k)"
   ]
  },
  {
   "cell_type": "code",
   "execution_count": 143,
   "id": "fd4aff13",
   "metadata": {},
   "outputs": [
    {
     "data": {
      "text/plain": [
       "['k1', 'sudh', 'k2', 'ineuron', 'k3', 'kumar', 'ineuron', 'data science ']"
      ]
     },
     "execution_count": 143,
     "metadata": {},
     "output_type": "execute_result"
    }
   ],
   "source": [
    "l1"
   ]
  },
  {
   "cell_type": "code",
   "execution_count": 144,
   "id": "659e8486",
   "metadata": {},
   "outputs": [
    {
     "data": {
      "text/plain": [
       "[[1, 2, 3, 4],\n",
       " (2, 3, 4, 5, 6),\n",
       " (3, 4, 5, 6, 7),\n",
       " {4, 5, 23, 45},\n",
       " {'k1': 'sudh', 'k2': 'ineuron', 'k3': 'kumar', 3: 6, 7: 8},\n",
       " ['ineuron', 'data science ']]"
      ]
     },
     "execution_count": 144,
     "metadata": {},
     "output_type": "execute_result"
    }
   ],
   "source": [
    "l"
   ]
  },
  {
   "cell_type": "code",
   "execution_count": 146,
   "id": "178d7d20",
   "metadata": {},
   "outputs": [],
   "source": [
    "l1=[]   #question 13\n",
    "for i in l:\n",
    "    if type(i)==list or type(i)==tuple or type(i)==set:\n",
    "        for j in i:\n",
    "            if str(j).isalnum():\n",
    "                l1.append(j)\n",
    "    elif type(i)==dict:\n",
    "        for j,k in i.items():\n",
    "            if str(j).isalnum() or str(k).isalnum():\n",
    "                l1.append(j)\n",
    "                l1.append(k)"
   ]
  },
  {
   "cell_type": "code",
   "execution_count": 148,
   "id": "4fee166b",
   "metadata": {},
   "outputs": [
    {
     "data": {
      "text/plain": [
       "[1,\n",
       " 2,\n",
       " 3,\n",
       " 4,\n",
       " 2,\n",
       " 3,\n",
       " 4,\n",
       " 5,\n",
       " 6,\n",
       " 3,\n",
       " 4,\n",
       " 5,\n",
       " 6,\n",
       " 7,\n",
       " 45,\n",
       " 4,\n",
       " 5,\n",
       " 23,\n",
       " 'k1',\n",
       " 'sudh',\n",
       " 'k2',\n",
       " 'ineuron',\n",
       " 'k3',\n",
       " 'kumar',\n",
       " 3,\n",
       " 6,\n",
       " 7,\n",
       " 8,\n",
       " 'ineuron']"
      ]
     },
     "execution_count": 148,
     "metadata": {},
     "output_type": "execute_result"
    }
   ],
   "source": [
    "l1"
   ]
  },
  {
   "cell_type": "code",
   "execution_count": 149,
   "id": "933f2c5f",
   "metadata": {},
   "outputs": [],
   "source": [
    "l1=[]   #question 14\n",
    "for i in l:\n",
    "    if type(i)==list or type(i)==tuple or type(i)==set:\n",
    "        for j in i:\n",
    "            if type(j)==int:\n",
    "                l1.append(j)\n",
    "    elif type(i)==dict:\n",
    "        for j,k in i.items():\n",
    "            if type(j)==int or type(k)==int:\n",
    "                l1.append(j)\n",
    "                l1.append(k)"
   ]
  },
  {
   "cell_type": "code",
   "execution_count": 150,
   "id": "5cbd3757",
   "metadata": {},
   "outputs": [
    {
     "data": {
      "text/plain": [
       "[1, 2, 3, 4, 2, 3, 4, 5, 6, 3, 4, 5, 6, 7, 45, 4, 5, 23, 3, 6, 7, 8]"
      ]
     },
     "execution_count": 150,
     "metadata": {},
     "output_type": "execute_result"
    }
   ],
   "source": [
    "l1"
   ]
  },
  {
   "cell_type": "code",
   "execution_count": 152,
   "id": "d1592bc9",
   "metadata": {},
   "outputs": [],
   "source": [
    "m = 1\n",
    "for i in l1:\n",
    "    m=m*i"
   ]
  },
  {
   "cell_type": "code",
   "execution_count": 153,
   "id": "478a2f82",
   "metadata": {},
   "outputs": [
    {
     "data": {
      "text/plain": [
       "908605071360000"
      ]
     },
     "execution_count": 153,
     "metadata": {},
     "output_type": "execute_result"
    }
   ],
   "source": [
    "m"
   ]
  },
  {
   "cell_type": "code",
   "execution_count": 156,
   "id": "9cd7eb41",
   "metadata": {},
   "outputs": [],
   "source": [
    "l1=[]   #question 15\n",
    "for i in l:\n",
    "    if type(i)==list or type(i)==tuple or type(i)==set:\n",
    "        for j in i:\n",
    "            l1.append(j)\n",
    "    elif type(i)==dict:\n",
    "        for j,k in i.items():\n",
    "            l1.append(j)\n",
    "            l1.append(k)"
   ]
  },
  {
   "cell_type": "code",
   "execution_count": 157,
   "id": "8ccb5557",
   "metadata": {},
   "outputs": [
    {
     "data": {
      "text/plain": [
       "[1,\n",
       " 2,\n",
       " 3,\n",
       " 4,\n",
       " 2,\n",
       " 3,\n",
       " 4,\n",
       " 5,\n",
       " 6,\n",
       " 3,\n",
       " 4,\n",
       " 5,\n",
       " 6,\n",
       " 7,\n",
       " 45,\n",
       " 4,\n",
       " 5,\n",
       " 23,\n",
       " 'k1',\n",
       " 'sudh',\n",
       " 'k2',\n",
       " 'ineuron',\n",
       " 'k3',\n",
       " 'kumar',\n",
       " 3,\n",
       " 6,\n",
       " 7,\n",
       " 8,\n",
       " 'ineuron',\n",
       " 'data science ']"
      ]
     },
     "execution_count": 157,
     "metadata": {},
     "output_type": "execute_result"
    }
   ],
   "source": [
    "l1"
   ]
  },
  {
   "cell_type": "code",
   "execution_count": 161,
   "id": "97bbe930",
   "metadata": {},
   "outputs": [
    {
     "name": "stdout",
     "output_type": "stream",
     "text": [
      "prince \n",
      "prince prince \n",
      "prince prince prince \n",
      "prince prince prince prince \n"
     ]
    }
   ],
   "source": [
    "for i in range(1,5):   #question 1\n",
    "    print(\"prince \"*i, end='')\n",
    "    print()"
   ]
  },
  {
   "cell_type": "code",
   "execution_count": 172,
   "id": "afe73a2d",
   "metadata": {},
   "outputs": [
    {
     "name": "stdout",
     "output_type": "stream",
     "text": [
      "         prince  \n",
      "      prince  prince  \n",
      "   prince  prince  prince  \n",
      "prince  prince  prince  prince  \n",
      "       prince prince prince \n",
      "          prince \n",
      "             \n"
     ]
    }
   ],
   "source": [
    "n = 4      #question 2\n",
    "k = n  \n",
    "p = 1\n",
    "for i in range(n):\n",
    "    k = k-1\n",
    "    print('   '*k, end='')\n",
    "    for j in range(i+1):\n",
    "        print(\"prince  \", end='')\n",
    "    print()\n",
    "for i in range(n-1):\n",
    "    p = p + 1 \n",
    "    print('   '*p, end = ' ')\n",
    "    for j in range(n-1):\n",
    "        print(\"prince \"*j, end = '')\n",
    "    n = n-1\n",
    "    print()\n",
    "    "
   ]
  },
  {
   "cell_type": "code",
   "execution_count": null,
   "id": "61931a80",
   "metadata": {},
   "outputs": [],
   "source": []
  }
 ],
 "metadata": {
  "kernelspec": {
   "display_name": "Python 3",
   "language": "python",
   "name": "python3"
  },
  "language_info": {
   "codemirror_mode": {
    "name": "ipython",
    "version": 3
   },
   "file_extension": ".py",
   "mimetype": "text/x-python",
   "name": "python",
   "nbconvert_exporter": "python",
   "pygments_lexer": "ipython3",
   "version": "3.8.8"
  }
 },
 "nbformat": 4,
 "nbformat_minor": 5
}
