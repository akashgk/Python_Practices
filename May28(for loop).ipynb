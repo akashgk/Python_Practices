{
 "cells": [
  {
   "cell_type": "code",
   "execution_count": 1,
   "id": "58176aa1",
   "metadata": {},
   "outputs": [],
   "source": [
    "l = [1,2,3,4,\"prince\",\"francis\", 45.56]"
   ]
  },
  {
   "cell_type": "code",
   "execution_count": 2,
   "id": "cbb780a5",
   "metadata": {},
   "outputs": [
    {
     "name": "stdout",
     "output_type": "stream",
     "text": [
      "1\n",
      "2\n",
      "3\n",
      "4\n",
      "prince\n",
      "francis\n",
      "45.56\n"
     ]
    }
   ],
   "source": [
    "for i in l:\n",
    "    print(i)"
   ]
  },
  {
   "cell_type": "code",
   "execution_count": 3,
   "id": "3b1d84b6",
   "metadata": {},
   "outputs": [],
   "source": [
    "for i in l:\n",
    "    pass"
   ]
  },
  {
   "cell_type": "code",
   "execution_count": 4,
   "id": "aade0e2d",
   "metadata": {},
   "outputs": [],
   "source": [
    "s = \"prince\""
   ]
  },
  {
   "cell_type": "code",
   "execution_count": 5,
   "id": "dc3631ba",
   "metadata": {},
   "outputs": [
    {
     "name": "stdout",
     "output_type": "stream",
     "text": [
      "p\n",
      "r\n",
      "i\n",
      "n\n",
      "c\n",
      "e\n"
     ]
    }
   ],
   "source": [
    "for i in s:\n",
    "    print(i)"
   ]
  },
  {
   "cell_type": "code",
   "execution_count": 6,
   "id": "ee6a5b61",
   "metadata": {},
   "outputs": [
    {
     "name": "stdout",
     "output_type": "stream",
     "text": [
      "1\n",
      "2\n",
      "3\n",
      "4\n",
      "prince\n",
      "francis\n",
      "45.56\n",
      "if for loop is going to complete itself then it will execute else\n"
     ]
    }
   ],
   "source": [
    "for i in l:\n",
    "    print(i)\n",
    "else:\n",
    "    print(\"if for loop is going to complete itself then it will execute else\")"
   ]
  },
  {
   "cell_type": "code",
   "execution_count": 7,
   "id": "33f50f57",
   "metadata": {},
   "outputs": [
    {
     "data": {
      "text/plain": [
       "[1, 2, 3, 4, 'prince', 'francis', 45.56]"
      ]
     },
     "execution_count": 7,
     "metadata": {},
     "output_type": "execute_result"
    }
   ],
   "source": [
    "l"
   ]
  },
  {
   "cell_type": "code",
   "execution_count": 9,
   "id": "ae292592",
   "metadata": {},
   "outputs": [
    {
     "name": "stdout",
     "output_type": "stream",
     "text": [
      "1\n",
      "2\n",
      "3\n"
     ]
    }
   ],
   "source": [
    "for i in l:\n",
    "    if i == 4:\n",
    "        break\n",
    "    print(i)\n",
    "else:\n",
    "    print(\"this will execute only if for is going to complete itself\")"
   ]
  },
  {
   "cell_type": "code",
   "execution_count": 10,
   "id": "c2820366",
   "metadata": {},
   "outputs": [
    {
     "name": "stdout",
     "output_type": "stream",
     "text": [
      "p\n",
      "r\n",
      "i\n"
     ]
    }
   ],
   "source": [
    "s  = \"prince\"\n",
    "for i in s:\n",
    "    if i=='n':\n",
    "        break\n",
    "    print(i)\n",
    "else:\n",
    "    print(\"print string \",s)"
   ]
  },
  {
   "cell_type": "code",
   "execution_count": 13,
   "id": "8cfc2a9c",
   "metadata": {},
   "outputs": [
    {
     "name": "stdout",
     "output_type": "stream",
     "text": [
      "p\n",
      "r\n",
      "i\n",
      "n\n",
      "c\n",
      "e\n",
      "print string  prince\n"
     ]
    }
   ],
   "source": [
    "s  = \"prince\"\n",
    "for i in s:\n",
    "    if i=='z':\n",
    "        break\n",
    "    print(i)\n",
    "else:\n",
    "    print(\"print string \",s)"
   ]
  },
  {
   "cell_type": "code",
   "execution_count": 14,
   "id": "a4aada8c",
   "metadata": {},
   "outputs": [
    {
     "name": "stdout",
     "output_type": "stream",
     "text": [
      "4\n",
      "5\n",
      "6\n",
      "7\n",
      "8\n",
      "6\n",
      "prince\n"
     ]
    }
   ],
   "source": [
    "t = (4,5,6,7,8,6,\"prince\")\n",
    "for i in t:\n",
    "    print(i)"
   ]
  },
  {
   "cell_type": "code",
   "execution_count": 16,
   "id": "ef29c25e",
   "metadata": {},
   "outputs": [],
   "source": [
    "b = {4,5,6,7,7,7,7,7,7,7,7,8,\"prin\"}"
   ]
  },
  {
   "cell_type": "code",
   "execution_count": 17,
   "id": "94bce194",
   "metadata": {},
   "outputs": [
    {
     "data": {
      "text/plain": [
       "set"
      ]
     },
     "execution_count": 17,
     "metadata": {},
     "output_type": "execute_result"
    }
   ],
   "source": [
    "type(b)"
   ]
  },
  {
   "cell_type": "code",
   "execution_count": 18,
   "id": "da426647",
   "metadata": {},
   "outputs": [
    {
     "data": {
      "text/plain": [
       "{4, 5, 6, 7, 8, 'prin'}"
      ]
     },
     "execution_count": 18,
     "metadata": {},
     "output_type": "execute_result"
    }
   ],
   "source": [
    "b"
   ]
  },
  {
   "cell_type": "code",
   "execution_count": 19,
   "id": "4c1eb701",
   "metadata": {},
   "outputs": [
    {
     "name": "stdout",
     "output_type": "stream",
     "text": [
      "prin\n",
      "4\n",
      "5\n",
      "6\n",
      "7\n",
      "8\n"
     ]
    }
   ],
   "source": [
    "for i in b:\n",
    "    print(i)"
   ]
  },
  {
   "cell_type": "code",
   "execution_count": 20,
   "id": "25e06738",
   "metadata": {},
   "outputs": [],
   "source": [
    "d = {\"Key1\": \"prin\", \"contact\":\"prince.francis64@gmail.com\", \"position\":\"xyz\"}"
   ]
  },
  {
   "cell_type": "code",
   "execution_count": 21,
   "id": "7b76cc6c",
   "metadata": {},
   "outputs": [
    {
     "name": "stdout",
     "output_type": "stream",
     "text": [
      "Key1\n",
      "contact\n",
      "position\n"
     ]
    }
   ],
   "source": [
    "for i in d:\n",
    "    print(i)"
   ]
  },
  {
   "cell_type": "code",
   "execution_count": 23,
   "id": "f551ccb9",
   "metadata": {},
   "outputs": [
    {
     "name": "stdout",
     "output_type": "stream",
     "text": [
      "prin\n",
      "prince.francis64@gmail.com\n",
      "xyz\n"
     ]
    }
   ],
   "source": [
    "for i in d:\n",
    "    print(d[i])"
   ]
  },
  {
   "cell_type": "code",
   "execution_count": 34,
   "id": "8c03daed",
   "metadata": {},
   "outputs": [
    {
     "data": {
      "text/plain": [
       "range(0, 5)"
      ]
     },
     "execution_count": 34,
     "metadata": {},
     "output_type": "execute_result"
    }
   ],
   "source": [
    "range(5)"
   ]
  },
  {
   "cell_type": "code",
   "execution_count": 35,
   "id": "c0dca6c8",
   "metadata": {},
   "outputs": [
    {
     "data": {
      "text/plain": [
       "[0, 1, 2, 3, 4, 5, 6, 7, 8]"
      ]
     },
     "execution_count": 35,
     "metadata": {},
     "output_type": "execute_result"
    }
   ],
   "source": [
    "list(range(9))"
   ]
  },
  {
   "cell_type": "code",
   "execution_count": 40,
   "id": "fcb50f80",
   "metadata": {},
   "outputs": [
    {
     "name": "stdout",
     "output_type": "stream",
     "text": [
      "prince \n",
      "prince prince \n",
      "prince prince prince \n"
     ]
    }
   ],
   "source": [
    "for i in range(1,4):\n",
    "    print(i*'prince ')"
   ]
  },
  {
   "cell_type": "code",
   "execution_count": 41,
   "id": "2b062059",
   "metadata": {},
   "outputs": [
    {
     "data": {
      "text/plain": [
       "[0, 2, 4, 6, 8]"
      ]
     },
     "execution_count": 41,
     "metadata": {},
     "output_type": "execute_result"
    }
   ],
   "source": [
    "list(range(0,9,2))"
   ]
  },
  {
   "cell_type": "code",
   "execution_count": 42,
   "id": "93b37a3f",
   "metadata": {},
   "outputs": [
    {
     "data": {
      "text/plain": [
       "[9, 8, 7, 6, 5, 4, 3, 2, 1]"
      ]
     },
     "execution_count": 42,
     "metadata": {},
     "output_type": "execute_result"
    }
   ],
   "source": [
    "list(range(9,0,-1))"
   ]
  },
  {
   "cell_type": "code",
   "execution_count": 43,
   "id": "5b6c1836",
   "metadata": {},
   "outputs": [
    {
     "name": "stdout",
     "output_type": "stream",
     "text": [
      "prin \n",
      "\n",
      "prin prin \n",
      "\n",
      "prin prin prin \n",
      "\n",
      "prin prin prin prin \n",
      "\n"
     ]
    }
   ],
   "source": [
    "n = 4\n",
    "for i in range(n):\n",
    "    for j in range(0,i+1):\n",
    "        print(\"prin\", end = ' ')\n",
    "    print(\"\\n\")"
   ]
  },
  {
   "cell_type": "code",
   "execution_count": 47,
   "id": "77953acf",
   "metadata": {},
   "outputs": [
    {
     "name": "stdout",
     "output_type": "stream",
     "text": [
      "       prin  \n",
      "     prin  prin  \n",
      "   prin  prin  prin  \n",
      " prin  prin  prin  prin  \n"
     ]
    }
   ],
   "source": [
    "n = 4\n",
    "k = n\n",
    "for i in range(n):\n",
    "    k = k-1\n",
    "    print('  '*k, end = ' ')\n",
    "    for j in range(i+1):\n",
    "        print(\"prin\",end='  ')\n",
    "    print()"
   ]
  },
  {
   "cell_type": "code",
   "execution_count": 48,
   "id": "85ea4d55",
   "metadata": {},
   "outputs": [
    {
     "data": {
      "text/plain": [
       "[]"
      ]
     },
     "execution_count": 48,
     "metadata": {},
     "output_type": "execute_result"
    }
   ],
   "source": [
    "list(range(0))"
   ]
  },
  {
   "cell_type": "code",
   "execution_count": 49,
   "id": "441c6ed5",
   "metadata": {},
   "outputs": [],
   "source": [
    "t = (3,23,45,67,2,4,5,6)"
   ]
  },
  {
   "cell_type": "code",
   "execution_count": 52,
   "id": "5ef2f8df",
   "metadata": {},
   "outputs": [
    {
     "name": "stdout",
     "output_type": "stream",
     "text": [
      "0 - 3\n",
      "1 - 23\n",
      "2 - 45\n",
      "3 - 67\n",
      "4 - 2\n",
      "5 - 4\n",
      "6 - 5\n",
      "7 - 6\n"
     ]
    }
   ],
   "source": [
    "for i in t:\n",
    "    print(t.index(i), '-', i)"
   ]
  },
  {
   "cell_type": "code",
   "execution_count": 55,
   "id": "567ed46e",
   "metadata": {},
   "outputs": [
    {
     "name": "stdout",
     "output_type": "stream",
     "text": [
      "0 - 3\n",
      "1 - 23\n",
      "2 - 45\n",
      "3 - 67\n",
      "4 - 2\n",
      "5 - 4\n",
      "6 - 5\n",
      "7 - 6\n"
     ]
    }
   ],
   "source": [
    "for i in range(len(t)):\n",
    "    print(i,\"-\" ,t[i])"
   ]
  },
  {
   "cell_type": "code",
   "execution_count": 56,
   "id": "71d93f99",
   "metadata": {},
   "outputs": [],
   "source": [
    "s = \"ineuron\""
   ]
  },
  {
   "cell_type": "code",
   "execution_count": 58,
   "id": "dfc7bd80",
   "metadata": {},
   "outputs": [
    {
     "name": "stdout",
     "output_type": "stream",
     "text": [
      "0 i\n",
      "1 n\n",
      "2 e\n",
      "3 u\n",
      "4 r\n",
      "5 o\n",
      "6 n\n"
     ]
    }
   ],
   "source": [
    "for i in range(len(s)):\n",
    "    print(i,s[i])"
   ]
  },
  {
   "cell_type": "code",
   "execution_count": 59,
   "id": "805eb657",
   "metadata": {},
   "outputs": [
    {
     "data": {
      "text/plain": [
       "8"
      ]
     },
     "execution_count": 59,
     "metadata": {},
     "output_type": "execute_result"
    }
   ],
   "source": [
    "len(t)"
   ]
  },
  {
   "cell_type": "code",
   "execution_count": 64,
   "id": "a44734c3",
   "metadata": {},
   "outputs": [
    {
     "name": "stdout",
     "output_type": "stream",
     "text": [
      "7 6\n",
      "6 5\n",
      "5 4\n",
      "4 2\n",
      "3 67\n",
      "2 45\n",
      "1 23\n",
      "0 3\n"
     ]
    }
   ],
   "source": [
    "for i in range(len(t)-1,-1,-1):\n",
    "    print(i, t[i])"
   ]
  },
  {
   "cell_type": "code",
   "execution_count": 65,
   "id": "90395c3d",
   "metadata": {},
   "outputs": [
    {
     "data": {
      "text/plain": [
       "{'Key1': 'prin', 'contact': 'prince.francis64@gmail.com', 'position': 'xyz'}"
      ]
     },
     "execution_count": 65,
     "metadata": {},
     "output_type": "execute_result"
    }
   ],
   "source": [
    "d"
   ]
  },
  {
   "cell_type": "code",
   "execution_count": 66,
   "id": "e7317d95",
   "metadata": {},
   "outputs": [
    {
     "data": {
      "text/plain": [
       "dict_items([('Key1', 'prin'), ('contact', 'prince.francis64@gmail.com'), ('position', 'xyz')])"
      ]
     },
     "execution_count": 66,
     "metadata": {},
     "output_type": "execute_result"
    }
   ],
   "source": [
    "d.items()"
   ]
  },
  {
   "cell_type": "code",
   "execution_count": 67,
   "id": "bd98a48c",
   "metadata": {},
   "outputs": [
    {
     "name": "stdout",
     "output_type": "stream",
     "text": [
      "('Key1', 'prin')\n",
      "('contact', 'prince.francis64@gmail.com')\n",
      "('position', 'xyz')\n"
     ]
    }
   ],
   "source": [
    "for i in d.items():\n",
    "    print(i)"
   ]
  },
  {
   "cell_type": "code",
   "execution_count": 73,
   "id": "372ce012",
   "metadata": {},
   "outputs": [],
   "source": [
    "l = [\"prince\",\"francis\",564654,\"prince.francis64@gmail.com\",64,464654]"
   ]
  },
  {
   "cell_type": "code",
   "execution_count": 74,
   "id": "c3f49099",
   "metadata": {},
   "outputs": [],
   "source": [
    "l1=[]\n",
    "for i in l:\n",
    "    if type(i)==int:\n",
    "        l1.append(i)"
   ]
  },
  {
   "cell_type": "code",
   "execution_count": 75,
   "id": "a36a0226",
   "metadata": {},
   "outputs": [
    {
     "data": {
      "text/plain": [
       "[564654, 64, 464654]"
      ]
     },
     "execution_count": 75,
     "metadata": {},
     "output_type": "execute_result"
    }
   ],
   "source": [
    "l1"
   ]
  },
  {
   "cell_type": "code",
   "execution_count": 76,
   "id": "d5d1aa5c",
   "metadata": {},
   "outputs": [],
   "source": [
    "d= {1:646546, \"name\":\"prince\",\"email_id\":\"prince.francis64@gmail.com\",234:\"afdasf\", \"43\":\"ljljlkj\",234:\"64654\"}"
   ]
  },
  {
   "cell_type": "code",
   "execution_count": 78,
   "id": "f22ef26e",
   "metadata": {},
   "outputs": [
    {
     "name": "stdout",
     "output_type": "stream",
     "text": [
      "1 646546\n",
      "234 64654\n"
     ]
    }
   ],
   "source": [
    "for i in d:\n",
    "    if type(i)==int:\n",
    "        print(i,d[i])"
   ]
  },
  {
   "cell_type": "code",
   "execution_count": 80,
   "id": "6aa76714",
   "metadata": {},
   "outputs": [],
   "source": [
    "s = \"aaaabbccd\""
   ]
  },
  {
   "cell_type": "code",
   "execution_count": 82,
   "id": "43d283e9",
   "metadata": {},
   "outputs": [],
   "source": [
    "b = set(s)"
   ]
  },
  {
   "cell_type": "code",
   "execution_count": 83,
   "id": "f33cf353",
   "metadata": {},
   "outputs": [
    {
     "data": {
      "text/plain": [
       "{'a', 'b', 'c', 'd'}"
      ]
     },
     "execution_count": 83,
     "metadata": {},
     "output_type": "execute_result"
    }
   ],
   "source": [
    "b"
   ]
  },
  {
   "cell_type": "code",
   "execution_count": 84,
   "id": "3497722f",
   "metadata": {},
   "outputs": [
    {
     "name": "stdout",
     "output_type": "stream",
     "text": [
      "a 4\n",
      "d 1\n",
      "c 2\n",
      "b 2\n"
     ]
    }
   ],
   "source": [
    "for i in b:\n",
    "    print(i,s.count(i))"
   ]
  },
  {
   "cell_type": "code",
   "execution_count": 85,
   "id": "0f87e647",
   "metadata": {},
   "outputs": [],
   "source": [
    "i = 4346465464646"
   ]
  },
  {
   "cell_type": "code",
   "execution_count": 86,
   "id": "ea5f1014",
   "metadata": {},
   "outputs": [],
   "source": [
    "s= str(i)"
   ]
  },
  {
   "cell_type": "code",
   "execution_count": 87,
   "id": "fdcc2ca5",
   "metadata": {},
   "outputs": [
    {
     "name": "stdout",
     "output_type": "stream",
     "text": [
      "4\n",
      "3\n",
      "4\n",
      "6\n",
      "4\n",
      "6\n",
      "5\n",
      "4\n",
      "6\n",
      "4\n",
      "6\n",
      "4\n",
      "6\n"
     ]
    }
   ],
   "source": [
    "for i in s:\n",
    "    print(i)"
   ]
  },
  {
   "cell_type": "code",
   "execution_count": 88,
   "id": "437d591d",
   "metadata": {},
   "outputs": [],
   "source": [
    "t = (\"prince\",\"francis\",[1,2,3,4,5],(3,4,5,6),{\"key1\":\"prince\",\"key2\":\"francis\"})"
   ]
  },
  {
   "cell_type": "code",
   "execution_count": 89,
   "id": "8fae7684",
   "metadata": {},
   "outputs": [
    {
     "name": "stdout",
     "output_type": "stream",
     "text": [
      "3\n",
      "3\n"
     ]
    }
   ],
   "source": [
    "for i in t:\n",
    "    if type(i)==list or type(i)==tuple:\n",
    "        for j in i:\n",
    "            if j==3:\n",
    "                print(3)"
   ]
  },
  {
   "cell_type": "code",
   "execution_count": 90,
   "id": "eeaf2e5c",
   "metadata": {},
   "outputs": [],
   "source": [
    "t = (\"prince\",\"francis\",[1,2,3,4,5],(3,4,5,6),{3:\"prince\",\"key2\":\"francis\"})"
   ]
  },
  {
   "cell_type": "code",
   "execution_count": 92,
   "id": "0a0d0a57",
   "metadata": {},
   "outputs": [
    {
     "name": "stdout",
     "output_type": "stream",
     "text": [
      "3\n",
      "3\n",
      "3\n"
     ]
    }
   ],
   "source": [
    "for i in t:\n",
    "    if type(i)==list or type(i)==tuple:\n",
    "        for j in i:\n",
    "            if j==3:\n",
    "                print(3)\n",
    "    elif type(i)==dict:\n",
    "        for k in i:\n",
    "            if k==3:\n",
    "                print(k)"
   ]
  },
  {
   "cell_type": "code",
   "execution_count": 93,
   "id": "ef13ea7c",
   "metadata": {},
   "outputs": [],
   "source": [
    "t = (\"prince\",\"francis\",[1,2,3,4,5],(3,4,5,6),{3:3,\"key2\":\"francis\"})"
   ]
  },
  {
   "cell_type": "code",
   "execution_count": 95,
   "id": "89e04717",
   "metadata": {},
   "outputs": [
    {
     "name": "stdout",
     "output_type": "stream",
     "text": [
      "3\n",
      "3\n",
      "3\n",
      "3\n"
     ]
    }
   ],
   "source": [
    "for i in t:\n",
    "    if type(i)==list or type(i)==tuple:\n",
    "        for j in i:\n",
    "            if j==3:\n",
    "                print(3)\n",
    "    elif type(i)==dict:\n",
    "        for k in i.items():\n",
    "            for l in k:\n",
    "                if l==3:\n",
    "                    print(l)"
   ]
  },
  {
   "cell_type": "code",
   "execution_count": 97,
   "id": "4b97e251",
   "metadata": {},
   "outputs": [
    {
     "name": "stdout",
     "output_type": "stream",
     "text": [
      "3\n",
      "3\n",
      "3\n",
      "3\n"
     ]
    }
   ],
   "source": [
    "for i in t:\n",
    "    if type(i)==list or type(i)==tuple:\n",
    "        for j in i:\n",
    "            if j==3:\n",
    "                print(3)\n",
    "    elif type(i)==dict:\n",
    "        for k,l in i.items():\n",
    "            if l==3:\n",
    "                print(k)\n",
    "                print(l)"
   ]
  },
  {
   "cell_type": "code",
   "execution_count": 98,
   "id": "a3ec2b75",
   "metadata": {},
   "outputs": [],
   "source": [
    "d= {4:5, \"key1\" : \"prince\" , \"key2\":\"francis\"}"
   ]
  },
  {
   "cell_type": "code",
   "execution_count": 100,
   "id": "aff67e39",
   "metadata": {},
   "outputs": [
    {
     "name": "stdout",
     "output_type": "stream",
     "text": [
      "4 5\n",
      "key1 prince\n",
      "key2 francis\n"
     ]
    }
   ],
   "source": [
    "for i,j in d.items():\n",
    "    print(i,j)"
   ]
  },
  {
   "cell_type": "code",
   "execution_count": 101,
   "id": "db995668",
   "metadata": {},
   "outputs": [],
   "source": [
    "a = 10\n",
    "b = 20 \n",
    "c = 30"
   ]
  },
  {
   "cell_type": "code",
   "execution_count": 102,
   "id": "da4bb203",
   "metadata": {},
   "outputs": [],
   "source": [
    "a , b, c= 10,20,30"
   ]
  },
  {
   "cell_type": "code",
   "execution_count": 103,
   "id": "21b0ad50",
   "metadata": {},
   "outputs": [],
   "source": [
    "a,b,c = 10,20,30"
   ]
  },
  {
   "cell_type": "code",
   "execution_count": 104,
   "id": "c530885d",
   "metadata": {},
   "outputs": [],
   "source": [
    "a,b,c = (10,20,30)"
   ]
  },
  {
   "cell_type": "code",
   "execution_count": null,
   "id": "60f94e13",
   "metadata": {},
   "outputs": [],
   "source": [
    "q1 : ineuron"
   ]
  }
 ],
 "metadata": {
  "kernelspec": {
   "display_name": "Python 3",
   "language": "python",
   "name": "python3"
  },
  "language_info": {
   "codemirror_mode": {
    "name": "ipython",
    "version": 3
   },
   "file_extension": ".py",
   "mimetype": "text/x-python",
   "name": "python",
   "nbconvert_exporter": "python",
   "pygments_lexer": "ipython3",
   "version": "3.8.8"
  }
 },
 "nbformat": 4,
 "nbformat_minor": 5
}
