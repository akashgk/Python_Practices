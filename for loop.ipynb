{
 "cells": [
  {
   "cell_type": "code",
   "execution_count": 1,
   "id": "794b3e71",
   "metadata": {},
   "outputs": [],
   "source": [
    "l = [1,2,3,4,'prince','francis',45.99]"
   ]
  },
  {
   "cell_type": "code",
   "execution_count": 2,
   "id": "833cbc6d",
   "metadata": {},
   "outputs": [
    {
     "name": "stdout",
     "output_type": "stream",
     "text": [
      "1\n",
      "2\n",
      "3\n",
      "4\n",
      "prince\n",
      "francis\n",
      "45.99\n"
     ]
    }
   ],
   "source": [
    "for i in l:\n",
    "    print(i)"
   ]
  },
  {
   "cell_type": "code",
   "execution_count": 6,
   "id": "b4cb2078",
   "metadata": {},
   "outputs": [
    {
     "name": "stdout",
     "output_type": "stream",
     "text": [
      "prince\n",
      "prince\n",
      "prince\n",
      "prince\n",
      "prince\n",
      "prince\n",
      "prince\n"
     ]
    }
   ],
   "source": [
    "for i in l:\n",
    "    print('prince')"
   ]
  },
  {
   "cell_type": "code",
   "execution_count": 7,
   "id": "543e0593",
   "metadata": {},
   "outputs": [
    {
     "ename": "SyntaxError",
     "evalue": "unexpected EOF while parsing (<ipython-input-7-558be609a732>, line 1)",
     "output_type": "error",
     "traceback": [
      "\u001b[1;36m  File \u001b[1;32m\"<ipython-input-7-558be609a732>\"\u001b[1;36m, line \u001b[1;32m1\u001b[0m\n\u001b[1;33m    for i in l:\u001b[0m\n\u001b[1;37m               ^\u001b[0m\n\u001b[1;31mSyntaxError\u001b[0m\u001b[1;31m:\u001b[0m unexpected EOF while parsing\n"
     ]
    }
   ],
   "source": [
    "for i in l:"
   ]
  },
  {
   "cell_type": "code",
   "execution_count": 9,
   "id": "83eded4a",
   "metadata": {},
   "outputs": [],
   "source": [
    "for i in l:\n",
    "    pass  # if we don't want to write the body then we can simply write pass"
   ]
  },
  {
   "cell_type": "code",
   "execution_count": 10,
   "id": "aeaca484",
   "metadata": {},
   "outputs": [],
   "source": [
    "p='prince'"
   ]
  },
  {
   "cell_type": "code",
   "execution_count": 11,
   "id": "1cb782e3",
   "metadata": {},
   "outputs": [
    {
     "name": "stdout",
     "output_type": "stream",
     "text": [
      "p\n",
      "r\n",
      "i\n",
      "n\n",
      "c\n",
      "e\n"
     ]
    }
   ],
   "source": [
    "for i in p:\n",
    "    print(i)"
   ]
  },
  {
   "cell_type": "code",
   "execution_count": 12,
   "id": "4129e025",
   "metadata": {},
   "outputs": [
    {
     "name": "stdout",
     "output_type": "stream",
     "text": [
      "1\n",
      "2\n",
      "3\n",
      "4\n",
      "prince\n",
      "francis\n",
      "45.99\n",
      "after the for loop will get executed it will come to else\n"
     ]
    }
   ],
   "source": [
    "for i in l:\n",
    "    print(i)\n",
    "else:\n",
    "    print('after the for loop will get executed it will come to else')"
   ]
  },
  {
   "cell_type": "code",
   "execution_count": 13,
   "id": "6205e431",
   "metadata": {},
   "outputs": [
    {
     "name": "stdout",
     "output_type": "stream",
     "text": [
      "1\n",
      "2\n",
      "3\n"
     ]
    }
   ],
   "source": [
    "for i in l:\n",
    "    if i==4:\n",
    "        break\n",
    "    print(i)\n",
    "else:\n",
    "    print('else will only be executed after for loop')  #here we put a break in the for loop"
   ]
  },
  {
   "cell_type": "code",
   "execution_count": 15,
   "id": "ab04ba14",
   "metadata": {},
   "outputs": [
    {
     "name": "stdout",
     "output_type": "stream",
     "text": [
      "p\n",
      "r\n",
      "i\n"
     ]
    }
   ],
   "source": [
    "p='prince'\n",
    "for i in p:\n",
    "    if i==\"n\":\n",
    "        break\n",
    "    print(i)\n",
    "else:\n",
    "    print('print string',s)"
   ]
  },
  {
   "cell_type": "code",
   "execution_count": 18,
   "id": "ffc0433d",
   "metadata": {},
   "outputs": [
    {
     "name": "stdout",
     "output_type": "stream",
     "text": [
      "p\n",
      "r\n",
      "i\n",
      "n\n",
      "c\n",
      "e\n",
      "print string prince\n"
     ]
    }
   ],
   "source": [
    "p='prince'\n",
    "for i in p:\n",
    "    if i==\"s\":\n",
    "        break\n",
    "    print(i)\n",
    "else:\n",
    "    print('print string',p)  # because here in the name there is no s"
   ]
  },
  {
   "cell_type": "code",
   "execution_count": 19,
   "id": "9f989b79",
   "metadata": {},
   "outputs": [],
   "source": [
    "t= (4,5,6,8,'prince')"
   ]
  },
  {
   "cell_type": "code",
   "execution_count": 20,
   "id": "82d709fa",
   "metadata": {},
   "outputs": [
    {
     "name": "stdout",
     "output_type": "stream",
     "text": [
      "4\n",
      "5\n",
      "6\n",
      "8\n",
      "prince\n"
     ]
    }
   ],
   "source": [
    "for i in t:\n",
    "    print(i)"
   ]
  },
  {
   "cell_type": "code",
   "execution_count": 21,
   "id": "14c521b4",
   "metadata": {},
   "outputs": [],
   "source": [
    "b={4,5,6,7,7,7,7,7,7,8,'sudh'}"
   ]
  },
  {
   "cell_type": "code",
   "execution_count": 22,
   "id": "fbb127fa",
   "metadata": {},
   "outputs": [
    {
     "data": {
      "text/plain": [
       "set"
      ]
     },
     "execution_count": 22,
     "metadata": {},
     "output_type": "execute_result"
    }
   ],
   "source": [
    "type(b)"
   ]
  },
  {
   "cell_type": "code",
   "execution_count": 23,
   "id": "52f2d4f5",
   "metadata": {},
   "outputs": [
    {
     "data": {
      "text/plain": [
       "{4, 5, 6, 7, 8, 'sudh'}"
      ]
     },
     "execution_count": 23,
     "metadata": {},
     "output_type": "execute_result"
    }
   ],
   "source": [
    "b"
   ]
  },
  {
   "cell_type": "code",
   "execution_count": 24,
   "id": "96d3451a",
   "metadata": {},
   "outputs": [
    {
     "name": "stdout",
     "output_type": "stream",
     "text": [
      "4\n",
      "5\n",
      "6\n",
      "7\n",
      "8\n",
      "sudh\n"
     ]
    }
   ],
   "source": [
    "for i in b:\n",
    "    print(i)"
   ]
  },
  {
   "cell_type": "code",
   "execution_count": 25,
   "id": "b1dcb780",
   "metadata": {},
   "outputs": [],
   "source": [
    "d= {'key1':'prince' , 'contact':'prince.francis64','position': 'xyz'}"
   ]
  },
  {
   "cell_type": "code",
   "execution_count": 33,
   "id": "7baee506",
   "metadata": {},
   "outputs": [
    {
     "name": "stdout",
     "output_type": "stream",
     "text": [
      "key1\n",
      "contact\n",
      "position\n"
     ]
    }
   ],
   "source": [
    "for i in d:\n",
    "    print(i)  # this code gives us all the keys"
   ]
  },
  {
   "cell_type": "code",
   "execution_count": 31,
   "id": "9c826d29",
   "metadata": {},
   "outputs": [
    {
     "data": {
      "text/plain": [
       "'prince'"
      ]
     },
     "execution_count": 31,
     "metadata": {},
     "output_type": "execute_result"
    }
   ],
   "source": [
    "d['key1']"
   ]
  },
  {
   "cell_type": "code",
   "execution_count": 36,
   "id": "e8638ac9",
   "metadata": {},
   "outputs": [
    {
     "name": "stdout",
     "output_type": "stream",
     "text": [
      "key1 - prince\n",
      "contact - prince.francis64\n",
      "position - xyz\n"
     ]
    }
   ],
   "source": [
    "for i in d:\n",
    "    print(i,\"-\",d[i])  # in order to get the values we use d['keys'] "
   ]
  },
  {
   "cell_type": "code",
   "execution_count": 37,
   "id": "fe031bd3",
   "metadata": {},
   "outputs": [],
   "source": [
    "p='prince'"
   ]
  },
  {
   "cell_type": "code",
   "execution_count": 38,
   "id": "d9fa9862",
   "metadata": {},
   "outputs": [
    {
     "data": {
      "text/plain": [
       "range(0, 9)"
      ]
     },
     "execution_count": 38,
     "metadata": {},
     "output_type": "execute_result"
    }
   ],
   "source": [
    "range(9)"
   ]
  },
  {
   "cell_type": "code",
   "execution_count": 39,
   "id": "ca77a0a6",
   "metadata": {},
   "outputs": [
    {
     "data": {
      "text/plain": [
       "[0, 1, 2, 3, 4, 5, 6, 7, 8]"
      ]
     },
     "execution_count": 39,
     "metadata": {},
     "output_type": "execute_result"
    }
   ],
   "source": [
    "list(range(9))"
   ]
  },
  {
   "cell_type": "code",
   "execution_count": 40,
   "id": "0fa57361",
   "metadata": {},
   "outputs": [
    {
     "name": "stdout",
     "output_type": "stream",
     "text": [
      "0\n",
      "1\n",
      "2\n",
      "3\n",
      "4\n",
      "5\n",
      "6\n",
      "7\n",
      "8\n"
     ]
    }
   ],
   "source": [
    "for i in range(9):\n",
    "    print(i)"
   ]
  },
  {
   "cell_type": "code",
   "execution_count": 41,
   "id": "94ee4946",
   "metadata": {},
   "outputs": [
    {
     "data": {
      "text/plain": [
       "range(0, 9)"
      ]
     },
     "execution_count": 41,
     "metadata": {},
     "output_type": "execute_result"
    }
   ],
   "source": [
    "range(0,9)"
   ]
  },
  {
   "cell_type": "code",
   "execution_count": 42,
   "id": "84478828",
   "metadata": {},
   "outputs": [
    {
     "data": {
      "text/plain": [
       "[0, 1, 2, 3, 4, 5, 6, 7, 8]"
      ]
     },
     "execution_count": 42,
     "metadata": {},
     "output_type": "execute_result"
    }
   ],
   "source": [
    "list(range(0,9))"
   ]
  },
  {
   "cell_type": "code",
   "execution_count": 43,
   "id": "d589dc75",
   "metadata": {},
   "outputs": [
    {
     "data": {
      "text/plain": [
       "[0, 2, 4, 6, 8]"
      ]
     },
     "execution_count": 43,
     "metadata": {},
     "output_type": "execute_result"
    }
   ],
   "source": [
    "list(range(0,9,2))"
   ]
  },
  {
   "cell_type": "code",
   "execution_count": 44,
   "id": "6a2a5bcc",
   "metadata": {},
   "outputs": [
    {
     "name": "stdout",
     "output_type": "stream",
     "text": [
      "prince \n",
      "\n",
      "prince prince \n",
      "\n",
      "prince prince prince \n",
      "\n",
      "prince prince prince prince \n",
      "\n"
     ]
    }
   ],
   "source": [
    "for i in range(4):\n",
    "    for j in range(0,i+1):\n",
    "        print('prince', end= ' ')\n",
    "    print('\\n')"
   ]
  },
  {
   "cell_type": "code",
   "execution_count": 55,
   "id": "428a14a4",
   "metadata": {},
   "outputs": [
    {
     "name": "stdout",
     "output_type": "stream",
     "text": [
      "   prince \n",
      "  prince prince \n",
      " prince prince prince \n"
     ]
    }
   ],
   "source": [
    "n=3\n",
    "k=3\n",
    "for i in range(n):\n",
    "    k=k-1\n",
    "    print(' '*k, end= ' ')\n",
    "    for j in range(i+1):\n",
    "        print('prince', end= ' ')\n",
    "    print()\n",
    "    \n"
   ]
  },
  {
   "cell_type": "code",
   "execution_count": 58,
   "id": "70d8ecbe",
   "metadata": {},
   "outputs": [],
   "source": [
    "t= (3,23,45,67,2,4,5,6)"
   ]
  },
  {
   "cell_type": "code",
   "execution_count": 61,
   "id": "86becc75",
   "metadata": {},
   "outputs": [
    {
     "name": "stdout",
     "output_type": "stream",
     "text": [
      "0 3\n",
      "1 23\n",
      "2 45\n",
      "3 67\n",
      "4 2\n",
      "5 4\n",
      "6 5\n",
      "7 6\n"
     ]
    }
   ],
   "source": [
    "for i in range(len(t)):\n",
    "    print(i, t[i])"
   ]
  },
  {
   "cell_type": "code",
   "execution_count": 63,
   "id": "48fcdb93",
   "metadata": {},
   "outputs": [],
   "source": [
    "s='iNeuron'"
   ]
  },
  {
   "cell_type": "code",
   "execution_count": 65,
   "id": "2074d83c",
   "metadata": {},
   "outputs": [
    {
     "name": "stdout",
     "output_type": "stream",
     "text": [
      "0 i\n",
      "1 N\n",
      "2 e\n",
      "3 u\n",
      "4 r\n",
      "5 o\n",
      "6 n\n"
     ]
    }
   ],
   "source": [
    "for i in range(len(s)):\n",
    "    print(i, s[i])"
   ]
  },
  {
   "cell_type": "code",
   "execution_count": 69,
   "id": "10bdf5aa",
   "metadata": {},
   "outputs": [
    {
     "data": {
      "text/plain": [
       "[0, 1, 2, 3, 4, 5, 6]"
      ]
     },
     "execution_count": 69,
     "metadata": {},
     "output_type": "execute_result"
    }
   ],
   "source": [
    "list(range(len(s)))"
   ]
  },
  {
   "cell_type": "code",
   "execution_count": 87,
   "id": "b792369c",
   "metadata": {},
   "outputs": [
    {
     "name": "stdout",
     "output_type": "stream",
     "text": [
      "6 n\n",
      "5 o\n",
      "4 r\n",
      "3 u\n",
      "2 e\n",
      "1 N\n",
      "0 i\n"
     ]
    }
   ],
   "source": [
    "for i in range(len(s), 0, -1):\n",
    "    i=i-1\n",
    "    print(i, s[i])"
   ]
  },
  {
   "cell_type": "code",
   "execution_count": 88,
   "id": "92866d75",
   "metadata": {},
   "outputs": [
    {
     "data": {
      "text/plain": [
       "{'key1': 'prince', 'contact': 'prince.francis64', 'position': 'xyz'}"
      ]
     },
     "execution_count": 88,
     "metadata": {},
     "output_type": "execute_result"
    }
   ],
   "source": [
    "d"
   ]
  },
  {
   "cell_type": "code",
   "execution_count": 93,
   "id": "d2fe0043",
   "metadata": {},
   "outputs": [
    {
     "data": {
      "text/plain": [
       "dict_items([('key1', 'prince'), ('contact', 'prince.francis64'), ('position', 'xyz')])"
      ]
     },
     "execution_count": 93,
     "metadata": {},
     "output_type": "execute_result"
    }
   ],
   "source": [
    "d.items()"
   ]
  },
  {
   "cell_type": "code",
   "execution_count": 97,
   "id": "87ea624e",
   "metadata": {},
   "outputs": [
    {
     "name": "stdout",
     "output_type": "stream",
     "text": [
      "('key1', 'prince') <class 'tuple'> <class 'str'>\n",
      "('contact', 'prince.francis64') <class 'tuple'> <class 'str'>\n",
      "('position', 'xyz') <class 'tuple'> <class 'str'>\n"
     ]
    }
   ],
   "source": [
    "for i in d.items():\n",
    "    print(i,type(i), type(i[1]))"
   ]
  },
  {
   "cell_type": "code",
   "execution_count": 98,
   "id": "61ab5893",
   "metadata": {},
   "outputs": [],
   "source": [
    "l=['prince','francis',3236565,'prince.francis64@gmail.com',345,656546]"
   ]
  },
  {
   "cell_type": "code",
   "execution_count": 99,
   "id": "38456b07",
   "metadata": {},
   "outputs": [],
   "source": [
    "l1=[]"
   ]
  },
  {
   "cell_type": "code",
   "execution_count": 101,
   "id": "b0a8f70c",
   "metadata": {},
   "outputs": [],
   "source": [
    "for i in l:\n",
    "    if type(i)== int:\n",
    "        l1.append(i)"
   ]
  },
  {
   "cell_type": "code",
   "execution_count": 102,
   "id": "9e312e2b",
   "metadata": {},
   "outputs": [
    {
     "data": {
      "text/plain": [
       "[3236565, 345, 656546]"
      ]
     },
     "execution_count": 102,
     "metadata": {},
     "output_type": "execute_result"
    }
   ],
   "source": [
    "l1"
   ]
  },
  {
   "cell_type": "code",
   "execution_count": 2,
   "id": "cf020211",
   "metadata": {},
   "outputs": [],
   "source": [
    "d= {1: 64646 , 'name':'prince' , 'email' : 'prince.francis64@gmail.com', 234:'jlkjlkj', '43':'lkjlkj',234:'6566'}"
   ]
  },
  {
   "cell_type": "code",
   "execution_count": 10,
   "id": "ad18e4b6",
   "metadata": {},
   "outputs": [
    {
     "name": "stdout",
     "output_type": "stream",
     "text": [
      "1 : 64646\n",
      "234 : 6566\n"
     ]
    }
   ],
   "source": [
    "for i in d.keys():\n",
    "    if type(i)==int:\n",
    "        print(i,':',d[i])"
   ]
  },
  {
   "cell_type": "code",
   "execution_count": 8,
   "id": "aad0c5a8",
   "metadata": {},
   "outputs": [
    {
     "name": "stdout",
     "output_type": "stream",
     "text": [
      "1\n",
      "name\n",
      "email\n",
      "234\n",
      "43\n"
     ]
    }
   ],
   "source": [
    "for i in d:\n",
    "    print(i)  # by default it will extract keys"
   ]
  },
  {
   "cell_type": "code",
   "execution_count": 11,
   "id": "7dcabcd4",
   "metadata": {},
   "outputs": [],
   "source": [
    "s='aaaabbccd'"
   ]
  },
  {
   "cell_type": "code",
   "execution_count": 20,
   "id": "149d146b",
   "metadata": {},
   "outputs": [
    {
     "name": "stdout",
     "output_type": "stream",
     "text": [
      "b : 2\n",
      "a : 4\n",
      "c : 2\n",
      "d : 1\n"
     ]
    }
   ],
   "source": [
    "for i in set(s):\n",
    "    print(i, ':' ,s.count(i))"
   ]
  },
  {
   "cell_type": "code",
   "execution_count": 21,
   "id": "874b6e7e",
   "metadata": {},
   "outputs": [
    {
     "data": {
      "text/plain": [
       "4"
      ]
     },
     "execution_count": 21,
     "metadata": {},
     "output_type": "execute_result"
    }
   ],
   "source": [
    "s.count()"
   ]
  },
  {
   "cell_type": "code",
   "execution_count": 22,
   "id": "c00a89a4",
   "metadata": {},
   "outputs": [],
   "source": [
    "i= 4654645465"
   ]
  },
  {
   "cell_type": "code",
   "execution_count": 28,
   "id": "ecfdfb0a",
   "metadata": {},
   "outputs": [
    {
     "name": "stdout",
     "output_type": "stream",
     "text": [
      "4 <class 'int'>\n",
      "6 <class 'int'>\n",
      "5 <class 'int'>\n",
      "4 <class 'int'>\n",
      "6 <class 'int'>\n",
      "4 <class 'int'>\n",
      "5 <class 'int'>\n",
      "4 <class 'int'>\n",
      "6 <class 'int'>\n",
      "5 <class 'int'>\n"
     ]
    }
   ],
   "source": [
    "for j in str(i):\n",
    "    print(int(j),type(int(j)))"
   ]
  },
  {
   "cell_type": "code",
   "execution_count": 41,
   "id": "f9377cf7",
   "metadata": {},
   "outputs": [],
   "source": [
    "t=('prince', 'francis', [1,2,3,4,5] , (3,4,5,6) , {3:3,'key2':'francis'})"
   ]
  },
  {
   "cell_type": "code",
   "execution_count": 44,
   "id": "2ab76a62",
   "metadata": {},
   "outputs": [
    {
     "name": "stdout",
     "output_type": "stream",
     "text": [
      "3\n",
      "3\n",
      "3 3\n"
     ]
    }
   ],
   "source": [
    "for i in t:\n",
    "    if type(i)== list or type(i)== tuple:\n",
    "        for j in i:\n",
    "            if j==3:\n",
    "                print(j)\n",
    "    elif type(i)== dict:\n",
    "        for k , v in i.items():\n",
    "            if k == 3 or v==3:\n",
    "                print(k,v)"
   ]
  },
  {
   "cell_type": "code",
   "execution_count": 45,
   "id": "0173d3b2",
   "metadata": {},
   "outputs": [],
   "source": [
    "d={4:5 , 'key1':'prince', 'key2':'francis'}"
   ]
  },
  {
   "cell_type": "code",
   "execution_count": 47,
   "id": "03bcb375",
   "metadata": {},
   "outputs": [
    {
     "name": "stdout",
     "output_type": "stream",
     "text": [
      "4 5\n",
      "key1 prince\n",
      "key2 francis\n"
     ]
    }
   ],
   "source": [
    "for i,j in d.items():\n",
    "    print(i,j)"
   ]
  },
  {
   "cell_type": "code",
   "execution_count": 56,
   "id": "44e6a859",
   "metadata": {},
   "outputs": [],
   "source": [
    "a,b,c = (10,20,30)"
   ]
  },
  {
   "cell_type": "code",
   "execution_count": 57,
   "id": "a7055da1",
   "metadata": {},
   "outputs": [
    {
     "data": {
      "text/plain": [
       "30"
      ]
     },
     "execution_count": 57,
     "metadata": {},
     "output_type": "execute_result"
    }
   ],
   "source": [
    "c"
   ]
  },
  {
   "cell_type": "code",
   "execution_count": null,
   "id": "f1655a28",
   "metadata": {},
   "outputs": [],
   "source": []
  }
 ],
 "metadata": {
  "kernelspec": {
   "display_name": "Python 3",
   "language": "python",
   "name": "python3"
  },
  "language_info": {
   "codemirror_mode": {
    "name": "ipython",
    "version": 3
   },
   "file_extension": ".py",
   "mimetype": "text/x-python",
   "name": "python",
   "nbconvert_exporter": "python",
   "pygments_lexer": "ipython3",
   "version": "3.8.8"
  }
 },
 "nbformat": 4,
 "nbformat_minor": 5
}
