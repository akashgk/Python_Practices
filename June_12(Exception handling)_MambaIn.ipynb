{
 "cells": [
  {
   "cell_type": "code",
   "execution_count": 1,
   "id": "16a1817a",
   "metadata": {},
   "outputs": [
    {
     "name": "stdout",
     "output_type": "stream",
     "text": [
      "30\n"
     ]
    }
   ],
   "source": [
    "a = 10\n",
    "b = 20\n",
    "c = a+b\n",
    "print(c)"
   ]
  },
  {
   "cell_type": "code",
   "execution_count": 3,
   "id": "420391b5",
   "metadata": {},
   "outputs": [
    {
     "ename": "SyntaxError",
     "evalue": "unexpected EOF while parsing (<ipython-input-3-4892396dd26d>, line 4)",
     "output_type": "error",
     "traceback": [
      "\u001b[1;36m  File \u001b[1;32m\"<ipython-input-3-4892396dd26d>\"\u001b[1;36m, line \u001b[1;32m4\u001b[0m\n\u001b[1;33m    print(c\u001b[0m\n\u001b[1;37m           ^\u001b[0m\n\u001b[1;31mSyntaxError\u001b[0m\u001b[1;31m:\u001b[0m unexpected EOF while parsing\n"
     ]
    }
   ],
   "source": [
    "a = 10\n",
    "b = 20\n",
    "c = a+b\n",
    "print(c"
   ]
  },
  {
   "cell_type": "code",
   "execution_count": 4,
   "id": "d317de27",
   "metadata": {},
   "outputs": [
    {
     "ename": "TypeError",
     "evalue": "unsupported operand type(s) for +: 'int' and 'str'",
     "output_type": "error",
     "traceback": [
      "\u001b[1;31m---------------------------------------------------------------------------\u001b[0m",
      "\u001b[1;31mTypeError\u001b[0m                                 Traceback (most recent call last)",
      "\u001b[1;32m<ipython-input-4-1f4aea25ff1f>\u001b[0m in \u001b[0;36m<module>\u001b[1;34m\u001b[0m\n\u001b[0;32m      1\u001b[0m \u001b[0ma\u001b[0m \u001b[1;33m=\u001b[0m \u001b[1;36m10\u001b[0m\u001b[1;33m\u001b[0m\u001b[1;33m\u001b[0m\u001b[0m\n\u001b[0;32m      2\u001b[0m \u001b[0mb\u001b[0m \u001b[1;33m=\u001b[0m \u001b[1;34m\"s\"\u001b[0m\u001b[1;33m\u001b[0m\u001b[1;33m\u001b[0m\u001b[0m\n\u001b[1;32m----> 3\u001b[1;33m \u001b[0mc\u001b[0m \u001b[1;33m=\u001b[0m\u001b[0ma\u001b[0m \u001b[1;33m+\u001b[0m \u001b[0mb\u001b[0m\u001b[1;33m\u001b[0m\u001b[1;33m\u001b[0m\u001b[0m\n\u001b[0m\u001b[0;32m      4\u001b[0m \u001b[0mprint\u001b[0m\u001b[1;33m(\u001b[0m\u001b[0mc\u001b[0m\u001b[1;33m)\u001b[0m\u001b[1;33m\u001b[0m\u001b[1;33m\u001b[0m\u001b[0m\n",
      "\u001b[1;31mTypeError\u001b[0m: unsupported operand type(s) for +: 'int' and 'str'"
     ]
    }
   ],
   "source": [
    "a = 10\n",
    "b = \"s\"\n",
    "c =a + b\n",
    "print(c)"
   ]
  },
  {
   "cell_type": "code",
   "execution_count": 5,
   "id": "02e1e47e",
   "metadata": {},
   "outputs": [
    {
     "name": "stdout",
     "output_type": "stream",
     "text": [
      "enter first number10\n",
      "enter second number0\n"
     ]
    },
    {
     "ename": "ZeroDivisionError",
     "evalue": "division by zero",
     "output_type": "error",
     "traceback": [
      "\u001b[1;31m---------------------------------------------------------------------------\u001b[0m",
      "\u001b[1;31mZeroDivisionError\u001b[0m                         Traceback (most recent call last)",
      "\u001b[1;32m<ipython-input-5-96c7b9d3541b>\u001b[0m in \u001b[0;36m<module>\u001b[1;34m\u001b[0m\n\u001b[0;32m      1\u001b[0m \u001b[0ma\u001b[0m \u001b[1;33m=\u001b[0m \u001b[0mint\u001b[0m\u001b[1;33m(\u001b[0m\u001b[0minput\u001b[0m\u001b[1;33m(\u001b[0m\u001b[1;34m\"enter first number\"\u001b[0m\u001b[1;33m)\u001b[0m\u001b[1;33m)\u001b[0m\u001b[1;33m\u001b[0m\u001b[1;33m\u001b[0m\u001b[0m\n\u001b[0;32m      2\u001b[0m \u001b[0mb\u001b[0m \u001b[1;33m=\u001b[0m \u001b[0mint\u001b[0m\u001b[1;33m(\u001b[0m\u001b[0minput\u001b[0m\u001b[1;33m(\u001b[0m\u001b[1;34m\"enter second number\"\u001b[0m\u001b[1;33m)\u001b[0m\u001b[1;33m)\u001b[0m\u001b[1;33m\u001b[0m\u001b[1;33m\u001b[0m\u001b[0m\n\u001b[1;32m----> 3\u001b[1;33m \u001b[0mc\u001b[0m \u001b[1;33m=\u001b[0m\u001b[0ma\u001b[0m\u001b[1;33m/\u001b[0m\u001b[0mb\u001b[0m\u001b[1;33m\u001b[0m\u001b[1;33m\u001b[0m\u001b[0m\n\u001b[0m\u001b[0;32m      4\u001b[0m \u001b[0mprint\u001b[0m\u001b[1;33m(\u001b[0m\u001b[0mc\u001b[0m\u001b[1;33m)\u001b[0m\u001b[1;33m\u001b[0m\u001b[1;33m\u001b[0m\u001b[0m\n",
      "\u001b[1;31mZeroDivisionError\u001b[0m: division by zero"
     ]
    }
   ],
   "source": [
    "a = int(input(\"enter first number\"))\n",
    "b = int(input(\"enter second number\"))\n",
    "c =a/b\n",
    "print(c)"
   ]
  },
  {
   "cell_type": "code",
   "execution_count": 6,
   "id": "56185f1c",
   "metadata": {},
   "outputs": [
    {
     "name": "stdout",
     "output_type": "stream",
     "text": [
      "enter first number10\n",
      "enter second number0\n"
     ]
    },
    {
     "ename": "ZeroDivisionError",
     "evalue": "division by zero",
     "output_type": "error",
     "traceback": [
      "\u001b[1;31m---------------------------------------------------------------------------\u001b[0m",
      "\u001b[1;31mZeroDivisionError\u001b[0m                         Traceback (most recent call last)",
      "\u001b[1;32m<ipython-input-6-5b699f423bb1>\u001b[0m in \u001b[0;36m<module>\u001b[1;34m\u001b[0m\n\u001b[0;32m      1\u001b[0m \u001b[0ma\u001b[0m \u001b[1;33m=\u001b[0m \u001b[0mint\u001b[0m\u001b[1;33m(\u001b[0m\u001b[0minput\u001b[0m\u001b[1;33m(\u001b[0m\u001b[1;34m\"enter first number\"\u001b[0m\u001b[1;33m)\u001b[0m\u001b[1;33m)\u001b[0m\u001b[1;33m\u001b[0m\u001b[1;33m\u001b[0m\u001b[0m\n\u001b[0;32m      2\u001b[0m \u001b[0mb\u001b[0m \u001b[1;33m=\u001b[0m \u001b[0mint\u001b[0m\u001b[1;33m(\u001b[0m\u001b[0minput\u001b[0m\u001b[1;33m(\u001b[0m\u001b[1;34m\"enter second number\"\u001b[0m\u001b[1;33m)\u001b[0m\u001b[1;33m)\u001b[0m\u001b[1;33m\u001b[0m\u001b[1;33m\u001b[0m\u001b[0m\n\u001b[1;32m----> 3\u001b[1;33m \u001b[0mc\u001b[0m \u001b[1;33m=\u001b[0m\u001b[0ma\u001b[0m\u001b[1;33m/\u001b[0m\u001b[0mb\u001b[0m\u001b[1;33m\u001b[0m\u001b[1;33m\u001b[0m\u001b[0m\n\u001b[0m\u001b[0;32m      4\u001b[0m \u001b[0mprint\u001b[0m\u001b[1;33m(\u001b[0m\u001b[0mc\u001b[0m\u001b[1;33m)\u001b[0m\u001b[1;33m\u001b[0m\u001b[1;33m\u001b[0m\u001b[0m\n\u001b[0;32m      5\u001b[0m \u001b[0md\u001b[0m \u001b[1;33m=\u001b[0m\u001b[0ma\u001b[0m\u001b[1;33m*\u001b[0m\u001b[0mb\u001b[0m\u001b[1;33m\u001b[0m\u001b[1;33m\u001b[0m\u001b[0m\n",
      "\u001b[1;31mZeroDivisionError\u001b[0m: division by zero"
     ]
    }
   ],
   "source": [
    "a = int(input(\"enter first number\"))\n",
    "b = int(input(\"enter second number\"))\n",
    "c =a/b\n",
    "print(c)\n",
    "d =a*b\n",
    "print(d)"
   ]
  },
  {
   "cell_type": "code",
   "execution_count": 10,
   "id": "de8bd0db",
   "metadata": {},
   "outputs": [
    {
     "name": "stdout",
     "output_type": "stream",
     "text": [
      "enter first number10\n",
      "enter second number0\n",
      "b should not be a zero\n"
     ]
    }
   ],
   "source": [
    "a = int(input(\"enter first number\"))\n",
    "b = int(input(\"enter second number\"))\n",
    "try:\n",
    "    c =a/b\n",
    "    print(c)\n",
    "except ZeroDivisionError:\n",
    "    print(\"b should not be a zero\")"
   ]
  },
  {
   "cell_type": "code",
   "execution_count": 13,
   "id": "3b9da3d3",
   "metadata": {},
   "outputs": [
    {
     "name": "stdout",
     "output_type": "stream",
     "text": [
      "enter first number10\n",
      "enter a stringprince\n",
      "b should not be a string\n"
     ]
    }
   ],
   "source": [
    "a = int(input(\"enter first number\"))\n",
    "b = input(\"enter a string\")\n",
    "try:\n",
    "    c =a/b\n",
    "    print(c)\n",
    "except TypeError:\n",
    "    print(\"b should not be a string\")"
   ]
  },
  {
   "cell_type": "code",
   "execution_count": 15,
   "id": "3d9aa505",
   "metadata": {},
   "outputs": [
    {
     "ename": "SyntaxError",
     "evalue": "unmatched ')' (<ipython-input-15-6e26af1a5c8f>, line 5)",
     "output_type": "error",
     "traceback": [
      "\u001b[1;36m  File \u001b[1;32m\"<ipython-input-15-6e26af1a5c8f>\"\u001b[1;36m, line \u001b[1;32m5\u001b[0m\n\u001b[1;33m    print(c))\u001b[0m\n\u001b[1;37m            ^\u001b[0m\n\u001b[1;31mSyntaxError\u001b[0m\u001b[1;31m:\u001b[0m unmatched ')'\n"
     ]
    }
   ],
   "source": [
    "a = int(input(\"enter first number\"))\n",
    "b = input(\"enter a string\")\n",
    "try:\n",
    "    c =a/b\n",
    "    print(c))\n",
    "except SyntaxError:\n",
    "    print(\"wrong syntax\")\n",
    "d=a+b"
   ]
  },
  {
   "cell_type": "code",
   "execution_count": 17,
   "id": "f316db46",
   "metadata": {},
   "outputs": [
    {
     "name": "stdout",
     "output_type": "stream",
     "text": [
      "enter first number10\n",
      "enter second number0\n",
      "b should not be zero\n",
      "10\n"
     ]
    }
   ],
   "source": [
    "a = int(input(\"enter first number\"))\n",
    "b = int(input(\"enter second number\"))\n",
    "try:\n",
    "    c =a/b\n",
    "    print(c)\n",
    "except ZeroDivisionError:\n",
    "    print(\"b should not be zero\")\n",
    "d=a+b\n",
    "print(d)"
   ]
  },
  {
   "cell_type": "markdown",
   "id": "08d44eb8",
   "metadata": {},
   "source": [
    "Write a program to ask the user to input 2 integers and calculate and print their division. Make sure your program behaves as follows:\n",
    "If the user enters a no integer value then ask him to enter only integers\n",
    "#### If denominator is zero , then ask to input non zero denominator\n",
    "#### Repeat the process until correct input is given\n",
    "Only if the inputs are correct then display their division and terminate the code"
   ]
  },
  {
   "cell_type": "code",
   "execution_count": 21,
   "id": "f35ea2e4",
   "metadata": {},
   "outputs": [
    {
     "ename": "SyntaxError",
     "evalue": "unexpected EOF while parsing (<ipython-input-21-7fae334229dd>, line 6)",
     "output_type": "error",
     "traceback": [
      "\u001b[1;36m  File \u001b[1;32m\"<ipython-input-21-7fae334229dd>\"\u001b[1;36m, line \u001b[1;32m6\u001b[0m\n\u001b[1;33m    \u001b[0m\n\u001b[1;37m    ^\u001b[0m\n\u001b[1;31mSyntaxError\u001b[0m\u001b[1;31m:\u001b[0m unexpected EOF while parsing\n"
     ]
    }
   ],
   "source": [
    "a = int(input(\"enter first number\"))\n",
    "b = int(input(\"enter second number\"))\n",
    "try:\n",
    "    c=a/b\n",
    "    print(c)\n",
    "    "
   ]
  },
  {
   "cell_type": "code",
   "execution_count": 29,
   "id": "a6a14d10",
   "metadata": {},
   "outputs": [
    {
     "name": "stdout",
     "output_type": "stream",
     "text": [
      "enter first number10.23\n",
      "enter an integer value\n"
     ]
    }
   ],
   "source": [
    "try:\n",
    "    a = int(input(\"enter first number\"))\n",
    "    b = int(input(\"enter second number\"))\n",
    "    c=a/b\n",
    "    print(c)\n",
    "except ZeroDivisionError:\n",
    "    print(\"enter a non zero denominator\")\n",
    "except ValueError:\n",
    "    print(\"enter an integer value\")"
   ]
  },
  {
   "cell_type": "code",
   "execution_count": 37,
   "id": "3ec3fe8a",
   "metadata": {},
   "outputs": [
    {
     "name": "stdout",
     "output_type": "stream",
     "text": [
      "write your namefrancis\n",
      "write your nameannies\n",
      "write your namepriya\n",
      "write your nameprince\n",
      "prince\n"
     ]
    }
   ],
   "source": [
    "while True:\n",
    "    name=input(\"write your name\")\n",
    "    if name==\"prince\" or name==\"Prince\":\n",
    "        print(\"prince\")\n",
    "        break"
   ]
  },
  {
   "cell_type": "code",
   "execution_count": 44,
   "id": "57c4e7cc",
   "metadata": {},
   "outputs": [
    {
     "name": "stdout",
     "output_type": "stream",
     "text": [
      "input first number\n",
      "enter a value which is integer\n",
      "input first number\n",
      "enter a value which is integer\n",
      "input first number10\n",
      "input second number5.6\n",
      "enter a value which is integer\n",
      "input first number8\n",
      "input second numberpro\n",
      "enter a value which is integer\n",
      "input first number6\n",
      "input second number8\n",
      "0.75\n"
     ]
    }
   ],
   "source": [
    "while True:\n",
    "    try:\n",
    "        a = int(input(\"input first number\"))\n",
    "        b = int(input(\"input second number\"))\n",
    "        c=a/b\n",
    "        print(c)\n",
    "        break\n",
    "    except ZeroDivisionError:\n",
    "        print(\"enter a non zero number\")\n",
    "    except ValueError:\n",
    "        print(\"enter a value which is integer\")\n",
    "        "
   ]
  },
  {
   "cell_type": "code",
   "execution_count": 46,
   "id": "a4a62bbb",
   "metadata": {},
   "outputs": [
    {
     "name": "stdout",
     "output_type": "stream",
     "text": [
      "input first number:10\n",
      "input second number:prince\n",
      "enter a value which is integer invalid literal for int() with base 10: 'prince'\n",
      "input first number:10\n",
      "input second number:0\n",
      "division by zero\n",
      "input first number:10\n",
      "input second number:5\n",
      "2.0\n"
     ]
    }
   ],
   "source": [
    "while True:\n",
    "    try:\n",
    "        a = int(input(\"input first number:\"))\n",
    "        b = int(input(\"input second number:\"))\n",
    "        c=a/b\n",
    "        print(c)\n",
    "        break\n",
    "    except ZeroDivisionError as e:\n",
    "        print(e)\n",
    "    except ValueError as e:\n",
    "        print(\"enter a value which is integer\",e)\n",
    "        "
   ]
  },
  {
   "cell_type": "code",
   "execution_count": 1,
   "id": "c45e0f08",
   "metadata": {},
   "outputs": [
    {
     "name": "stdout",
     "output_type": "stream",
     "text": [
      "input first number:10\n",
      "input second number:0\n",
      "(<class 'ZeroDivisionError'>, ZeroDivisionError('division by zero'), <traceback object at 0x0000024967A70040>)\n",
      "input first number:10\n",
      "input second number:prince\n",
      "(<class 'ValueError'>, ValueError(\"invalid literal for int() with base 10: 'prince'\"), <traceback object at 0x0000024967A70640>)\n",
      "input first number:10\n",
      "input second number:4\n",
      "2.5\n"
     ]
    }
   ],
   "source": [
    "import sys\n",
    "while True:\n",
    "    try:\n",
    "        a = int(input(\"input first number:\"))\n",
    "        b = int(input(\"input second number:\"))\n",
    "        c=a/b\n",
    "        print(c)\n",
    "        break\n",
    "    except :\n",
    "        print(sys.exc_info())  "
   ]
  },
  {
   "cell_type": "code",
   "execution_count": 2,
   "id": "370d1dc4",
   "metadata": {},
   "outputs": [],
   "source": [
    "a,b,c = (1,2,3)"
   ]
  },
  {
   "cell_type": "code",
   "execution_count": 3,
   "id": "62818652",
   "metadata": {},
   "outputs": [
    {
     "data": {
      "text/plain": [
       "1"
      ]
     },
     "execution_count": 3,
     "metadata": {},
     "output_type": "execute_result"
    }
   ],
   "source": [
    "a"
   ]
  },
  {
   "cell_type": "code",
   "execution_count": 4,
   "id": "5c8d00ca",
   "metadata": {},
   "outputs": [
    {
     "data": {
      "text/plain": [
       "2"
      ]
     },
     "execution_count": 4,
     "metadata": {},
     "output_type": "execute_result"
    }
   ],
   "source": [
    "b"
   ]
  },
  {
   "cell_type": "code",
   "execution_count": 5,
   "id": "ce27d593",
   "metadata": {},
   "outputs": [
    {
     "data": {
      "text/plain": [
       "3"
      ]
     },
     "execution_count": 5,
     "metadata": {},
     "output_type": "execute_result"
    }
   ],
   "source": [
    "c"
   ]
  },
  {
   "cell_type": "code",
   "execution_count": 2,
   "id": "f8d10b8e",
   "metadata": {},
   "outputs": [],
   "source": [
    "import sys"
   ]
  },
  {
   "cell_type": "code",
   "execution_count": 5,
   "id": "f1aa9a45",
   "metadata": {},
   "outputs": [
    {
     "name": "stdout",
     "output_type": "stream",
     "text": [
      "input first number:10\n",
      "input second number:0\n",
      "exception class <class 'ZeroDivisionError'>\n",
      "exception message division by zero\n",
      "line number 5\n",
      "input first number:10\n",
      "input second number:0\n",
      "exception class <class 'ZeroDivisionError'>\n",
      "exception message division by zero\n",
      "line number 5\n",
      "input first number:5\n",
      "input second number:20\n",
      "0.25\n"
     ]
    }
   ],
   "source": [
    "while True:\n",
    "    try:\n",
    "        a = int(input(\"input first number:\"))\n",
    "        b = int(input(\"input second number:\"))\n",
    "        c=a/b\n",
    "        print(c)\n",
    "        break\n",
    "    except :\n",
    "        a,b,c = sys.exc_info()  \n",
    "        print(\"exception class\",a)\n",
    "        print(\"exception message\",b)\n",
    "        print(\"line number\",c.tb_lineno)"
   ]
  },
  {
   "cell_type": "code",
   "execution_count": 6,
   "id": "22f86f09",
   "metadata": {},
   "outputs": [
    {
     "name": "stdout",
     "output_type": "stream",
     "text": [
      "input first number:10\n",
      "input second number:0\n",
      "Traceback (most recent call last):\n",
      "  File \"<ipython-input-6-36923cc0ca44>\", line 7, in <module>\n",
      "    c=a/b\n",
      "ZeroDivisionError: division by zero\n",
      "\n",
      "input first number:10\n",
      "input second number:7\n",
      "1.4285714285714286\n"
     ]
    }
   ],
   "source": [
    "#import sys.exc_info()\n",
    "import traceback\n",
    "while True:\n",
    "    try:\n",
    "        a = int(input(\"input first number:\"))\n",
    "        b = int(input(\"input second number:\"))\n",
    "        c=a/b\n",
    "        print(c)\n",
    "        break\n",
    "    except :\n",
    "        print(traceback.format_exc())"
   ]
  },
  {
   "cell_type": "code",
   "execution_count": 7,
   "id": "523933bb",
   "metadata": {},
   "outputs": [],
   "source": [
    "#raise exception"
   ]
  },
  {
   "cell_type": "code",
   "execution_count": 10,
   "id": "dc273e16",
   "metadata": {},
   "outputs": [
    {
     "name": "stdout",
     "output_type": "stream",
     "text": [
      "first number10\n",
      "second number-3\n",
      "negative number not allowed\n",
      "first number10\n",
      "second number0\n",
      "please enter non zero denominator\n",
      "first number10\n",
      "second number9\n",
      "division value 1.1111111111111112\n"
     ]
    }
   ],
   "source": [
    "while True:\n",
    "    try:\n",
    "        a = int(input(\"first number\"))\n",
    "        b = int(input(\"second number\"))\n",
    "        if a<0 or b <0: \n",
    "            raise Exception(\"negative number not allowed\")\n",
    "        c = a/b\n",
    "        print(\"division value\",c)\n",
    "        break\n",
    "    except ValueError:\n",
    "        print(\"please enter int only\")\n",
    "    except ZeroDivisionError:\n",
    "        print(\"please enter non zero denominator\")\n",
    "    except Exception as e:\n",
    "        print(e)\n",
    "        "
   ]
  },
  {
   "cell_type": "code",
   "execution_count": 11,
   "id": "06674e7b",
   "metadata": {},
   "outputs": [],
   "source": [
    "#custom exception"
   ]
  },
  {
   "cell_type": "code",
   "execution_count": 2,
   "id": "161d3b71",
   "metadata": {},
   "outputs": [],
   "source": [
    "class NegativeNumberException(Exception):\n",
    "    pass"
   ]
  },
  {
   "cell_type": "code",
   "execution_count": 3,
   "id": "ed2ee8e2",
   "metadata": {},
   "outputs": [
    {
     "name": "stdout",
     "output_type": "stream",
     "text": [
      "first number-10\n",
      "second number-20\n",
      "negative number not allowed\n",
      "first number-5\n",
      "second number84\n",
      "negative number not allowed\n",
      "first number10\n",
      "second number8\n",
      "division value 1.25\n"
     ]
    }
   ],
   "source": [
    "while True:\n",
    "    try:\n",
    "        a = int(input(\"first number\"))\n",
    "        b = int(input(\"second number\"))\n",
    "        if a<0 or b <0: \n",
    "            raise NegativeNumberException(\"negative number not allowed\")\n",
    "        c = a/b\n",
    "        print(\"division value\",c)\n",
    "        break\n",
    "    except ValueError:\n",
    "        print(\"please enter int only\")\n",
    "    except ZeroDivisionError:\n",
    "        print(\"please enter non zero denominator\")\n",
    "    except NegativeNumberException as e:\n",
    "        print(e)\n",
    "        "
   ]
  },
  {
   "cell_type": "code",
   "execution_count": 4,
   "id": "b9bd8939",
   "metadata": {},
   "outputs": [
    {
     "name": "stdout",
     "output_type": "stream",
     "text": [
      "first number10\n",
      "second number0\n",
      "dont use zero in denominator\n",
      "hello\n",
      "python\n"
     ]
    }
   ],
   "source": [
    "try:\n",
    "    a = int(input(\"first number\"))\n",
    "    b = int(input(\"second number\"))\n",
    "    c=a/b\n",
    "    print(c)\n",
    "except:\n",
    "    print(\"dont use zero in denominator\")\n",
    "finally:\n",
    "    print(\"hello\")\n",
    "    print(\"python\")\n",
    "    "
   ]
  },
  {
   "cell_type": "code",
   "execution_count": 2,
   "id": "8fadf6e1",
   "metadata": {},
   "outputs": [
    {
     "name": "stdout",
     "output_type": "stream",
     "text": [
      "first number10\n",
      "second number0\n",
      "dont use zero in denominator\n",
      "first number10\n",
      "second number5\n",
      "2.0\n",
      "python rocks!\n"
     ]
    }
   ],
   "source": [
    "while True:\n",
    "    try:\n",
    "        a = int(input(\"first number\"))\n",
    "        b = int(input(\"second number\"))\n",
    "        c=a/b\n",
    "        print(c)\n",
    "    except:\n",
    "        print(\"dont use zero in denominator\")\n",
    "    else:\n",
    "        print(\"python rocks!\")\n",
    "        break\n",
    "\n",
    "    "
   ]
  },
  {
   "cell_type": "code",
   "execution_count": null,
   "id": "60a24964",
   "metadata": {},
   "outputs": [],
   "source": []
  }
 ],
 "metadata": {
  "kernelspec": {
   "display_name": "Python 3",
   "language": "python",
   "name": "python3"
  },
  "language_info": {
   "codemirror_mode": {
    "name": "ipython",
    "version": 3
   },
   "file_extension": ".py",
   "mimetype": "text/x-python",
   "name": "python",
   "nbconvert_exporter": "python",
   "pygments_lexer": "ipython3",
   "version": "3.8.8"
  }
 },
 "nbformat": 4,
 "nbformat_minor": 5
}
