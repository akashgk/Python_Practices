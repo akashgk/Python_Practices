{
 "cells": [
  {
   "cell_type": "code",
   "execution_count": 6,
   "id": "810ae509",
   "metadata": {},
   "outputs": [],
   "source": [
    " def test(a, b ):\n",
    "        '''this is my function for concatination or addition'''\n",
    "        return a+b\n",
    "        "
   ]
  },
  {
   "cell_type": "code",
   "execution_count": 2,
   "id": "ea1ae1ae",
   "metadata": {},
   "outputs": [
    {
     "data": {
      "text/plain": [
       "5"
      ]
     },
     "execution_count": 2,
     "metadata": {},
     "output_type": "execute_result"
    }
   ],
   "source": [
    "test(4,1)"
   ]
  },
  {
   "cell_type": "code",
   "execution_count": 3,
   "id": "c93210d1",
   "metadata": {},
   "outputs": [
    {
     "data": {
      "text/plain": [
       "'prince francis'"
      ]
     },
     "execution_count": 3,
     "metadata": {},
     "output_type": "execute_result"
    }
   ],
   "source": [
    "test('prince',' francis')"
   ]
  },
  {
   "cell_type": "code",
   "execution_count": 4,
   "id": "fa185a77",
   "metadata": {},
   "outputs": [
    {
     "data": {
      "text/plain": [
       "15"
      ]
     },
     "execution_count": 4,
     "metadata": {},
     "output_type": "execute_result"
    }
   ],
   "source": [
    "test(a=9,b=6)"
   ]
  },
  {
   "cell_type": "code",
   "execution_count": 5,
   "id": "088100d1",
   "metadata": {},
   "outputs": [
    {
     "data": {
      "text/plain": [
       "48"
      ]
     },
     "execution_count": 5,
     "metadata": {},
     "output_type": "execute_result"
    }
   ],
   "source": [
    "test(b = 45,a =3)"
   ]
  },
  {
   "cell_type": "code",
   "execution_count": 7,
   "id": "bfb8f27c",
   "metadata": {},
   "outputs": [
    {
     "name": "stdout",
     "output_type": "stream",
     "text": [
      "\n"
     ]
    }
   ],
   "source": [
    "print()"
   ]
  },
  {
   "cell_type": "code",
   "execution_count": 8,
   "id": "f85134fd",
   "metadata": {},
   "outputs": [],
   "source": [
    "def test1(a,b,c,d,e):\n",
    "    return a,b,c,d,e\n"
   ]
  },
  {
   "cell_type": "code",
   "execution_count": 11,
   "id": "91dddfca",
   "metadata": {},
   "outputs": [
    {
     "data": {
      "text/plain": [
       "(3, 4, 5, 6, 7)"
      ]
     },
     "execution_count": 11,
     "metadata": {},
     "output_type": "execute_result"
    }
   ],
   "source": [
    "test1(3,4,5,6,7)"
   ]
  },
  {
   "cell_type": "code",
   "execution_count": 12,
   "id": "e0b5c3e5",
   "metadata": {},
   "outputs": [],
   "source": [
    "def test(*a):\n",
    "    return a"
   ]
  },
  {
   "cell_type": "code",
   "execution_count": 13,
   "id": "d9600132",
   "metadata": {},
   "outputs": [
    {
     "data": {
      "text/plain": [
       "(34, 456)"
      ]
     },
     "execution_count": 13,
     "metadata": {},
     "output_type": "execute_result"
    }
   ],
   "source": [
    "test(34,456)"
   ]
  },
  {
   "cell_type": "code",
   "execution_count": 14,
   "id": "66501ab0",
   "metadata": {},
   "outputs": [
    {
     "data": {
      "text/plain": [
       "(2, 3, 4, 45, 6)"
      ]
     },
     "execution_count": 14,
     "metadata": {},
     "output_type": "execute_result"
    }
   ],
   "source": [
    "test(2,3,4,45,6)"
   ]
  },
  {
   "cell_type": "code",
   "execution_count": 15,
   "id": "261a2beb",
   "metadata": {},
   "outputs": [
    {
     "data": {
      "text/plain": [
       "(4, 5, 6, 7, 6, 67, 8, [3, 4, 5, 5, 5, 5, 6])"
      ]
     },
     "execution_count": 15,
     "metadata": {},
     "output_type": "execute_result"
    }
   ],
   "source": [
    "test(4,5,6,7,6,67,8,[3,4,5,5,5,5,6])"
   ]
  },
  {
   "cell_type": "code",
   "execution_count": 16,
   "id": "af8bb778",
   "metadata": {},
   "outputs": [],
   "source": [
    "def test4(*args):\n",
    "    return args"
   ]
  },
  {
   "cell_type": "code",
   "execution_count": 18,
   "id": "e96da5f9",
   "metadata": {},
   "outputs": [
    {
     "data": {
      "text/plain": [
       "('prince', 'is', 'going to become data analyst ')"
      ]
     },
     "execution_count": 18,
     "metadata": {},
     "output_type": "execute_result"
    }
   ],
   "source": [
    "test4('prince','is','going to become data analyst ')"
   ]
  },
  {
   "cell_type": "code",
   "execution_count": 19,
   "id": "842002ad",
   "metadata": {},
   "outputs": [],
   "source": [
    "def test5(*a):\n",
    "    l=[]\n",
    "    for i in a:\n",
    "        l.append(i)\n",
    "    return l \n",
    "        "
   ]
  },
  {
   "cell_type": "code",
   "execution_count": 20,
   "id": "580fc4b0",
   "metadata": {},
   "outputs": [
    {
     "data": {
      "text/plain": [
       "[2, 3, 4, 5, 45, 34, 3, [345, 56, 5, 6]]"
      ]
     },
     "execution_count": 20,
     "metadata": {},
     "output_type": "execute_result"
    }
   ],
   "source": [
    "test5(2,3,4,5,45,34,3,[345,56,5,6])"
   ]
  },
  {
   "cell_type": "code",
   "execution_count": 21,
   "id": "1a771964",
   "metadata": {},
   "outputs": [
    {
     "data": {
      "text/plain": [
       "[3, 4, 5, 56]"
      ]
     },
     "execution_count": 21,
     "metadata": {},
     "output_type": "execute_result"
    }
   ],
   "source": [
    "test5(3,4,5,56)"
   ]
  },
  {
   "cell_type": "code",
   "execution_count": 22,
   "id": "a36ea766",
   "metadata": {},
   "outputs": [],
   "source": [
    "def test6(a,b,c,d, *m):\n",
    "    return a,b,c,d,m"
   ]
  },
  {
   "cell_type": "code",
   "execution_count": 24,
   "id": "814e9611",
   "metadata": {},
   "outputs": [
    {
     "data": {
      "text/plain": [
       "(3, 4, 5, 5, (6, 6, 7, 7, 8, 8))"
      ]
     },
     "execution_count": 24,
     "metadata": {},
     "output_type": "execute_result"
    }
   ],
   "source": [
    "test6(3,4,5,5,6,6,7,7,8,8)"
   ]
  },
  {
   "cell_type": "code",
   "execution_count": 25,
   "id": "dc65ebce",
   "metadata": {},
   "outputs": [],
   "source": [
    "def test7(*m,a,b,c,d,e):\n",
    "    return m,a,b,c,d,e"
   ]
  },
  {
   "cell_type": "code",
   "execution_count": 29,
   "id": "ad67c95c",
   "metadata": {},
   "outputs": [
    {
     "data": {
      "text/plain": [
       "((4, 5, 65, 6, 6, 7, 7, 756), 67, 34, 54, 67, 78)"
      ]
     },
     "execution_count": 29,
     "metadata": {},
     "output_type": "execute_result"
    }
   ],
   "source": [
    "test7(4,5,65,6,6,7,7,756,a=67,b=34,c=54,d=67,e=78)"
   ]
  },
  {
   "cell_type": "code",
   "execution_count": 31,
   "id": "0dce7d25",
   "metadata": {},
   "outputs": [],
   "source": [
    "def test8(**kwargs):\n",
    "    return kwargs"
   ]
  },
  {
   "cell_type": "code",
   "execution_count": 38,
   "id": "26c1e634",
   "metadata": {},
   "outputs": [
    {
     "data": {
      "text/plain": [
       "{'b': 4, 'c': 5, 'd': 6, 'e': 6, 'n': [3, 43, 456, 5, 7, 67, 68, 68]}"
      ]
     },
     "execution_count": 38,
     "metadata": {},
     "output_type": "execute_result"
    }
   ],
   "source": [
    "test8(b=4,c=5,d=6,e=6,n = [3,43,456,5,7,67,68,68])"
   ]
  },
  {
   "cell_type": "code",
   "execution_count": 39,
   "id": "fa691a4e",
   "metadata": {},
   "outputs": [],
   "source": [
    "d = {'b': 4, 'c': 5, 'd': 6, 'e': 6}"
   ]
  },
  {
   "cell_type": "code",
   "execution_count": 40,
   "id": "ed2919fe",
   "metadata": {},
   "outputs": [],
   "source": [
    "def test9(*args,**kwargs):\n",
    "    return args,kwargs"
   ]
  },
  {
   "cell_type": "code",
   "execution_count": 41,
   "id": "1cdccdf6",
   "metadata": {},
   "outputs": [
    {
     "data": {
      "text/plain": [
       "((345, 45, 56, 5, 6), {'b': 4, 'c': 6, 'd': 7, 'g': 9})"
      ]
     },
     "execution_count": 41,
     "metadata": {},
     "output_type": "execute_result"
    }
   ],
   "source": [
    "test9(345,45,56,5,6,b=4,c=6 , d=7,g= 9)"
   ]
  },
  {
   "cell_type": "code",
   "execution_count": 45,
   "id": "4146126f",
   "metadata": {},
   "outputs": [],
   "source": [
    "def test10(*m):\n",
    "    sum = 0\n",
    "    for i in m:\n",
    "        if type(i)==int:\n",
    "            sum = sum+i\n",
    "    return sum\n",
    "    "
   ]
  },
  {
   "cell_type": "code",
   "execution_count": 46,
   "id": "734812d7",
   "metadata": {},
   "outputs": [
    {
     "data": {
      "text/plain": [
       "113"
      ]
     },
     "execution_count": 46,
     "metadata": {},
     "output_type": "execute_result"
    }
   ],
   "source": [
    "test10(3,45,64,1)"
   ]
  },
  {
   "cell_type": "code",
   "execution_count": 47,
   "id": "43c712b8",
   "metadata": {},
   "outputs": [],
   "source": [
    "def test1(*m):\n",
    "    n = 1\n",
    "    for i in m:\n",
    "        if type(i)==int:\n",
    "            n = n*i\n",
    "    return n"
   ]
  },
  {
   "cell_type": "code",
   "execution_count": 48,
   "id": "462ddd40",
   "metadata": {},
   "outputs": [
    {
     "data": {
      "text/plain": [
       "720"
      ]
     },
     "execution_count": 48,
     "metadata": {},
     "output_type": "execute_result"
    }
   ],
   "source": [
    "test1(2,3,4,5,6)"
   ]
  },
  {
   "cell_type": "code",
   "execution_count": 53,
   "id": "7ec9045c",
   "metadata": {},
   "outputs": [],
   "source": [
    "n = lambda a , b : a + b  #lambda function"
   ]
  },
  {
   "cell_type": "code",
   "execution_count": 54,
   "id": "5569921f",
   "metadata": {},
   "outputs": [
    {
     "data": {
      "text/plain": [
       "9"
      ]
     },
     "execution_count": 54,
     "metadata": {},
     "output_type": "execute_result"
    }
   ],
   "source": [
    "n(4,5)"
   ]
  },
  {
   "cell_type": "code",
   "execution_count": 55,
   "id": "1566038f",
   "metadata": {},
   "outputs": [],
   "source": [
    "def test5(a,b):\n",
    "    return a + b"
   ]
  },
  {
   "cell_type": "code",
   "execution_count": 56,
   "id": "48e08685",
   "metadata": {},
   "outputs": [
    {
     "data": {
      "text/plain": [
       "9"
      ]
     },
     "execution_count": 56,
     "metadata": {},
     "output_type": "execute_result"
    }
   ],
   "source": [
    "test5(4,5)"
   ]
  },
  {
   "cell_type": "code",
   "execution_count": 57,
   "id": "97f9a855",
   "metadata": {},
   "outputs": [
    {
     "data": {
      "text/plain": [
       "11"
      ]
     },
     "execution_count": 57,
     "metadata": {},
     "output_type": "execute_result"
    }
   ],
   "source": [
    "n (5,6)"
   ]
  },
  {
   "cell_type": "code",
   "execution_count": 58,
   "id": "da91a9f7",
   "metadata": {},
   "outputs": [],
   "source": [
    "b = lambda *args : args"
   ]
  },
  {
   "cell_type": "code",
   "execution_count": 59,
   "id": "eb6f010c",
   "metadata": {},
   "outputs": [
    {
     "data": {
      "text/plain": [
       "(4, 5, 56, 76, 7, 68, 8)"
      ]
     },
     "execution_count": 59,
     "metadata": {},
     "output_type": "execute_result"
    }
   ],
   "source": [
    "b(4,5,56,76,7,68,8)"
   ]
  },
  {
   "cell_type": "code",
   "execution_count": 60,
   "id": "a59e1de1",
   "metadata": {},
   "outputs": [],
   "source": [
    "t= (3,4,4,5,5,6,67,7,7)\n",
    "l=[]\n",
    "for i in t:\n",
    "    l.append(i)"
   ]
  },
  {
   "cell_type": "code",
   "execution_count": 61,
   "id": "15796c1d",
   "metadata": {},
   "outputs": [
    {
     "data": {
      "text/plain": [
       "[3, 4, 4, 5, 5, 6, 67, 7, 7]"
      ]
     },
     "execution_count": 61,
     "metadata": {},
     "output_type": "execute_result"
    }
   ],
   "source": [
    "l"
   ]
  },
  {
   "cell_type": "code",
   "execution_count": 62,
   "id": "d65bacb1",
   "metadata": {},
   "outputs": [
    {
     "data": {
      "text/plain": [
       "[3, 4, 4, 5, 5, 6, 67, 7, 7]"
      ]
     },
     "execution_count": 62,
     "metadata": {},
     "output_type": "execute_result"
    }
   ],
   "source": [
    "[i for i in t]    #list comprehension operation"
   ]
  },
  {
   "cell_type": "code",
   "execution_count": 63,
   "id": "a61d485a",
   "metadata": {},
   "outputs": [],
   "source": [
    "s ='prince'"
   ]
  },
  {
   "cell_type": "code",
   "execution_count": 64,
   "id": "f226d2ef",
   "metadata": {},
   "outputs": [
    {
     "data": {
      "text/plain": [
       "['p', 'r', 'i', 'n', 'c', 'e']"
      ]
     },
     "execution_count": 64,
     "metadata": {},
     "output_type": "execute_result"
    }
   ],
   "source": [
    "[i for i in s]"
   ]
  },
  {
   "cell_type": "code",
   "execution_count": 66,
   "id": "d2e25c18",
   "metadata": {},
   "outputs": [
    {
     "data": {
      "text/plain": [
       "[0, 1, 4, 9, 16, 25, 36, 49, 64, 81, 100]"
      ]
     },
     "execution_count": 66,
     "metadata": {},
     "output_type": "execute_result"
    }
   ],
   "source": [
    "[i*i for i in range(11)]"
   ]
  },
  {
   "cell_type": "code",
   "execution_count": 68,
   "id": "a9359ca9",
   "metadata": {},
   "outputs": [],
   "source": [
    "l=[]\n",
    "for i in range(11):\n",
    "    l.append(i*i)\n",
    "    "
   ]
  },
  {
   "cell_type": "code",
   "execution_count": 69,
   "id": "104eb3ce",
   "metadata": {},
   "outputs": [
    {
     "data": {
      "text/plain": [
       "[0, 1, 4, 9, 16, 25, 36, 49, 64, 81, 100]"
      ]
     },
     "execution_count": 69,
     "metadata": {},
     "output_type": "execute_result"
    }
   ],
   "source": [
    "l"
   ]
  },
  {
   "cell_type": "code",
   "execution_count": 70,
   "id": "520ae5dc",
   "metadata": {},
   "outputs": [],
   "source": [
    "l = lambda *x: [i for i in x]"
   ]
  },
  {
   "cell_type": "code",
   "execution_count": 71,
   "id": "46c71fab",
   "metadata": {},
   "outputs": [
    {
     "data": {
      "text/plain": [
       "[4, 45, 5, 6, 6, 7, 8]"
      ]
     },
     "execution_count": 71,
     "metadata": {},
     "output_type": "execute_result"
    }
   ],
   "source": [
    "l(4,45,5,6,6,7,8)"
   ]
  },
  {
   "cell_type": "code",
   "execution_count": 74,
   "id": "cbc5d098",
   "metadata": {},
   "outputs": [],
   "source": [
    "l = lambda *x: [i**2 for i in x ]"
   ]
  },
  {
   "cell_type": "code",
   "execution_count": 75,
   "id": "0e51eb77",
   "metadata": {},
   "outputs": [
    {
     "data": {
      "text/plain": [
       "[1, 4, 9, 16, 25, 36]"
      ]
     },
     "execution_count": 75,
     "metadata": {},
     "output_type": "execute_result"
    }
   ],
   "source": [
    "l(1,2,3,4,5,6)"
   ]
  },
  {
   "cell_type": "code",
   "execution_count": null,
   "id": "d00d9491",
   "metadata": {},
   "outputs": [],
   "source": [
    "test14(a = 7,b= 'prin',c= 345, d='francis' , l=[2,3,4,45,'prince'])"
   ]
  },
  {
   "cell_type": "code",
   "execution_count": 11,
   "id": "af7b4946",
   "metadata": {},
   "outputs": [],
   "source": [
    "def test14(**kwargs):\n",
    "    count= 0 \n",
    "    for i in d.items():\n",
    "        for j in i:\n",
    "            if type(j)==list:\n",
    "                for k in j:\n",
    "                    if type(k)==str:\n",
    "                        count =count+1\n",
    "            elif type(j)==str:\n",
    "                count =count+1\n",
    "    return count\n"
   ]
  },
  {
   "cell_type": "code",
   "execution_count": 12,
   "id": "f1379d9e",
   "metadata": {},
   "outputs": [
    {
     "data": {
      "text/plain": [
       "8"
      ]
     },
     "execution_count": 12,
     "metadata": {},
     "output_type": "execute_result"
    }
   ],
   "source": [
    "test14(a = 7,b= 'prin',c= 345, d='francis' , l=[2,3,4,45,'prince'])"
   ]
  },
  {
   "cell_type": "code",
   "execution_count": 13,
   "id": "086b6846",
   "metadata": {},
   "outputs": [],
   "source": [
    "def test15(**kwargs):\n",
    "    return list(kwargs.values())"
   ]
  },
  {
   "cell_type": "code",
   "execution_count": 14,
   "id": "fb6caae3",
   "metadata": {},
   "outputs": [
    {
     "data": {
      "text/plain": [
       "[7, 'prin', 345, 'francis', [2, 3, 4, 45, 'prince']]"
      ]
     },
     "execution_count": 14,
     "metadata": {},
     "output_type": "execute_result"
    }
   ],
   "source": [
    "test15(a = 7,b= 'prin',c= 345, d='francis' , l=[2,3,4,45,'prince'])"
   ]
  },
  {
   "cell_type": "code",
   "execution_count": null,
   "id": "a5077cf4",
   "metadata": {},
   "outputs": [],
   "source": [
    "Todays task:\n",
    "    q1 :Try to print a prime number in between 1 to 100\n",
    "    q2 :Try to write a function which is equivalent to print function in python\n",
    "    q3 :Try to write a function which is a replica of list append, extend and pop function\n",
    "    q4 :Try to write a lambda function which can return a concatenation of all the string that we will pass\n",
    "    q5 :Try to write a lambda function which can return list of all the square of all the data between 1-100\n",
    "    q6 :Try to wrie a 10 different example of lambda function with a choice of your task\n",
    "    q7 :Try to write a function which can perform a read operation from .txt file"
   ]
  },
  {
   "cell_type": "code",
   "execution_count": 47,
   "id": "b3e1c04a",
   "metadata": {},
   "outputs": [
    {
     "name": "stdout",
     "output_type": "stream",
     "text": [
      "2 3 5 7 11 13 17 19 23 29 31 37 41 43 47 53 59 61 67 71 73 79 83 89 97 "
     ]
    }
   ],
   "source": [
    "#q1\n",
    "for num in range(1,101):\n",
    "    if num>1:\n",
    "        for i in range(2,num):\n",
    "            if num%i==0:\n",
    "                break\n",
    "        else:\n",
    "            print(num,end = ' ')\n",
    "                \n",
    "    "
   ]
  },
  {
   "cell_type": "code",
   "execution_count": 39,
   "id": "da5b3680",
   "metadata": {},
   "outputs": [],
   "source": [
    "#q2\n",
    "l =lambda *args:[i for i in args]"
   ]
  },
  {
   "cell_type": "code",
   "execution_count": 42,
   "id": "6de764ae",
   "metadata": {},
   "outputs": [
    {
     "data": {
      "text/plain": [
       "['this is my alternative to print']"
      ]
     },
     "execution_count": 42,
     "metadata": {},
     "output_type": "execute_result"
    }
   ],
   "source": [
    "l('this is my alternative to print')"
   ]
  },
  {
   "cell_type": "code",
   "execution_count": 75,
   "id": "21c862ff",
   "metadata": {},
   "outputs": [
    {
     "name": "stdout",
     "output_type": "stream",
     "text": [
      "prince\n"
     ]
    }
   ],
   "source": [
    "#q3\n",
    "l = [1,2,3,4,5]\n",
    "N=list(input())\n",
    "z = l + N"
   ]
  },
  {
   "cell_type": "code",
   "execution_count": 78,
   "id": "203029b5",
   "metadata": {},
   "outputs": [
    {
     "ename": "SyntaxError",
     "evalue": "invalid syntax (<ipython-input-78-0282fe55300f>, line 1)",
     "output_type": "error",
     "traceback": [
      "\u001b[1;36m  File \u001b[1;32m\"<ipython-input-78-0282fe55300f>\"\u001b[1;36m, line \u001b[1;32m1\u001b[0m\n\u001b[1;33m    l = lambda*args:[i = i+i for i in args]\u001b[0m\n\u001b[1;37m                       ^\u001b[0m\n\u001b[1;31mSyntaxError\u001b[0m\u001b[1;31m:\u001b[0m invalid syntax\n"
     ]
    }
   ],
   "source": [
    "l = lambda*args:[i = i+i for i in args]"
   ]
  },
  {
   "cell_type": "code",
   "execution_count": null,
   "id": "b30a16b8",
   "metadata": {},
   "outputs": [],
   "source": []
  }
 ],
 "metadata": {
  "kernelspec": {
   "display_name": "Python 3",
   "language": "python",
   "name": "python3"
  },
  "language_info": {
   "codemirror_mode": {
    "name": "ipython",
    "version": 3
   },
   "file_extension": ".py",
   "mimetype": "text/x-python",
   "name": "python",
   "nbconvert_exporter": "python",
   "pygments_lexer": "ipython3",
   "version": "3.8.8"
  }
 },
 "nbformat": 4,
 "nbformat_minor": 5
}
