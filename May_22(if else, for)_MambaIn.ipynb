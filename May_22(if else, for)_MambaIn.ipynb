{
 "cells": [
  {
   "cell_type": "code",
   "execution_count": 2,
   "id": "2a5aff91",
   "metadata": {},
   "outputs": [
    {
     "name": "stdout",
     "output_type": "stream",
     "text": [
      "this is my first condition\n"
     ]
    }
   ],
   "source": [
    "a = 10\n",
    "if a ==10:\n",
    "    print(\"this is my first condition\")"
   ]
  },
  {
   "cell_type": "code",
   "execution_count": 3,
   "id": "bfcbcff9",
   "metadata": {},
   "outputs": [],
   "source": [
    "a = 10\n",
    "if a ==11:\n",
    "    print(\"this is my first condition\")"
   ]
  },
  {
   "cell_type": "code",
   "execution_count": 4,
   "id": "567eb106",
   "metadata": {},
   "outputs": [],
   "source": [
    "a = 10\n",
    "if a > 5 :\n",
    "    pass"
   ]
  },
  {
   "cell_type": "code",
   "execution_count": 5,
   "id": "5dce8d82",
   "metadata": {},
   "outputs": [
    {
     "name": "stdout",
     "output_type": "stream",
     "text": [
      "print this if condition is true\n"
     ]
    }
   ],
   "source": [
    "a = 10\n",
    "if a > 8:\n",
    "    print(\"print this if condition is true\")"
   ]
  },
  {
   "cell_type": "code",
   "execution_count": 6,
   "id": "32db1806",
   "metadata": {},
   "outputs": [],
   "source": [
    "if a <8:\n",
    "    print(\"print this if condition is true\")"
   ]
  },
  {
   "cell_type": "code",
   "execution_count": 9,
   "id": "3b5b3ec9",
   "metadata": {},
   "outputs": [
    {
     "name": "stdout",
     "output_type": "stream",
     "text": [
      "my condition is false\n"
     ]
    }
   ],
   "source": [
    "a = 10\n",
    "if a !=11:\n",
    "    print(\"my condition is false\")\n",
    "else:\n",
    "    print(\"print this\")"
   ]
  },
  {
   "cell_type": "code",
   "execution_count": 10,
   "id": "b1d1faad",
   "metadata": {},
   "outputs": [
    {
     "name": "stdout",
     "output_type": "stream",
     "text": [
      "print this\n"
     ]
    }
   ],
   "source": [
    "a = 10\n",
    "if a ==11:\n",
    "    print(\"my condition is false\")\n",
    "else:\n",
    "    print(\"print this\")"
   ]
  },
  {
   "cell_type": "code",
   "execution_count": 11,
   "id": "5005c261",
   "metadata": {},
   "outputs": [
    {
     "name": "stdout",
     "output_type": "stream",
     "text": [
      "if all the blocks will fail then do this\n"
     ]
    }
   ],
   "source": [
    "a = 10\n",
    "if a  == 12:\n",
    "    print(\"here we are trying to compare 10 with 12\")\n",
    "elif a == 11:\n",
    "    print(\"we are trying to compare 10 with 11\")\n",
    "else:\n",
    "    print(\"if all the blocks will fail then do this\")"
   ]
  },
  {
   "cell_type": "code",
   "execution_count": 16,
   "id": "5c1e8ee2",
   "metadata": {},
   "outputs": [
    {
     "name": "stdout",
     "output_type": "stream",
     "text": [
      "for sure i will be able to buy \n"
     ]
    }
   ],
   "source": [
    "price= 500\n",
    "if price>500:\n",
    "    print(\"may be i won't be able to buy a jacket\")\n",
    "elif price<500:\n",
    "    print(\"i will be able to buy a jacket\")\n",
    "elif  price == 500:\n",
    "    print(\"for sure i will be able to buy \")\n",
    "else:\n",
    "    print(\"i don't know\")\n"
   ]
  },
  {
   "cell_type": "code",
   "execution_count": 17,
   "id": "cc4cc42c",
   "metadata": {},
   "outputs": [
    {
     "data": {
      "text/plain": [
       "False"
      ]
     },
     "execution_count": 17,
     "metadata": {},
     "output_type": "execute_result"
    }
   ],
   "source": [
    "price>500"
   ]
  },
  {
   "cell_type": "code",
   "execution_count": 18,
   "id": "638e7904",
   "metadata": {},
   "outputs": [
    {
     "data": {
      "text/plain": [
       "False"
      ]
     },
     "execution_count": 18,
     "metadata": {},
     "output_type": "execute_result"
    }
   ],
   "source": [
    "price<500"
   ]
  },
  {
   "cell_type": "code",
   "execution_count": 19,
   "id": "7d60a923",
   "metadata": {},
   "outputs": [
    {
     "data": {
      "text/plain": [
       "True"
      ]
     },
     "execution_count": 19,
     "metadata": {},
     "output_type": "execute_result"
    }
   ],
   "source": [
    "price==500"
   ]
  },
  {
   "cell_type": "code",
   "execution_count": 20,
   "id": "8636ec39",
   "metadata": {},
   "outputs": [
    {
     "name": "stdout",
     "output_type": "stream",
     "text": [
      "try to perform a task\n"
     ]
    }
   ],
   "source": [
    "l = [1,2,3,4,5,6]\n",
    "if 2 in l:\n",
    "    print(\"try to perform a task\")\n",
    "else:\n",
    "    print(\"do not perform this task\")"
   ]
  },
  {
   "cell_type": "code",
   "execution_count": 21,
   "id": "d64bafda",
   "metadata": {},
   "outputs": [
    {
     "name": "stdout",
     "output_type": "stream",
     "text": [
      "do not perform this task\n"
     ]
    }
   ],
   "source": [
    "if 60 in l:\n",
    "    print(\"try to perform a task\")\n",
    "else:\n",
    "    print(\"do not perform this task\")"
   ]
  },
  {
   "cell_type": "code",
   "execution_count": 22,
   "id": "3bd36349",
   "metadata": {},
   "outputs": [
    {
     "data": {
      "text/plain": [
       "[1, 2, 3, 4, 5, 6]"
      ]
     },
     "execution_count": 22,
     "metadata": {},
     "output_type": "execute_result"
    }
   ],
   "source": [
    "l"
   ]
  },
  {
   "cell_type": "code",
   "execution_count": 23,
   "id": "7ad7b288",
   "metadata": {},
   "outputs": [
    {
     "name": "stdout",
     "output_type": "stream",
     "text": [
      "try to do a addition\n"
     ]
    }
   ],
   "source": [
    "if 1 in l:\n",
    "    print(\"try to do a addition\")\n",
    "elif 2 in l:\n",
    "    print(\"try to do subtraction\")\n",
    "elif 3 in l:\n",
    "    print(\"try to do multiplication\")"
   ]
  },
  {
   "cell_type": "code",
   "execution_count": 24,
   "id": "dbfe8197",
   "metadata": {},
   "outputs": [
    {
     "name": "stdout",
     "output_type": "stream",
     "text": [
      "try to do subtraction\n"
     ]
    }
   ],
   "source": [
    "if 10 in l:\n",
    "    print(\"try to do a addition\")\n",
    "elif 2 in l:\n",
    "    print(\"try to do subtraction\")\n",
    "elif 3 in l:\n",
    "    print(\"try to do multiplication\")"
   ]
  },
  {
   "cell_type": "code",
   "execution_count": 25,
   "id": "8d3c347c",
   "metadata": {},
   "outputs": [
    {
     "name": "stdout",
     "output_type": "stream",
     "text": [
      "try to do subtraction\n",
      "this is new statement\n"
     ]
    }
   ],
   "source": [
    "if 10 in l:\n",
    "    print(\"try to do a addition\")\n",
    "elif 2 in l:\n",
    "    print(\"try to do subtraction\")\n",
    "elif 3 in l:\n",
    "    print(\"try to do multiplication\")\n",
    "if 4 in l:\n",
    "    print(\"this is new statement\")"
   ]
  },
  {
   "cell_type": "code",
   "execution_count": 26,
   "id": "eb6f7d7b",
   "metadata": {},
   "outputs": [],
   "source": [
    "a = 400"
   ]
  },
  {
   "cell_type": "code",
   "execution_count": 27,
   "id": "7b57413e",
   "metadata": {},
   "outputs": [
    {
     "name": "stdout",
     "output_type": "stream",
     "text": [
      "300\n"
     ]
    }
   ],
   "source": [
    "b=  input()"
   ]
  },
  {
   "cell_type": "code",
   "execution_count": 28,
   "id": "97cb20e6",
   "metadata": {},
   "outputs": [
    {
     "data": {
      "text/plain": [
       "str"
      ]
     },
     "execution_count": 28,
     "metadata": {},
     "output_type": "execute_result"
    }
   ],
   "source": [
    "type(b)"
   ]
  },
  {
   "cell_type": "code",
   "execution_count": 30,
   "id": "83de617c",
   "metadata": {},
   "outputs": [
    {
     "name": "stdout",
     "output_type": "stream",
     "text": [
      "True\n"
     ]
    }
   ],
   "source": [
    "b = input()"
   ]
  },
  {
   "cell_type": "code",
   "execution_count": 31,
   "id": "c14bb124",
   "metadata": {},
   "outputs": [
    {
     "data": {
      "text/plain": [
       "str"
      ]
     },
     "execution_count": 31,
     "metadata": {},
     "output_type": "execute_result"
    }
   ],
   "source": [
    "type(b)"
   ]
  },
  {
   "cell_type": "code",
   "execution_count": 32,
   "id": "8dd576cc",
   "metadata": {},
   "outputs": [
    {
     "data": {
      "text/plain": [
       "'True'"
      ]
     },
     "execution_count": 32,
     "metadata": {},
     "output_type": "execute_result"
    }
   ],
   "source": [
    "b"
   ]
  },
  {
   "cell_type": "code",
   "execution_count": 33,
   "id": "c12e3117",
   "metadata": {},
   "outputs": [
    {
     "name": "stdout",
     "output_type": "stream",
     "text": [
      "800\n"
     ]
    }
   ],
   "source": [
    "b = int(input())"
   ]
  },
  {
   "cell_type": "code",
   "execution_count": 34,
   "id": "9cc47456",
   "metadata": {},
   "outputs": [
    {
     "data": {
      "text/plain": [
       "800"
      ]
     },
     "execution_count": 34,
     "metadata": {},
     "output_type": "execute_result"
    }
   ],
   "source": [
    "b "
   ]
  },
  {
   "cell_type": "code",
   "execution_count": 35,
   "id": "7f156ac2",
   "metadata": {},
   "outputs": [
    {
     "data": {
      "text/plain": [
       "int"
      ]
     },
     "execution_count": 35,
     "metadata": {},
     "output_type": "execute_result"
    }
   ],
   "source": [
    "type(b)"
   ]
  },
  {
   "cell_type": "code",
   "execution_count": 36,
   "id": "eb614494",
   "metadata": {},
   "outputs": [
    {
     "name": "stdout",
     "output_type": "stream",
     "text": [
      "fdjafj\n"
     ]
    },
    {
     "ename": "ValueError",
     "evalue": "invalid literal for int() with base 10: 'fdjafj'",
     "output_type": "error",
     "traceback": [
      "\u001b[1;31m---------------------------------------------------------------------------\u001b[0m",
      "\u001b[1;31mValueError\u001b[0m                                Traceback (most recent call last)",
      "\u001b[1;32m<ipython-input-36-5154b27c94f8>\u001b[0m in \u001b[0;36m<module>\u001b[1;34m\u001b[0m\n\u001b[1;32m----> 1\u001b[1;33m \u001b[0mb\u001b[0m \u001b[1;33m=\u001b[0m \u001b[0mint\u001b[0m\u001b[1;33m(\u001b[0m\u001b[0minput\u001b[0m\u001b[1;33m(\u001b[0m\u001b[1;33m)\u001b[0m\u001b[1;33m)\u001b[0m\u001b[1;33m\u001b[0m\u001b[1;33m\u001b[0m\u001b[0m\n\u001b[0m",
      "\u001b[1;31mValueError\u001b[0m: invalid literal for int() with base 10: 'fdjafj'"
     ]
    }
   ],
   "source": [
    "b = int(input())"
   ]
  },
  {
   "cell_type": "code",
   "execution_count": 39,
   "id": "fe9f7528",
   "metadata": {},
   "outputs": [
    {
     "name": "stdout",
     "output_type": "stream",
     "text": [
      "100\n",
      "i will be able to buy something\n",
      "i will be able to buy a jacket\n"
     ]
    }
   ],
   "source": [
    "c = int(input())\n",
    "if c < 500:\n",
    "    print(\"i will be able to buy something\")\n",
    "    if c < 400:\n",
    "        print(\"i will be able to buy a jacket\")\n",
    "    elif c < 300:\n",
    "        print(\"i will be able to buy a shirt\")\n",
    "    else:\n",
    "        print(\"i won't be able to buy anything\")"
   ]
  },
  {
   "cell_type": "code",
   "execution_count": 43,
   "id": "1223f3c4",
   "metadata": {},
   "outputs": [
    {
     "name": "stdout",
     "output_type": "stream",
     "text": [
      "1000\n",
      "i won't be able to buy anything with this price tag\n"
     ]
    }
   ],
   "source": [
    "c = int(input())\n",
    "if c < 500:\n",
    "    print(\"i will be able to buy something\")\n",
    "    if c < 400:\n",
    "        print(\"i will be able to buy a jacket\")\n",
    "    elif c < 300:\n",
    "        print(\"i will be able to buy a shirt\")\n",
    "    else:\n",
    "        print(\"i won't be able to buy anything\")\n",
    "else:\n",
    "    print(\"i won't be able to buy anything with this price tag\")"
   ]
  },
  {
   "cell_type": "code",
   "execution_count": 49,
   "id": "944eb3fa",
   "metadata": {},
   "outputs": [
    {
     "name": "stdout",
     "output_type": "stream",
     "text": [
      "601\n",
      "will get admission in GRE\n"
     ]
    }
   ],
   "source": [
    "marks = int(input())\n",
    "if marks< 600:\n",
    "    print(\"No GRE\")\n",
    "    if marks<500:\n",
    "        print(\"can apply for TOFEL\")\n",
    "    else:\n",
    "        print(\"try something else\")\n",
    "else:\n",
    "    print(\"will get admission in GRE\")\n",
    "    "
   ]
  },
  {
   "cell_type": "code",
   "execution_count": 53,
   "id": "ecd01654",
   "metadata": {},
   "outputs": [
    {
     "name": "stdout",
     "output_type": "stream",
     "text": [
      "enter a number-8\n",
      "entered value is a positive number\n"
     ]
    }
   ],
   "source": [
    "val =  float(input(\"enter a number-\"))\n",
    "if val >= 0 :\n",
    "    if val == 0:\n",
    "        print(\"entered value is zero\")\n",
    "    else:\n",
    "        print(\"entered value is a positive number\")\n",
    "else:\n",
    "    print(\"entered number is negative\")"
   ]
  },
  {
   "cell_type": "code",
   "execution_count": 54,
   "id": "2b2abc77",
   "metadata": {},
   "outputs": [
    {
     "name": "stdout",
     "output_type": "stream",
     "text": [
      "tyr to do something\n"
     ]
    }
   ],
   "source": [
    "a = 10\n",
    "if a <=10:\n",
    "    print(\"tyr to do something\")"
   ]
  },
  {
   "cell_type": "code",
   "execution_count": 55,
   "id": "2becf78e",
   "metadata": {},
   "outputs": [
    {
     "name": "stdout",
     "output_type": "stream",
     "text": [
      "tyr to do something\n"
     ]
    }
   ],
   "source": [
    "a = 10\n",
    "if a <10 or a== 10:\n",
    "    print(\"tyr to do something\")"
   ]
  },
  {
   "cell_type": "code",
   "execution_count": 56,
   "id": "63384404",
   "metadata": {},
   "outputs": [],
   "source": [
    "a = \"prince\"\n",
    "if a ==\"prince\" and a ==\"Prince\":\n",
    "    print(\"this is prince\")"
   ]
  },
  {
   "cell_type": "code",
   "execution_count": 57,
   "id": "940c9955",
   "metadata": {},
   "outputs": [
    {
     "name": "stdout",
     "output_type": "stream",
     "text": [
      "this is prince\n"
     ]
    }
   ],
   "source": [
    "a = \"prince\"\n",
    "if a ==\"prince\" or a ==\"Prince\":\n",
    "    print(\"this is prince\")"
   ]
  },
  {
   "cell_type": "code",
   "execution_count": 58,
   "id": "6a0f76ca",
   "metadata": {},
   "outputs": [],
   "source": [
    "a = 10\n",
    "b = 11 \n",
    "c = 12\n",
    "d = 13\n",
    "if a == 9 and b == 11 and c == 12 and d == 13:\n",
    "    print(\"let's do something\")"
   ]
  },
  {
   "cell_type": "code",
   "execution_count": 59,
   "id": "4691eb6c",
   "metadata": {},
   "outputs": [],
   "source": [
    "d = {\"key\":\"value\" , \"key2\":\"prince\", \"key3\":\"iNeuron\"}"
   ]
  },
  {
   "cell_type": "code",
   "execution_count": 60,
   "id": "35e43b9b",
   "metadata": {},
   "outputs": [
    {
     "name": "stdout",
     "output_type": "stream",
     "text": [
      "{'key': 'value', 'key2': 'prince', 'key3': 'iNeuron'}\n"
     ]
    }
   ],
   "source": [
    "if d[\"key\"] == \"value\" and d[\"key2\"]== \"prince\" and d[\"key3\"] == \"iNeuron\":\n",
    "    print(d)"
   ]
  },
  {
   "cell_type": "code",
   "execution_count": 62,
   "id": "3f4af17f",
   "metadata": {},
   "outputs": [
    {
     "name": "stdout",
     "output_type": "stream",
     "text": [
      "all the values are verified\n",
      "dict_values(['value', 'prince', 'iNeuron'])\n"
     ]
    }
   ],
   "source": [
    "if d[\"key\"] == \"value\" and d[\"key2\"]== \"prince\" and d[\"key3\"] == \"iNeuron\":\n",
    "    print(\"all the values are verified\")\n",
    "    print(d.values())"
   ]
  },
  {
   "cell_type": "code",
   "execution_count": 63,
   "id": "fb37541a",
   "metadata": {},
   "outputs": [
    {
     "name": "stdout",
     "output_type": "stream",
     "text": [
      "all the values are not verified\n"
     ]
    }
   ],
   "source": [
    "if d[\"key\"] == \"value\" and d[\"key2\"]== \"Prince\" and d[\"key3\"] == \"iNeuron\":\n",
    "    print(\"all the values are verified\")\n",
    "    print(d.values())\n",
    "else:\n",
    "    print(\"all the values are not verified\")"
   ]
  },
  {
   "cell_type": "code",
   "execution_count": 64,
   "id": "fa20c228",
   "metadata": {},
   "outputs": [],
   "source": [
    "l = [1,2,3,4,5,\"prince\", 234.45]"
   ]
  },
  {
   "cell_type": "code",
   "execution_count": 65,
   "id": "0ec7bb7a",
   "metadata": {},
   "outputs": [
    {
     "data": {
      "text/plain": [
       "1"
      ]
     },
     "execution_count": 65,
     "metadata": {},
     "output_type": "execute_result"
    }
   ],
   "source": [
    "l[0]"
   ]
  },
  {
   "cell_type": "code",
   "execution_count": 66,
   "id": "1f85800a",
   "metadata": {},
   "outputs": [
    {
     "data": {
      "text/plain": [
       "2"
      ]
     },
     "execution_count": 66,
     "metadata": {},
     "output_type": "execute_result"
    }
   ],
   "source": [
    "l[1]"
   ]
  },
  {
   "cell_type": "code",
   "execution_count": 67,
   "id": "7793a26e",
   "metadata": {},
   "outputs": [
    {
     "data": {
      "text/plain": [
       "[3, 4, 5]"
      ]
     },
     "execution_count": 67,
     "metadata": {},
     "output_type": "execute_result"
    }
   ],
   "source": [
    "l[2:5]"
   ]
  },
  {
   "cell_type": "code",
   "execution_count": 68,
   "id": "9122dc0d",
   "metadata": {},
   "outputs": [
    {
     "name": "stdout",
     "output_type": "stream",
     "text": [
      "1\n",
      "2\n",
      "3\n",
      "4\n",
      "5\n",
      "prince\n",
      "234.45\n"
     ]
    }
   ],
   "source": [
    "for i in l:\n",
    "    print(i)"
   ]
  },
  {
   "cell_type": "code",
   "execution_count": 69,
   "id": "3c0991db",
   "metadata": {},
   "outputs": [
    {
     "name": "stdout",
     "output_type": "stream",
     "text": [
      "3\n",
      "4\n",
      "5\n"
     ]
    }
   ],
   "source": [
    "for i in l[2:5]:\n",
    "    print(i)"
   ]
  },
  {
   "cell_type": "code",
   "execution_count": 70,
   "id": "9f54b8c0",
   "metadata": {},
   "outputs": [
    {
     "name": "stdout",
     "output_type": "stream",
     "text": [
      "2\n",
      "3\n",
      "4\n",
      "5\n",
      "6\n"
     ]
    },
    {
     "ename": "TypeError",
     "evalue": "can only concatenate str (not \"int\") to str",
     "output_type": "error",
     "traceback": [
      "\u001b[1;31m---------------------------------------------------------------------------\u001b[0m",
      "\u001b[1;31mTypeError\u001b[0m                                 Traceback (most recent call last)",
      "\u001b[1;32m<ipython-input-70-8840afee3391>\u001b[0m in \u001b[0;36m<module>\u001b[1;34m\u001b[0m\n\u001b[0;32m      1\u001b[0m \u001b[1;32mfor\u001b[0m \u001b[0mi\u001b[0m \u001b[1;32min\u001b[0m \u001b[0ml\u001b[0m\u001b[1;33m:\u001b[0m\u001b[1;33m\u001b[0m\u001b[1;33m\u001b[0m\u001b[0m\n\u001b[1;32m----> 2\u001b[1;33m     \u001b[0mprint\u001b[0m\u001b[1;33m(\u001b[0m\u001b[0mi\u001b[0m\u001b[1;33m+\u001b[0m\u001b[1;36m1\u001b[0m\u001b[1;33m)\u001b[0m\u001b[1;33m\u001b[0m\u001b[1;33m\u001b[0m\u001b[0m\n\u001b[0m",
      "\u001b[1;31mTypeError\u001b[0m: can only concatenate str (not \"int\") to str"
     ]
    }
   ],
   "source": [
    "for i in l:\n",
    "    print(i+1)"
   ]
  },
  {
   "cell_type": "code",
   "execution_count": 71,
   "id": "4fc19969",
   "metadata": {},
   "outputs": [
    {
     "name": "stdout",
     "output_type": "stream",
     "text": [
      "2\n",
      "3\n",
      "4\n",
      "5\n",
      "6\n",
      "prince1\n",
      "235.45\n"
     ]
    }
   ],
   "source": [
    "for i in l:\n",
    "    if type(i)==int or type(i)==float:\n",
    "        print(i+1)\n",
    "    else:\n",
    "        print(i+str(1))"
   ]
  },
  {
   "cell_type": "code",
   "execution_count": 72,
   "id": "69c7965d",
   "metadata": {},
   "outputs": [],
   "source": [
    "a = [9,8,7,6,5,4,3,2,10]"
   ]
  },
  {
   "cell_type": "code",
   "execution_count": 74,
   "id": "bae854d2",
   "metadata": {},
   "outputs": [
    {
     "name": "stdout",
     "output_type": "stream",
     "text": [
      "[9, 8, 7, 6, 5, 4, 3, 2, 10]\n",
      "[9, 8, 7, 6, 5, 4, 3, 2, 10]\n",
      "[9, 8, 7, 6, 5, 4, 3, 2, 10]\n",
      "[9, 8, 7, 6, 5, 4, 3, 2, 10]\n",
      "[9, 8, 7, 6, 5, 4, 3, 2, 10]\n",
      "[9, 8, 7, 6, 5, 4, 3, 2, 10]\n",
      "[9, 8, 7, 6, 5, 4, 3, 2, 10]\n",
      "[9, 8, 7, 6, 5, 4, 3, 2, 10]\n",
      "[9, 8, 7, 6, 5, 4, 3, 2, 10]\n"
     ]
    }
   ],
   "source": [
    "for i in a :\n",
    "    print(a)"
   ]
  },
  {
   "cell_type": "code",
   "execution_count": 75,
   "id": "3e5b9e3a",
   "metadata": {},
   "outputs": [],
   "source": [
    "l1 = []\n",
    "for i in l:\n",
    "    if type(i)==int:\n",
    "        l1.append(i)"
   ]
  },
  {
   "cell_type": "code",
   "execution_count": 76,
   "id": "4845b6b7",
   "metadata": {},
   "outputs": [
    {
     "data": {
      "text/plain": [
       "[1, 2, 3, 4, 5]"
      ]
     },
     "execution_count": 76,
     "metadata": {},
     "output_type": "execute_result"
    }
   ],
   "source": [
    "l1"
   ]
  },
  {
   "cell_type": "code",
   "execution_count": 78,
   "id": "aed3acf1",
   "metadata": {},
   "outputs": [
    {
     "data": {
      "text/plain": [
       "[1, 2, 3, 4, 5, 'prince', 234.45]"
      ]
     },
     "execution_count": 78,
     "metadata": {},
     "output_type": "execute_result"
    }
   ],
   "source": [
    "l"
   ]
  },
  {
   "cell_type": "code",
   "execution_count": 80,
   "id": "a2f5a0ad",
   "metadata": {},
   "outputs": [
    {
     "ename": "AttributeError",
     "evalue": "'int' object has no attribute 'isalnum'",
     "output_type": "error",
     "traceback": [
      "\u001b[1;31m---------------------------------------------------------------------------\u001b[0m",
      "\u001b[1;31mAttributeError\u001b[0m                            Traceback (most recent call last)",
      "\u001b[1;32m<ipython-input-80-9dc567c8622c>\u001b[0m in \u001b[0;36m<module>\u001b[1;34m\u001b[0m\n\u001b[0;32m      1\u001b[0m \u001b[1;32mfor\u001b[0m \u001b[0mi\u001b[0m \u001b[1;32min\u001b[0m \u001b[0ml\u001b[0m\u001b[1;33m:\u001b[0m\u001b[1;33m\u001b[0m\u001b[1;33m\u001b[0m\u001b[0m\n\u001b[1;32m----> 2\u001b[1;33m     \u001b[1;32mif\u001b[0m \u001b[0mi\u001b[0m\u001b[1;33m.\u001b[0m\u001b[0misalnum\u001b[0m\u001b[1;33m(\u001b[0m\u001b[1;33m)\u001b[0m\u001b[1;33m:\u001b[0m\u001b[1;33m\u001b[0m\u001b[1;33m\u001b[0m\u001b[0m\n\u001b[0m\u001b[0;32m      3\u001b[0m         \u001b[0mprint\u001b[0m\u001b[1;33m(\u001b[0m\u001b[0mi\u001b[0m\u001b[1;33m)\u001b[0m\u001b[1;33m\u001b[0m\u001b[1;33m\u001b[0m\u001b[0m\n",
      "\u001b[1;31mAttributeError\u001b[0m: 'int' object has no attribute 'isalnum'"
     ]
    }
   ],
   "source": [
    "for i in l:\n",
    "    if i.isalnum():\n",
    "        print(i)"
   ]
  },
  {
   "cell_type": "code",
   "execution_count": 81,
   "id": "0a55d3cb",
   "metadata": {},
   "outputs": [],
   "source": [
    "l = [\"francis\", 2, 3, 4, 5, 'prince', 234.45]"
   ]
  },
  {
   "cell_type": "code",
   "execution_count": 82,
   "id": "b7583d19",
   "metadata": {},
   "outputs": [
    {
     "name": "stdout",
     "output_type": "stream",
     "text": [
      "francis\n"
     ]
    },
    {
     "ename": "AttributeError",
     "evalue": "'int' object has no attribute 'isalnum'",
     "output_type": "error",
     "traceback": [
      "\u001b[1;31m---------------------------------------------------------------------------\u001b[0m",
      "\u001b[1;31mAttributeError\u001b[0m                            Traceback (most recent call last)",
      "\u001b[1;32m<ipython-input-82-9dc567c8622c>\u001b[0m in \u001b[0;36m<module>\u001b[1;34m\u001b[0m\n\u001b[0;32m      1\u001b[0m \u001b[1;32mfor\u001b[0m \u001b[0mi\u001b[0m \u001b[1;32min\u001b[0m \u001b[0ml\u001b[0m\u001b[1;33m:\u001b[0m\u001b[1;33m\u001b[0m\u001b[1;33m\u001b[0m\u001b[0m\n\u001b[1;32m----> 2\u001b[1;33m     \u001b[1;32mif\u001b[0m \u001b[0mi\u001b[0m\u001b[1;33m.\u001b[0m\u001b[0misalnum\u001b[0m\u001b[1;33m(\u001b[0m\u001b[1;33m)\u001b[0m\u001b[1;33m:\u001b[0m\u001b[1;33m\u001b[0m\u001b[1;33m\u001b[0m\u001b[0m\n\u001b[0m\u001b[0;32m      3\u001b[0m         \u001b[0mprint\u001b[0m\u001b[1;33m(\u001b[0m\u001b[0mi\u001b[0m\u001b[1;33m)\u001b[0m\u001b[1;33m\u001b[0m\u001b[1;33m\u001b[0m\u001b[0m\n",
      "\u001b[1;31mAttributeError\u001b[0m: 'int' object has no attribute 'isalnum'"
     ]
    }
   ],
   "source": [
    "for i in l:\n",
    "    if i.isalnum():\n",
    "        print(i)"
   ]
  },
  {
   "cell_type": "code",
   "execution_count": null,
   "id": "c4618c03",
   "metadata": {},
   "outputs": [],
   "source": []
  }
 ],
 "metadata": {
  "kernelspec": {
   "display_name": "Python 3",
   "language": "python",
   "name": "python3"
  },
  "language_info": {
   "codemirror_mode": {
    "name": "ipython",
    "version": 3
   },
   "file_extension": ".py",
   "mimetype": "text/x-python",
   "name": "python",
   "nbconvert_exporter": "python",
   "pygments_lexer": "ipython3",
   "version": "3.8.8"
  }
 },
 "nbformat": 4,
 "nbformat_minor": 5
}
