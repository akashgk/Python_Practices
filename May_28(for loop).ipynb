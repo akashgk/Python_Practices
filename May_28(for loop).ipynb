{
 "cells": [
  {
   "cell_type": "code",
   "execution_count": 1,
   "id": "7e77ad1c",
   "metadata": {},
   "outputs": [],
   "source": [
    "l=[1,2,3,4,'prince','francis',45.56]"
   ]
  },
  {
   "cell_type": "code",
   "execution_count": 2,
   "id": "00ff0795",
   "metadata": {},
   "outputs": [
    {
     "name": "stdout",
     "output_type": "stream",
     "text": [
      "1\n",
      "2\n",
      "3\n",
      "4\n",
      "prince\n",
      "francis\n",
      "45.56\n"
     ]
    }
   ],
   "source": [
    "for i in l:\n",
    "    print(i)"
   ]
  },
  {
   "cell_type": "code",
   "execution_count": 3,
   "id": "385b6481",
   "metadata": {},
   "outputs": [],
   "source": [
    "for i in l:\n",
    "    pass"
   ]
  },
  {
   "cell_type": "code",
   "execution_count": 4,
   "id": "7e2ea2bc",
   "metadata": {},
   "outputs": [],
   "source": [
    "s='prince'"
   ]
  },
  {
   "cell_type": "code",
   "execution_count": 5,
   "id": "ef012216",
   "metadata": {},
   "outputs": [
    {
     "data": {
      "text/plain": [
       "'prin'"
      ]
     },
     "execution_count": 5,
     "metadata": {},
     "output_type": "execute_result"
    }
   ],
   "source": [
    "s[0:4]"
   ]
  },
  {
   "cell_type": "code",
   "execution_count": 6,
   "id": "a54b9f77",
   "metadata": {},
   "outputs": [
    {
     "name": "stdout",
     "output_type": "stream",
     "text": [
      "p\n",
      "r\n",
      "i\n",
      "n\n",
      "c\n",
      "e\n"
     ]
    }
   ],
   "source": [
    "for i in s:\n",
    "    print(i)"
   ]
  },
  {
   "cell_type": "code",
   "execution_count": 8,
   "id": "3d29e26c",
   "metadata": {},
   "outputs": [
    {
     "name": "stdout",
     "output_type": "stream",
     "text": [
      "1\n",
      "2\n",
      "3\n",
      "4\n",
      "prince\n",
      "francis\n",
      "45.56\n",
      "if for loop is going to complete itself it will execute else\n"
     ]
    }
   ],
   "source": [
    "for i in l:\n",
    "    print(i)\n",
    "else:\n",
    "    print('if for loop is going to complete itself it will execute else')"
   ]
  },
  {
   "cell_type": "code",
   "execution_count": 9,
   "id": "fc1b9a3b",
   "metadata": {},
   "outputs": [
    {
     "name": "stdout",
     "output_type": "stream",
     "text": [
      "1\n",
      "2\n",
      "3\n"
     ]
    }
   ],
   "source": [
    "for i in l:\n",
    "    if i==4:\n",
    "        break\n",
    "    print(i)\n",
    "else:\n",
    "    print('this is will execute if for is going to complete itself')"
   ]
  },
  {
   "cell_type": "code",
   "execution_count": 10,
   "id": "543498bd",
   "metadata": {},
   "outputs": [
    {
     "name": "stdout",
     "output_type": "stream",
     "text": [
      "1\n",
      "2\n",
      "3\n",
      "4\n",
      "prince\n",
      "francis\n",
      "45.56\n",
      "this is will execute if for is going to complete itself\n"
     ]
    }
   ],
   "source": [
    "for i in l:\n",
    "    if i==4:\n",
    "        pass\n",
    "    print(i)\n",
    "else:\n",
    "    print('this is will execute if for is going to complete itself') "
   ]
  },
  {
   "cell_type": "code",
   "execution_count": 13,
   "id": "bb7af952",
   "metadata": {},
   "outputs": [
    {
     "name": "stdout",
     "output_type": "stream",
     "text": [
      "p\n",
      "r\n",
      "i\n",
      "n\n",
      "c\n",
      "e\n",
      "print string prince\n"
     ]
    }
   ],
   "source": [
    "p='prince'\n",
    "for i in p:\n",
    "    if i=='a':\n",
    "        break\n",
    "    print(i)\n",
    "else:\n",
    "    print('print string',p)"
   ]
  },
  {
   "cell_type": "code",
   "execution_count": 14,
   "id": "df54c72b",
   "metadata": {},
   "outputs": [
    {
     "name": "stdout",
     "output_type": "stream",
     "text": [
      "4\n",
      "5\n",
      "6\n",
      "7\n",
      "8\n",
      "6\n",
      "prince\n"
     ]
    }
   ],
   "source": [
    "t=(4,5,6,7,8,6,'prince')\n",
    "for i in t:\n",
    "    print(i)"
   ]
  },
  {
   "cell_type": "code",
   "execution_count": 15,
   "id": "afe3e6a4",
   "metadata": {},
   "outputs": [],
   "source": [
    "s={2,3,3,1,1,1,1,6,7,8,'francis'}"
   ]
  },
  {
   "cell_type": "code",
   "execution_count": 16,
   "id": "f7ea7d43",
   "metadata": {},
   "outputs": [
    {
     "name": "stdout",
     "output_type": "stream",
     "text": [
      "1\n",
      "2\n",
      "3\n",
      "6\n",
      "7\n",
      "8\n",
      "francis\n"
     ]
    }
   ],
   "source": [
    "for i in s:\n",
    "    print(i)"
   ]
  },
  {
   "cell_type": "code",
   "execution_count": 20,
   "id": "2c027647",
   "metadata": {},
   "outputs": [],
   "source": [
    "d={'key1':'prince','contact':'prince.francis64@gmail.com','position':'xyz'}"
   ]
  },
  {
   "cell_type": "code",
   "execution_count": 25,
   "id": "571bf8d3",
   "metadata": {},
   "outputs": [
    {
     "name": "stdout",
     "output_type": "stream",
     "text": [
      "key1 - prince\n",
      "contact - prince.francis64@gmail.com\n",
      "position - xyz\n"
     ]
    }
   ],
   "source": [
    "for i in d:\n",
    "    print(i,'-',d[i])"
   ]
  },
  {
   "cell_type": "code",
   "execution_count": 27,
   "id": "575313ad",
   "metadata": {},
   "outputs": [
    {
     "data": {
      "text/plain": [
       "range(0, 9)"
      ]
     },
     "execution_count": 27,
     "metadata": {},
     "output_type": "execute_result"
    }
   ],
   "source": [
    "range(9)"
   ]
  },
  {
   "cell_type": "code",
   "execution_count": 28,
   "id": "b07520ed",
   "metadata": {},
   "outputs": [
    {
     "name": "stdout",
     "output_type": "stream",
     "text": [
      "0\n",
      "1\n",
      "2\n",
      "3\n",
      "4\n",
      "5\n",
      "6\n",
      "7\n",
      "8\n"
     ]
    }
   ],
   "source": [
    "for i in range(9):\n",
    "    print(i)"
   ]
  },
  {
   "cell_type": "code",
   "execution_count": 29,
   "id": "d902e493",
   "metadata": {},
   "outputs": [
    {
     "data": {
      "text/plain": [
       "[0, 1, 2, 3, 4, 5, 6, 7, 8]"
      ]
     },
     "execution_count": 29,
     "metadata": {},
     "output_type": "execute_result"
    }
   ],
   "source": [
    "list(range(9))"
   ]
  },
  {
   "cell_type": "code",
   "execution_count": 30,
   "id": "64471849",
   "metadata": {},
   "outputs": [
    {
     "name": "stdout",
     "output_type": "stream",
     "text": [
      "0\n",
      "1\n",
      "2\n",
      "3\n",
      "4\n",
      "5\n",
      "6\n",
      "7\n",
      "8\n"
     ]
    }
   ],
   "source": [
    "for i in range(9):\n",
    "    print(i)"
   ]
  },
  {
   "cell_type": "code",
   "execution_count": 33,
   "id": "e0fda588",
   "metadata": {},
   "outputs": [
    {
     "data": {
      "text/plain": [
       "range(1, 9, 2)"
      ]
     },
     "execution_count": 33,
     "metadata": {},
     "output_type": "execute_result"
    }
   ],
   "source": [
    "range(1,9,2)"
   ]
  },
  {
   "cell_type": "code",
   "execution_count": 34,
   "id": "ac495901",
   "metadata": {},
   "outputs": [
    {
     "name": "stdout",
     "output_type": "stream",
     "text": [
      "1\n",
      "3\n",
      "5\n",
      "7\n"
     ]
    }
   ],
   "source": [
    "for i in range(1,9,2):\n",
    "    print(i)"
   ]
  },
  {
   "cell_type": "code",
   "execution_count": 35,
   "id": "6a9e09f5",
   "metadata": {},
   "outputs": [
    {
     "data": {
      "text/plain": [
       "[]"
      ]
     },
     "execution_count": 35,
     "metadata": {},
     "output_type": "execute_result"
    }
   ],
   "source": [
    "list(range(0,9,-1))"
   ]
  },
  {
   "cell_type": "code",
   "execution_count": 36,
   "id": "9f72c69e",
   "metadata": {},
   "outputs": [
    {
     "data": {
      "text/plain": [
       "[9, 8, 7, 6, 5, 4, 3, 2, 1]"
      ]
     },
     "execution_count": 36,
     "metadata": {},
     "output_type": "execute_result"
    }
   ],
   "source": [
    "list(range(9,0,-1))"
   ]
  },
  {
   "cell_type": "code",
   "execution_count": 38,
   "id": "ea9edcf2",
   "metadata": {},
   "outputs": [
    {
     "name": "stdout",
     "output_type": "stream",
     "text": [
      "prince \n",
      "\n",
      "prince prince \n",
      "\n",
      "prince prince prince \n",
      "\n",
      "prince prince prince prince \n",
      "\n"
     ]
    }
   ],
   "source": [
    "n=4\n",
    "for i in range(4):\n",
    "    for j in range(0,i+1):\n",
    "        print('prince',end = ' ')\n",
    "    print('\\n')"
   ]
  },
  {
   "cell_type": "code",
   "execution_count": 50,
   "id": "09503bf4",
   "metadata": {},
   "outputs": [
    {
     "name": "stdout",
     "output_type": "stream",
     "text": [
      "              prince \n",
      "       prince prince prince \n",
      "prince prince prince prince prince \n"
     ]
    }
   ],
   "source": [
    "n=3\n",
    "for i in range(n):\n",
    "    for j in range(i,n-1):\n",
    "        print(' '*len('prince'),end= ' ')\n",
    "    for j in range(i+1):\n",
    "        print('prince',end= ' ')\n",
    "    for j in range(i):\n",
    "        print('prince',end= ' ')\n",
    "    print()"
   ]
  },
  {
   "cell_type": "code",
   "execution_count": 57,
   "id": "32c8319a",
   "metadata": {},
   "outputs": [
    {
     "name": "stdout",
     "output_type": "stream",
     "text": [
      "          prince \n",
      "       prince prince \n",
      "    prince prince prince \n",
      " prince prince prince prince \n"
     ]
    }
   ],
   "source": [
    "n=4\n",
    "k=n\n",
    "for i in range(n):\n",
    "    k=k-1\n",
    "    print('   '*k ,end=' ')\n",
    "    for j in range(i+1):\n",
    "        print('prince',end= ' ')\n",
    "    print()"
   ]
  },
  {
   "cell_type": "code",
   "execution_count": 58,
   "id": "bd604197",
   "metadata": {},
   "outputs": [],
   "source": [
    "t=(3,23,45,67,2,4,5,6)"
   ]
  },
  {
   "cell_type": "code",
   "execution_count": 63,
   "id": "001b7e48",
   "metadata": {},
   "outputs": [
    {
     "name": "stdout",
     "output_type": "stream",
     "text": [
      "3 0\n",
      "23 1\n",
      "45 2\n",
      "67 3\n",
      "2 4\n",
      "4 5\n",
      "5 6\n",
      "6 7\n"
     ]
    }
   ],
   "source": [
    "for i in t:\n",
    "    print(i, t.index(i))"
   ]
  },
  {
   "cell_type": "code",
   "execution_count": 68,
   "id": "df720f76",
   "metadata": {},
   "outputs": [
    {
     "name": "stdout",
     "output_type": "stream",
     "text": [
      "0 - 3\n",
      "1 - 23\n",
      "2 - 45\n",
      "3 - 67\n",
      "4 - 2\n",
      "5 - 4\n",
      "6 - 5\n",
      "7 - 6\n"
     ]
    }
   ],
   "source": [
    "for i in range(len(t)):\n",
    "    print(i,'-' , t[i])"
   ]
  },
  {
   "cell_type": "code",
   "execution_count": 71,
   "id": "30e2efc4",
   "metadata": {},
   "outputs": [
    {
     "name": "stdout",
     "output_type": "stream",
     "text": [
      "0 : i\n",
      "1 : n\n",
      "2 : e\n",
      "3 : u\n",
      "4 : r\n",
      "5 : o\n",
      "6 : n\n"
     ]
    }
   ],
   "source": [
    "s='ineuron'\n",
    "for i in range(len(s)):\n",
    "    print(i,':',s[i])"
   ]
  },
  {
   "cell_type": "code",
   "execution_count": 72,
   "id": "6f54d4e5",
   "metadata": {},
   "outputs": [
    {
     "name": "stdout",
     "output_type": "stream",
     "text": [
      "0 : i\n",
      "1 : n\n",
      "2 : e\n",
      "3 : u\n",
      "4 : r\n",
      "5 : o\n",
      "1 : n\n"
     ]
    }
   ],
   "source": [
    "for i in s:\n",
    "    print(s.index(i),':',i)"
   ]
  },
  {
   "cell_type": "code",
   "execution_count": 80,
   "id": "d6d21e67",
   "metadata": {},
   "outputs": [
    {
     "name": "stdout",
     "output_type": "stream",
     "text": [
      "6 n\n",
      "5 o\n",
      "4 r\n",
      "3 u\n",
      "2 e\n",
      "1 n\n",
      "0 i\n"
     ]
    }
   ],
   "source": [
    "s='ineuron'\n",
    "for i in range(len(s)-1,-1,-1):\n",
    "    print(i,s[i])"
   ]
  },
  {
   "cell_type": "code",
   "execution_count": 82,
   "id": "c35ec554",
   "metadata": {},
   "outputs": [
    {
     "name": "stdout",
     "output_type": "stream",
     "text": [
      "6 : n\n",
      "5 : o\n",
      "4 : r\n",
      "3 : u\n",
      "2 : e\n",
      "1 : n\n",
      "0 : i\n"
     ]
    }
   ],
   "source": [
    "for i in range(6,-1,-1):\n",
    "    print(i,':',s[i])"
   ]
  },
  {
   "cell_type": "code",
   "execution_count": 83,
   "id": "017da38a",
   "metadata": {},
   "outputs": [
    {
     "data": {
      "text/plain": [
       "{'key1': 'prince', 'contact': 'prince.francis64@gmail.com', 'position': 'xyz'}"
      ]
     },
     "execution_count": 83,
     "metadata": {},
     "output_type": "execute_result"
    }
   ],
   "source": [
    "d"
   ]
  },
  {
   "cell_type": "code",
   "execution_count": 88,
   "id": "f0e13d03",
   "metadata": {},
   "outputs": [
    {
     "name": "stdout",
     "output_type": "stream",
     "text": [
      "('key1', 'prince') : <class 'tuple'> : <class 'str'>\n",
      "('contact', 'prince.francis64@gmail.com') : <class 'tuple'> : <class 'str'>\n",
      "('position', 'xyz') : <class 'tuple'> : <class 'str'>\n"
     ]
    }
   ],
   "source": [
    "for i in d.items():\n",
    "    print(i,':',type(i),':',type(i[1]))"
   ]
  },
  {
   "cell_type": "code",
   "execution_count": 8,
   "id": "d54f3bf9",
   "metadata": {},
   "outputs": [],
   "source": [
    "l = ['prince','francis',465432134,'prince.francis64',345,34344546]\n",
    "l1=[]\n",
    "for i in l:\n",
    "    if type(i)==int:\n",
    "        l1.append(i)\n",
    "        "
   ]
  },
  {
   "cell_type": "code",
   "execution_count": 9,
   "id": "37816bdd",
   "metadata": {},
   "outputs": [
    {
     "data": {
      "text/plain": [
       "[465432134, 345, 34344546]"
      ]
     },
     "execution_count": 9,
     "metadata": {},
     "output_type": "execute_result"
    }
   ],
   "source": [
    "l1"
   ]
  },
  {
   "cell_type": "code",
   "execution_count": 4,
   "id": "4bca7ed7",
   "metadata": {},
   "outputs": [],
   "source": [
    "l2=[34,546,646,98]"
   ]
  },
  {
   "cell_type": "code",
   "execution_count": 96,
   "id": "51aa6513",
   "metadata": {},
   "outputs": [],
   "source": [
    "l2.append(3)"
   ]
  },
  {
   "cell_type": "code",
   "execution_count": 10,
   "id": "fd2ef5c5",
   "metadata": {},
   "outputs": [],
   "source": [
    "d={1:64646,'name':'prince','email_ID':'prince.francis64@gmail.com',321:'kjljljlk',45:'54646'}"
   ]
  },
  {
   "cell_type": "code",
   "execution_count": 13,
   "id": "ed096bf3",
   "metadata": {},
   "outputs": [
    {
     "name": "stdout",
     "output_type": "stream",
     "text": [
      "(1, 64646)\n",
      "(321, 'kjljljlk')\n",
      "(45, '54646')\n"
     ]
    }
   ],
   "source": [
    "for i in d.items():\n",
    "    if type(i[0])==int:\n",
    "        print(i)"
   ]
  },
  {
   "cell_type": "code",
   "execution_count": 17,
   "id": "a91d38b4",
   "metadata": {},
   "outputs": [
    {
     "name": "stdout",
     "output_type": "stream",
     "text": [
      "d - 1\n",
      "a - 4\n",
      "c - 2\n",
      "b - 2\n"
     ]
    }
   ],
   "source": [
    "s='aaaabbccd'\n",
    "for i in set(s):\n",
    "    print(i ,'-',s.count(i))"
   ]
  },
  {
   "cell_type": "code",
   "execution_count": 18,
   "id": "226deb28",
   "metadata": {},
   "outputs": [
    {
     "data": {
      "text/plain": [
       "{'a', 'b', 'c', 'd'}"
      ]
     },
     "execution_count": 18,
     "metadata": {},
     "output_type": "execute_result"
    }
   ],
   "source": [
    "set(s)"
   ]
  },
  {
   "cell_type": "code",
   "execution_count": 24,
   "id": "1e8998f7",
   "metadata": {},
   "outputs": [
    {
     "name": "stdout",
     "output_type": "stream",
     "text": [
      "4 <class 'int'>\n",
      "6 <class 'int'>\n",
      "4 <class 'int'>\n",
      "6 <class 'int'>\n",
      "5 <class 'int'>\n",
      "6 <class 'int'>\n",
      "5 <class 'int'>\n",
      "6 <class 'int'>\n",
      "6 <class 'int'>\n",
      "5 <class 'int'>\n",
      "6 <class 'int'>\n",
      "5 <class 'int'>\n",
      "4 <class 'int'>\n"
     ]
    }
   ],
   "source": [
    "i = 4646565665654\n",
    "for i in str(i):\n",
    "    print(int(i),type(int(i)))"
   ]
  },
  {
   "cell_type": "code",
   "execution_count": 34,
   "id": "6350fa4f",
   "metadata": {},
   "outputs": [],
   "source": [
    "    t=('prince','francis',[1,2,3,4,5],(3,4,5,6),{3:3,'key2':'francis'})"
   ]
  },
  {
   "cell_type": "code",
   "execution_count": 39,
   "id": "14a2cd8a",
   "metadata": {},
   "outputs": [
    {
     "name": "stdout",
     "output_type": "stream",
     "text": [
      "3\n",
      "3\n",
      "3\n",
      "3\n"
     ]
    }
   ],
   "source": [
    "for i in t:\n",
    "    if type(i)==list or type(i)==tuple:\n",
    "        for j in i:\n",
    "            if j==3:\n",
    "                print(j)\n",
    "    if type(i)==dict:\n",
    "        for k,v in i.items():\n",
    "            if k==3 or v==3:\n",
    "                print(k)\n",
    "                print(v)"
   ]
  },
  {
   "cell_type": "code",
   "execution_count": 41,
   "id": "66141543",
   "metadata": {},
   "outputs": [],
   "source": [
    "d={4:5,'key1':'prince','key2':'francis'}"
   ]
  },
  {
   "cell_type": "code",
   "execution_count": 46,
   "id": "4b43e490",
   "metadata": {},
   "outputs": [
    {
     "name": "stdout",
     "output_type": "stream",
     "text": [
      "4 5\n",
      "key1 prince\n",
      "key2 francis\n"
     ]
    }
   ],
   "source": [
    "for i,j in d.items():\n",
    "    print(i,j)"
   ]
  },
  {
   "cell_type": "code",
   "execution_count": 47,
   "id": "ff7e1d02",
   "metadata": {},
   "outputs": [],
   "source": [
    "a,b,c = 10,20,30"
   ]
  },
  {
   "cell_type": "code",
   "execution_count": 48,
   "id": "39e86432",
   "metadata": {},
   "outputs": [
    {
     "data": {
      "text/plain": [
       "(10, 20, 30)"
      ]
     },
     "execution_count": 48,
     "metadata": {},
     "output_type": "execute_result"
    }
   ],
   "source": [
    "a,b,c"
   ]
  },
  {
   "cell_type": "code",
   "execution_count": 49,
   "id": "cb1f2af4",
   "metadata": {},
   "outputs": [],
   "source": [
    "a,b,c = (10,20,30)"
   ]
  },
  {
   "cell_type": "code",
   "execution_count": 50,
   "id": "de3e85ce",
   "metadata": {},
   "outputs": [
    {
     "data": {
      "text/plain": [
       "10"
      ]
     },
     "execution_count": 50,
     "metadata": {},
     "output_type": "execute_result"
    }
   ],
   "source": [
    "a"
   ]
  },
  {
   "cell_type": "code",
   "execution_count": 51,
   "id": "23accd4d",
   "metadata": {},
   "outputs": [
    {
     "data": {
      "text/plain": [
       "20"
      ]
     },
     "execution_count": 51,
     "metadata": {},
     "output_type": "execute_result"
    }
   ],
   "source": [
    "b"
   ]
  },
  {
   "cell_type": "code",
   "execution_count": 52,
   "id": "52636d11",
   "metadata": {},
   "outputs": [
    {
     "data": {
      "text/plain": [
       "30"
      ]
     },
     "execution_count": 52,
     "metadata": {},
     "output_type": "execute_result"
    }
   ],
   "source": [
    "c"
   ]
  },
  {
   "cell_type": "code",
   "execution_count": null,
   "id": "47e5eb2b",
   "metadata": {},
   "outputs": [],
   "source": [
    "q1 :\n",
    "ineruon \n",
    "ineruon ineruon \n",
    "ineruon ineruon ineruon\n",
    "ineruon ineruon ineruon ineruon\n",
    "\n",
    "q2 - \n",
    "\n",
    "          ineruon\n",
    "    ineruon      ineruon\n",
    "ineruon\t\tineruon \tineruon\n",
    "\tineruon\t\t ineruon\n",
    "\t\t  ineruon\n",
    "\n",
    "l = [[1,2,3,4] , (2,3,4,5,6) , (3,4,5,6,7) , set([23,4,5,45,4,4,5,45,45,4,5]) , {'k1' :\"sudh\" , \"k2\" : \"ineuron\",\"k3\":\n",
    "            \"kumar\" , 3:6 , 7:8} , [\"ineuron\" , \"data science \"]]\n",
    "\n",
    "q3 : Try to extract all the list entity \n",
    "q4 : Try to extract all the dict enteties\n",
    "q5 : Try to extract all the tuples entities\n",
    "q6 : Try to extract all the numerical data it may b a part of dict key and values \n",
    "q7 : Try to give summation of all the numeric data \n",
    "q8 : Try to filter out all the odd values out all numeric data which is a part of a list \n",
    "q9 : Try to extract \"ineruon\" out of this data\n",
    "q10 :Try to find out a number of occurances of all the data \n",
    "q11 : Try to find out number of keys in dict element\n",
    "q12 : Try to filter out all the string data \n",
    "q13 : Try to Find  out alphanum in data\n",
    "q14 : Try to find out multiplication of all numeric value in  the individual collection inside dataset \n",
    "q15 : Try to unwrape all the collection inside collection and create a flat list "
   ]
  }
 ],
 "metadata": {
  "kernelspec": {
   "display_name": "Python 3",
   "language": "python",
   "name": "python3"
  },
  "language_info": {
   "codemirror_mode": {
    "name": "ipython",
    "version": 3
   },
   "file_extension": ".py",
   "mimetype": "text/x-python",
   "name": "python",
   "nbconvert_exporter": "python",
   "pygments_lexer": "ipython3",
   "version": "3.8.8"
  }
 },
 "nbformat": 4,
 "nbformat_minor": 5
}
