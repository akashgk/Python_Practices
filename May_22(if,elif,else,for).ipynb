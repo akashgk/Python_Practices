{
 "cells": [
  {
   "cell_type": "code",
   "execution_count": 2,
   "id": "9431dcb0",
   "metadata": {},
   "outputs": [],
   "source": [
    "a=10\n",
    "if a==11:\n",
    "    print('this is my first condition')"
   ]
  },
  {
   "cell_type": "code",
   "execution_count": 7,
   "id": "0c399a28",
   "metadata": {},
   "outputs": [],
   "source": [
    "a = 10\n",
    "if a > 5 :\n",
    "    pass"
   ]
  },
  {
   "cell_type": "code",
   "execution_count": 8,
   "id": "84a7f0d7",
   "metadata": {},
   "outputs": [
    {
     "name": "stdout",
     "output_type": "stream",
     "text": [
      "print this is condition is true\n"
     ]
    }
   ],
   "source": [
    "a = 10\n",
    "if a > 8:\n",
    "    print('print this is condition is true')"
   ]
  },
  {
   "cell_type": "code",
   "execution_count": 9,
   "id": "bc68b1da",
   "metadata": {},
   "outputs": [],
   "source": [
    "a = 10\n",
    "if a < 8:\n",
    "    print('print this if condition is true')"
   ]
  },
  {
   "cell_type": "code",
   "execution_count": 11,
   "id": "ec4bae22",
   "metadata": {},
   "outputs": [
    {
     "name": "stdout",
     "output_type": "stream",
     "text": [
      "print this\n"
     ]
    }
   ],
   "source": [
    "a = 10\n",
    "if a == 11:\n",
    "    print('my condition is false')\n",
    "else :\n",
    "    print('print this')"
   ]
  },
  {
   "cell_type": "code",
   "execution_count": 17,
   "id": "5e40f449",
   "metadata": {},
   "outputs": [
    {
     "name": "stdout",
     "output_type": "stream",
     "text": [
      "if all the blocks will fail then do this\n"
     ]
    }
   ],
   "source": [
    "a = 10\n",
    "if a ==12:\n",
    "    print('here we are trying to compare 10 with 12')\n",
    "elif a == 11:\n",
    "    print('we are trying to compare 10 with 11')\n",
    "else:\n",
    "    print('if all the blocks will fail then do this')"
   ]
  },
  {
   "cell_type": "code",
   "execution_count": 26,
   "id": "0f106aa7",
   "metadata": {},
   "outputs": [
    {
     "name": "stdout",
     "output_type": "stream",
     "text": [
      "I dont know\n"
     ]
    }
   ],
   "source": [
    "price = 500\n",
    "if price >500:\n",
    "    print('I wont be able to buy a jacket')\n",
    "elif price < 500:\n",
    "    print('I will be able to buy a jacket')\n",
    "else :\n",
    "    print('I dont know')\n"
   ]
  },
  {
   "cell_type": "code",
   "execution_count": 22,
   "id": "0574ad4c",
   "metadata": {},
   "outputs": [
    {
     "data": {
      "text/plain": [
       "False"
      ]
     },
     "execution_count": 22,
     "metadata": {},
     "output_type": "execute_result"
    }
   ],
   "source": [
    "500 != 500"
   ]
  },
  {
   "cell_type": "code",
   "execution_count": 23,
   "id": "eee37532",
   "metadata": {},
   "outputs": [
    {
     "data": {
      "text/plain": [
       "False"
      ]
     },
     "execution_count": 23,
     "metadata": {},
     "output_type": "execute_result"
    }
   ],
   "source": [
    "500>500"
   ]
  },
  {
   "cell_type": "code",
   "execution_count": 27,
   "id": "ff6f4d03",
   "metadata": {},
   "outputs": [
    {
     "name": "stdout",
     "output_type": "stream",
     "text": [
      "for sure i will be able to buy\n"
     ]
    }
   ],
   "source": [
    "a = 10\n",
    "if a ==12:\n",
    "    print('here we are trying to compare 10 with 12')\n",
    "elif a == 11:\n",
    "    print('we are trying to compare 10 with 11')\n",
    "elif price ==500:\n",
    "    print('for sure i will be able to buy')\n",
    "else:\n",
    "\n",
    "    print('if all the blocks will fail then do this')"
   ]
  },
  {
   "cell_type": "code",
   "execution_count": 28,
   "id": "7f1ef317",
   "metadata": {},
   "outputs": [
    {
     "data": {
      "text/plain": [
       "False"
      ]
     },
     "execution_count": 28,
     "metadata": {},
     "output_type": "execute_result"
    }
   ],
   "source": [
    "price>500"
   ]
  },
  {
   "cell_type": "code",
   "execution_count": 29,
   "id": "905dd570",
   "metadata": {},
   "outputs": [
    {
     "data": {
      "text/plain": [
       "True"
      ]
     },
     "execution_count": 29,
     "metadata": {},
     "output_type": "execute_result"
    }
   ],
   "source": [
    "price==500"
   ]
  },
  {
   "cell_type": "code",
   "execution_count": 30,
   "id": "97bbc4ca",
   "metadata": {},
   "outputs": [
    {
     "name": "stdout",
     "output_type": "stream",
     "text": [
      "try to perform a task\n"
     ]
    }
   ],
   "source": [
    "l = [1,2,3,4,5,6]\n",
    "if 2 in l:\n",
    "    print('try to perform a task')\n",
    "else:\n",
    "    print('do not perform this task')"
   ]
  },
  {
   "cell_type": "code",
   "execution_count": 36,
   "id": "63fbc8f3",
   "metadata": {},
   "outputs": [
    {
     "name": "stdout",
     "output_type": "stream",
     "text": [
      "try to perform a task\n"
     ]
    }
   ],
   "source": [
    "l = [1,2,3,4,5,6]\n",
    "if 1 in l:\n",
    "    print('try to perform a task')\n",
    "else:\n",
    "    print('do not perform this task')"
   ]
  },
  {
   "cell_type": "code",
   "execution_count": 38,
   "id": "3f0b2ecf",
   "metadata": {},
   "outputs": [
    {
     "name": "stdout",
     "output_type": "stream",
     "text": [
      "try to do subtraction\n",
      "this is a new statement\n"
     ]
    }
   ],
   "source": [
    "if 10 in l:\n",
    "    print('try to do a addition')\n",
    "elif 2 in l:\n",
    "    print('try to do subtraction')\n",
    "elif 3 in l:\n",
    "    print('try to do multiplication')\n",
    "if 4 in l:\n",
    "    print('this is a new statement')"
   ]
  },
  {
   "cell_type": "code",
   "execution_count": 39,
   "id": "76c4b632",
   "metadata": {},
   "outputs": [],
   "source": [
    "a = 400"
   ]
  },
  {
   "cell_type": "code",
   "execution_count": 67,
   "id": "43dc58e7",
   "metadata": {},
   "outputs": [
    {
     "name": "stdout",
     "output_type": "stream",
     "text": [
      "6565\n"
     ]
    }
   ],
   "source": [
    "b = int(input())"
   ]
  },
  {
   "cell_type": "code",
   "execution_count": 68,
   "id": "6d6d1d7b",
   "metadata": {},
   "outputs": [
    {
     "data": {
      "text/plain": [
       "6565"
      ]
     },
     "execution_count": 68,
     "metadata": {},
     "output_type": "execute_result"
    }
   ],
   "source": [
    "b"
   ]
  },
  {
   "cell_type": "code",
   "execution_count": 69,
   "id": "b166c7ff",
   "metadata": {},
   "outputs": [
    {
     "data": {
      "text/plain": [
       "int"
      ]
     },
     "execution_count": 69,
     "metadata": {},
     "output_type": "execute_result"
    }
   ],
   "source": [
    "type(b)"
   ]
  },
  {
   "cell_type": "code",
   "execution_count": 78,
   "id": "c418f752",
   "metadata": {},
   "outputs": [
    {
     "name": "stdout",
     "output_type": "stream",
     "text": [
      "500\n",
      "i wont be able to buy anything with this price tag\n"
     ]
    }
   ],
   "source": [
    "price = int(input())\n",
    "if price < 500:\n",
    "    print('i will be able to buy something')\n",
    "    if price<400:\n",
    "        print('i will be able to buy a jacket')\n",
    "    elif price<300:\n",
    "        print('i will be able to buy a shirt')\n",
    "    else:\n",
    "        print('i wont be able to buy anything')\n",
    "else :\n",
    "    print('i wont be able to buy anything with this price tag')\n",
    "    if price > 500:\n",
    "        print('lets try something else')"
   ]
  },
  {
   "cell_type": "code",
   "execution_count": 83,
   "id": "2ffd42d8",
   "metadata": {},
   "outputs": [
    {
     "name": "stdout",
     "output_type": "stream",
     "text": [
      "399\n",
      "no GRE\n",
      "TOFEL\n",
      "try something else\n"
     ]
    }
   ],
   "source": [
    "marks= int((input()))\n",
    "if marks>600:\n",
    "    print('i will clear GRE')\n",
    "elif marks < 600:\n",
    "    print('no GRE')\n",
    "    if marks<500:\n",
    "        print('TOFEL')\n",
    "        if  marks<400:\n",
    "            print('try something else')\n"
   ]
  },
  {
   "cell_type": "code",
   "execution_count": 86,
   "id": "2842a66d",
   "metadata": {},
   "outputs": [
    {
     "name": "stdout",
     "output_type": "stream",
     "text": [
      "enter a floating point number5\n",
      "entered value is a positive number\n"
     ]
    }
   ],
   "source": [
    "val =float( input('enter a floating point number'))\n",
    "if val>=0:\n",
    "    if val ==0:\n",
    "        print('entered value is zero')\n",
    "    else:\n",
    "        print('entered value is a positive number')\n",
    "else:\n",
    "    print('entered value is a negative number')\n",
    "    "
   ]
  },
  {
   "cell_type": "code",
   "execution_count": 88,
   "id": "1bedef26",
   "metadata": {},
   "outputs": [
    {
     "name": "stdout",
     "output_type": "stream",
     "text": [
      "try to do something\n"
     ]
    }
   ],
   "source": [
    "a= 10\n",
    "if a<10 or a ==10:\n",
    "    print('try to do something')"
   ]
  },
  {
   "cell_type": "code",
   "execution_count": 91,
   "id": "66515a93",
   "metadata": {},
   "outputs": [],
   "source": [
    "a= 10\n",
    "if a<10 and a == 10:\n",
    "    print('try to do something')"
   ]
  },
  {
   "cell_type": "code",
   "execution_count": 94,
   "id": "833a8281",
   "metadata": {},
   "outputs": [
    {
     "name": "stdout",
     "output_type": "stream",
     "text": [
      "this is my name\n"
     ]
    }
   ],
   "source": [
    "a= 'prince'\n",
    "if a =='prince' and a =='prince':\n",
    "    print('this is my name')"
   ]
  },
  {
   "cell_type": "code",
   "execution_count": 96,
   "id": "6ab0e037",
   "metadata": {},
   "outputs": [
    {
     "name": "stdout",
     "output_type": "stream",
     "text": [
      "lets do something\n"
     ]
    }
   ],
   "source": [
    "a = 10\n",
    "b = 11 \n",
    "c = 12\n",
    "d = 13\n",
    "if a == 9 or b == 11 and c ==12 and d ==13:\n",
    "    print('lets do something')"
   ]
  },
  {
   "cell_type": "code",
   "execution_count": 98,
   "id": "9729687b",
   "metadata": {},
   "outputs": [],
   "source": [
    "d = {'key1':'value', 'key2':'prince','key3':'iNeuron'}"
   ]
  },
  {
   "cell_type": "code",
   "execution_count": 100,
   "id": "5252df3b",
   "metadata": {},
   "outputs": [
    {
     "name": "stdout",
     "output_type": "stream",
     "text": [
      "all the values are not verified\n"
     ]
    }
   ],
   "source": [
    "if d['key1']=='value'and d['key2'] == 'Prince' and d['key3']=='iNeuron':\n",
    "    print('all the values are verified')\n",
    "    print(d.values())\n",
    "else:\n",
    "    print('all the values are not verified')"
   ]
  },
  {
   "cell_type": "code",
   "execution_count": 101,
   "id": "feb2147e",
   "metadata": {},
   "outputs": [],
   "source": [
    "l=[1,2,3,4,5,'prince',234.45]"
   ]
  },
  {
   "cell_type": "code",
   "execution_count": 103,
   "id": "35b640a7",
   "metadata": {},
   "outputs": [
    {
     "name": "stdout",
     "output_type": "stream",
     "text": [
      "1\n",
      "2\n",
      "3\n",
      "4\n",
      "5\n",
      "prince\n",
      "234.45\n"
     ]
    }
   ],
   "source": [
    "for i in l:\n",
    "    print(i)"
   ]
  },
  {
   "cell_type": "code",
   "execution_count": 105,
   "id": "4a8ecb97",
   "metadata": {},
   "outputs": [
    {
     "name": "stdout",
     "output_type": "stream",
     "text": [
      "3\n",
      "4\n",
      "5\n",
      "6\n",
      "7\n"
     ]
    },
    {
     "ename": "TypeError",
     "evalue": "can only concatenate str (not \"int\") to str",
     "output_type": "error",
     "traceback": [
      "\u001b[1;31m---------------------------------------------------------------------------\u001b[0m",
      "\u001b[1;31mTypeError\u001b[0m                                 Traceback (most recent call last)",
      "\u001b[1;32m<ipython-input-105-45816e50e602>\u001b[0m in \u001b[0;36m<module>\u001b[1;34m\u001b[0m\n\u001b[0;32m      1\u001b[0m \u001b[1;32mfor\u001b[0m \u001b[0mi\u001b[0m \u001b[1;32min\u001b[0m \u001b[0ml\u001b[0m\u001b[1;33m:\u001b[0m\u001b[1;33m\u001b[0m\u001b[1;33m\u001b[0m\u001b[0m\n\u001b[1;32m----> 2\u001b[1;33m     \u001b[0mprint\u001b[0m\u001b[1;33m(\u001b[0m\u001b[0mi\u001b[0m\u001b[1;33m+\u001b[0m\u001b[1;36m2\u001b[0m\u001b[1;33m)\u001b[0m\u001b[1;33m\u001b[0m\u001b[1;33m\u001b[0m\u001b[0m\n\u001b[0m",
      "\u001b[1;31mTypeError\u001b[0m: can only concatenate str (not \"int\") to str"
     ]
    }
   ],
   "source": [
    "for i in l:\n",
    "    print(i+2)"
   ]
  },
  {
   "cell_type": "code",
   "execution_count": 109,
   "id": "7490f703",
   "metadata": {},
   "outputs": [
    {
     "name": "stdout",
     "output_type": "stream",
     "text": [
      "2\n",
      "3\n",
      "4\n",
      "5\n",
      "6\n",
      "prince1\n",
      "235.45\n"
     ]
    }
   ],
   "source": [
    "for i in l:\n",
    "    if type(i)==int or type(i)==float:\n",
    "        print(i+1)\n",
    "    elif type(i)==str:\n",
    "        print(i+str(1))"
   ]
  },
  {
   "cell_type": "code",
   "execution_count": 1,
   "id": "92aa1b0c",
   "metadata": {},
   "outputs": [],
   "source": [
    "l=[1,6,7,8,9,'prince']"
   ]
  },
  {
   "cell_type": "code",
   "execution_count": 2,
   "id": "0f2ee514",
   "metadata": {},
   "outputs": [],
   "source": [
    "l1=[]\n",
    "for i in l:\n",
    "    if type(i)==int:\n",
    "        l1.append(i)"
   ]
  },
  {
   "cell_type": "code",
   "execution_count": 3,
   "id": "6ff6e86c",
   "metadata": {},
   "outputs": [
    {
     "data": {
      "text/plain": [
       "[1, 6, 7, 8, 9]"
      ]
     },
     "execution_count": 3,
     "metadata": {},
     "output_type": "execute_result"
    }
   ],
   "source": [
    "l1"
   ]
  }
 ],
 "metadata": {
  "kernelspec": {
   "display_name": "Python 3",
   "language": "python",
   "name": "python3"
  },
  "language_info": {
   "codemirror_mode": {
    "name": "ipython",
    "version": 3
   },
   "file_extension": ".py",
   "mimetype": "text/x-python",
   "name": "python",
   "nbconvert_exporter": "python",
   "pygments_lexer": "ipython3",
   "version": "3.8.8"
  }
 },
 "nbformat": 4,
 "nbformat_minor": 5
}
