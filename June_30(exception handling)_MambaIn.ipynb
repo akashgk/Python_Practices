{
 "cells": [
  {
   "cell_type": "code",
   "execution_count": 1,
   "id": "04b0e690",
   "metadata": {},
   "outputs": [
    {
     "ename": "ZeroDivisionError",
     "evalue": "division by zero",
     "output_type": "error",
     "traceback": [
      "\u001b[1;31m---------------------------------------------------------------------------\u001b[0m",
      "\u001b[1;31mZeroDivisionError\u001b[0m                         Traceback (most recent call last)",
      "\u001b[1;32m<ipython-input-1-5895e735636f>\u001b[0m in \u001b[0;36m<module>\u001b[1;34m\u001b[0m\n\u001b[0;32m      1\u001b[0m \u001b[0ma\u001b[0m \u001b[1;33m=\u001b[0m \u001b[1;36m10\u001b[0m\u001b[1;33m\u001b[0m\u001b[1;33m\u001b[0m\u001b[0m\n\u001b[1;32m----> 2\u001b[1;33m \u001b[0ma\u001b[0m\u001b[1;33m/\u001b[0m\u001b[1;36m0\u001b[0m\u001b[1;33m\u001b[0m\u001b[1;33m\u001b[0m\u001b[0m\n\u001b[0m",
      "\u001b[1;31mZeroDivisionError\u001b[0m: division by zero"
     ]
    }
   ],
   "source": [
    "a = 10\n",
    "a/0"
   ]
  },
  {
   "cell_type": "code",
   "execution_count": 2,
   "id": "2c33afab",
   "metadata": {},
   "outputs": [
    {
     "ename": "FileNotFoundError",
     "evalue": "[Errno 2] No such file or directory: 'prince34343.txt'",
     "output_type": "error",
     "traceback": [
      "\u001b[1;31m---------------------------------------------------------------------------\u001b[0m",
      "\u001b[1;31mFileNotFoundError\u001b[0m                         Traceback (most recent call last)",
      "\u001b[1;32m<ipython-input-2-7d80dd8aa0bb>\u001b[0m in \u001b[0;36m<module>\u001b[1;34m\u001b[0m\n\u001b[1;32m----> 1\u001b[1;33m \u001b[0mf\u001b[0m \u001b[1;33m=\u001b[0m \u001b[0mopen\u001b[0m\u001b[1;33m(\u001b[0m\u001b[1;34m\"prince34343.txt\"\u001b[0m\u001b[1;33m,\u001b[0m\u001b[1;34m\"r\"\u001b[0m\u001b[1;33m)\u001b[0m\u001b[1;33m\u001b[0m\u001b[1;33m\u001b[0m\u001b[0m\n\u001b[0m",
      "\u001b[1;31mFileNotFoundError\u001b[0m: [Errno 2] No such file or directory: 'prince34343.txt'"
     ]
    }
   ],
   "source": [
    "f = open(\"prince34343.txt\",\"r\")\n",
    "print(\"this is my code to handle an exception\")"
   ]
  },
  {
   "cell_type": "code",
   "execution_count": 7,
   "id": "4393883b",
   "metadata": {},
   "outputs": [
    {
     "name": "stdout",
     "output_type": "stream",
     "text": [
      "division by zero\n",
      "this will be my final code after handling an exception\n"
     ]
    }
   ],
   "source": [
    "try:\n",
    "    a = 10\n",
    "    a/0\n",
    "except Exception as e:\n",
    "    print(e)\n",
    "    print(\"this will be my final code after handling an exception\")"
   ]
  },
  {
   "cell_type": "code",
   "execution_count": 8,
   "id": "316a990c",
   "metadata": {},
   "outputs": [
    {
     "name": "stdout",
     "output_type": "stream",
     "text": [
      "1.0\n"
     ]
    }
   ],
   "source": [
    "try:\n",
    "    a = 10\n",
    "    print(a/10)\n",
    "except Exception as e:\n",
    "    print(e)\n",
    "    print(\"this will be my final code after handling an exception\")"
   ]
  },
  {
   "cell_type": "code",
   "execution_count": 12,
   "id": "5b5b053a",
   "metadata": {},
   "outputs": [
    {
     "name": "stdout",
     "output_type": "stream",
     "text": [
      "[Errno 2] No such file or directory: 'prince.txt'\n",
      "no such file\n"
     ]
    }
   ],
   "source": [
    "try:\n",
    "    f = open(\"prince.txt\",\"r\")\n",
    "except Exception as e:\n",
    "    print(e)\n",
    "    print(\"no such file\")"
   ]
  },
  {
   "cell_type": "code",
   "execution_count": 13,
   "id": "24b89f5f",
   "metadata": {},
   "outputs": [
    {
     "ename": "FileNotFoundError",
     "evalue": "[Errno 2] No such file or directory: 'prince.txt'",
     "output_type": "error",
     "traceback": [
      "\u001b[1;31m---------------------------------------------------------------------------\u001b[0m",
      "\u001b[1;31mFileNotFoundError\u001b[0m                         Traceback (most recent call last)",
      "\u001b[1;32m<ipython-input-13-5ced1c89b902>\u001b[0m in \u001b[0;36m<module>\u001b[1;34m\u001b[0m\n\u001b[1;32m----> 1\u001b[1;33m \u001b[0mf\u001b[0m  \u001b[1;33m=\u001b[0m\u001b[0mopen\u001b[0m\u001b[1;33m(\u001b[0m\u001b[1;34m\"prince.txt\"\u001b[0m\u001b[1;33m,\u001b[0m\u001b[1;34m\"r\"\u001b[0m\u001b[1;33m)\u001b[0m\u001b[1;33m\u001b[0m\u001b[1;33m\u001b[0m\u001b[0m\n\u001b[0m\u001b[0;32m      2\u001b[0m \u001b[0mf\u001b[0m\u001b[1;33m.\u001b[0m\u001b[0mwrite\u001b[0m\u001b[1;33m(\u001b[0m\u001b[1;34m\"this is my suspicious code\"\u001b[0m\u001b[1;33m)\u001b[0m\u001b[1;33m\u001b[0m\u001b[1;33m\u001b[0m\u001b[0m\n",
      "\u001b[1;31mFileNotFoundError\u001b[0m: [Errno 2] No such file or directory: 'prince.txt'"
     ]
    }
   ],
   "source": [
    "f  =open(\"prince.txt\",\"r\")\n",
    "f.write(\"this is my suspicious code\")"
   ]
  },
  {
   "cell_type": "code",
   "execution_count": 15,
   "id": "a9450a1f",
   "metadata": {},
   "outputs": [
    {
     "name": "stdout",
     "output_type": "stream",
     "text": [
      "[Errno 2] No such file or directory: 'prince.txt'\n",
      "this is not my suspicious set of the code\n"
     ]
    }
   ],
   "source": [
    "try:\n",
    "    f  =open(\"prince.txt\",\"r\")\n",
    "    f.write(\"this is my suspicious code\")\n",
    "except Exception as e:\n",
    "    print(e)\n",
    "    print(\"this is not my suspicious set of the code\")"
   ]
  },
  {
   "cell_type": "code",
   "execution_count": 16,
   "id": "a6a509f9",
   "metadata": {},
   "outputs": [
    {
     "name": "stdout",
     "output_type": "stream",
     "text": [
      "[Errno 2] No such file or directory: 'prince.txt'\n",
      "this is not my suspicious set of the code\n",
      "this block will be executed anytime\n"
     ]
    }
   ],
   "source": [
    "try:\n",
    "    f  =open(\"prince.txt\",\"r\")\n",
    "    f.write(\"this is my suspicious code\")\n",
    "except Exception as e:\n",
    "    print(e)\n",
    "    print(\"this is not my suspicious set of the code\")\n",
    "finally:\n",
    "    print(\"this block will be executed anytime\")"
   ]
  },
  {
   "cell_type": "code",
   "execution_count": 18,
   "id": "1d61eb3b",
   "metadata": {},
   "outputs": [],
   "source": [
    "while False:\n",
    "    print(\"asdfas\")"
   ]
  },
  {
   "cell_type": "code",
   "execution_count": 19,
   "id": "011a0dd5",
   "metadata": {},
   "outputs": [],
   "source": [
    "def askint():\n",
    "    try:\n",
    "        val = int(input(\"please enter an integer\"))\n",
    "    except Exception as e:\n",
    "        print(e)"
   ]
  },
  {
   "cell_type": "code",
   "execution_count": 21,
   "id": "ea7ae39b",
   "metadata": {},
   "outputs": [
    {
     "name": "stdout",
     "output_type": "stream",
     "text": [
      "please enter an integerklj\n",
      "invalid literal for int() with base 10: 'klj'\n"
     ]
    }
   ],
   "source": [
    "askint()"
   ]
  },
  {
   "cell_type": "code",
   "execution_count": 23,
   "id": "d0b8c24d",
   "metadata": {},
   "outputs": [],
   "source": [
    "def askint():\n",
    "    try:\n",
    "        val = int(input(\"please enter an integer\"))\n",
    "    except :\n",
    "        print(\"no you have not entered an integer\")\n",
    "        try:\n",
    "            val = int(input(\"please enter an integer\"))\n",
    "        except:\n",
    "             print(\"we are able to handle your mistake second time \")\n",
    "    finally:\n",
    "        print(\"finally will be executed anyhow\")"
   ]
  },
  {
   "cell_type": "code",
   "execution_count": 24,
   "id": "79a800c7",
   "metadata": {},
   "outputs": [
    {
     "name": "stdout",
     "output_type": "stream",
     "text": [
      "please enter an integerkjl;jl\n",
      "no you have not entered an integer\n",
      "please enter an integerln;lkj\n",
      "we are able to handle your mistake second time \n",
      "finally will be executed anyhow\n"
     ]
    }
   ],
   "source": [
    "askint()"
   ]
  },
  {
   "cell_type": "code",
   "execution_count": 25,
   "id": "2f0c6df1",
   "metadata": {},
   "outputs": [
    {
     "name": "stdout",
     "output_type": "stream",
     "text": [
      "enter an integerasdf\n",
      "please enter an integer\n",
      "enter an integeradfasf\n",
      "please enter an integer\n",
      "enter an integerasdf\n",
      "please enter an integer\n",
      "enter an integeradfasdf\n",
      "please enter an integer\n",
      "enter an integeradsf\n",
      "please enter an integer\n",
      "enter an integer65\n",
      "65\n"
     ]
    }
   ],
   "source": [
    "while True:\n",
    "    try:\n",
    "        v = int(input(\"enter an integer\"))\n",
    "        print(v)\n",
    "        break\n",
    "    except:\n",
    "        print(\"please enter an integer\")"
   ]
  },
  {
   "cell_type": "code",
   "execution_count": 30,
   "id": "d72b8c54",
   "metadata": {},
   "outputs": [],
   "source": [
    "def askint1():\n",
    "    while True:\n",
    "        try:\n",
    "            v = int(input(\"enter an integer\"))\n",
    "            print(v)\n",
    "            break\n",
    "        except:\n",
    "            print(\"please enter an integer\")\n",
    "            continue"
   ]
  },
  {
   "cell_type": "code",
   "execution_count": 31,
   "id": "f6cf1708",
   "metadata": {},
   "outputs": [
    {
     "name": "stdout",
     "output_type": "stream",
     "text": [
      "enter an integerpr9ncve\n",
      "please enter an integer\n",
      "enter an integerlkjlkj\n",
      "please enter an integer\n",
      "enter an integerjflasjf\n",
      "please enter an integer\n",
      "enter an integerasdf \n",
      "please enter an integer\n",
      "enter an integer78\n",
      "78\n"
     ]
    }
   ],
   "source": [
    "askint1()"
   ]
  },
  {
   "cell_type": "code",
   "execution_count": null,
   "id": "3a223a2d",
   "metadata": {},
   "outputs": [],
   "source": [
    " "
   ]
  }
 ],
 "metadata": {
  "kernelspec": {
   "display_name": "Python 3",
   "language": "python",
   "name": "python3"
  },
  "language_info": {
   "codemirror_mode": {
    "name": "ipython",
    "version": 3
   },
   "file_extension": ".py",
   "mimetype": "text/x-python",
   "name": "python",
   "nbconvert_exporter": "python",
   "pygments_lexer": "ipython3",
   "version": "3.8.8"
  }
 },
 "nbformat": 4,
 "nbformat_minor": 5
}
