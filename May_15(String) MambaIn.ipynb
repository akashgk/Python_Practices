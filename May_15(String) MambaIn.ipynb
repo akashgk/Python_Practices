{
 "cells": [
  {
   "cell_type": "code",
   "execution_count": 217,
   "id": "1aa461c0",
   "metadata": {},
   "outputs": [],
   "source": [
    "s = \"ineuron\""
   ]
  },
  {
   "cell_type": "code",
   "execution_count": 218,
   "id": "5ba3eb26",
   "metadata": {},
   "outputs": [
    {
     "data": {
      "text/plain": [
       "str"
      ]
     },
     "execution_count": 218,
     "metadata": {},
     "output_type": "execute_result"
    }
   ],
   "source": [
    "type(s)"
   ]
  },
  {
   "cell_type": "code",
   "execution_count": 219,
   "id": "e2e7b5ea",
   "metadata": {},
   "outputs": [
    {
     "data": {
      "text/plain": [
       "'i'"
      ]
     },
     "execution_count": 219,
     "metadata": {},
     "output_type": "execute_result"
    }
   ],
   "source": [
    "s [0]"
   ]
  },
  {
   "cell_type": "code",
   "execution_count": 220,
   "id": "2e5460c5",
   "metadata": {},
   "outputs": [
    {
     "data": {
      "text/plain": [
       "'o'"
      ]
     },
     "execution_count": 220,
     "metadata": {},
     "output_type": "execute_result"
    }
   ],
   "source": [
    "s [5]"
   ]
  },
  {
   "cell_type": "code",
   "execution_count": 221,
   "id": "05c057fe",
   "metadata": {},
   "outputs": [
    {
     "data": {
      "text/plain": [
       "'n'"
      ]
     },
     "execution_count": 221,
     "metadata": {},
     "output_type": "execute_result"
    }
   ],
   "source": [
    " s[-1]"
   ]
  },
  {
   "cell_type": "code",
   "execution_count": 222,
   "id": "ca8e7f7a",
   "metadata": {},
   "outputs": [],
   "source": [
    "s1 = \"prince\""
   ]
  },
  {
   "cell_type": "code",
   "execution_count": 223,
   "id": "02277915",
   "metadata": {},
   "outputs": [
    {
     "data": {
      "text/plain": [
       "'p'"
      ]
     },
     "execution_count": 223,
     "metadata": {},
     "output_type": "execute_result"
    }
   ],
   "source": [
    "s1[0]"
   ]
  },
  {
   "cell_type": "code",
   "execution_count": 224,
   "id": "5aa590c9",
   "metadata": {},
   "outputs": [
    {
     "data": {
      "text/plain": [
       "'e'"
      ]
     },
     "execution_count": 224,
     "metadata": {},
     "output_type": "execute_result"
    }
   ],
   "source": [
    "s1[-1]"
   ]
  },
  {
   "cell_type": "code",
   "execution_count": 225,
   "id": "ab81872d",
   "metadata": {},
   "outputs": [
    {
     "data": {
      "text/plain": [
       "'c'"
      ]
     },
     "execution_count": 225,
     "metadata": {},
     "output_type": "execute_result"
    }
   ],
   "source": [
    "s1[-2]"
   ]
  },
  {
   "cell_type": "code",
   "execution_count": 226,
   "id": "c2793561",
   "metadata": {},
   "outputs": [],
   "source": [
    "s2 = \"this is my very first programming class's\""
   ]
  },
  {
   "cell_type": "code",
   "execution_count": 227,
   "id": "0fd8d932",
   "metadata": {},
   "outputs": [
    {
     "data": {
      "text/plain": [
       "\"this is my very first programming class's\""
      ]
     },
     "execution_count": 227,
     "metadata": {},
     "output_type": "execute_result"
    }
   ],
   "source": [
    "s2"
   ]
  },
  {
   "cell_type": "code",
   "execution_count": 228,
   "id": "fae83282",
   "metadata": {},
   "outputs": [
    {
     "data": {
      "text/plain": [
       "'m'"
      ]
     },
     "execution_count": 228,
     "metadata": {},
     "output_type": "execute_result"
    }
   ],
   "source": [
    "s2[8]"
   ]
  },
  {
   "cell_type": "code",
   "execution_count": 229,
   "id": "8e242333",
   "metadata": {},
   "outputs": [
    {
     "data": {
      "text/plain": [
       "' '"
      ]
     },
     "execution_count": 229,
     "metadata": {},
     "output_type": "execute_result"
    }
   ],
   "source": [
    "s2[7]"
   ]
  },
  {
   "cell_type": "code",
   "execution_count": 230,
   "id": "efe006fe",
   "metadata": {},
   "outputs": [
    {
     "data": {
      "text/plain": [
       "'this is'"
      ]
     },
     "execution_count": 230,
     "metadata": {},
     "output_type": "execute_result"
    }
   ],
   "source": [
    "s2[0:7]"
   ]
  },
  {
   "cell_type": "code",
   "execution_count": 231,
   "id": "114ad175",
   "metadata": {},
   "outputs": [
    {
     "data": {
      "text/plain": [
       "'his '"
      ]
     },
     "execution_count": 231,
     "metadata": {},
     "output_type": "execute_result"
    }
   ],
   "source": [
    "s2 [1:5]"
   ]
  },
  {
   "cell_type": "code",
   "execution_count": 232,
   "id": "fc139b7b",
   "metadata": {},
   "outputs": [
    {
     "data": {
      "text/plain": [
       "'s my very first programm'"
      ]
     },
     "execution_count": 232,
     "metadata": {},
     "output_type": "execute_result"
    }
   ],
   "source": [
    "s2[6:30]"
   ]
  },
  {
   "cell_type": "code",
   "execution_count": 233,
   "id": "4a36ceec",
   "metadata": {},
   "outputs": [
    {
     "data": {
      "text/plain": [
       "'sm eyfrtporm'"
      ]
     },
     "execution_count": 233,
     "metadata": {},
     "output_type": "execute_result"
    }
   ],
   "source": [
    "s2[6:30:2]"
   ]
  },
  {
   "cell_type": "code",
   "execution_count": 234,
   "id": "fd790c51",
   "metadata": {},
   "outputs": [],
   "source": [
    "s= \"prince\""
   ]
  },
  {
   "cell_type": "code",
   "execution_count": 235,
   "id": "ac351933",
   "metadata": {},
   "outputs": [
    {
     "data": {
      "text/plain": [
       "'pic'"
      ]
     },
     "execution_count": 235,
     "metadata": {},
     "output_type": "execute_result"
    }
   ],
   "source": [
    "s[0:9:2]"
   ]
  },
  {
   "cell_type": "code",
   "execution_count": 236,
   "id": "8b64993f",
   "metadata": {},
   "outputs": [
    {
     "data": {
      "text/plain": [
       "'prince'"
      ]
     },
     "execution_count": 236,
     "metadata": {},
     "output_type": "execute_result"
    }
   ],
   "source": [
    "s[0:9:1]"
   ]
  },
  {
   "cell_type": "code",
   "execution_count": 237,
   "id": "06cc328c",
   "metadata": {},
   "outputs": [
    {
     "data": {
      "text/plain": [
       "''"
      ]
     },
     "execution_count": 237,
     "metadata": {},
     "output_type": "execute_result"
    }
   ],
   "source": [
    "s[0:8:-1]"
   ]
  },
  {
   "cell_type": "code",
   "execution_count": 238,
   "id": "d045e20d",
   "metadata": {},
   "outputs": [
    {
     "data": {
      "text/plain": [
       "'ecnir'"
      ]
     },
     "execution_count": 238,
     "metadata": {},
     "output_type": "execute_result"
    }
   ],
   "source": [
    "s[8:0:-1]"
   ]
  },
  {
   "cell_type": "code",
   "execution_count": 239,
   "id": "5d9d5e7a",
   "metadata": {},
   "outputs": [
    {
     "data": {
      "text/plain": [
       "'enr'"
      ]
     },
     "execution_count": 239,
     "metadata": {},
     "output_type": "execute_result"
    }
   ],
   "source": [
    "s[8:0:-2]"
   ]
  },
  {
   "cell_type": "code",
   "execution_count": 240,
   "id": "358e29ad",
   "metadata": {},
   "outputs": [
    {
     "data": {
      "text/plain": [
       "'pri'"
      ]
     },
     "execution_count": 240,
     "metadata": {},
     "output_type": "execute_result"
    }
   ],
   "source": [
    "s[:-3]"
   ]
  },
  {
   "cell_type": "code",
   "execution_count": 241,
   "id": "3d09c730",
   "metadata": {},
   "outputs": [
    {
     "data": {
      "text/plain": [
       "'ce'"
      ]
     },
     "execution_count": 241,
     "metadata": {},
     "output_type": "execute_result"
    }
   ],
   "source": [
    "s[-2:]"
   ]
  },
  {
   "cell_type": "code",
   "execution_count": 242,
   "id": "edcaa7d1",
   "metadata": {},
   "outputs": [
    {
     "data": {
      "text/plain": [
       "'ecnirp'"
      ]
     },
     "execution_count": 242,
     "metadata": {},
     "output_type": "execute_result"
    }
   ],
   "source": [
    "s[::-1]"
   ]
  },
  {
   "cell_type": "code",
   "execution_count": 243,
   "id": "b8a8fdbe",
   "metadata": {},
   "outputs": [
    {
     "data": {
      "text/plain": [
       "'prince'"
      ]
     },
     "execution_count": 243,
     "metadata": {},
     "output_type": "execute_result"
    }
   ],
   "source": [
    "s[::1]"
   ]
  },
  {
   "cell_type": "code",
   "execution_count": 244,
   "id": "81b0b452",
   "metadata": {},
   "outputs": [
    {
     "data": {
      "text/plain": [
       "'prince'"
      ]
     },
     "execution_count": 244,
     "metadata": {},
     "output_type": "execute_result"
    }
   ],
   "source": [
    "s[0:50:1]"
   ]
  },
  {
   "cell_type": "code",
   "execution_count": 245,
   "id": "d0017379",
   "metadata": {},
   "outputs": [
    {
     "data": {
      "text/plain": [
       "\"this is my very first programming class's\""
      ]
     },
     "execution_count": 245,
     "metadata": {},
     "output_type": "execute_result"
    }
   ],
   "source": [
    "s2"
   ]
  },
  {
   "cell_type": "code",
   "execution_count": 246,
   "id": "d5d0a7d5",
   "metadata": {},
   "outputs": [
    {
     "data": {
      "text/plain": [
       "\"s'ssalc gnimmargorp tsrif yrev ym si siht\""
      ]
     },
     "execution_count": 246,
     "metadata": {},
     "output_type": "execute_result"
    }
   ],
   "source": [
    "s2[::-1]"
   ]
  },
  {
   "cell_type": "code",
   "execution_count": 247,
   "id": "941e11bc",
   "metadata": {},
   "outputs": [
    {
     "data": {
      "text/plain": [
       "'prince'"
      ]
     },
     "execution_count": 247,
     "metadata": {},
     "output_type": "execute_result"
    }
   ],
   "source": [
    "s"
   ]
  },
  {
   "cell_type": "code",
   "execution_count": 248,
   "id": "e6fa0811",
   "metadata": {},
   "outputs": [
    {
     "data": {
      "text/plain": [
       "'ecnir'"
      ]
     },
     "execution_count": 248,
     "metadata": {},
     "output_type": "execute_result"
    }
   ],
   "source": [
    "s[8:0:-1]"
   ]
  },
  {
   "cell_type": "code",
   "execution_count": 249,
   "id": "a49ca209",
   "metadata": {},
   "outputs": [],
   "source": [
    "s3=\"ineuron\""
   ]
  },
  {
   "cell_type": "code",
   "execution_count": 250,
   "id": "91743d8c",
   "metadata": {},
   "outputs": [
    {
     "data": {
      "text/plain": [
       "'norueni'"
      ]
     },
     "execution_count": 250,
     "metadata": {},
     "output_type": "execute_result"
    }
   ],
   "source": [
    "s3[::-1]"
   ]
  },
  {
   "cell_type": "code",
   "execution_count": 251,
   "id": "c2ea52f3",
   "metadata": {},
   "outputs": [
    {
     "data": {
      "text/plain": [
       "''"
      ]
     },
     "execution_count": 251,
     "metadata": {},
     "output_type": "execute_result"
    }
   ],
   "source": [
    "s3[-2:-7:1]"
   ]
  },
  {
   "cell_type": "code",
   "execution_count": 252,
   "id": "b22dd5a6",
   "metadata": {},
   "outputs": [
    {
     "data": {
      "text/plain": [
       "'ineur'"
      ]
     },
     "execution_count": 252,
     "metadata": {},
     "output_type": "execute_result"
    }
   ],
   "source": [
    "s3[-7:-2:1]"
   ]
  },
  {
   "cell_type": "code",
   "execution_count": 253,
   "id": "e13c2d03",
   "metadata": {},
   "outputs": [
    {
     "data": {
      "text/plain": [
       "''"
      ]
     },
     "execution_count": 253,
     "metadata": {},
     "output_type": "execute_result"
    }
   ],
   "source": [
    "s[5:0]"
   ]
  },
  {
   "cell_type": "code",
   "execution_count": 254,
   "id": "ecf571ba",
   "metadata": {},
   "outputs": [
    {
     "data": {
      "text/plain": [
       "'ineuron'"
      ]
     },
     "execution_count": 254,
     "metadata": {},
     "output_type": "execute_result"
    }
   ],
   "source": [
    "s3"
   ]
  },
  {
   "cell_type": "code",
   "execution_count": 255,
   "id": "e71a1afb",
   "metadata": {},
   "outputs": [
    {
     "data": {
      "text/plain": [
       "'i'"
      ]
     },
     "execution_count": 255,
     "metadata": {},
     "output_type": "execute_result"
    }
   ],
   "source": [
    "s3[-7:1:1]"
   ]
  },
  {
   "cell_type": "code",
   "execution_count": 256,
   "id": "53fde326",
   "metadata": {},
   "outputs": [
    {
     "data": {
      "text/plain": [
       "''"
      ]
     },
     "execution_count": 256,
     "metadata": {},
     "output_type": "execute_result"
    }
   ],
   "source": [
    "s[:-1:-1]"
   ]
  },
  {
   "cell_type": "code",
   "execution_count": 257,
   "id": "828ee303",
   "metadata": {},
   "outputs": [
    {
     "ename": "TypeError",
     "evalue": "can only concatenate str (not \"int\") to str",
     "output_type": "error",
     "traceback": [
      "\u001b[1;31m---------------------------------------------------------------------------\u001b[0m",
      "\u001b[1;31mTypeError\u001b[0m                                 Traceback (most recent call last)",
      "\u001b[1;32m<ipython-input-257-2a618fcb9031>\u001b[0m in \u001b[0;36m<module>\u001b[1;34m\u001b[0m\n\u001b[1;32m----> 1\u001b[1;33m \u001b[0ms\u001b[0m\u001b[1;33m+\u001b[0m\u001b[1;36m1\u001b[0m\u001b[1;33m\u001b[0m\u001b[1;33m\u001b[0m\u001b[0m\n\u001b[0m",
      "\u001b[1;31mTypeError\u001b[0m: can only concatenate str (not \"int\") to str"
     ]
    }
   ],
   "source": [
    "s+1"
   ]
  },
  {
   "cell_type": "code",
   "execution_count": 258,
   "id": "ee59b29a",
   "metadata": {},
   "outputs": [
    {
     "data": {
      "text/plain": [
       "'prince'"
      ]
     },
     "execution_count": 258,
     "metadata": {},
     "output_type": "execute_result"
    }
   ],
   "source": [
    "s"
   ]
  },
  {
   "cell_type": "code",
   "execution_count": 259,
   "id": "40506a3d",
   "metadata": {},
   "outputs": [
    {
     "data": {
      "text/plain": [
       "'prince1'"
      ]
     },
     "execution_count": 259,
     "metadata": {},
     "output_type": "execute_result"
    }
   ],
   "source": [
    "s + str(1) #type casting"
   ]
  },
  {
   "cell_type": "code",
   "execution_count": 260,
   "id": "d205d134",
   "metadata": {},
   "outputs": [
    {
     "data": {
      "text/plain": [
       "'prince1'"
      ]
     },
     "execution_count": 260,
     "metadata": {},
     "output_type": "execute_result"
    }
   ],
   "source": [
    "s + \"1\""
   ]
  },
  {
   "cell_type": "code",
   "execution_count": 261,
   "id": "993546a7",
   "metadata": {},
   "outputs": [
    {
     "data": {
      "text/plain": [
       "'prince34353566'"
      ]
     },
     "execution_count": 261,
     "metadata": {},
     "output_type": "execute_result"
    }
   ],
   "source": [
    "\"prince\" + \"34353566\""
   ]
  },
  {
   "cell_type": "code",
   "execution_count": 262,
   "id": "33884cc8",
   "metadata": {},
   "outputs": [
    {
     "data": {
      "text/plain": [
       "6"
      ]
     },
     "execution_count": 262,
     "metadata": {},
     "output_type": "execute_result"
    }
   ],
   "source": [
    "len(s)"
   ]
  },
  {
   "cell_type": "code",
   "execution_count": 263,
   "id": "9ec8cf64",
   "metadata": {},
   "outputs": [
    {
     "data": {
      "text/plain": [
       "'princeprince'"
      ]
     },
     "execution_count": 263,
     "metadata": {},
     "output_type": "execute_result"
    }
   ],
   "source": [
    "s*2"
   ]
  },
  {
   "cell_type": "code",
   "execution_count": 264,
   "id": "148e004e",
   "metadata": {},
   "outputs": [
    {
     "data": {
      "text/plain": [
       "'princeprinceprinceprince'"
      ]
     },
     "execution_count": 264,
     "metadata": {},
     "output_type": "execute_result"
    }
   ],
   "source": [
    "s*4"
   ]
  },
  {
   "cell_type": "code",
   "execution_count": 265,
   "id": "14b47a5f",
   "metadata": {},
   "outputs": [
    {
     "data": {
      "text/plain": [
       "1"
      ]
     },
     "execution_count": 265,
     "metadata": {},
     "output_type": "execute_result"
    }
   ],
   "source": [
    "s.count('r')"
   ]
  },
  {
   "cell_type": "code",
   "execution_count": 266,
   "id": "da1ad077",
   "metadata": {},
   "outputs": [
    {
     "data": {
      "text/plain": [
       "1"
      ]
     },
     "execution_count": 266,
     "metadata": {},
     "output_type": "execute_result"
    }
   ],
   "source": [
    "s.count('prin')"
   ]
  },
  {
   "cell_type": "code",
   "execution_count": 267,
   "id": "6aecad19",
   "metadata": {},
   "outputs": [
    {
     "data": {
      "text/plain": [
       "1"
      ]
     },
     "execution_count": 267,
     "metadata": {},
     "output_type": "execute_result"
    }
   ],
   "source": [
    "s.count(s[0:2])"
   ]
  },
  {
   "cell_type": "code",
   "execution_count": 268,
   "id": "29615977",
   "metadata": {},
   "outputs": [
    {
     "data": {
      "text/plain": [
       "['pr', 'nce']"
      ]
     },
     "execution_count": 268,
     "metadata": {},
     "output_type": "execute_result"
    }
   ],
   "source": [
    "s.split(sep='i')"
   ]
  },
  {
   "cell_type": "code",
   "execution_count": 269,
   "id": "2014566a",
   "metadata": {},
   "outputs": [
    {
     "data": {
      "text/plain": [
       "['pri', 'ce']"
      ]
     },
     "execution_count": 269,
     "metadata": {},
     "output_type": "execute_result"
    }
   ],
   "source": [
    "s.split(sep = 'n' )"
   ]
  },
  {
   "cell_type": "code",
   "execution_count": 270,
   "id": "7a8eee0e",
   "metadata": {},
   "outputs": [],
   "source": [
    "sw= \"\"\"Samsung Group,[3] or simply Samsung (Korean: 삼성 [samsʌŋ]) (stylized as SΛMSUNG), is a South Korean multinational manufacturing conglomerate headquartered in Samsung Town, Seoul, South Korea.[1] It comprises numerous affiliated businesses,[1] most of them united under the Samsung brand, and is the largest South Korean chaebol (business conglomerate). As of 2020, Samsung has the eighth highest global brand value.[4]\n",
    "\n",
    "Samsung was founded by Lee Byung-chul in 1938 as a trading company. Over the next three decades, the group diversified into areas including food processing, textiles, insurance, securities, and retail. Samsung entered the electronics industry in the late 1960s and the construction and shipbuilding industries in the mid-1970s; these areas would drive its subsequent growth. Following Lee's death in 1987, Samsung was separated into five business groups – Samsung Group, Shinsegae Group, CJ Group and Hansol Group, and JoongAng Group.\n",
    "\n",
    "Notable Samsung industrial affiliates include Samsung Electronics (the world's largest information technology company, consumer electronics maker and chipmaker measured by 2017 revenues),[5][6] Samsung Heavy Industries (the world's second largest shipbuilder measured by 2010 revenues),[7] and Samsung Engineering and Samsung C&T Corporation (respectively the world's 13th and 36th largest construction companies).[8] Other notable subsidiaries include Samsung Life Insurance (the world's 14th largest life insurance company),[9] Samsung Everland (operator of Everland Resort, the oldest theme park in South Korea)[10] and Cheil Worldwide (the world's 15th largest advertising agency, as measured by 2012 revenues).[11][12]\"\"\""
   ]
  },
  {
   "cell_type": "code",
   "execution_count": 271,
   "id": "5f2d61e8",
   "metadata": {},
   "outputs": [],
   "source": [
    "sw=\"Samsung Group,[3] or simply Samsung (Korean: 삼성 [samsʌŋ]) (stylized as SΛMSUNG), is a South Korean multinational manufacturing conglomerate headquartered in Samsung Town, Seoul, South Korea.[1] It comprises numerous affiliated businesses,[1] most of them united under the Samsung brand, and is the largest South Korean chaebol (business conglomerate). As of 2020, Samsung has the eighth highest global brand value.[4]\""
   ]
  },
  {
   "cell_type": "code",
   "execution_count": 272,
   "id": "01a05f2d",
   "metadata": {},
   "outputs": [
    {
     "data": {
      "text/plain": [
       "['Samsung',\n",
       " 'Group,[3]',\n",
       " 'or',\n",
       " 'simply',\n",
       " 'Samsung',\n",
       " '(Korean:',\n",
       " '삼성',\n",
       " '[samsʌŋ])',\n",
       " '(stylized',\n",
       " 'as',\n",
       " 'SΛMSUNG),',\n",
       " 'is',\n",
       " 'a',\n",
       " 'South',\n",
       " 'Korean',\n",
       " 'multinational',\n",
       " 'manufacturing',\n",
       " 'conglomerate',\n",
       " 'headquartered',\n",
       " 'in',\n",
       " 'Samsung',\n",
       " 'Town,',\n",
       " 'Seoul,',\n",
       " 'South',\n",
       " 'Korea.[1]',\n",
       " 'It',\n",
       " 'comprises',\n",
       " 'numerous',\n",
       " 'affiliated',\n",
       " 'businesses,[1]',\n",
       " 'most',\n",
       " 'of',\n",
       " 'them',\n",
       " 'united',\n",
       " 'under',\n",
       " 'the',\n",
       " 'Samsung',\n",
       " 'brand,',\n",
       " 'and',\n",
       " 'is',\n",
       " 'the',\n",
       " 'largest',\n",
       " 'South',\n",
       " 'Korean',\n",
       " 'chaebol',\n",
       " '(business',\n",
       " 'conglomerate).',\n",
       " 'As',\n",
       " 'of',\n",
       " '2020,',\n",
       " 'Samsung',\n",
       " 'has',\n",
       " 'the',\n",
       " 'eighth',\n",
       " 'highest',\n",
       " 'global',\n",
       " 'brand',\n",
       " 'value.[4]']"
      ]
     },
     "execution_count": 272,
     "metadata": {},
     "output_type": "execute_result"
    }
   ],
   "source": [
    "sw.split(' ')"
   ]
  },
  {
   "cell_type": "code",
   "execution_count": 273,
   "id": "1e9d060b",
   "metadata": {},
   "outputs": [
    {
     "data": {
      "text/plain": [
       "['Samsung',\n",
       " 'Group,[3]',\n",
       " 'or',\n",
       " 'simply',\n",
       " 'Samsung',\n",
       " '(Korean:',\n",
       " '삼성',\n",
       " '[samsʌŋ])',\n",
       " '(stylized',\n",
       " 'as',\n",
       " 'SΛMSUNG),',\n",
       " 'is',\n",
       " 'a',\n",
       " 'South',\n",
       " 'Korean',\n",
       " 'multinational',\n",
       " 'manufacturing',\n",
       " 'conglomerate',\n",
       " 'headquartered',\n",
       " 'in',\n",
       " 'Samsung',\n",
       " 'Town,',\n",
       " 'Seoul,',\n",
       " 'South',\n",
       " 'Korea.[1]',\n",
       " 'It',\n",
       " 'comprises',\n",
       " 'numerous',\n",
       " 'affiliated',\n",
       " 'businesses,[1]',\n",
       " 'most',\n",
       " 'of',\n",
       " 'them',\n",
       " 'united',\n",
       " 'under',\n",
       " 'the',\n",
       " 'Samsung',\n",
       " 'brand,',\n",
       " 'and',\n",
       " 'is',\n",
       " 'the',\n",
       " 'largest',\n",
       " 'South',\n",
       " 'Korean',\n",
       " 'chaebol',\n",
       " '(business',\n",
       " 'conglomerate).',\n",
       " 'As',\n",
       " 'of',\n",
       " '2020,',\n",
       " 'Samsung',\n",
       " 'has',\n",
       " 'the',\n",
       " 'eighth',\n",
       " 'highest',\n",
       " 'global',\n",
       " 'brand',\n",
       " 'value.[4]']"
      ]
     },
     "execution_count": 273,
     "metadata": {},
     "output_type": "execute_result"
    }
   ],
   "source": [
    "sw.split(' ')"
   ]
  },
  {
   "cell_type": "code",
   "execution_count": 274,
   "id": "24a49fc3",
   "metadata": {},
   "outputs": [
    {
     "data": {
      "text/plain": [
       "'Samsung Group,[3] or simply Samsung (Korean: 삼성 [samsʌŋ]) (stylized as SΛMSUNG), is a South Korean multinational manufacturing conglomerate headquartered in Samsung Town, Seoul, South Korea.[1] It comprises numerous affiliated businesses,[1] most of them united under the Samsung brand, and is the largest South Korean chaebol (business conglomerate). As of 2020, Samsung has the eighth highest global brand value.[4]'"
      ]
     },
     "execution_count": 274,
     "metadata": {},
     "output_type": "execute_result"
    }
   ],
   "source": [
    "sw"
   ]
  },
  {
   "cell_type": "code",
   "execution_count": 275,
   "id": "d62d1133",
   "metadata": {},
   "outputs": [
    {
     "data": {
      "text/plain": [
       "'SAMSUNG GROUP,[3] OR SIMPLY SAMSUNG (KOREAN: 삼성 [SAMSɅŊ]) (STYLIZED AS SΛMSUNG), IS A SOUTH KOREAN MULTINATIONAL MANUFACTURING CONGLOMERATE HEADQUARTERED IN SAMSUNG TOWN, SEOUL, SOUTH KOREA.[1] IT COMPRISES NUMEROUS AFFILIATED BUSINESSES,[1] MOST OF THEM UNITED UNDER THE SAMSUNG BRAND, AND IS THE LARGEST SOUTH KOREAN CHAEBOL (BUSINESS CONGLOMERATE). AS OF 2020, SAMSUNG HAS THE EIGHTH HIGHEST GLOBAL BRAND VALUE.[4]'"
      ]
     },
     "execution_count": 275,
     "metadata": {},
     "output_type": "execute_result"
    }
   ],
   "source": [
    "sw.upper()"
   ]
  },
  {
   "cell_type": "code",
   "execution_count": 276,
   "id": "b37a381b",
   "metadata": {},
   "outputs": [
    {
     "data": {
      "text/plain": [
       "'samsung group,[3] or simply samsung (korean: 삼성 [samsʌŋ]) (stylized as sλmsung), is a south korean multinational manufacturing conglomerate headquartered in samsung town, seoul, south korea.[1] it comprises numerous affiliated businesses,[1] most of them united under the samsung brand, and is the largest south korean chaebol (business conglomerate). as of 2020, samsung has the eighth highest global brand value.[4]'"
      ]
     },
     "execution_count": 276,
     "metadata": {},
     "output_type": "execute_result"
    }
   ],
   "source": [
    "sw.lower()"
   ]
  },
  {
   "cell_type": "code",
   "execution_count": 277,
   "id": "383859dd",
   "metadata": {},
   "outputs": [
    {
     "data": {
      "text/plain": [
       "'Samsung Group,[3] or simply Samsung (Korean: 삼성 [samsʌŋ]) (stylized as SΛMSUNG), is a South Korean multinational manufacturing conglomerate headquartered in Samsung Town, Seoul, South Korea.[1] It comprises numerous affiliated businesses,[1] most of them united under the Samsung brand, and is the largest South Korean chaebol (business conglomerate). As of 2020, Samsung has the eighth highest global brand value.[4]'"
      ]
     },
     "execution_count": 277,
     "metadata": {},
     "output_type": "execute_result"
    }
   ],
   "source": [
    "sw"
   ]
  },
  {
   "cell_type": "code",
   "execution_count": 278,
   "id": "c5eb5255",
   "metadata": {},
   "outputs": [],
   "source": [
    "sw = sw.upper()"
   ]
  },
  {
   "cell_type": "code",
   "execution_count": 279,
   "id": "58554916",
   "metadata": {},
   "outputs": [
    {
     "data": {
      "text/plain": [
       "'SAMSUNG GROUP,[3] OR SIMPLY SAMSUNG (KOREAN: 삼성 [SAMSɅŊ]) (STYLIZED AS SΛMSUNG), IS A SOUTH KOREAN MULTINATIONAL MANUFACTURING CONGLOMERATE HEADQUARTERED IN SAMSUNG TOWN, SEOUL, SOUTH KOREA.[1] IT COMPRISES NUMEROUS AFFILIATED BUSINESSES,[1] MOST OF THEM UNITED UNDER THE SAMSUNG BRAND, AND IS THE LARGEST SOUTH KOREAN CHAEBOL (BUSINESS CONGLOMERATE). AS OF 2020, SAMSUNG HAS THE EIGHTH HIGHEST GLOBAL BRAND VALUE.[4]'"
      ]
     },
     "execution_count": 279,
     "metadata": {},
     "output_type": "execute_result"
    }
   ],
   "source": [
    "sw"
   ]
  },
  {
   "cell_type": "code",
   "execution_count": 280,
   "id": "ab3a54cb",
   "metadata": {},
   "outputs": [
    {
     "data": {
      "text/plain": [
       "'samsung group,[3] or simply samsung (korean: 삼성 [samsʌŋ]) (stylized as sλmsung), is a south korean multinational manufacturing conglomerate headquartered in samsung town, seoul, south korea.[1] it comprises numerous affiliated businesses,[1] most of them united under the samsung brand, and is the largest south korean chaebol (business conglomerate). as of 2020, samsung has the eighth highest global brand value.[4]'"
      ]
     },
     "execution_count": 280,
     "metadata": {},
     "output_type": "execute_result"
    }
   ],
   "source": [
    "sw.lower()"
   ]
  },
  {
   "cell_type": "code",
   "execution_count": 281,
   "id": "cbcefa95",
   "metadata": {},
   "outputs": [],
   "source": [
    "s = 'prince'"
   ]
  },
  {
   "cell_type": "code",
   "execution_count": 282,
   "id": "35de9973",
   "metadata": {},
   "outputs": [
    {
     "data": {
      "text/plain": [
       "'Prince'"
      ]
     },
     "execution_count": 282,
     "metadata": {},
     "output_type": "execute_result"
    }
   ],
   "source": [
    "s.title()"
   ]
  },
  {
   "cell_type": "code",
   "execution_count": 283,
   "id": "2582934b",
   "metadata": {},
   "outputs": [],
   "source": [
    "s= 'prince francis'"
   ]
  },
  {
   "cell_type": "code",
   "execution_count": 284,
   "id": "16e76267",
   "metadata": {},
   "outputs": [
    {
     "data": {
      "text/plain": [
       "'Prince Francis'"
      ]
     },
     "execution_count": 284,
     "metadata": {},
     "output_type": "execute_result"
    }
   ],
   "source": [
    "s.title()"
   ]
  },
  {
   "cell_type": "code",
   "execution_count": 285,
   "id": "14c17d30",
   "metadata": {},
   "outputs": [
    {
     "data": {
      "text/plain": [
       "'Prince francis'"
      ]
     },
     "execution_count": 285,
     "metadata": {},
     "output_type": "execute_result"
    }
   ],
   "source": [
    "s.capitalize()"
   ]
  },
  {
   "cell_type": "code",
   "execution_count": 286,
   "id": "d3712a64",
   "metadata": {},
   "outputs": [],
   "source": [
    "s = \"Prince FraNCis\""
   ]
  },
  {
   "cell_type": "code",
   "execution_count": 287,
   "id": "bcf7cd4f",
   "metadata": {},
   "outputs": [
    {
     "data": {
      "text/plain": [
       "'pRINCE fRAncIS'"
      ]
     },
     "execution_count": 287,
     "metadata": {},
     "output_type": "execute_result"
    }
   ],
   "source": [
    "s.swapcase()"
   ]
  },
  {
   "cell_type": "code",
   "execution_count": 288,
   "id": "67b51252",
   "metadata": {},
   "outputs": [
    {
     "data": {
      "text/plain": [
       "<reversed at 0x17c8ba2ecd0>"
      ]
     },
     "execution_count": 288,
     "metadata": {},
     "output_type": "execute_result"
    }
   ],
   "source": [
    " reversed(s)"
   ]
  },
  {
   "cell_type": "code",
   "execution_count": 289,
   "id": "ec7cf16d",
   "metadata": {},
   "outputs": [
    {
     "data": {
      "text/plain": [
       "'siCNarF ecnirP'"
      ]
     },
     "execution_count": 289,
     "metadata": {},
     "output_type": "execute_result"
    }
   ],
   "source": [
    "\"\".join(reversed(s))"
   ]
  },
  {
   "cell_type": "code",
   "execution_count": 290,
   "id": "83e4cd31",
   "metadata": {},
   "outputs": [
    {
     "data": {
      "text/plain": [
       "'siCNarF ecnirP'"
      ]
     },
     "execution_count": 290,
     "metadata": {},
     "output_type": "execute_result"
    }
   ],
   "source": [
    "s[::-1]"
   ]
  },
  {
   "cell_type": "code",
   "execution_count": 291,
   "id": "91e6400e",
   "metadata": {},
   "outputs": [],
   "source": [
    "s = \"   prince  \""
   ]
  },
  {
   "cell_type": "code",
   "execution_count": 292,
   "id": "76ed6045",
   "metadata": {},
   "outputs": [
    {
     "data": {
      "text/plain": [
       "'prince  '"
      ]
     },
     "execution_count": 292,
     "metadata": {},
     "output_type": "execute_result"
    }
   ],
   "source": [
    "s.lstrip()"
   ]
  },
  {
   "cell_type": "code",
   "execution_count": 293,
   "id": "5e36fa94",
   "metadata": {},
   "outputs": [
    {
     "data": {
      "text/plain": [
       "'prince'"
      ]
     },
     "execution_count": 293,
     "metadata": {},
     "output_type": "execute_result"
    }
   ],
   "source": [
    "s.strip()"
   ]
  },
  {
   "cell_type": "code",
   "execution_count": 294,
   "id": "98dfdb6d",
   "metadata": {},
   "outputs": [
    {
     "data": {
      "text/plain": [
       "'   prince'"
      ]
     },
     "execution_count": 294,
     "metadata": {},
     "output_type": "execute_result"
    }
   ],
   "source": [
    "s.rstrip()"
   ]
  },
  {
   "cell_type": "code",
   "execution_count": 295,
   "id": "5c24dcb9",
   "metadata": {},
   "outputs": [],
   "source": [
    "s=  '   Prin  ce   '"
   ]
  },
  {
   "cell_type": "code",
   "execution_count": 296,
   "id": "8b7e56cf",
   "metadata": {},
   "outputs": [
    {
     "data": {
      "text/plain": [
       "'Prin  ce'"
      ]
     },
     "execution_count": 296,
     "metadata": {},
     "output_type": "execute_result"
    }
   ],
   "source": [
    "s.strip()"
   ]
  },
  {
   "cell_type": "code",
   "execution_count": 297,
   "id": "1447b93e",
   "metadata": {},
   "outputs": [
    {
     "data": {
      "text/plain": [
       "'Prin  ce   '"
      ]
     },
     "execution_count": 297,
     "metadata": {},
     "output_type": "execute_result"
    }
   ],
   "source": [
    "s.lstrip()"
   ]
  },
  {
   "cell_type": "code",
   "execution_count": 298,
   "id": "ebb8b864",
   "metadata": {},
   "outputs": [
    {
     "data": {
      "text/plain": [
       "'   Prin  ce'"
      ]
     },
     "execution_count": 298,
     "metadata": {},
     "output_type": "execute_result"
    }
   ],
   "source": [
    "s.rstrip()"
   ]
  },
  {
   "cell_type": "code",
   "execution_count": 299,
   "id": "3e0a1e03",
   "metadata": {},
   "outputs": [
    {
     "data": {
      "text/plain": [
       "'p r i n c e'"
      ]
     },
     "execution_count": 299,
     "metadata": {},
     "output_type": "execute_result"
    }
   ],
   "source": [
    "\" \". join(\"prince\")"
   ]
  },
  {
   "cell_type": "code",
   "execution_count": 300,
   "id": "ec48615e",
   "metadata": {},
   "outputs": [
    {
     "data": {
      "text/plain": [
       "'p@r@i@n@c@e'"
      ]
     },
     "execution_count": 300,
     "metadata": {},
     "output_type": "execute_result"
    }
   ],
   "source": [
    "\"@\".join(\"prince\")"
   ]
  },
  {
   "cell_type": "code",
   "execution_count": 301,
   "id": "2bf05db1",
   "metadata": {},
   "outputs": [
    {
     "data": {
      "text/plain": [
       "'p$r$i$n$c$e'"
      ]
     },
     "execution_count": 301,
     "metadata": {},
     "output_type": "execute_result"
    }
   ],
   "source": [
    "\"$\".join(\"prince\")"
   ]
  },
  {
   "cell_type": "code",
   "execution_count": 302,
   "id": "f36e0e77",
   "metadata": {},
   "outputs": [],
   "source": [
    "s = \"prince\""
   ]
  },
  {
   "cell_type": "code",
   "execution_count": 303,
   "id": "aa5abb2b",
   "metadata": {},
   "outputs": [
    {
     "data": {
      "text/plain": [
       "'$$$$$$$prince$$$$$$'"
      ]
     },
     "execution_count": 303,
     "metadata": {},
     "output_type": "execute_result"
    }
   ],
   "source": [
    "s.center(19, '$')"
   ]
  },
  {
   "cell_type": "code",
   "execution_count": 304,
   "id": "84132c19",
   "metadata": {},
   "outputs": [],
   "source": [
    "s = \"Prince\""
   ]
  },
  {
   "cell_type": "code",
   "execution_count": 305,
   "id": "1d2e7f0f",
   "metadata": {},
   "outputs": [
    {
     "data": {
      "text/plain": [
       "True"
      ]
     },
     "execution_count": 305,
     "metadata": {},
     "output_type": "execute_result"
    }
   ],
   "source": [
    "s.isalnum()"
   ]
  },
  {
   "cell_type": "code",
   "execution_count": 306,
   "id": "f76da891",
   "metadata": {},
   "outputs": [
    {
     "data": {
      "text/plain": [
       "True"
      ]
     },
     "execution_count": 306,
     "metadata": {},
     "output_type": "execute_result"
    }
   ],
   "source": [
    "s.isalpha()"
   ]
  },
  {
   "cell_type": "code",
   "execution_count": 307,
   "id": "b310c9aa",
   "metadata": {},
   "outputs": [
    {
     "data": {
      "text/plain": [
       "False"
      ]
     },
     "execution_count": 307,
     "metadata": {},
     "output_type": "execute_result"
    }
   ],
   "source": [
    "s.isnumeric()"
   ]
  },
  {
   "cell_type": "code",
   "execution_count": 308,
   "id": "fe81e25a",
   "metadata": {},
   "outputs": [
    {
     "data": {
      "text/plain": [
       "False"
      ]
     },
     "execution_count": 308,
     "metadata": {},
     "output_type": "execute_result"
    }
   ],
   "source": [
    "s.isdigit()"
   ]
  },
  {
   "cell_type": "code",
   "execution_count": 309,
   "id": "5f8a6b6c",
   "metadata": {},
   "outputs": [
    {
     "data": {
      "text/plain": [
       "False"
      ]
     },
     "execution_count": 309,
     "metadata": {},
     "output_type": "execute_result"
    }
   ],
   "source": [
    "s.isupper()"
   ]
  },
  {
   "cell_type": "code",
   "execution_count": 310,
   "id": "9116c245",
   "metadata": {},
   "outputs": [
    {
     "data": {
      "text/plain": [
       "False"
      ]
     },
     "execution_count": 310,
     "metadata": {},
     "output_type": "execute_result"
    }
   ],
   "source": [
    "s.islower()"
   ]
  },
  {
   "cell_type": "code",
   "execution_count": 311,
   "id": "9246de4a",
   "metadata": {},
   "outputs": [
    {
     "data": {
      "text/plain": [
       "'Prince'"
      ]
     },
     "execution_count": 311,
     "metadata": {},
     "output_type": "execute_result"
    }
   ],
   "source": [
    "s"
   ]
  },
  {
   "cell_type": "code",
   "execution_count": 312,
   "id": "ac25f5fa",
   "metadata": {},
   "outputs": [
    {
     "data": {
      "text/plain": [
       "True"
      ]
     },
     "execution_count": 312,
     "metadata": {},
     "output_type": "execute_result"
    }
   ],
   "source": [
    "s.istitle()"
   ]
  },
  {
   "cell_type": "code",
   "execution_count": 313,
   "id": "d3b33d00",
   "metadata": {},
   "outputs": [],
   "source": [
    "s1= \"PRINCE\""
   ]
  },
  {
   "cell_type": "code",
   "execution_count": 314,
   "id": "771ea8be",
   "metadata": {},
   "outputs": [
    {
     "data": {
      "text/plain": [
       "True"
      ]
     },
     "execution_count": 314,
     "metadata": {},
     "output_type": "execute_result"
    }
   ],
   "source": [
    "s1.isupper()"
   ]
  },
  {
   "cell_type": "code",
   "execution_count": 315,
   "id": "50a8244c",
   "metadata": {},
   "outputs": [
    {
     "data": {
      "text/plain": [
       "False"
      ]
     },
     "execution_count": 315,
     "metadata": {},
     "output_type": "execute_result"
    }
   ],
   "source": [
    "s1.islower()"
   ]
  },
  {
   "cell_type": "code",
   "execution_count": 316,
   "id": "45728074",
   "metadata": {},
   "outputs": [],
   "source": [
    "s2 =\"prince\""
   ]
  },
  {
   "cell_type": "code",
   "execution_count": 317,
   "id": "d1fcd8b2",
   "metadata": {},
   "outputs": [
    {
     "data": {
      "text/plain": [
       "True"
      ]
     },
     "execution_count": 317,
     "metadata": {},
     "output_type": "execute_result"
    }
   ],
   "source": [
    "s2.islower()"
   ]
  },
  {
   "cell_type": "code",
   "execution_count": 318,
   "id": "5d26f4a2",
   "metadata": {},
   "outputs": [
    {
     "data": {
      "text/plain": [
       "'Prince'"
      ]
     },
     "execution_count": 318,
     "metadata": {},
     "output_type": "execute_result"
    }
   ],
   "source": [
    "s"
   ]
  },
  {
   "cell_type": "code",
   "execution_count": 319,
   "id": "0a6f02aa",
   "metadata": {},
   "outputs": [
    {
     "data": {
      "text/plain": [
       "False"
      ]
     },
     "execution_count": 319,
     "metadata": {},
     "output_type": "execute_result"
    }
   ],
   "source": [
    "s.isspace()"
   ]
  },
  {
   "cell_type": "code",
   "execution_count": 320,
   "id": "3183e88c",
   "metadata": {},
   "outputs": [],
   "source": [
    "s4 = \"   \""
   ]
  },
  {
   "cell_type": "code",
   "execution_count": 321,
   "id": "68bd979c",
   "metadata": {},
   "outputs": [
    {
     "data": {
      "text/plain": [
       "True"
      ]
     },
     "execution_count": 321,
     "metadata": {},
     "output_type": "execute_result"
    }
   ],
   "source": [
    "s4.isspace()"
   ]
  },
  {
   "cell_type": "code",
   "execution_count": 322,
   "id": "277fc7c4",
   "metadata": {},
   "outputs": [],
   "source": [
    "s4 = \" \""
   ]
  },
  {
   "cell_type": "code",
   "execution_count": 323,
   "id": "dbeb6381",
   "metadata": {},
   "outputs": [
    {
     "data": {
      "text/plain": [
       "True"
      ]
     },
     "execution_count": 323,
     "metadata": {},
     "output_type": "execute_result"
    }
   ],
   "source": [
    "s4.isspace()"
   ]
  },
  {
   "cell_type": "code",
   "execution_count": 324,
   "id": "e7513022",
   "metadata": {},
   "outputs": [
    {
     "data": {
      "text/plain": [
       "'Prince'"
      ]
     },
     "execution_count": 324,
     "metadata": {},
     "output_type": "execute_result"
    }
   ],
   "source": [
    "s"
   ]
  },
  {
   "cell_type": "code",
   "execution_count": 325,
   "id": "09400fcb",
   "metadata": {},
   "outputs": [
    {
     "data": {
      "text/plain": [
       "False"
      ]
     },
     "execution_count": 325,
     "metadata": {},
     "output_type": "execute_result"
    }
   ],
   "source": [
    "s.isdigit()"
   ]
  },
  {
   "cell_type": "code",
   "execution_count": 326,
   "id": "0d3977e5",
   "metadata": {},
   "outputs": [],
   "source": [
    "s5 = \"2423535\""
   ]
  },
  {
   "cell_type": "code",
   "execution_count": 327,
   "id": "95c6c154",
   "metadata": {},
   "outputs": [
    {
     "data": {
      "text/plain": [
       "True"
      ]
     },
     "execution_count": 327,
     "metadata": {},
     "output_type": "execute_result"
    }
   ],
   "source": [
    "s5.isdigit()"
   ]
  },
  {
   "cell_type": "code",
   "execution_count": 328,
   "id": "9c66c58e",
   "metadata": {},
   "outputs": [],
   "source": [
    "s6 = \"sd3434098\""
   ]
  },
  {
   "cell_type": "code",
   "execution_count": 329,
   "id": "1a4a6d33",
   "metadata": {},
   "outputs": [
    {
     "data": {
      "text/plain": [
       "False"
      ]
     },
     "execution_count": 329,
     "metadata": {},
     "output_type": "execute_result"
    }
   ],
   "source": [
    "s6.isdigit()"
   ]
  },
  {
   "cell_type": "code",
   "execution_count": 330,
   "id": "f184bf7d",
   "metadata": {},
   "outputs": [
    {
     "data": {
      "text/plain": [
       "'Prince'"
      ]
     },
     "execution_count": 330,
     "metadata": {},
     "output_type": "execute_result"
    }
   ],
   "source": [
    "s"
   ]
  },
  {
   "cell_type": "code",
   "execution_count": 331,
   "id": "09fa5f68",
   "metadata": {},
   "outputs": [
    {
     "data": {
      "text/plain": [
       "True"
      ]
     },
     "execution_count": 331,
     "metadata": {},
     "output_type": "execute_result"
    }
   ],
   "source": [
    "s.isalnum()"
   ]
  },
  {
   "cell_type": "code",
   "execution_count": 332,
   "id": "a59cad3a",
   "metadata": {},
   "outputs": [
    {
     "data": {
      "text/plain": [
       "True"
      ]
     },
     "execution_count": 332,
     "metadata": {},
     "output_type": "execute_result"
    }
   ],
   "source": [
    "s.isalpha()"
   ]
  },
  {
   "cell_type": "code",
   "execution_count": 333,
   "id": "de973318",
   "metadata": {},
   "outputs": [],
   "source": [
    "s7 = \"jdfljl009808\""
   ]
  },
  {
   "cell_type": "code",
   "execution_count": 334,
   "id": "a4f004cd",
   "metadata": {},
   "outputs": [
    {
     "data": {
      "text/plain": [
       "False"
      ]
     },
     "execution_count": 334,
     "metadata": {},
     "output_type": "execute_result"
    }
   ],
   "source": [
    "s7.isalpha()"
   ]
  },
  {
   "cell_type": "code",
   "execution_count": 335,
   "id": "3aa28dc3",
   "metadata": {},
   "outputs": [
    {
     "data": {
      "text/plain": [
       "'Prince'"
      ]
     },
     "execution_count": 335,
     "metadata": {},
     "output_type": "execute_result"
    }
   ],
   "source": [
    "s"
   ]
  },
  {
   "cell_type": "code",
   "execution_count": 336,
   "id": "07c4f729",
   "metadata": {},
   "outputs": [
    {
     "data": {
      "text/plain": [
       "False"
      ]
     },
     "execution_count": 336,
     "metadata": {},
     "output_type": "execute_result"
    }
   ],
   "source": [
    "s.startswith('i')"
   ]
  },
  {
   "cell_type": "code",
   "execution_count": 337,
   "id": "3cb68e65",
   "metadata": {},
   "outputs": [
    {
     "data": {
      "text/plain": [
       "False"
      ]
     },
     "execution_count": 337,
     "metadata": {},
     "output_type": "execute_result"
    }
   ],
   "source": [
    "s.startswith(\"p\")"
   ]
  },
  {
   "cell_type": "code",
   "execution_count": 338,
   "id": "3215d9bf",
   "metadata": {},
   "outputs": [
    {
     "data": {
      "text/plain": [
       "True"
      ]
     },
     "execution_count": 338,
     "metadata": {},
     "output_type": "execute_result"
    }
   ],
   "source": [
    "s.startswith(\"P\")"
   ]
  },
  {
   "cell_type": "code",
   "execution_count": 339,
   "id": "2c1e7746",
   "metadata": {},
   "outputs": [
    {
     "data": {
      "text/plain": [
       "True"
      ]
     },
     "execution_count": 339,
     "metadata": {},
     "output_type": "execute_result"
    }
   ],
   "source": [
    "s.endswith('e')"
   ]
  },
  {
   "cell_type": "code",
   "execution_count": 340,
   "id": "26fb7f78",
   "metadata": {},
   "outputs": [
    {
     "data": {
      "text/plain": [
       "False"
      ]
     },
     "execution_count": 340,
     "metadata": {},
     "output_type": "execute_result"
    }
   ],
   "source": [
    "s.endswith(\"E\")  #python is case sensitive language"
   ]
  },
  {
   "cell_type": "code",
   "execution_count": 341,
   "id": "e1245efa",
   "metadata": {},
   "outputs": [
    {
     "data": {
      "text/plain": [
       "'jdfljl009808'"
      ]
     },
     "execution_count": 341,
     "metadata": {},
     "output_type": "execute_result"
    }
   ],
   "source": [
    "s7"
   ]
  },
  {
   "cell_type": "code",
   "execution_count": 342,
   "id": "f8c904ff",
   "metadata": {},
   "outputs": [
    {
     "data": {
      "text/plain": [
       "False"
      ]
     },
     "execution_count": 342,
     "metadata": {},
     "output_type": "execute_result"
    }
   ],
   "source": [
    "s7.isnumeric()"
   ]
  },
  {
   "cell_type": "code",
   "execution_count": 343,
   "id": "ad1a8183",
   "metadata": {},
   "outputs": [
    {
     "data": {
      "text/plain": [
       "True"
      ]
     },
     "execution_count": 343,
     "metadata": {},
     "output_type": "execute_result"
    }
   ],
   "source": [
    "s7.isalnum()"
   ]
  },
  {
   "cell_type": "code",
   "execution_count": 344,
   "id": "8108e91b",
   "metadata": {},
   "outputs": [
    {
     "data": {
      "text/plain": [
       "'Prince'"
      ]
     },
     "execution_count": 344,
     "metadata": {},
     "output_type": "execute_result"
    }
   ],
   "source": [
    "s"
   ]
  },
  {
   "cell_type": "code",
   "execution_count": 345,
   "id": "461373b5",
   "metadata": {},
   "outputs": [
    {
     "data": {
      "text/plain": [
       "False"
      ]
     },
     "execution_count": 345,
     "metadata": {},
     "output_type": "execute_result"
    }
   ],
   "source": [
    "s.isdigit()"
   ]
  },
  {
   "cell_type": "code",
   "execution_count": 346,
   "id": "46e211e6",
   "metadata": {},
   "outputs": [
    {
     "data": {
      "text/plain": [
       "False"
      ]
     },
     "execution_count": 346,
     "metadata": {},
     "output_type": "execute_result"
    }
   ],
   "source": [
    "s.isnumeric()"
   ]
  },
  {
   "cell_type": "code",
   "execution_count": 347,
   "id": "8cb59269",
   "metadata": {},
   "outputs": [
    {
     "data": {
      "text/plain": [
       "True"
      ]
     },
     "execution_count": 347,
     "metadata": {},
     "output_type": "execute_result"
    }
   ],
   "source": [
    "s.isascii()"
   ]
  },
  {
   "cell_type": "code",
   "execution_count": 348,
   "id": "f067f3ac",
   "metadata": {},
   "outputs": [
    {
     "data": {
      "text/plain": [
       "'#######Prince#######'"
      ]
     },
     "execution_count": 348,
     "metadata": {},
     "output_type": "execute_result"
    }
   ],
   "source": [
    "s.center(20,\"#\")"
   ]
  },
  {
   "cell_type": "code",
   "execution_count": 349,
   "id": "a89daec9",
   "metadata": {},
   "outputs": [],
   "source": [
    "s = \"3434\""
   ]
  },
  {
   "cell_type": "code",
   "execution_count": 350,
   "id": "1244eeba",
   "metadata": {},
   "outputs": [
    {
     "data": {
      "text/plain": [
       "True"
      ]
     },
     "execution_count": 350,
     "metadata": {},
     "output_type": "execute_result"
    }
   ],
   "source": [
    "s.isdigit()"
   ]
  },
  {
   "cell_type": "code",
   "execution_count": 351,
   "id": "99ddaf78",
   "metadata": {},
   "outputs": [],
   "source": [
    "s1= \"fjlkjlkjlj33434\""
   ]
  },
  {
   "cell_type": "code",
   "execution_count": 352,
   "id": "43126e3a",
   "metadata": {},
   "outputs": [
    {
     "data": {
      "text/plain": [
       "False"
      ]
     },
     "execution_count": 352,
     "metadata": {},
     "output_type": "execute_result"
    }
   ],
   "source": [
    "s1.isnumeric()"
   ]
  },
  {
   "cell_type": "code",
   "execution_count": 353,
   "id": "7a0687ec",
   "metadata": {},
   "outputs": [],
   "source": [
    "s2= \"34343 34343 3434\""
   ]
  },
  {
   "cell_type": "code",
   "execution_count": 354,
   "id": "2e6d23ca",
   "metadata": {},
   "outputs": [
    {
     "data": {
      "text/plain": [
       "False"
      ]
     },
     "execution_count": 354,
     "metadata": {},
     "output_type": "execute_result"
    }
   ],
   "source": [
    "s2.isnumeric()"
   ]
  },
  {
   "cell_type": "code",
   "execution_count": 355,
   "id": "23e0b1e8",
   "metadata": {},
   "outputs": [],
   "source": [
    "s = \"prince\""
   ]
  },
  {
   "cell_type": "code",
   "execution_count": 356,
   "id": "d47a0ce0",
   "metadata": {},
   "outputs": [
    {
     "data": {
      "text/plain": [
       "<reversed at 0x17c8bb776d0>"
      ]
     },
     "execution_count": 356,
     "metadata": {},
     "output_type": "execute_result"
    }
   ],
   "source": [
    "reversed(s)"
   ]
  },
  {
   "cell_type": "code",
   "execution_count": 357,
   "id": "4bfce134",
   "metadata": {},
   "outputs": [
    {
     "data": {
      "text/plain": [
       "'ecnirp'"
      ]
     },
     "execution_count": 357,
     "metadata": {},
     "output_type": "execute_result"
    }
   ],
   "source": [
    "\"\".join(reversed(s))"
   ]
  },
  {
   "cell_type": "code",
   "execution_count": 358,
   "id": "7f834ee0",
   "metadata": {},
   "outputs": [
    {
     "data": {
      "text/plain": [
       "'f@r@a@n@c@i@s'"
      ]
     },
     "execution_count": 358,
     "metadata": {},
     "output_type": "execute_result"
    }
   ],
   "source": [
    "\"@\".join(\"francis\")"
   ]
  },
  {
   "cell_type": "code",
   "execution_count": 359,
   "id": "3c91723f",
   "metadata": {},
   "outputs": [
    {
     "data": {
      "text/plain": [
       "'p$r$i$y$a'"
      ]
     },
     "execution_count": 359,
     "metadata": {},
     "output_type": "execute_result"
    }
   ],
   "source": [
    "\"$\".join(\"priya\")"
   ]
  },
  {
   "cell_type": "code",
   "execution_count": 360,
   "id": "88cc57f6",
   "metadata": {},
   "outputs": [
    {
     "name": "stdout",
     "output_type": "stream",
     "text": [
      "e\n",
      "c\n",
      "n\n",
      "i\n",
      "r\n",
      "p\n"
     ]
    }
   ],
   "source": [
    "for i in reversed(s):\n",
    "    print(i)"
   ]
  },
  {
   "cell_type": "code",
   "execution_count": 361,
   "id": "76ecf298",
   "metadata": {},
   "outputs": [
    {
     "data": {
      "text/plain": [
       "'e c n i r p'"
      ]
     },
     "execution_count": 361,
     "metadata": {},
     "output_type": "execute_result"
    }
   ],
   "source": [
    "\" \".join(reversed(s))"
   ]
  },
  {
   "cell_type": "code",
   "execution_count": 362,
   "id": "15350462",
   "metadata": {},
   "outputs": [],
   "source": [
    "s = \"34343.3434\""
   ]
  },
  {
   "cell_type": "code",
   "execution_count": 363,
   "id": "8d7d0e77",
   "metadata": {},
   "outputs": [
    {
     "data": {
      "text/plain": [
       "False"
      ]
     },
     "execution_count": 363,
     "metadata": {},
     "output_type": "execute_result"
    }
   ],
   "source": [
    "s.isdigit()"
   ]
  },
  {
   "cell_type": "code",
   "execution_count": 364,
   "id": "beadc043",
   "metadata": {},
   "outputs": [
    {
     "data": {
      "text/plain": [
       "False"
      ]
     },
     "execution_count": 364,
     "metadata": {},
     "output_type": "execute_result"
    }
   ],
   "source": [
    "s.isnumeric()"
   ]
  },
  {
   "cell_type": "code",
   "execution_count": 365,
   "id": "be125a36",
   "metadata": {},
   "outputs": [],
   "source": [
    "s= \"pirnce\\tfrancis\\tineuron\""
   ]
  },
  {
   "cell_type": "code",
   "execution_count": 366,
   "id": "dcb44ddf",
   "metadata": {},
   "outputs": [
    {
     "data": {
      "text/plain": [
       "'pirnce  francis ineuron'"
      ]
     },
     "execution_count": 366,
     "metadata": {},
     "output_type": "execute_result"
    }
   ],
   "source": [
    "s.expandtabs()"
   ]
  },
  {
   "cell_type": "code",
   "execution_count": null,
   "id": "df219b55",
   "metadata": {},
   "outputs": [],
   "source": [
    "s = \"this is My First Python programming class and i am learNING python string and its function\"\n",
    "1 . Try to extract data from index one to index 300 with a jump of 3 \n",
    "2. Try to reverse a string without using reverse function \n",
    "3. Try to split a string after conversion of entire string in uppercase \n",
    "4. try to convert the whole string into lower case \n",
    "5 . Try to capitalize the whole string \n",
    "6 . Write a diference between isalnum() and isalpha()\n",
    "7. Try to give an example of expand tab\n",
    "8 . Give an example of strip , lstrip and rstrip \n",
    "9.  Replace a string charecter by another charector by taking your own example \n",
    "\"sudhanshu\"\n",
    "10 . Try  to give a defination of string center function with and exmple \n",
    "11 . Write your own definition of compiler and interpretor without copy paste form internet in your own language\n",
    "12 . Python is a interpreted of compiled language give a clear ans with your understanding \n",
    "13 . Try to write a usecase of python with your understanding ."
   ]
  },
  {
   "cell_type": "code",
   "execution_count": 368,
   "id": "ee06e6a1",
   "metadata": {},
   "outputs": [],
   "source": [
    "s = \"this is My First Python programming class and i am learNING python string and its function\""
   ]
  },
  {
   "cell_type": "code",
   "execution_count": 369,
   "id": "180b6203",
   "metadata": {},
   "outputs": [
    {
     "data": {
      "text/plain": [
       "'h   r tnrrmglsnimeNGyosi dtfco'"
      ]
     },
     "execution_count": 369,
     "metadata": {},
     "output_type": "execute_result"
    }
   ],
   "source": [
    "s[1:300:3]   #question 1"
   ]
  },
  {
   "cell_type": "code",
   "execution_count": 370,
   "id": "12de4cf7",
   "metadata": {},
   "outputs": [
    {
     "data": {
      "text/plain": [
       "'noitcnuf sti dna gnirts nohtyp GNINrael ma i dna ssalc gnimmargorp nohtyP tsriF yM si siht'"
      ]
     },
     "execution_count": 370,
     "metadata": {},
     "output_type": "execute_result"
    }
   ],
   "source": [
    "s[::-1]  #question 2"
   ]
  },
  {
   "cell_type": "code",
   "execution_count": 371,
   "id": "e9b90bd2",
   "metadata": {},
   "outputs": [
    {
     "data": {
      "text/plain": [
       "['THIS',\n",
       " 'IS',\n",
       " 'MY',\n",
       " 'FIRST',\n",
       " 'PYTHON',\n",
       " 'PROGRAMMING',\n",
       " 'CLASS',\n",
       " 'AND',\n",
       " 'I',\n",
       " 'AM',\n",
       " 'LEARNING',\n",
       " 'PYTHON',\n",
       " 'STRING',\n",
       " 'AND',\n",
       " 'ITS',\n",
       " 'FUNCTION']"
      ]
     },
     "execution_count": 371,
     "metadata": {},
     "output_type": "execute_result"
    }
   ],
   "source": [
    "s.upper().split(' ') #question 3"
   ]
  },
  {
   "cell_type": "code",
   "execution_count": 372,
   "id": "1a390d77",
   "metadata": {},
   "outputs": [
    {
     "data": {
      "text/plain": [
       "'this is my first python programming class and i am learning python string and its function'"
      ]
     },
     "execution_count": 372,
     "metadata": {},
     "output_type": "execute_result"
    }
   ],
   "source": [
    "s.lower()  #question 4"
   ]
  },
  {
   "cell_type": "code",
   "execution_count": 373,
   "id": "ff32bea3",
   "metadata": {},
   "outputs": [
    {
     "data": {
      "text/plain": [
       "'This is my first python programming class and i am learning python string and its function'"
      ]
     },
     "execution_count": 373,
     "metadata": {},
     "output_type": "execute_result"
    }
   ],
   "source": [
    "s.capitalize()  #question 5"
   ]
  },
  {
   "cell_type": "code",
   "execution_count": 374,
   "id": "fef9cc55",
   "metadata": {},
   "outputs": [],
   "source": [
    "s = \"Prince\"  #question 6"
   ]
  },
  {
   "cell_type": "code",
   "execution_count": 375,
   "id": "382f87d8",
   "metadata": {},
   "outputs": [
    {
     "data": {
      "text/plain": [
       "True"
      ]
     },
     "execution_count": 375,
     "metadata": {},
     "output_type": "execute_result"
    }
   ],
   "source": [
    "s.isalnum()"
   ]
  },
  {
   "cell_type": "code",
   "execution_count": 376,
   "id": "87a0d74b",
   "metadata": {},
   "outputs": [
    {
     "data": {
      "text/plain": [
       "True"
      ]
     },
     "execution_count": 376,
     "metadata": {},
     "output_type": "execute_result"
    }
   ],
   "source": [
    "s.isalpha()"
   ]
  },
  {
   "cell_type": "code",
   "execution_count": 377,
   "id": "1a364b59",
   "metadata": {},
   "outputs": [],
   "source": [
    "s = \"233232\"    #isalnum() will return True if the string is either alphabet or numeric, isalpha() returns True only if the string is alphabet"
   ]
  },
  {
   "cell_type": "code",
   "execution_count": 378,
   "id": "7ad62154",
   "metadata": {},
   "outputs": [
    {
     "data": {
      "text/plain": [
       "True"
      ]
     },
     "execution_count": 378,
     "metadata": {},
     "output_type": "execute_result"
    }
   ],
   "source": [
    "s.isalnum()"
   ]
  },
  {
   "cell_type": "code",
   "execution_count": 379,
   "id": "34866235",
   "metadata": {},
   "outputs": [
    {
     "data": {
      "text/plain": [
       "False"
      ]
     },
     "execution_count": 379,
     "metadata": {},
     "output_type": "execute_result"
    }
   ],
   "source": [
    "s.isalpha()"
   ]
  },
  {
   "cell_type": "code",
   "execution_count": 380,
   "id": "073b9c8f",
   "metadata": {},
   "outputs": [],
   "source": [
    "s= \"Francis\\tbecame\\ta\\tmillionaire\"  #question 7"
   ]
  },
  {
   "cell_type": "code",
   "execution_count": 381,
   "id": "2f6f06ef",
   "metadata": {},
   "outputs": [
    {
     "data": {
      "text/plain": [
       "'Francis became  a       millionaire'"
      ]
     },
     "execution_count": 381,
     "metadata": {},
     "output_type": "execute_result"
    }
   ],
   "source": [
    "s.expandtabs()"
   ]
  },
  {
   "cell_type": "code",
   "execution_count": 382,
   "id": "b11241d9",
   "metadata": {},
   "outputs": [],
   "source": [
    "s= \"     Anni  es    \"   #question 8"
   ]
  },
  {
   "cell_type": "code",
   "execution_count": 383,
   "id": "4e748099",
   "metadata": {},
   "outputs": [
    {
     "data": {
      "text/plain": [
       "'Anni  es'"
      ]
     },
     "execution_count": 383,
     "metadata": {},
     "output_type": "execute_result"
    }
   ],
   "source": [
    "s.strip()"
   ]
  },
  {
   "cell_type": "code",
   "execution_count": 384,
   "id": "5e50805b",
   "metadata": {},
   "outputs": [
    {
     "data": {
      "text/plain": [
       "'Anni  es    '"
      ]
     },
     "execution_count": 384,
     "metadata": {},
     "output_type": "execute_result"
    }
   ],
   "source": [
    "s.lstrip()"
   ]
  },
  {
   "cell_type": "code",
   "execution_count": 385,
   "id": "42b40162",
   "metadata": {},
   "outputs": [
    {
     "data": {
      "text/plain": [
       "'     Anni  es'"
      ]
     },
     "execution_count": 385,
     "metadata": {},
     "output_type": "execute_result"
    }
   ],
   "source": [
    "s.rstrip()"
   ]
  },
  {
   "cell_type": "code",
   "execution_count": 386,
   "id": "aaa392fc",
   "metadata": {},
   "outputs": [],
   "source": [
    "s= \"Prince\"   #question 9"
   ]
  },
  {
   "cell_type": "code",
   "execution_count": 387,
   "id": "ed3c609e",
   "metadata": {},
   "outputs": [
    {
     "data": {
      "text/plain": [
       "'Pmince'"
      ]
     },
     "execution_count": 387,
     "metadata": {},
     "output_type": "execute_result"
    }
   ],
   "source": [
    "s.replace('r', 'm')"
   ]
  },
  {
   "cell_type": "code",
   "execution_count": 388,
   "id": "a2a0e987",
   "metadata": {},
   "outputs": [],
   "source": [
    "s=\"Prince\"   #question 10"
   ]
  },
  {
   "cell_type": "code",
   "execution_count": 389,
   "id": "20b9b69d",
   "metadata": {},
   "outputs": [
    {
     "data": {
      "text/plain": [
       "'$$$$$Prince$$$$'"
      ]
     },
     "execution_count": 389,
     "metadata": {},
     "output_type": "execute_result"
    }
   ],
   "source": [
    "s.center(15, \"$\")"
   ]
  },
  {
   "cell_type": "markdown",
   "id": "09af5198",
   "metadata": {},
   "source": [
    " # Compiler vs Interpreter  #question 11"
   ]
  },
  {
   "cell_type": "markdown",
   "id": "4b5dd538",
   "metadata": {},
   "source": [
    "Compiler and Interpreter are programs that are used to convert HLL(source code) into LLL(machine code). There are significant differences between them.\n",
    "1. Compilers analyze the code all at once and gives the error as a whole whereas interpreters check the code line by line and gives the error also line by line.\n",
    "2. The execution time of complier is less as compared to that or interpreter.\n",
    "3. Compilers convert the code into an intermediary language whereas interpreters do not do that. \n",
    "4. Compilers are used in languages like C, C++ whereas interpreters are used in languages like python, ruby."
   ]
  },
  {
   "cell_type": "markdown",
   "id": "45dd1ad6",
   "metadata": {},
   "source": [
    "# Python is compiled as well as interpreted language  #question12"
   ]
  },
  {
   "cell_type": "markdown",
   "id": "922da817",
   "metadata": {},
   "source": [
    "When we write the program first the source code is compiled into an intermediary code which is called the byte code. The byte code is not a machine code but it is very similar to it. The byte code is stored as a .pyc file and the file will not have any changes until the source code is changed and re executed. This byte code will go into python virtual machine(p.v.m) which is part of the python itself and will convert into a machine code. "
   ]
  },
  {
   "cell_type": "markdown",
   "id": "1ae3a170",
   "metadata": {},
   "source": [
    " # Use case of python #question 13"
   ]
  },
  {
   "cell_type": "markdown",
   "id": "c1731981",
   "metadata": {},
   "source": [
    "The usecases of python will include:\n",
    "    Data Analysis\n",
    "    Web Development\n",
    "    Machine Learning Projects"
   ]
  },
  {
   "cell_type": "markdown",
   "id": "42c611aa",
   "metadata": {},
   "source": [
    "# Mamba Out"
   ]
  },
  {
   "cell_type": "code",
   "execution_count": 1,
   "id": "178f3d4d",
   "metadata": {},
   "outputs": [],
   "source": [
    "s = \"ineuron\""
   ]
  },
  {
   "cell_type": "code",
   "execution_count": 2,
   "id": "c6abda97",
   "metadata": {},
   "outputs": [
    {
     "data": {
      "text/plain": [
       "str"
      ]
     },
     "execution_count": 2,
     "metadata": {},
     "output_type": "execute_result"
    }
   ],
   "source": [
    "type(s)"
   ]
  },
  {
   "cell_type": "code",
   "execution_count": 4,
   "id": "f4702a5f",
   "metadata": {},
   "outputs": [
    {
     "data": {
      "text/plain": [
       "'i'"
      ]
     },
     "execution_count": 4,
     "metadata": {},
     "output_type": "execute_result"
    }
   ],
   "source": [
    "s [0]"
   ]
  },
  {
   "cell_type": "code",
   "execution_count": 5,
   "id": "477808eb",
   "metadata": {},
   "outputs": [
    {
     "data": {
      "text/plain": [
       "'o'"
      ]
     },
     "execution_count": 5,
     "metadata": {},
     "output_type": "execute_result"
    }
   ],
   "source": [
    "s [5]"
   ]
  },
  {
   "cell_type": "code",
   "execution_count": 6,
   "id": "665f229d",
   "metadata": {},
   "outputs": [
    {
     "data": {
      "text/plain": [
       "'n'"
      ]
     },
     "execution_count": 6,
     "metadata": {},
     "output_type": "execute_result"
    }
   ],
   "source": [
    " s[-1]"
   ]
  },
  {
   "cell_type": "code",
   "execution_count": 7,
   "id": "de460db2",
   "metadata": {},
   "outputs": [],
   "source": [
    "s1 = \"prince\""
   ]
  },
  {
   "cell_type": "code",
   "execution_count": 8,
   "id": "2eb78cce",
   "metadata": {},
   "outputs": [
    {
     "data": {
      "text/plain": [
       "'p'"
      ]
     },
     "execution_count": 8,
     "metadata": {},
     "output_type": "execute_result"
    }
   ],
   "source": [
    "s1[0]"
   ]
  },
  {
   "cell_type": "code",
   "execution_count": 9,
   "id": "4b36205c",
   "metadata": {},
   "outputs": [
    {
     "data": {
      "text/plain": [
       "'e'"
      ]
     },
     "execution_count": 9,
     "metadata": {},
     "output_type": "execute_result"
    }
   ],
   "source": [
    "s1[-1]"
   ]
  },
  {
   "cell_type": "code",
   "execution_count": 10,
   "id": "1e53ee19",
   "metadata": {},
   "outputs": [
    {
     "data": {
      "text/plain": [
       "'c'"
      ]
     },
     "execution_count": 10,
     "metadata": {},
     "output_type": "execute_result"
    }
   ],
   "source": [
    "s1[-2]"
   ]
  },
  {
   "cell_type": "code",
   "execution_count": 15,
   "id": "878fd968",
   "metadata": {},
   "outputs": [],
   "source": [
    "s2 = \"this is my very first programming class's\""
   ]
  },
  {
   "cell_type": "code",
   "execution_count": 16,
   "id": "dde137ab",
   "metadata": {},
   "outputs": [
    {
     "data": {
      "text/plain": [
       "\"this is my very first programming class's\""
      ]
     },
     "execution_count": 16,
     "metadata": {},
     "output_type": "execute_result"
    }
   ],
   "source": [
    "s2"
   ]
  },
  {
   "cell_type": "code",
   "execution_count": 17,
   "id": "a15d25ba",
   "metadata": {},
   "outputs": [
    {
     "data": {
      "text/plain": [
       "'m'"
      ]
     },
     "execution_count": 17,
     "metadata": {},
     "output_type": "execute_result"
    }
   ],
   "source": [
    "s2[8]"
   ]
  },
  {
   "cell_type": "code",
   "execution_count": 18,
   "id": "485cf995",
   "metadata": {},
   "outputs": [
    {
     "data": {
      "text/plain": [
       "' '"
      ]
     },
     "execution_count": 18,
     "metadata": {},
     "output_type": "execute_result"
    }
   ],
   "source": [
    "s2[7]"
   ]
  },
  {
   "cell_type": "code",
   "execution_count": 20,
   "id": "9d11f919",
   "metadata": {},
   "outputs": [
    {
     "data": {
      "text/plain": [
       "'this is'"
      ]
     },
     "execution_count": 20,
     "metadata": {},
     "output_type": "execute_result"
    }
   ],
   "source": [
    "s2[0:7]"
   ]
  },
  {
   "cell_type": "code",
   "execution_count": 21,
   "id": "627d6ba4",
   "metadata": {},
   "outputs": [
    {
     "data": {
      "text/plain": [
       "'his '"
      ]
     },
     "execution_count": 21,
     "metadata": {},
     "output_type": "execute_result"
    }
   ],
   "source": [
    "s2 [1:5]"
   ]
  },
  {
   "cell_type": "code",
   "execution_count": 22,
   "id": "77b85df9",
   "metadata": {},
   "outputs": [
    {
     "data": {
      "text/plain": [
       "'s my very first programm'"
      ]
     },
     "execution_count": 22,
     "metadata": {},
     "output_type": "execute_result"
    }
   ],
   "source": [
    "s2[6:30]"
   ]
  },
  {
   "cell_type": "code",
   "execution_count": 23,
   "id": "c3418aaf",
   "metadata": {},
   "outputs": [
    {
     "data": {
      "text/plain": [
       "'sm eyfrtporm'"
      ]
     },
     "execution_count": 23,
     "metadata": {},
     "output_type": "execute_result"
    }
   ],
   "source": [
    "s2[6:30:2]"
   ]
  },
  {
   "cell_type": "code",
   "execution_count": 24,
   "id": "e98966ed",
   "metadata": {},
   "outputs": [],
   "source": [
    "s= \"prince\""
   ]
  },
  {
   "cell_type": "code",
   "execution_count": 25,
   "id": "74516a73",
   "metadata": {},
   "outputs": [
    {
     "data": {
      "text/plain": [
       "'pic'"
      ]
     },
     "execution_count": 25,
     "metadata": {},
     "output_type": "execute_result"
    }
   ],
   "source": [
    "s[0:9:2]"
   ]
  },
  {
   "cell_type": "code",
   "execution_count": 26,
   "id": "d4827e3b",
   "metadata": {},
   "outputs": [
    {
     "data": {
      "text/plain": [
       "'prince'"
      ]
     },
     "execution_count": 26,
     "metadata": {},
     "output_type": "execute_result"
    }
   ],
   "source": [
    "s[0:9:1]"
   ]
  },
  {
   "cell_type": "code",
   "execution_count": 27,
   "id": "3550ed1f",
   "metadata": {},
   "outputs": [
    {
     "data": {
      "text/plain": [
       "''"
      ]
     },
     "execution_count": 27,
     "metadata": {},
     "output_type": "execute_result"
    }
   ],
   "source": [
    "s[0:8:-1]"
   ]
  },
  {
   "cell_type": "code",
   "execution_count": 32,
   "id": "cf132dd7",
   "metadata": {},
   "outputs": [
    {
     "data": {
      "text/plain": [
       "'ecnir'"
      ]
     },
     "execution_count": 32,
     "metadata": {},
     "output_type": "execute_result"
    }
   ],
   "source": [
    "s[8:0:-1]"
   ]
  },
  {
   "cell_type": "code",
   "execution_count": 33,
   "id": "47ce95e4",
   "metadata": {},
   "outputs": [
    {
     "data": {
      "text/plain": [
       "'enr'"
      ]
     },
     "execution_count": 33,
     "metadata": {},
     "output_type": "execute_result"
    }
   ],
   "source": [
    "s[8:0:-2]"
   ]
  },
  {
   "cell_type": "code",
   "execution_count": 34,
   "id": "cef12f3d",
   "metadata": {},
   "outputs": [
    {
     "data": {
      "text/plain": [
       "'pri'"
      ]
     },
     "execution_count": 34,
     "metadata": {},
     "output_type": "execute_result"
    }
   ],
   "source": [
    "s[:-3]"
   ]
  },
  {
   "cell_type": "code",
   "execution_count": 35,
   "id": "609ab1dc",
   "metadata": {},
   "outputs": [
    {
     "data": {
      "text/plain": [
       "'ce'"
      ]
     },
     "execution_count": 35,
     "metadata": {},
     "output_type": "execute_result"
    }
   ],
   "source": [
    "s[-2:]"
   ]
  },
  {
   "cell_type": "code",
   "execution_count": 36,
   "id": "77cadfa7",
   "metadata": {},
   "outputs": [
    {
     "data": {
      "text/plain": [
       "'ecnirp'"
      ]
     },
     "execution_count": 36,
     "metadata": {},
     "output_type": "execute_result"
    }
   ],
   "source": [
    "s[::-1]"
   ]
  },
  {
   "cell_type": "code",
   "execution_count": 37,
   "id": "06d2f3ec",
   "metadata": {},
   "outputs": [
    {
     "data": {
      "text/plain": [
       "'prince'"
      ]
     },
     "execution_count": 37,
     "metadata": {},
     "output_type": "execute_result"
    }
   ],
   "source": [
    "s[::1]"
   ]
  },
  {
   "cell_type": "code",
   "execution_count": 38,
   "id": "00fa7cde",
   "metadata": {},
   "outputs": [
    {
     "data": {
      "text/plain": [
       "'prince'"
      ]
     },
     "execution_count": 38,
     "metadata": {},
     "output_type": "execute_result"
    }
   ],
   "source": [
    "s[0:50:1]"
   ]
  },
  {
   "cell_type": "code",
   "execution_count": 39,
   "id": "c024ff1c",
   "metadata": {},
   "outputs": [
    {
     "data": {
      "text/plain": [
       "\"this is my very first programming class's\""
      ]
     },
     "execution_count": 39,
     "metadata": {},
     "output_type": "execute_result"
    }
   ],
   "source": [
    "s2"
   ]
  },
  {
   "cell_type": "code",
   "execution_count": 40,
   "id": "40952e5b",
   "metadata": {},
   "outputs": [
    {
     "data": {
      "text/plain": [
       "\"s'ssalc gnimmargorp tsrif yrev ym si siht\""
      ]
     },
     "execution_count": 40,
     "metadata": {},
     "output_type": "execute_result"
    }
   ],
   "source": [
    "s2[::-1]"
   ]
  },
  {
   "cell_type": "code",
   "execution_count": 41,
   "id": "2cca746e",
   "metadata": {},
   "outputs": [
    {
     "data": {
      "text/plain": [
       "'prince'"
      ]
     },
     "execution_count": 41,
     "metadata": {},
     "output_type": "execute_result"
    }
   ],
   "source": [
    "s"
   ]
  },
  {
   "cell_type": "code",
   "execution_count": 42,
   "id": "26ec35e7",
   "metadata": {},
   "outputs": [
    {
     "data": {
      "text/plain": [
       "'ecnir'"
      ]
     },
     "execution_count": 42,
     "metadata": {},
     "output_type": "execute_result"
    }
   ],
   "source": [
    "s[8:0:-1]"
   ]
  },
  {
   "cell_type": "code",
   "execution_count": 43,
   "id": "c291b10e",
   "metadata": {},
   "outputs": [],
   "source": [
    "s3=\"ineuron\""
   ]
  },
  {
   "cell_type": "code",
   "execution_count": 44,
   "id": "a61a63e7",
   "metadata": {},
   "outputs": [
    {
     "data": {
      "text/plain": [
       "'norueni'"
      ]
     },
     "execution_count": 44,
     "metadata": {},
     "output_type": "execute_result"
    }
   ],
   "source": [
    "s3[::-1]"
   ]
  },
  {
   "cell_type": "code",
   "execution_count": 45,
   "id": "2429e434",
   "metadata": {},
   "outputs": [
    {
     "data": {
      "text/plain": [
       "''"
      ]
     },
     "execution_count": 45,
     "metadata": {},
     "output_type": "execute_result"
    }
   ],
   "source": [
    "s3[-2:-7:1]"
   ]
  },
  {
   "cell_type": "code",
   "execution_count": 46,
   "id": "ff246e3b",
   "metadata": {},
   "outputs": [
    {
     "data": {
      "text/plain": [
       "'ineur'"
      ]
     },
     "execution_count": 46,
     "metadata": {},
     "output_type": "execute_result"
    }
   ],
   "source": [
    "s3[-7:-2:1]"
   ]
  },
  {
   "cell_type": "code",
   "execution_count": 47,
   "id": "cb9a3174",
   "metadata": {},
   "outputs": [
    {
     "data": {
      "text/plain": [
       "''"
      ]
     },
     "execution_count": 47,
     "metadata": {},
     "output_type": "execute_result"
    }
   ],
   "source": [
    "s[5:0]"
   ]
  },
  {
   "cell_type": "code",
   "execution_count": 48,
   "id": "e4871a28",
   "metadata": {},
   "outputs": [
    {
     "data": {
      "text/plain": [
       "'ineuron'"
      ]
     },
     "execution_count": 48,
     "metadata": {},
     "output_type": "execute_result"
    }
   ],
   "source": [
    "s3"
   ]
  },
  {
   "cell_type": "code",
   "execution_count": 49,
   "id": "2f7cdf7c",
   "metadata": {},
   "outputs": [
    {
     "data": {
      "text/plain": [
       "'i'"
      ]
     },
     "execution_count": 49,
     "metadata": {},
     "output_type": "execute_result"
    }
   ],
   "source": [
    "s3[-7:1:1]"
   ]
  },
  {
   "cell_type": "code",
   "execution_count": 50,
   "id": "55148c52",
   "metadata": {},
   "outputs": [
    {
     "data": {
      "text/plain": [
       "''"
      ]
     },
     "execution_count": 50,
     "metadata": {},
     "output_type": "execute_result"
    }
   ],
   "source": [
    "s[:-1:-1]"
   ]
  },
  {
   "cell_type": "code",
   "execution_count": 51,
   "id": "d82fa3ef",
   "metadata": {},
   "outputs": [
    {
     "ename": "TypeError",
     "evalue": "can only concatenate str (not \"int\") to str",
     "output_type": "error",
     "traceback": [
      "\u001b[1;31m---------------------------------------------------------------------------\u001b[0m",
      "\u001b[1;31mTypeError\u001b[0m                                 Traceback (most recent call last)",
      "\u001b[1;32m<ipython-input-51-2a618fcb9031>\u001b[0m in \u001b[0;36m<module>\u001b[1;34m\u001b[0m\n\u001b[1;32m----> 1\u001b[1;33m \u001b[0ms\u001b[0m\u001b[1;33m+\u001b[0m\u001b[1;36m1\u001b[0m\u001b[1;33m\u001b[0m\u001b[1;33m\u001b[0m\u001b[0m\n\u001b[0m",
      "\u001b[1;31mTypeError\u001b[0m: can only concatenate str (not \"int\") to str"
     ]
    }
   ],
   "source": [
    "s+1"
   ]
  },
  {
   "cell_type": "code",
   "execution_count": 52,
   "id": "e3d6d507",
   "metadata": {},
   "outputs": [
    {
     "data": {
      "text/plain": [
       "'prince'"
      ]
     },
     "execution_count": 52,
     "metadata": {},
     "output_type": "execute_result"
    }
   ],
   "source": [
    "s"
   ]
  },
  {
   "cell_type": "code",
   "execution_count": 53,
   "id": "5314d21b",
   "metadata": {},
   "outputs": [
    {
     "data": {
      "text/plain": [
       "'prince1'"
      ]
     },
     "execution_count": 53,
     "metadata": {},
     "output_type": "execute_result"
    }
   ],
   "source": [
    "s + str(1) #type casting"
   ]
  },
  {
   "cell_type": "code",
   "execution_count": 54,
   "id": "7b1202ed",
   "metadata": {},
   "outputs": [
    {
     "data": {
      "text/plain": [
       "'prince1'"
      ]
     },
     "execution_count": 54,
     "metadata": {},
     "output_type": "execute_result"
    }
   ],
   "source": [
    "s + \"1\""
   ]
  },
  {
   "cell_type": "code",
   "execution_count": 55,
   "id": "2f50d6d5",
   "metadata": {},
   "outputs": [
    {
     "data": {
      "text/plain": [
       "'prince34353566'"
      ]
     },
     "execution_count": 55,
     "metadata": {},
     "output_type": "execute_result"
    }
   ],
   "source": [
    "\"prince\" + \"34353566\""
   ]
  },
  {
   "cell_type": "code",
   "execution_count": 56,
   "id": "506a9589",
   "metadata": {},
   "outputs": [
    {
     "data": {
      "text/plain": [
       "6"
      ]
     },
     "execution_count": 56,
     "metadata": {},
     "output_type": "execute_result"
    }
   ],
   "source": [
    "len(s)"
   ]
  },
  {
   "cell_type": "code",
   "execution_count": 57,
   "id": "7f28693d",
   "metadata": {},
   "outputs": [
    {
     "data": {
      "text/plain": [
       "'princeprince'"
      ]
     },
     "execution_count": 57,
     "metadata": {},
     "output_type": "execute_result"
    }
   ],
   "source": [
    "s*2"
   ]
  },
  {
   "cell_type": "code",
   "execution_count": 58,
   "id": "b456ffbf",
   "metadata": {},
   "outputs": [
    {
     "data": {
      "text/plain": [
       "'princeprinceprinceprince'"
      ]
     },
     "execution_count": 58,
     "metadata": {},
     "output_type": "execute_result"
    }
   ],
   "source": [
    "s*4"
   ]
  },
  {
   "cell_type": "code",
   "execution_count": 59,
   "id": "d47cd14d",
   "metadata": {},
   "outputs": [
    {
     "data": {
      "text/plain": [
       "1"
      ]
     },
     "execution_count": 59,
     "metadata": {},
     "output_type": "execute_result"
    }
   ],
   "source": [
    "s.count('r')"
   ]
  },
  {
   "cell_type": "code",
   "execution_count": 60,
   "id": "acc9a788",
   "metadata": {},
   "outputs": [
    {
     "data": {
      "text/plain": [
       "1"
      ]
     },
     "execution_count": 60,
     "metadata": {},
     "output_type": "execute_result"
    }
   ],
   "source": [
    "s.count('prin')"
   ]
  },
  {
   "cell_type": "code",
   "execution_count": 62,
   "id": "fca8b73a",
   "metadata": {},
   "outputs": [
    {
     "data": {
      "text/plain": [
       "1"
      ]
     },
     "execution_count": 62,
     "metadata": {},
     "output_type": "execute_result"
    }
   ],
   "source": [
    "s.count(s[0:2])"
   ]
  },
  {
   "cell_type": "code",
   "execution_count": 63,
   "id": "ac1ed6ba",
   "metadata": {},
   "outputs": [
    {
     "data": {
      "text/plain": [
       "['pr', 'nce']"
      ]
     },
     "execution_count": 63,
     "metadata": {},
     "output_type": "execute_result"
    }
   ],
   "source": [
    "s.split(sep='i')"
   ]
  },
  {
   "cell_type": "code",
   "execution_count": 68,
   "id": "92a86013",
   "metadata": {},
   "outputs": [
    {
     "data": {
      "text/plain": [
       "['pri', 'ce']"
      ]
     },
     "execution_count": 68,
     "metadata": {},
     "output_type": "execute_result"
    }
   ],
   "source": [
    "s.split(sep = 'n' )"
   ]
  },
  {
   "cell_type": "code",
   "execution_count": 75,
   "id": "a8b0222c",
   "metadata": {},
   "outputs": [],
   "source": [
    "sw= \"\"\"Samsung Group,[3] or simply Samsung (Korean: 삼성 [samsʌŋ]) (stylized as SΛMSUNG), is a South Korean multinational manufacturing conglomerate headquartered in Samsung Town, Seoul, South Korea.[1] It comprises numerous affiliated businesses,[1] most of them united under the Samsung brand, and is the largest South Korean chaebol (business conglomerate). As of 2020, Samsung has the eighth highest global brand value.[4]\n",
    "\n",
    "Samsung was founded by Lee Byung-chul in 1938 as a trading company. Over the next three decades, the group diversified into areas including food processing, textiles, insurance, securities, and retail. Samsung entered the electronics industry in the late 1960s and the construction and shipbuilding industries in the mid-1970s; these areas would drive its subsequent growth. Following Lee's death in 1987, Samsung was separated into five business groups – Samsung Group, Shinsegae Group, CJ Group and Hansol Group, and JoongAng Group.\n",
    "\n",
    "Notable Samsung industrial affiliates include Samsung Electronics (the world's largest information technology company, consumer electronics maker and chipmaker measured by 2017 revenues),[5][6] Samsung Heavy Industries (the world's second largest shipbuilder measured by 2010 revenues),[7] and Samsung Engineering and Samsung C&T Corporation (respectively the world's 13th and 36th largest construction companies).[8] Other notable subsidiaries include Samsung Life Insurance (the world's 14th largest life insurance company),[9] Samsung Everland (operator of Everland Resort, the oldest theme park in South Korea)[10] and Cheil Worldwide (the world's 15th largest advertising agency, as measured by 2012 revenues).[11][12]\"\"\""
   ]
  },
  {
   "cell_type": "code",
   "execution_count": 72,
   "id": "0528e713",
   "metadata": {},
   "outputs": [],
   "source": [
    "sw=\"Samsung Group,[3] or simply Samsung (Korean: 삼성 [samsʌŋ]) (stylized as SΛMSUNG), is a South Korean multinational manufacturing conglomerate headquartered in Samsung Town, Seoul, South Korea.[1] It comprises numerous affiliated businesses,[1] most of them united under the Samsung brand, and is the largest South Korean chaebol (business conglomerate). As of 2020, Samsung has the eighth highest global brand value.[4]\""
   ]
  },
  {
   "cell_type": "code",
   "execution_count": 73,
   "id": "fe2d14e0",
   "metadata": {},
   "outputs": [
    {
     "data": {
      "text/plain": [
       "['Samsung',\n",
       " 'Group,[3]',\n",
       " 'or',\n",
       " 'simply',\n",
       " 'Samsung',\n",
       " '(Korean:',\n",
       " '삼성',\n",
       " '[samsʌŋ])',\n",
       " '(stylized',\n",
       " 'as',\n",
       " 'SΛMSUNG),',\n",
       " 'is',\n",
       " 'a',\n",
       " 'South',\n",
       " 'Korean',\n",
       " 'multinational',\n",
       " 'manufacturing',\n",
       " 'conglomerate',\n",
       " 'headquartered',\n",
       " 'in',\n",
       " 'Samsung',\n",
       " 'Town,',\n",
       " 'Seoul,',\n",
       " 'South',\n",
       " 'Korea.[1]',\n",
       " 'It',\n",
       " 'comprises',\n",
       " 'numerous',\n",
       " 'affiliated',\n",
       " 'businesses,[1]',\n",
       " 'most',\n",
       " 'of',\n",
       " 'them',\n",
       " 'united',\n",
       " 'under',\n",
       " 'the',\n",
       " 'Samsung',\n",
       " 'brand,',\n",
       " 'and',\n",
       " 'is',\n",
       " 'the',\n",
       " 'largest',\n",
       " 'South',\n",
       " 'Korean',\n",
       " 'chaebol',\n",
       " '(business',\n",
       " 'conglomerate).',\n",
       " 'As',\n",
       " 'of',\n",
       " '2020,',\n",
       " 'Samsung',\n",
       " 'has',\n",
       " 'the',\n",
       " 'eighth',\n",
       " 'highest',\n",
       " 'global',\n",
       " 'brand',\n",
       " 'value.[4]']"
      ]
     },
     "execution_count": 73,
     "metadata": {},
     "output_type": "execute_result"
    }
   ],
   "source": [
    "sw.split(' ')"
   ]
  },
  {
   "cell_type": "code",
   "execution_count": 76,
   "id": "2988e67c",
   "metadata": {},
   "outputs": [
    {
     "data": {
      "text/plain": [
       "['Samsung',\n",
       " 'Group,[3]',\n",
       " 'or',\n",
       " 'simply',\n",
       " 'Samsung',\n",
       " '(Korean:',\n",
       " '삼성',\n",
       " '[samsʌŋ])',\n",
       " '(stylized',\n",
       " 'as',\n",
       " 'SΛMSUNG),',\n",
       " 'is',\n",
       " 'a',\n",
       " 'South',\n",
       " 'Korean',\n",
       " 'multinational',\n",
       " 'manufacturing',\n",
       " 'conglomerate',\n",
       " 'headquartered',\n",
       " 'in',\n",
       " 'Samsung',\n",
       " 'Town,',\n",
       " 'Seoul,',\n",
       " 'South',\n",
       " 'Korea.[1]',\n",
       " 'It',\n",
       " 'comprises',\n",
       " 'numerous',\n",
       " 'affiliated',\n",
       " 'businesses,[1]',\n",
       " 'most',\n",
       " 'of',\n",
       " 'them',\n",
       " 'united',\n",
       " 'under',\n",
       " 'the',\n",
       " 'Samsung',\n",
       " 'brand,',\n",
       " 'and',\n",
       " 'is',\n",
       " 'the',\n",
       " 'largest',\n",
       " 'South',\n",
       " 'Korean',\n",
       " 'chaebol',\n",
       " '(business',\n",
       " 'conglomerate).',\n",
       " 'As',\n",
       " 'of',\n",
       " '2020,',\n",
       " 'Samsung',\n",
       " 'has',\n",
       " 'the',\n",
       " 'eighth',\n",
       " 'highest',\n",
       " 'global',\n",
       " 'brand',\n",
       " 'value.[4]\\n\\nSamsung',\n",
       " 'was',\n",
       " 'founded',\n",
       " 'by',\n",
       " 'Lee',\n",
       " 'Byung-chul',\n",
       " 'in',\n",
       " '1938',\n",
       " 'as',\n",
       " 'a',\n",
       " 'trading',\n",
       " 'company.',\n",
       " 'Over',\n",
       " 'the',\n",
       " 'next',\n",
       " 'three',\n",
       " 'decades,',\n",
       " 'the',\n",
       " 'group',\n",
       " 'diversified',\n",
       " 'into',\n",
       " 'areas',\n",
       " 'including',\n",
       " 'food',\n",
       " 'processing,',\n",
       " 'textiles,',\n",
       " 'insurance,',\n",
       " 'securities,',\n",
       " 'and',\n",
       " 'retail.',\n",
       " 'Samsung',\n",
       " 'entered',\n",
       " 'the',\n",
       " 'electronics',\n",
       " 'industry',\n",
       " 'in',\n",
       " 'the',\n",
       " 'late',\n",
       " '1960s',\n",
       " 'and',\n",
       " 'the',\n",
       " 'construction',\n",
       " 'and',\n",
       " 'shipbuilding',\n",
       " 'industries',\n",
       " 'in',\n",
       " 'the',\n",
       " 'mid-1970s;',\n",
       " 'these',\n",
       " 'areas',\n",
       " 'would',\n",
       " 'drive',\n",
       " 'its',\n",
       " 'subsequent',\n",
       " 'growth.',\n",
       " 'Following',\n",
       " \"Lee's\",\n",
       " 'death',\n",
       " 'in',\n",
       " '1987,',\n",
       " 'Samsung',\n",
       " 'was',\n",
       " 'separated',\n",
       " 'into',\n",
       " 'five',\n",
       " 'business',\n",
       " 'groups',\n",
       " '–',\n",
       " 'Samsung',\n",
       " 'Group,',\n",
       " 'Shinsegae',\n",
       " 'Group,',\n",
       " 'CJ',\n",
       " 'Group',\n",
       " 'and',\n",
       " 'Hansol',\n",
       " 'Group,',\n",
       " 'and',\n",
       " 'JoongAng',\n",
       " 'Group.\\n\\nNotable',\n",
       " 'Samsung',\n",
       " 'industrial',\n",
       " 'affiliates',\n",
       " 'include',\n",
       " 'Samsung',\n",
       " 'Electronics',\n",
       " '(the',\n",
       " \"world's\",\n",
       " 'largest',\n",
       " 'information',\n",
       " 'technology',\n",
       " 'company,',\n",
       " 'consumer',\n",
       " 'electronics',\n",
       " 'maker',\n",
       " 'and',\n",
       " 'chipmaker',\n",
       " 'measured',\n",
       " 'by',\n",
       " '2017',\n",
       " 'revenues),[5][6]',\n",
       " 'Samsung',\n",
       " 'Heavy',\n",
       " 'Industries',\n",
       " '(the',\n",
       " \"world's\",\n",
       " 'second',\n",
       " 'largest',\n",
       " 'shipbuilder',\n",
       " 'measured',\n",
       " 'by',\n",
       " '2010',\n",
       " 'revenues),[7]',\n",
       " 'and',\n",
       " 'Samsung',\n",
       " 'Engineering',\n",
       " 'and',\n",
       " 'Samsung',\n",
       " 'C&T',\n",
       " 'Corporation',\n",
       " '(respectively',\n",
       " 'the',\n",
       " \"world's\",\n",
       " '13th',\n",
       " 'and',\n",
       " '36th',\n",
       " 'largest',\n",
       " 'construction',\n",
       " 'companies).[8]',\n",
       " 'Other',\n",
       " 'notable',\n",
       " 'subsidiaries',\n",
       " 'include',\n",
       " 'Samsung',\n",
       " 'Life',\n",
       " 'Insurance',\n",
       " '(the',\n",
       " \"world's\",\n",
       " '14th',\n",
       " 'largest',\n",
       " 'life',\n",
       " 'insurance',\n",
       " 'company),[9]',\n",
       " 'Samsung',\n",
       " 'Everland',\n",
       " '(operator',\n",
       " 'of',\n",
       " 'Everland',\n",
       " 'Resort,',\n",
       " 'the',\n",
       " 'oldest',\n",
       " 'theme',\n",
       " 'park',\n",
       " 'in',\n",
       " 'South',\n",
       " 'Korea)[10]',\n",
       " 'and',\n",
       " 'Cheil',\n",
       " 'Worldwide',\n",
       " '(the',\n",
       " \"world's\",\n",
       " '15th',\n",
       " 'largest',\n",
       " 'advertising',\n",
       " 'agency,',\n",
       " 'as',\n",
       " 'measured',\n",
       " 'by',\n",
       " '2012',\n",
       " 'revenues).[11][12]']"
      ]
     },
     "execution_count": 76,
     "metadata": {},
     "output_type": "execute_result"
    }
   ],
   "source": [
    "sw.split(' ')"
   ]
  },
  {
   "cell_type": "code",
   "execution_count": 77,
   "id": "f2ce8e08",
   "metadata": {},
   "outputs": [
    {
     "data": {
      "text/plain": [
       "\"Samsung Group,[3] or simply Samsung (Korean: 삼성 [samsʌŋ]) (stylized as SΛMSUNG), is a South Korean multinational manufacturing conglomerate headquartered in Samsung Town, Seoul, South Korea.[1] It comprises numerous affiliated businesses,[1] most of them united under the Samsung brand, and is the largest South Korean chaebol (business conglomerate). As of 2020, Samsung has the eighth highest global brand value.[4]\\n\\nSamsung was founded by Lee Byung-chul in 1938 as a trading company. Over the next three decades, the group diversified into areas including food processing, textiles, insurance, securities, and retail. Samsung entered the electronics industry in the late 1960s and the construction and shipbuilding industries in the mid-1970s; these areas would drive its subsequent growth. Following Lee's death in 1987, Samsung was separated into five business groups – Samsung Group, Shinsegae Group, CJ Group and Hansol Group, and JoongAng Group.\\n\\nNotable Samsung industrial affiliates include Samsung Electronics (the world's largest information technology company, consumer electronics maker and chipmaker measured by 2017 revenues),[5][6] Samsung Heavy Industries (the world's second largest shipbuilder measured by 2010 revenues),[7] and Samsung Engineering and Samsung C&T Corporation (respectively the world's 13th and 36th largest construction companies).[8] Other notable subsidiaries include Samsung Life Insurance (the world's 14th largest life insurance company),[9] Samsung Everland (operator of Everland Resort, the oldest theme park in South Korea)[10] and Cheil Worldwide (the world's 15th largest advertising agency, as measured by 2012 revenues).[11][12]\""
      ]
     },
     "execution_count": 77,
     "metadata": {},
     "output_type": "execute_result"
    }
   ],
   "source": [
    "sw"
   ]
  },
  {
   "cell_type": "code",
   "execution_count": 78,
   "id": "a8383670",
   "metadata": {},
   "outputs": [
    {
     "data": {
      "text/plain": [
       "\"SAMSUNG GROUP,[3] OR SIMPLY SAMSUNG (KOREAN: 삼성 [SAMSɅŊ]) (STYLIZED AS SΛMSUNG), IS A SOUTH KOREAN MULTINATIONAL MANUFACTURING CONGLOMERATE HEADQUARTERED IN SAMSUNG TOWN, SEOUL, SOUTH KOREA.[1] IT COMPRISES NUMEROUS AFFILIATED BUSINESSES,[1] MOST OF THEM UNITED UNDER THE SAMSUNG BRAND, AND IS THE LARGEST SOUTH KOREAN CHAEBOL (BUSINESS CONGLOMERATE). AS OF 2020, SAMSUNG HAS THE EIGHTH HIGHEST GLOBAL BRAND VALUE.[4]\\n\\nSAMSUNG WAS FOUNDED BY LEE BYUNG-CHUL IN 1938 AS A TRADING COMPANY. OVER THE NEXT THREE DECADES, THE GROUP DIVERSIFIED INTO AREAS INCLUDING FOOD PROCESSING, TEXTILES, INSURANCE, SECURITIES, AND RETAIL. SAMSUNG ENTERED THE ELECTRONICS INDUSTRY IN THE LATE 1960S AND THE CONSTRUCTION AND SHIPBUILDING INDUSTRIES IN THE MID-1970S; THESE AREAS WOULD DRIVE ITS SUBSEQUENT GROWTH. FOLLOWING LEE'S DEATH IN 1987, SAMSUNG WAS SEPARATED INTO FIVE BUSINESS GROUPS – SAMSUNG GROUP, SHINSEGAE GROUP, CJ GROUP AND HANSOL GROUP, AND JOONGANG GROUP.\\n\\nNOTABLE SAMSUNG INDUSTRIAL AFFILIATES INCLUDE SAMSUNG ELECTRONICS (THE WORLD'S LARGEST INFORMATION TECHNOLOGY COMPANY, CONSUMER ELECTRONICS MAKER AND CHIPMAKER MEASURED BY 2017 REVENUES),[5][6] SAMSUNG HEAVY INDUSTRIES (THE WORLD'S SECOND LARGEST SHIPBUILDER MEASURED BY 2010 REVENUES),[7] AND SAMSUNG ENGINEERING AND SAMSUNG C&T CORPORATION (RESPECTIVELY THE WORLD'S 13TH AND 36TH LARGEST CONSTRUCTION COMPANIES).[8] OTHER NOTABLE SUBSIDIARIES INCLUDE SAMSUNG LIFE INSURANCE (THE WORLD'S 14TH LARGEST LIFE INSURANCE COMPANY),[9] SAMSUNG EVERLAND (OPERATOR OF EVERLAND RESORT, THE OLDEST THEME PARK IN SOUTH KOREA)[10] AND CHEIL WORLDWIDE (THE WORLD'S 15TH LARGEST ADVERTISING AGENCY, AS MEASURED BY 2012 REVENUES).[11][12]\""
      ]
     },
     "execution_count": 78,
     "metadata": {},
     "output_type": "execute_result"
    }
   ],
   "source": [
    "sw.upper()"
   ]
  },
  {
   "cell_type": "code",
   "execution_count": 79,
   "id": "7cfe8996",
   "metadata": {},
   "outputs": [
    {
     "data": {
      "text/plain": [
       "\"samsung group,[3] or simply samsung (korean: 삼성 [samsʌŋ]) (stylized as sλmsung), is a south korean multinational manufacturing conglomerate headquartered in samsung town, seoul, south korea.[1] it comprises numerous affiliated businesses,[1] most of them united under the samsung brand, and is the largest south korean chaebol (business conglomerate). as of 2020, samsung has the eighth highest global brand value.[4]\\n\\nsamsung was founded by lee byung-chul in 1938 as a trading company. over the next three decades, the group diversified into areas including food processing, textiles, insurance, securities, and retail. samsung entered the electronics industry in the late 1960s and the construction and shipbuilding industries in the mid-1970s; these areas would drive its subsequent growth. following lee's death in 1987, samsung was separated into five business groups – samsung group, shinsegae group, cj group and hansol group, and joongang group.\\n\\nnotable samsung industrial affiliates include samsung electronics (the world's largest information technology company, consumer electronics maker and chipmaker measured by 2017 revenues),[5][6] samsung heavy industries (the world's second largest shipbuilder measured by 2010 revenues),[7] and samsung engineering and samsung c&t corporation (respectively the world's 13th and 36th largest construction companies).[8] other notable subsidiaries include samsung life insurance (the world's 14th largest life insurance company),[9] samsung everland (operator of everland resort, the oldest theme park in south korea)[10] and cheil worldwide (the world's 15th largest advertising agency, as measured by 2012 revenues).[11][12]\""
      ]
     },
     "execution_count": 79,
     "metadata": {},
     "output_type": "execute_result"
    }
   ],
   "source": [
    "sw.lower()"
   ]
  },
  {
   "cell_type": "code",
   "execution_count": 80,
   "id": "d77538e9",
   "metadata": {},
   "outputs": [
    {
     "data": {
      "text/plain": [
       "\"Samsung Group,[3] or simply Samsung (Korean: 삼성 [samsʌŋ]) (stylized as SΛMSUNG), is a South Korean multinational manufacturing conglomerate headquartered in Samsung Town, Seoul, South Korea.[1] It comprises numerous affiliated businesses,[1] most of them united under the Samsung brand, and is the largest South Korean chaebol (business conglomerate). As of 2020, Samsung has the eighth highest global brand value.[4]\\n\\nSamsung was founded by Lee Byung-chul in 1938 as a trading company. Over the next three decades, the group diversified into areas including food processing, textiles, insurance, securities, and retail. Samsung entered the electronics industry in the late 1960s and the construction and shipbuilding industries in the mid-1970s; these areas would drive its subsequent growth. Following Lee's death in 1987, Samsung was separated into five business groups – Samsung Group, Shinsegae Group, CJ Group and Hansol Group, and JoongAng Group.\\n\\nNotable Samsung industrial affiliates include Samsung Electronics (the world's largest information technology company, consumer electronics maker and chipmaker measured by 2017 revenues),[5][6] Samsung Heavy Industries (the world's second largest shipbuilder measured by 2010 revenues),[7] and Samsung Engineering and Samsung C&T Corporation (respectively the world's 13th and 36th largest construction companies).[8] Other notable subsidiaries include Samsung Life Insurance (the world's 14th largest life insurance company),[9] Samsung Everland (operator of Everland Resort, the oldest theme park in South Korea)[10] and Cheil Worldwide (the world's 15th largest advertising agency, as measured by 2012 revenues).[11][12]\""
      ]
     },
     "execution_count": 80,
     "metadata": {},
     "output_type": "execute_result"
    }
   ],
   "source": [
    "sw"
   ]
  },
  {
   "cell_type": "code",
   "execution_count": 81,
   "id": "0450cb59",
   "metadata": {},
   "outputs": [],
   "source": [
    "sw = sw.upper()"
   ]
  },
  {
   "cell_type": "code",
   "execution_count": 82,
   "id": "adeaf332",
   "metadata": {},
   "outputs": [
    {
     "data": {
      "text/plain": [
       "\"SAMSUNG GROUP,[3] OR SIMPLY SAMSUNG (KOREAN: 삼성 [SAMSɅŊ]) (STYLIZED AS SΛMSUNG), IS A SOUTH KOREAN MULTINATIONAL MANUFACTURING CONGLOMERATE HEADQUARTERED IN SAMSUNG TOWN, SEOUL, SOUTH KOREA.[1] IT COMPRISES NUMEROUS AFFILIATED BUSINESSES,[1] MOST OF THEM UNITED UNDER THE SAMSUNG BRAND, AND IS THE LARGEST SOUTH KOREAN CHAEBOL (BUSINESS CONGLOMERATE). AS OF 2020, SAMSUNG HAS THE EIGHTH HIGHEST GLOBAL BRAND VALUE.[4]\\n\\nSAMSUNG WAS FOUNDED BY LEE BYUNG-CHUL IN 1938 AS A TRADING COMPANY. OVER THE NEXT THREE DECADES, THE GROUP DIVERSIFIED INTO AREAS INCLUDING FOOD PROCESSING, TEXTILES, INSURANCE, SECURITIES, AND RETAIL. SAMSUNG ENTERED THE ELECTRONICS INDUSTRY IN THE LATE 1960S AND THE CONSTRUCTION AND SHIPBUILDING INDUSTRIES IN THE MID-1970S; THESE AREAS WOULD DRIVE ITS SUBSEQUENT GROWTH. FOLLOWING LEE'S DEATH IN 1987, SAMSUNG WAS SEPARATED INTO FIVE BUSINESS GROUPS – SAMSUNG GROUP, SHINSEGAE GROUP, CJ GROUP AND HANSOL GROUP, AND JOONGANG GROUP.\\n\\nNOTABLE SAMSUNG INDUSTRIAL AFFILIATES INCLUDE SAMSUNG ELECTRONICS (THE WORLD'S LARGEST INFORMATION TECHNOLOGY COMPANY, CONSUMER ELECTRONICS MAKER AND CHIPMAKER MEASURED BY 2017 REVENUES),[5][6] SAMSUNG HEAVY INDUSTRIES (THE WORLD'S SECOND LARGEST SHIPBUILDER MEASURED BY 2010 REVENUES),[7] AND SAMSUNG ENGINEERING AND SAMSUNG C&T CORPORATION (RESPECTIVELY THE WORLD'S 13TH AND 36TH LARGEST CONSTRUCTION COMPANIES).[8] OTHER NOTABLE SUBSIDIARIES INCLUDE SAMSUNG LIFE INSURANCE (THE WORLD'S 14TH LARGEST LIFE INSURANCE COMPANY),[9] SAMSUNG EVERLAND (OPERATOR OF EVERLAND RESORT, THE OLDEST THEME PARK IN SOUTH KOREA)[10] AND CHEIL WORLDWIDE (THE WORLD'S 15TH LARGEST ADVERTISING AGENCY, AS MEASURED BY 2012 REVENUES).[11][12]\""
      ]
     },
     "execution_count": 82,
     "metadata": {},
     "output_type": "execute_result"
    }
   ],
   "source": [
    "sw"
   ]
  },
  {
   "cell_type": "code",
   "execution_count": 83,
   "id": "ac5ef66b",
   "metadata": {},
   "outputs": [
    {
     "data": {
      "text/plain": [
       "\"samsung group,[3] or simply samsung (korean: 삼성 [samsʌŋ]) (stylized as sλmsung), is a south korean multinational manufacturing conglomerate headquartered in samsung town, seoul, south korea.[1] it comprises numerous affiliated businesses,[1] most of them united under the samsung brand, and is the largest south korean chaebol (business conglomerate). as of 2020, samsung has the eighth highest global brand value.[4]\\n\\nsamsung was founded by lee byung-chul in 1938 as a trading company. over the next three decades, the group diversified into areas including food processing, textiles, insurance, securities, and retail. samsung entered the electronics industry in the late 1960s and the construction and shipbuilding industries in the mid-1970s; these areas would drive its subsequent growth. following lee's death in 1987, samsung was separated into five business groups – samsung group, shinsegae group, cj group and hansol group, and joongang group.\\n\\nnotable samsung industrial affiliates include samsung electronics (the world's largest information technology company, consumer electronics maker and chipmaker measured by 2017 revenues),[5][6] samsung heavy industries (the world's second largest shipbuilder measured by 2010 revenues),[7] and samsung engineering and samsung c&t corporation (respectively the world's 13th and 36th largest construction companies).[8] other notable subsidiaries include samsung life insurance (the world's 14th largest life insurance company),[9] samsung everland (operator of everland resort, the oldest theme park in south korea)[10] and cheil worldwide (the world's 15th largest advertising agency, as measured by 2012 revenues).[11][12]\""
      ]
     },
     "execution_count": 83,
     "metadata": {},
     "output_type": "execute_result"
    }
   ],
   "source": [
    "sw.lower()"
   ]
  },
  {
   "cell_type": "code",
   "execution_count": 84,
   "id": "5e991dff",
   "metadata": {},
   "outputs": [],
   "source": [
    "s = 'prince'"
   ]
  },
  {
   "cell_type": "code",
   "execution_count": 85,
   "id": "37f84006",
   "metadata": {},
   "outputs": [
    {
     "data": {
      "text/plain": [
       "'Prince'"
      ]
     },
     "execution_count": 85,
     "metadata": {},
     "output_type": "execute_result"
    }
   ],
   "source": [
    "s.title()"
   ]
  },
  {
   "cell_type": "code",
   "execution_count": 86,
   "id": "6472c43c",
   "metadata": {},
   "outputs": [],
   "source": [
    "s= 'prince francis'"
   ]
  },
  {
   "cell_type": "code",
   "execution_count": 87,
   "id": "f5782a4b",
   "metadata": {},
   "outputs": [
    {
     "data": {
      "text/plain": [
       "'Prince Francis'"
      ]
     },
     "execution_count": 87,
     "metadata": {},
     "output_type": "execute_result"
    }
   ],
   "source": [
    "s.title()"
   ]
  },
  {
   "cell_type": "code",
   "execution_count": 88,
   "id": "f69902f6",
   "metadata": {},
   "outputs": [
    {
     "data": {
      "text/plain": [
       "'Prince francis'"
      ]
     },
     "execution_count": 88,
     "metadata": {},
     "output_type": "execute_result"
    }
   ],
   "source": [
    "s.capitalize()"
   ]
  },
  {
   "cell_type": "code",
   "execution_count": 89,
   "id": "8b86dffe",
   "metadata": {},
   "outputs": [],
   "source": [
    "s = \"Prince FraNCis\""
   ]
  },
  {
   "cell_type": "code",
   "execution_count": 90,
   "id": "169ae863",
   "metadata": {},
   "outputs": [
    {
     "data": {
      "text/plain": [
       "'pRINCE fRAncIS'"
      ]
     },
     "execution_count": 90,
     "metadata": {},
     "output_type": "execute_result"
    }
   ],
   "source": [
    "s.swapcase()"
   ]
  },
  {
   "cell_type": "code",
   "execution_count": 91,
   "id": "9547fba0",
   "metadata": {},
   "outputs": [
    {
     "data": {
      "text/plain": [
       "<reversed at 0x17c8b79e970>"
      ]
     },
     "execution_count": 91,
     "metadata": {},
     "output_type": "execute_result"
    }
   ],
   "source": [
    " reversed(s)"
   ]
  },
  {
   "cell_type": "code",
   "execution_count": 93,
   "id": "5eddcdc1",
   "metadata": {},
   "outputs": [
    {
     "data": {
      "text/plain": [
       "'siCNarF ecnirP'"
      ]
     },
     "execution_count": 93,
     "metadata": {},
     "output_type": "execute_result"
    }
   ],
   "source": [
    "\"\".join(reversed(s))"
   ]
  },
  {
   "cell_type": "code",
   "execution_count": 94,
   "id": "34ce9d31",
   "metadata": {},
   "outputs": [
    {
     "data": {
      "text/plain": [
       "'siCNarF ecnirP'"
      ]
     },
     "execution_count": 94,
     "metadata": {},
     "output_type": "execute_result"
    }
   ],
   "source": [
    "s[::-1]"
   ]
  },
  {
   "cell_type": "code",
   "execution_count": 95,
   "id": "66bc8042",
   "metadata": {},
   "outputs": [],
   "source": [
    "s = \"   prince  \""
   ]
  },
  {
   "cell_type": "code",
   "execution_count": 96,
   "id": "56009c39",
   "metadata": {},
   "outputs": [
    {
     "data": {
      "text/plain": [
       "'prince  '"
      ]
     },
     "execution_count": 96,
     "metadata": {},
     "output_type": "execute_result"
    }
   ],
   "source": [
    "s.lstrip()"
   ]
  },
  {
   "cell_type": "code",
   "execution_count": 97,
   "id": "874629c5",
   "metadata": {},
   "outputs": [
    {
     "data": {
      "text/plain": [
       "'prince'"
      ]
     },
     "execution_count": 97,
     "metadata": {},
     "output_type": "execute_result"
    }
   ],
   "source": [
    "s.strip()"
   ]
  },
  {
   "cell_type": "code",
   "execution_count": 98,
   "id": "7e3a880e",
   "metadata": {},
   "outputs": [
    {
     "data": {
      "text/plain": [
       "'   prince'"
      ]
     },
     "execution_count": 98,
     "metadata": {},
     "output_type": "execute_result"
    }
   ],
   "source": [
    "s.rstrip()"
   ]
  },
  {
   "cell_type": "code",
   "execution_count": 99,
   "id": "6c1fafba",
   "metadata": {},
   "outputs": [],
   "source": [
    "s=  '   Prin  ce   '"
   ]
  },
  {
   "cell_type": "code",
   "execution_count": 100,
   "id": "44535fd2",
   "metadata": {},
   "outputs": [
    {
     "data": {
      "text/plain": [
       "'Prin  ce'"
      ]
     },
     "execution_count": 100,
     "metadata": {},
     "output_type": "execute_result"
    }
   ],
   "source": [
    "s.strip()"
   ]
  },
  {
   "cell_type": "code",
   "execution_count": 101,
   "id": "e961a89a",
   "metadata": {},
   "outputs": [
    {
     "data": {
      "text/plain": [
       "'Prin  ce   '"
      ]
     },
     "execution_count": 101,
     "metadata": {},
     "output_type": "execute_result"
    }
   ],
   "source": [
    "s.lstrip()"
   ]
  },
  {
   "cell_type": "code",
   "execution_count": 102,
   "id": "e0548878",
   "metadata": {},
   "outputs": [
    {
     "data": {
      "text/plain": [
       "'   Prin  ce'"
      ]
     },
     "execution_count": 102,
     "metadata": {},
     "output_type": "execute_result"
    }
   ],
   "source": [
    "s.rstrip()"
   ]
  },
  {
   "cell_type": "code",
   "execution_count": 103,
   "id": "acd88865",
   "metadata": {},
   "outputs": [
    {
     "data": {
      "text/plain": [
       "'p r i n c e'"
      ]
     },
     "execution_count": 103,
     "metadata": {},
     "output_type": "execute_result"
    }
   ],
   "source": [
    "\" \". join(\"prince\")"
   ]
  },
  {
   "cell_type": "code",
   "execution_count": 104,
   "id": "f205050d",
   "metadata": {},
   "outputs": [
    {
     "data": {
      "text/plain": [
       "'p@r@i@n@c@e'"
      ]
     },
     "execution_count": 104,
     "metadata": {},
     "output_type": "execute_result"
    }
   ],
   "source": [
    "\"@\".join(\"prince\")"
   ]
  },
  {
   "cell_type": "code",
   "execution_count": 105,
   "id": "9f9de7a7",
   "metadata": {},
   "outputs": [
    {
     "data": {
      "text/plain": [
       "'p$r$i$n$c$e'"
      ]
     },
     "execution_count": 105,
     "metadata": {},
     "output_type": "execute_result"
    }
   ],
   "source": [
    "\"$\".join(\"prince\")"
   ]
  },
  {
   "cell_type": "code",
   "execution_count": 106,
   "id": "bbb77969",
   "metadata": {},
   "outputs": [],
   "source": [
    "s = \"prince\""
   ]
  },
  {
   "cell_type": "code",
   "execution_count": 109,
   "id": "dbe6c142",
   "metadata": {},
   "outputs": [
    {
     "data": {
      "text/plain": [
       "'$$$$$$$prince$$$$$$'"
      ]
     },
     "execution_count": 109,
     "metadata": {},
     "output_type": "execute_result"
    }
   ],
   "source": [
    "s.center(19, '$')"
   ]
  },
  {
   "cell_type": "code",
   "execution_count": 110,
   "id": "42b5f566",
   "metadata": {},
   "outputs": [],
   "source": [
    "s = \"Prince\""
   ]
  },
  {
   "cell_type": "code",
   "execution_count": 111,
   "id": "74d80365",
   "metadata": {},
   "outputs": [
    {
     "data": {
      "text/plain": [
       "True"
      ]
     },
     "execution_count": 111,
     "metadata": {},
     "output_type": "execute_result"
    }
   ],
   "source": [
    "s.isalnum()"
   ]
  },
  {
   "cell_type": "code",
   "execution_count": 112,
   "id": "149b8e49",
   "metadata": {},
   "outputs": [
    {
     "data": {
      "text/plain": [
       "True"
      ]
     },
     "execution_count": 112,
     "metadata": {},
     "output_type": "execute_result"
    }
   ],
   "source": [
    "s.isalpha()"
   ]
  },
  {
   "cell_type": "code",
   "execution_count": 113,
   "id": "d5541686",
   "metadata": {},
   "outputs": [
    {
     "data": {
      "text/plain": [
       "False"
      ]
     },
     "execution_count": 113,
     "metadata": {},
     "output_type": "execute_result"
    }
   ],
   "source": [
    "s.isnumeric()"
   ]
  },
  {
   "cell_type": "code",
   "execution_count": 114,
   "id": "60d406ea",
   "metadata": {},
   "outputs": [
    {
     "data": {
      "text/plain": [
       "False"
      ]
     },
     "execution_count": 114,
     "metadata": {},
     "output_type": "execute_result"
    }
   ],
   "source": [
    "s.isdigit()"
   ]
  },
  {
   "cell_type": "code",
   "execution_count": 115,
   "id": "8658c238",
   "metadata": {},
   "outputs": [
    {
     "data": {
      "text/plain": [
       "False"
      ]
     },
     "execution_count": 115,
     "metadata": {},
     "output_type": "execute_result"
    }
   ],
   "source": [
    "s.isupper()"
   ]
  },
  {
   "cell_type": "code",
   "execution_count": 116,
   "id": "79a342b2",
   "metadata": {},
   "outputs": [
    {
     "data": {
      "text/plain": [
       "False"
      ]
     },
     "execution_count": 116,
     "metadata": {},
     "output_type": "execute_result"
    }
   ],
   "source": [
    "s.islower()"
   ]
  },
  {
   "cell_type": "code",
   "execution_count": 117,
   "id": "8d0f1acd",
   "metadata": {},
   "outputs": [
    {
     "data": {
      "text/plain": [
       "'Prince'"
      ]
     },
     "execution_count": 117,
     "metadata": {},
     "output_type": "execute_result"
    }
   ],
   "source": [
    "s"
   ]
  },
  {
   "cell_type": "code",
   "execution_count": 118,
   "id": "eb489b91",
   "metadata": {},
   "outputs": [
    {
     "data": {
      "text/plain": [
       "True"
      ]
     },
     "execution_count": 118,
     "metadata": {},
     "output_type": "execute_result"
    }
   ],
   "source": [
    "s.istitle()"
   ]
  },
  {
   "cell_type": "code",
   "execution_count": 119,
   "id": "a7b06be6",
   "metadata": {},
   "outputs": [],
   "source": [
    "s1= \"PRINCE\""
   ]
  },
  {
   "cell_type": "code",
   "execution_count": 120,
   "id": "0375f1d3",
   "metadata": {},
   "outputs": [
    {
     "data": {
      "text/plain": [
       "True"
      ]
     },
     "execution_count": 120,
     "metadata": {},
     "output_type": "execute_result"
    }
   ],
   "source": [
    "s1.isupper()"
   ]
  },
  {
   "cell_type": "code",
   "execution_count": 121,
   "id": "4aee63ee",
   "metadata": {},
   "outputs": [
    {
     "data": {
      "text/plain": [
       "False"
      ]
     },
     "execution_count": 121,
     "metadata": {},
     "output_type": "execute_result"
    }
   ],
   "source": [
    "s1.islower()"
   ]
  },
  {
   "cell_type": "code",
   "execution_count": 122,
   "id": "28cd6c34",
   "metadata": {},
   "outputs": [],
   "source": [
    "s2 =\"prince\""
   ]
  },
  {
   "cell_type": "code",
   "execution_count": 123,
   "id": "2483b01f",
   "metadata": {},
   "outputs": [
    {
     "data": {
      "text/plain": [
       "True"
      ]
     },
     "execution_count": 123,
     "metadata": {},
     "output_type": "execute_result"
    }
   ],
   "source": [
    "s2.islower()"
   ]
  },
  {
   "cell_type": "code",
   "execution_count": null,
   "id": "c211c8b5",
   "metadata": {},
   "outputs": [],
   "source": []
  }
 ],
 "metadata": {
  "kernelspec": {
   "display_name": "Python 3",
   "language": "python",
   "name": "python3"
  },
  "language_info": {
   "codemirror_mode": {
    "name": "ipython",
    "version": 3
   },
   "file_extension": ".py",
   "mimetype": "text/x-python",
   "name": "python",
   "nbconvert_exporter": "python",
   "pygments_lexer": "ipython3",
   "version": "3.8.8"
  }
 },
 "nbformat": 4,
 "nbformat_minor": 5
}
