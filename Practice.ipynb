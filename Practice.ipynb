{
 "cells": [
  {
   "cell_type": "code",
   "execution_count": 4,
   "id": "12e4c18c",
   "metadata": {},
   "outputs": [],
   "source": [
    "a = 10\n",
    "if a == 11:\n",
    "    print('this is my first condition')"
   ]
  },
  {
   "cell_type": "code",
   "execution_count": 5,
   "id": "3c9f03ce",
   "metadata": {},
   "outputs": [],
   "source": [
    "a =10\n",
    "if a>5:\n",
    "    pass"
   ]
  },
  {
   "cell_type": "code",
   "execution_count": 6,
   "id": "293590ca",
   "metadata": {},
   "outputs": [
    {
     "name": "stdout",
     "output_type": "stream",
     "text": [
      "print this if condition is true\n"
     ]
    }
   ],
   "source": [
    "a = 10\n",
    "if a > 8 :\n",
    "    print('print this if condition is true')"
   ]
  },
  {
   "cell_type": "code",
   "execution_count": 7,
   "id": "3a7b5db6",
   "metadata": {},
   "outputs": [],
   "source": [
    "l =[1,2,3,4,'prince','francis',45.56]"
   ]
  },
  {
   "cell_type": "code",
   "execution_count": 8,
   "id": "6b530601",
   "metadata": {},
   "outputs": [
    {
     "name": "stdout",
     "output_type": "stream",
     "text": [
      "1\n",
      "2\n",
      "3\n",
      "4\n",
      "prince\n",
      "francis\n",
      "45.56\n"
     ]
    }
   ],
   "source": [
    "for i in l:\n",
    "    print(i)"
   ]
  },
  {
   "cell_type": "code",
   "execution_count": 9,
   "id": "0046e91d",
   "metadata": {},
   "outputs": [],
   "source": [
    "for i in l:\n",
    "    pass"
   ]
  },
  {
   "cell_type": "code",
   "execution_count": 11,
   "id": "346acac2",
   "metadata": {},
   "outputs": [],
   "source": [
    "s ='prince'"
   ]
  },
  {
   "cell_type": "code",
   "execution_count": 12,
   "id": "c897be64",
   "metadata": {},
   "outputs": [
    {
     "name": "stdout",
     "output_type": "stream",
     "text": [
      "p\n",
      "r\n",
      "i\n",
      "n\n",
      "c\n",
      "e\n"
     ]
    }
   ],
   "source": [
    "for i in s:\n",
    "    print(i)"
   ]
  },
  {
   "cell_type": "code",
   "execution_count": 15,
   "id": "7175f52f",
   "metadata": {},
   "outputs": [
    {
     "name": "stdout",
     "output_type": "stream",
     "text": [
      "prince"
     ]
    }
   ],
   "source": [
    "for i in s:\n",
    "    print(i, end= '')"
   ]
  },
  {
   "cell_type": "code",
   "execution_count": 16,
   "id": "28b9290f",
   "metadata": {},
   "outputs": [
    {
     "name": "stdout",
     "output_type": "stream",
     "text": [
      "1\n",
      "2\n",
      "3\n",
      "4\n",
      "prince\n",
      "francis\n",
      "45.56\n",
      "if for loop is going to complete itself then it will execute else\n"
     ]
    }
   ],
   "source": [
    "for i in l:\n",
    "    print(i)\n",
    "else:\n",
    "    print('if for loop is going to complete itself then it will execute else')"
   ]
  },
  {
   "cell_type": "code",
   "execution_count": 17,
   "id": "e5f9edd7",
   "metadata": {},
   "outputs": [
    {
     "data": {
      "text/plain": [
       "[1, 2, 3, 4, 'prince', 'francis', 45.56]"
      ]
     },
     "execution_count": 17,
     "metadata": {},
     "output_type": "execute_result"
    }
   ],
   "source": [
    "l"
   ]
  },
  {
   "cell_type": "code",
   "execution_count": 18,
   "id": "8f85e599",
   "metadata": {},
   "outputs": [
    {
     "name": "stdout",
     "output_type": "stream",
     "text": [
      "1\n",
      "2\n",
      "3\n"
     ]
    }
   ],
   "source": [
    "for i in l:\n",
    "    if i==4:\n",
    "        break\n",
    "    print(i)\n",
    "else:\n",
    "    print('this will execute only if for is going to complete itself')"
   ]
  },
  {
   "cell_type": "code",
   "execution_count": 19,
   "id": "928f3a96",
   "metadata": {},
   "outputs": [],
   "source": [
    "s = 'prince'"
   ]
  },
  {
   "cell_type": "code",
   "execution_count": 21,
   "id": "05f343e6",
   "metadata": {},
   "outputs": [
    {
     "name": "stdout",
     "output_type": "stream",
     "text": [
      "p\n",
      "r\n",
      "i\n",
      "n\n",
      "c\n",
      "e\n",
      "print string prince\n"
     ]
    }
   ],
   "source": [
    "for i in s:\n",
    "    if i=='z':\n",
    "        break\n",
    "    print(i)\n",
    "else:\n",
    "    print('print string',s)"
   ]
  },
  {
   "cell_type": "code",
   "execution_count": 24,
   "id": "108eb4ad",
   "metadata": {},
   "outputs": [
    {
     "name": "stdout",
     "output_type": "stream",
     "text": [
      "4\n",
      "5\n",
      "6\n",
      "7\n",
      "8\n",
      "6\n",
      "prince\n"
     ]
    }
   ],
   "source": [
    "t=(4,5,6,7,8,6,'prince')\n",
    "for i in t:\n",
    "    print(i)"
   ]
  },
  {
   "cell_type": "code",
   "execution_count": 25,
   "id": "44553f26",
   "metadata": {},
   "outputs": [],
   "source": [
    "b = {4,5,6,7,7,7,7,7,7,7,8,'prince'}"
   ]
  },
  {
   "cell_type": "code",
   "execution_count": 26,
   "id": "e65ceee4",
   "metadata": {},
   "outputs": [
    {
     "data": {
      "text/plain": [
       "set"
      ]
     },
     "execution_count": 26,
     "metadata": {},
     "output_type": "execute_result"
    }
   ],
   "source": [
    "type(b)"
   ]
  },
  {
   "cell_type": "code",
   "execution_count": 27,
   "id": "9bbb76f0",
   "metadata": {},
   "outputs": [
    {
     "data": {
      "text/plain": [
       "{4, 5, 6, 7, 8, 'prince'}"
      ]
     },
     "execution_count": 27,
     "metadata": {},
     "output_type": "execute_result"
    }
   ],
   "source": [
    "b"
   ]
  },
  {
   "cell_type": "code",
   "execution_count": 28,
   "id": "364dae7a",
   "metadata": {},
   "outputs": [
    {
     "name": "stdout",
     "output_type": "stream",
     "text": [
      "4\n",
      "5\n",
      "6\n",
      "7\n",
      "8\n",
      "prince\n"
     ]
    }
   ],
   "source": [
    "for i in b:\n",
    "    print(i)"
   ]
  },
  {
   "cell_type": "code",
   "execution_count": 29,
   "id": "12870cf0",
   "metadata": {},
   "outputs": [],
   "source": [
    "d= {'key1':'prince','contact':'prince.francis64@gmail.com','position':'xyz'}"
   ]
  },
  {
   "cell_type": "code",
   "execution_count": 36,
   "id": "3cd07007",
   "metadata": {},
   "outputs": [
    {
     "name": "stdout",
     "output_type": "stream",
     "text": [
      "prince\n",
      "prince.francis64@gmail.com\n",
      "xyz\n"
     ]
    }
   ],
   "source": [
    "for i in d:\n",
    "    print(d[i])"
   ]
  },
  {
   "cell_type": "code",
   "execution_count": 39,
   "id": "5ddaa99f",
   "metadata": {},
   "outputs": [
    {
     "data": {
      "text/plain": [
       "('prince', 'prince.francis64@gmail.com', 'xyz')"
      ]
     },
     "execution_count": 39,
     "metadata": {},
     "output_type": "execute_result"
    }
   ],
   "source": [
    "d['key1'],d['contact'],d['position']"
   ]
  },
  {
   "cell_type": "code",
   "execution_count": 40,
   "id": "3a277cf0",
   "metadata": {},
   "outputs": [
    {
     "data": {
      "text/plain": [
       "(1, 2, 2, 3, 4)"
      ]
     },
     "execution_count": 40,
     "metadata": {},
     "output_type": "execute_result"
    }
   ],
   "source": [
    "1,2,2,3,4"
   ]
  },
  {
   "cell_type": "code",
   "execution_count": 41,
   "id": "107e96ea",
   "metadata": {},
   "outputs": [
    {
     "name": "stdout",
     "output_type": "stream",
     "text": [
      "key1 : prince\n",
      "contact : prince.francis64@gmail.com\n",
      "position : xyz\n"
     ]
    }
   ],
   "source": [
    "for i in d:\n",
    "    print(i,':',d[i])"
   ]
  },
  {
   "cell_type": "code",
   "execution_count": 44,
   "id": "4e16d80f",
   "metadata": {},
   "outputs": [
    {
     "name": "stdout",
     "output_type": "stream",
     "text": [
      "*\n",
      "**\n",
      "***\n",
      "****\n"
     ]
    }
   ],
   "source": [
    "for i in range(1,5):\n",
    "    print(i*'*')"
   ]
  },
  {
   "cell_type": "code",
   "execution_count": 47,
   "id": "b5a8df93",
   "metadata": {},
   "outputs": [
    {
     "name": "stdout",
     "output_type": "stream",
     "text": [
      "prince \n",
      "\n",
      "prince prince \n",
      "\n",
      "prince prince prince \n",
      "\n",
      "prince prince prince prince \n",
      "\n"
     ]
    }
   ],
   "source": [
    "for i in range(4):\n",
    "    for j in range(0,i+1):\n",
    "        print('prince', end=' ')\n",
    "    print('\\n')"
   ]
  },
  {
   "cell_type": "code",
   "execution_count": 55,
   "id": "3948ae2f",
   "metadata": {},
   "outputs": [
    {
     "name": "stdout",
     "output_type": "stream",
     "text": [
      "enter the number of rows-5\n",
      "    * \n",
      "   * * \n",
      "  * * * \n",
      " * * * * \n",
      "* * * * * \n"
     ]
    }
   ],
   "source": [
    "n=int(input('enter the number of rows-'))\n",
    "for i in range(n):\n",
    "    for j in range(n-i-1):\n",
    "        print(' ',end='')\n",
    "    for k in range(i+1):\n",
    "        print('*',end= ' ')\n",
    "    print()\n",
    "    "
   ]
  },
  {
   "cell_type": "code",
   "execution_count": 59,
   "id": "a6af223c",
   "metadata": {},
   "outputs": [
    {
     "name": "stdout",
     "output_type": "stream",
     "text": [
      "6 - n\n",
      "5 - o\n",
      "4 - r\n",
      "3 - u\n",
      "2 - e\n",
      "1 - n\n",
      "0 - i\n"
     ]
    }
   ],
   "source": [
    "s= 'ineuron'\n",
    "for i in range(len(s)-1,-1,-1):\n",
    "    print(i, '-',s[i])\n",
    "    "
   ]
  },
  {
   "cell_type": "code",
   "execution_count": 60,
   "id": "66914b12",
   "metadata": {},
   "outputs": [],
   "source": [
    "d = {1:334646, 'name':'prince', 'email_id':'prince.francis64@gmail.com',234:'lkjlj',\"43\":'sadfas', 234:'54646'}"
   ]
  },
  {
   "cell_type": "code",
   "execution_count": 63,
   "id": "143a4962",
   "metadata": {},
   "outputs": [
    {
     "name": "stdout",
     "output_type": "stream",
     "text": [
      "1 - 334646\n",
      "234 - 54646\n"
     ]
    }
   ],
   "source": [
    "for i in d:\n",
    "    if type(i)==int:\n",
    "        print(i ,'-', d[i])"
   ]
  },
  {
   "cell_type": "code",
   "execution_count": 68,
   "id": "d41435ed",
   "metadata": {},
   "outputs": [
    {
     "name": "stdout",
     "output_type": "stream",
     "text": [
      "b - 2\n",
      "d - 1\n",
      "a - 4\n",
      "c - 2\n"
     ]
    }
   ],
   "source": [
    "s= 'aaaabbccd'\n",
    "for i in set(s):\n",
    "    print(i,'-',s.count(i))"
   ]
  },
  {
   "cell_type": "code",
   "execution_count": 71,
   "id": "cee9e4f3",
   "metadata": {},
   "outputs": [
    {
     "name": "stdout",
     "output_type": "stream",
     "text": [
      "1 - 2\n",
      "6 - 1\n",
      "4 - 4\n",
      "3 - 4\n"
     ]
    }
   ],
   "source": [
    "s=46443431313\n",
    "\n",
    "for i in set(str(s)):\n",
    "    print(i , '-',str(s).count(i))"
   ]
  },
  {
   "cell_type": "code",
   "execution_count": 79,
   "id": "67628edc",
   "metadata": {},
   "outputs": [],
   "source": [
    "t = ('prince','francis',[1,2,3,4,5],(3,4,5,6),{3:3,'key2':'francis'})"
   ]
  },
  {
   "cell_type": "code",
   "execution_count": 82,
   "id": "94420367",
   "metadata": {},
   "outputs": [
    {
     "name": "stdout",
     "output_type": "stream",
     "text": [
      "3\n",
      "3\n",
      "3\n",
      "3\n"
     ]
    }
   ],
   "source": [
    "for i in t:\n",
    "    if type(i)== list or type(i)==tuple:\n",
    "        for j in i:\n",
    "            if j==3:\n",
    "                print(j)\n",
    "    elif type(i)==dict:\n",
    "        for k in i.items():\n",
    "            for l in k:\n",
    "                if l==3:\n",
    "                    print(l)\n",
    "            "
   ]
  },
  {
   "cell_type": "code",
   "execution_count": 84,
   "id": "868635e6",
   "metadata": {},
   "outputs": [
    {
     "name": "stdout",
     "output_type": "stream",
     "text": [
      "1\n",
      "2\n",
      "3\n",
      "4\n",
      "5\n",
      "6\n",
      "7\n",
      "8\n",
      "9\n",
      "10\n"
     ]
    }
   ],
   "source": [
    "a = 1\n",
    "b = 10\n",
    "while a<=10:\n",
    "    print(a)\n",
    "    a=a+1"
   ]
  },
  {
   "cell_type": "code",
   "execution_count": 86,
   "id": "2aa2a4e0",
   "metadata": {},
   "outputs": [
    {
     "name": "stdout",
     "output_type": "stream",
     "text": [
      "1\n",
      "3\n",
      "5\n",
      "7\n",
      "9\n",
      "11\n",
      "print this else block\n"
     ]
    }
   ],
   "source": [
    "a= 1 \n",
    "b= 13\n",
    "while a< b:\n",
    "    print(a)\n",
    "    a = a+2\n",
    "else:\n",
    "    print('print this else block')"
   ]
  },
  {
   "cell_type": "code",
   "execution_count": 88,
   "id": "9cf05364",
   "metadata": {},
   "outputs": [
    {
     "name": "stdout",
     "output_type": "stream",
     "text": [
      "2\n",
      "4\n",
      "5\n",
      "6\n",
      "7\n",
      "8\n",
      "9\n",
      "10\n"
     ]
    }
   ],
   "source": [
    "a = 1\n",
    "b =10\n",
    "while a<b:\n",
    "    a = a+1\n",
    "    if a==3:\n",
    "        continue\n",
    "    print(a)"
   ]
  },
  {
   "cell_type": "code",
   "execution_count": 89,
   "id": "642737ba",
   "metadata": {},
   "outputs": [
    {
     "name": "stdout",
     "output_type": "stream",
     "text": [
      "1\n",
      "2\n",
      "3\n",
      "4\n",
      "65\n",
      "56\n"
     ]
    }
   ],
   "source": [
    "l = [1,2,3,4,65,56]\n",
    "for i in l:\n",
    "    print(i)"
   ]
  },
  {
   "cell_type": "code",
   "execution_count": 91,
   "id": "145088e7",
   "metadata": {},
   "outputs": [
    {
     "name": "stdout",
     "output_type": "stream",
     "text": [
      "1\n",
      "2\n",
      "3\n",
      "4\n",
      "65\n",
      "56\n"
     ]
    }
   ],
   "source": [
    "a = 0\n",
    "while a<len(l):\n",
    "    print (l[a])\n",
    "    a = a+1"
   ]
  },
  {
   "cell_type": "code",
   "execution_count": 93,
   "id": "b738cce1",
   "metadata": {},
   "outputs": [
    {
     "data": {
      "text/plain": [
       "[1, 2, 3, 4, 65, 56]"
      ]
     },
     "execution_count": 93,
     "metadata": {},
     "output_type": "execute_result"
    }
   ],
   "source": [
    "l"
   ]
  },
  {
   "cell_type": "code",
   "execution_count": 95,
   "id": "1ccf3fe9",
   "metadata": {},
   "outputs": [
    {
     "name": "stdout",
     "output_type": "stream",
     "text": [
      "56\n",
      "65\n",
      "4\n",
      "3\n",
      "2\n",
      "1\n"
     ]
    }
   ],
   "source": [
    "a = len(l)-1\n",
    "while 0<=a:\n",
    "    print(l[a])\n",
    "    a= a-1"
   ]
  },
  {
   "cell_type": "code",
   "execution_count": 98,
   "id": "c337f51a",
   "metadata": {},
   "outputs": [
    {
     "name": "stdout",
     "output_type": "stream",
     "text": [
      "1\n",
      "2\n",
      "3\n",
      "4\n",
      "65\n",
      "56\n"
     ]
    }
   ],
   "source": [
    "a = -len(l)\n",
    "while a<=-1:\n",
    "    print(l[a])\n",
    "    a= a+1"
   ]
  },
  {
   "cell_type": "code",
   "execution_count": 99,
   "id": "7d9618a7",
   "metadata": {},
   "outputs": [],
   "source": [
    "d={'k1':'prince', 'k2':[1,2,3,4], 'k3':(2,3,4,5)}"
   ]
  },
  {
   "cell_type": "code",
   "execution_count": 100,
   "id": "9cc245a4",
   "metadata": {},
   "outputs": [
    {
     "data": {
      "text/plain": [
       "3"
      ]
     },
     "execution_count": 100,
     "metadata": {},
     "output_type": "execute_result"
    }
   ],
   "source": [
    "len(d)"
   ]
  },
  {
   "cell_type": "code",
   "execution_count": 104,
   "id": "429f9eae",
   "metadata": {},
   "outputs": [
    {
     "name": "stdout",
     "output_type": "stream",
     "text": [
      "prince\n",
      "[1, 2, 3, 4]\n",
      "(2, 3, 4, 5)\n"
     ]
    }
   ],
   "source": [
    "a = 0\n",
    "b = list(d.keys())\n",
    "while a<len(d):\n",
    "    print(d[b[a]])\n",
    "    a = a+1\n",
    "    \n",
    "    "
   ]
  },
  {
   "cell_type": "code",
   "execution_count": 110,
   "id": "fd8479fe",
   "metadata": {},
   "outputs": [],
   "source": [
    "def test(*args):\n",
    "    return args"
   ]
  },
  {
   "cell_type": "code",
   "execution_count": 111,
   "id": "924f2590",
   "metadata": {},
   "outputs": [
    {
     "data": {
      "text/plain": [
       "('francis',)"
      ]
     },
     "execution_count": 111,
     "metadata": {},
     "output_type": "execute_result"
    }
   ],
   "source": [
    "test('francis')"
   ]
  },
  {
   "cell_type": "code",
   "execution_count": 112,
   "id": "de971078",
   "metadata": {},
   "outputs": [
    {
     "data": {
      "text/plain": [
       "({1: 'prince', 'contact': '9567287370', 234: 646},)"
      ]
     },
     "execution_count": 112,
     "metadata": {},
     "output_type": "execute_result"
    }
   ],
   "source": [
    "test({1:'prince','contact':'9567287370',234:646})"
   ]
  },
  {
   "cell_type": "code",
   "execution_count": 114,
   "id": "a6315e5d",
   "metadata": {},
   "outputs": [],
   "source": [
    "a = lambda a,b:a+b"
   ]
  },
  {
   "cell_type": "code",
   "execution_count": 119,
   "id": "1838e7c4",
   "metadata": {},
   "outputs": [
    {
     "data": {
      "text/plain": [
       "30"
      ]
     },
     "execution_count": 119,
     "metadata": {},
     "output_type": "execute_result"
    }
   ],
   "source": [
    "a(10,20)"
   ]
  },
  {
   "cell_type": "code",
   "execution_count": 120,
   "id": "d9bb993d",
   "metadata": {},
   "outputs": [
    {
     "name": "stdout",
     "output_type": "stream",
     "text": [
      "2 3 5 7 11 13 17 19 23 29 31 37 41 43 47 53 59 61 67 71 73 79 83 89 97 "
     ]
    }
   ],
   "source": [
    "# print prime numbers from 1-100\n",
    "for num in range(1,101):\n",
    "    if num>1:\n",
    "        for i in range(2,num):\n",
    "            if num%i==0:\n",
    "                break\n",
    "        else:\n",
    "            print(num,end = ' ')"
   ]
  },
  {
   "cell_type": "code",
   "execution_count": 152,
   "id": "b54f92e0",
   "metadata": {},
   "outputs": [],
   "source": [
    "# write function which is equivalent to print function\n",
    "def test(*args):\n",
    "    for i in args:\n",
    "        if type(i)==int or type(i)==str or type(i)==tuple or type(i)==list or type(i)==dict:\n",
    "            return i\n"
   ]
  },
  {
   "cell_type": "code",
   "execution_count": 154,
   "id": "ba50a793",
   "metadata": {},
   "outputs": [
    {
     "data": {
      "text/plain": [
       "{'name': 'priya', 'immigration to': 'Canada', 'date': '10/01/2023'}"
      ]
     },
     "execution_count": 154,
     "metadata": {},
     "output_type": "execute_result"
    }
   ],
   "source": [
    "test({'name':'priya','immigration to':'Canada','date':'10/01/2023'})"
   ]
  },
  {
   "cell_type": "code",
   "execution_count": 185,
   "id": "4dff2075",
   "metadata": {},
   "outputs": [],
   "source": [
    "#Try to write a function which is a replica of list append, extend and pop function\n",
    "s = [1,2,3,4,5]\n",
    "\n",
    "def append(*args):\n",
    "    for i in args:\n",
    "        l1=s+i\n",
    "    return l1"
   ]
  },
  {
   "cell_type": "code",
   "execution_count": 186,
   "id": "8ba08531",
   "metadata": {},
   "outputs": [
    {
     "data": {
      "text/plain": [
       "[1, 2, 3, 4, 5, 'prince', 'francis']"
      ]
     },
     "execution_count": 186,
     "metadata": {},
     "output_type": "execute_result"
    }
   ],
   "source": [
    "append(['prince','francis'])"
   ]
  },
  {
   "cell_type": "code",
   "execution_count": 202,
   "id": "1785d4ad",
   "metadata": {},
   "outputs": [],
   "source": [
    "#extend function\n",
    "s = [1,2,3,4,5]\n",
    "l1=[]\n",
    "def extend(*args):\n",
    "    for i in args:\n",
    "        for j in i:\n",
    "            l1.append(j)\n",
    "    return s+l1"
   ]
  },
  {
   "cell_type": "code",
   "execution_count": 203,
   "id": "001b0264",
   "metadata": {},
   "outputs": [
    {
     "data": {
      "text/plain": [
       "[1, 2, 3, 4, 5, 'a', 'n', 'n', 'i', 'e', 's']"
      ]
     },
     "execution_count": 203,
     "metadata": {},
     "output_type": "execute_result"
    }
   ],
   "source": [
    "extend('annies')"
   ]
  },
  {
   "cell_type": "code",
   "execution_count": 242,
   "id": "b4f99a0a",
   "metadata": {},
   "outputs": [
    {
     "name": "stdout",
     "output_type": "stream",
     "text": [
      "enter the index which needs to be popped-9\n"
     ]
    }
   ],
   "source": [
    "#pop function\n",
    "l=[]\n",
    "n = int(input('enter the index which needs to be popped-'))\n",
    "def pop(*args):\n",
    "    for i in range(n):\n",
    "        l.append(args[i])\n",
    "    for i in range(n+1,len(args)):\n",
    "        l.append(args[i])\n",
    "    return l"
   ]
  },
  {
   "cell_type": "code",
   "execution_count": 243,
   "id": "164a4870",
   "metadata": {},
   "outputs": [
    {
     "data": {
      "text/plain": [
       "[1, 2, 3, 4, 5, 'prince', 'priya', 'annies', 'francis']"
      ]
     },
     "execution_count": 243,
     "metadata": {},
     "output_type": "execute_result"
    }
   ],
   "source": [
    "pop(1,2,3,4,5,'prince','priya','annies','francis','gambit')"
   ]
  },
  {
   "cell_type": "code",
   "execution_count": 295,
   "id": "86906576",
   "metadata": {},
   "outputs": [
    {
     "data": {
      "text/plain": [
       "'prince francis'"
      ]
     },
     "execution_count": 295,
     "metadata": {},
     "output_type": "execute_result"
    }
   ],
   "source": [
    "#Try to write a lambda function which can return a concatenation of all the string that we will pass\n",
    "(lambda a, b : a+b)('prince',' francis')"
   ]
  },
  {
   "cell_type": "code",
   "execution_count": 300,
   "id": "6eac17c3",
   "metadata": {},
   "outputs": [],
   "source": [
    "#Try to write a lambda function which can return list of all the square of all the data between 1-100\n",
    "square = lambda args :[i**2 for i in range(args)]"
   ]
  },
  {
   "cell_type": "code",
   "execution_count": 301,
   "id": "6044cb62",
   "metadata": {},
   "outputs": [
    {
     "data": {
      "text/plain": [
       "[0,\n",
       " 1,\n",
       " 4,\n",
       " 9,\n",
       " 16,\n",
       " 25,\n",
       " 36,\n",
       " 49,\n",
       " 64,\n",
       " 81,\n",
       " 100,\n",
       " 121,\n",
       " 144,\n",
       " 169,\n",
       " 196,\n",
       " 225,\n",
       " 256,\n",
       " 289,\n",
       " 324,\n",
       " 361,\n",
       " 400,\n",
       " 441,\n",
       " 484,\n",
       " 529,\n",
       " 576,\n",
       " 625,\n",
       " 676,\n",
       " 729,\n",
       " 784,\n",
       " 841,\n",
       " 900,\n",
       " 961,\n",
       " 1024,\n",
       " 1089,\n",
       " 1156,\n",
       " 1225,\n",
       " 1296,\n",
       " 1369,\n",
       " 1444,\n",
       " 1521,\n",
       " 1600,\n",
       " 1681,\n",
       " 1764,\n",
       " 1849,\n",
       " 1936,\n",
       " 2025,\n",
       " 2116,\n",
       " 2209,\n",
       " 2304,\n",
       " 2401,\n",
       " 2500,\n",
       " 2601,\n",
       " 2704,\n",
       " 2809,\n",
       " 2916,\n",
       " 3025,\n",
       " 3136,\n",
       " 3249,\n",
       " 3364,\n",
       " 3481,\n",
       " 3600,\n",
       " 3721,\n",
       " 3844,\n",
       " 3969,\n",
       " 4096,\n",
       " 4225,\n",
       " 4356,\n",
       " 4489,\n",
       " 4624,\n",
       " 4761,\n",
       " 4900,\n",
       " 5041,\n",
       " 5184,\n",
       " 5329,\n",
       " 5476,\n",
       " 5625,\n",
       " 5776,\n",
       " 5929,\n",
       " 6084,\n",
       " 6241,\n",
       " 6400,\n",
       " 6561,\n",
       " 6724,\n",
       " 6889,\n",
       " 7056,\n",
       " 7225,\n",
       " 7396,\n",
       " 7569,\n",
       " 7744,\n",
       " 7921,\n",
       " 8100,\n",
       " 8281,\n",
       " 8464,\n",
       " 8649,\n",
       " 8836,\n",
       " 9025,\n",
       " 9216,\n",
       " 9409,\n",
       " 9604,\n",
       " 9801,\n",
       " 10000]"
      ]
     },
     "execution_count": 301,
     "metadata": {},
     "output_type": "execute_result"
    }
   ],
   "source": [
    "square(101)"
   ]
  },
  {
   "cell_type": "code",
   "execution_count": 305,
   "id": "55e5e42b",
   "metadata": {},
   "outputs": [
    {
     "name": "stdout",
     "output_type": "stream",
     "text": [
      "Welcome to the future\n",
      "\n"
     ]
    }
   ],
   "source": [
    "#Try to write a function which can perform a read operation from .txt file\n",
    "f = open(\"welcome.txt\",\"r\")\n",
    "data = f.read()\n",
    "print(data)"
   ]
  },
  {
   "cell_type": "code",
   "execution_count": 311,
   "id": "91ee2524",
   "metadata": {},
   "outputs": [],
   "source": [
    "#lambda functions with example\n",
    "#example 1\n",
    "upper_string_reverse= lambda x: x.upper()[::-1]"
   ]
  },
  {
   "cell_type": "code",
   "execution_count": 312,
   "id": "7ef7e65c",
   "metadata": {},
   "outputs": [
    {
     "data": {
      "text/plain": [
       "'ECNIRP'"
      ]
     },
     "execution_count": 312,
     "metadata": {},
     "output_type": "execute_result"
    }
   ],
   "source": [
    "upper_string_reverse('prince')"
   ]
  },
  {
   "cell_type": "code",
   "execution_count": 314,
   "id": "f261c65c",
   "metadata": {},
   "outputs": [],
   "source": [
    "#example 2\n",
    "c = lambda cube: cube*cube*cube"
   ]
  },
  {
   "cell_type": "code",
   "execution_count": 315,
   "id": "dc0589e9",
   "metadata": {},
   "outputs": [
    {
     "data": {
      "text/plain": [
       "125"
      ]
     },
     "execution_count": 315,
     "metadata": {},
     "output_type": "execute_result"
    }
   ],
   "source": [
    "c(5)"
   ]
  },
  {
   "cell_type": "code",
   "execution_count": 318,
   "id": "1c57d525",
   "metadata": {},
   "outputs": [],
   "source": [
    "#example 3\n",
    "max= lambda a,b: a if(a>b) else b"
   ]
  },
  {
   "cell_type": "code",
   "execution_count": 319,
   "id": "76572980",
   "metadata": {},
   "outputs": [
    {
     "data": {
      "text/plain": [
       "65"
      ]
     },
     "execution_count": 319,
     "metadata": {},
     "output_type": "execute_result"
    }
   ],
   "source": [
    "max(2,65)"
   ]
  },
  {
   "cell_type": "code",
   "execution_count": 329,
   "id": "beb7e45e",
   "metadata": {},
   "outputs": [],
   "source": [
    "# example 4\n",
    "sortList = lambda x :[sorted(i) for i in x]"
   ]
  },
  {
   "cell_type": "code",
   "execution_count": 330,
   "id": "25c2d952",
   "metadata": {},
   "outputs": [
    {
     "data": {
      "text/plain": [
       "[[2, 3, 4], [1, 4, 16, 64], [3, 6, 9, 12]]"
      ]
     },
     "execution_count": 330,
     "metadata": {},
     "output_type": "execute_result"
    }
   ],
   "source": [
    "sortList([[2,3,4],[1, 4, 16, 64],[3, 6, 9, 12]])"
   ]
  },
  {
   "cell_type": "code",
   "execution_count": null,
   "id": "a469f0bf",
   "metadata": {},
   "outputs": [],
   "source": []
  },
  {
   "cell_type": "code",
   "execution_count": null,
   "id": "1ec21d96",
   "metadata": {},
   "outputs": [],
   "source": []
  }
 ],
 "metadata": {
  "kernelspec": {
   "display_name": "Python 3",
   "language": "python",
   "name": "python3"
  },
  "language_info": {
   "codemirror_mode": {
    "name": "ipython",
    "version": 3
   },
   "file_extension": ".py",
   "mimetype": "text/x-python",
   "name": "python",
   "nbconvert_exporter": "python",
   "pygments_lexer": "ipython3",
   "version": "3.8.8"
  }
 },
 "nbformat": 4,
 "nbformat_minor": 5
}
