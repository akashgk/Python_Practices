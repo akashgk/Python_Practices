{
 "cells": [
  {
   "cell_type": "code",
   "execution_count": 1,
   "id": "e6fa1dc6",
   "metadata": {},
   "outputs": [
    {
     "ename": "ZeroDivisionError",
     "evalue": "division by zero",
     "output_type": "error",
     "traceback": [
      "\u001b[1;31m---------------------------------------------------------------------------\u001b[0m",
      "\u001b[1;31mZeroDivisionError\u001b[0m                         Traceback (most recent call last)",
      "\u001b[1;32m<ipython-input-1-5895e735636f>\u001b[0m in \u001b[0;36m<module>\u001b[1;34m\u001b[0m\n\u001b[0;32m      1\u001b[0m \u001b[0ma\u001b[0m \u001b[1;33m=\u001b[0m \u001b[1;36m10\u001b[0m\u001b[1;33m\u001b[0m\u001b[1;33m\u001b[0m\u001b[0m\n\u001b[1;32m----> 2\u001b[1;33m \u001b[0ma\u001b[0m\u001b[1;33m/\u001b[0m\u001b[1;36m0\u001b[0m\u001b[1;33m\u001b[0m\u001b[1;33m\u001b[0m\u001b[0m\n\u001b[0m",
      "\u001b[1;31mZeroDivisionError\u001b[0m: division by zero"
     ]
    }
   ],
   "source": [
    "a = 10\n",
    "a/0"
   ]
  },
  {
   "cell_type": "code",
   "execution_count": 2,
   "id": "2ac6c0b4",
   "metadata": {},
   "outputs": [
    {
     "ename": "FileNotFoundError",
     "evalue": "[Errno 2] No such file or directory: 'prince4354.txt'",
     "output_type": "error",
     "traceback": [
      "\u001b[1;31m---------------------------------------------------------------------------\u001b[0m",
      "\u001b[1;31mFileNotFoundError\u001b[0m                         Traceback (most recent call last)",
      "\u001b[1;32m<ipython-input-2-01eb4cf2be8f>\u001b[0m in \u001b[0;36m<module>\u001b[1;34m\u001b[0m\n\u001b[1;32m----> 1\u001b[1;33m \u001b[0mf\u001b[0m \u001b[1;33m=\u001b[0m \u001b[0mopen\u001b[0m\u001b[1;33m(\u001b[0m\u001b[1;34m\"prince4354.txt\"\u001b[0m\u001b[1;33m,\u001b[0m\u001b[1;34m\"r\"\u001b[0m\u001b[1;33m)\u001b[0m\u001b[1;33m\u001b[0m\u001b[1;33m\u001b[0m\u001b[0m\n\u001b[0m\u001b[0;32m      2\u001b[0m \u001b[0mprint\u001b[0m\u001b[1;33m(\u001b[0m\u001b[1;34m\"this is my code to handle an exception\"\u001b[0m\u001b[1;33m)\u001b[0m\u001b[1;33m\u001b[0m\u001b[1;33m\u001b[0m\u001b[0m\n",
      "\u001b[1;31mFileNotFoundError\u001b[0m: [Errno 2] No such file or directory: 'prince4354.txt'"
     ]
    }
   ],
   "source": [
    "f = open(\"prince4354.txt\",\"r\")\n",
    "print(\"this is my code to handle an exception\")"
   ]
  },
  {
   "cell_type": "code",
   "execution_count": 3,
   "id": "33a9913b",
   "metadata": {},
   "outputs": [
    {
     "name": "stdout",
     "output_type": "stream",
     "text": [
      "1.0\n"
     ]
    }
   ],
   "source": [
    "try:\n",
    "    a = 10\n",
    "    print(a/10)\n",
    "except exception as e:\n",
    "    print(e)\n",
    "    print(\"this will be my final code after handling an exception\")"
   ]
  },
  {
   "cell_type": "code",
   "execution_count": 4,
   "id": "294d0891",
   "metadata": {},
   "outputs": [
    {
     "name": "stdout",
     "output_type": "stream",
     "text": [
      "[Errno 2] No such file or directory: 'prince.txt'\n",
      "no such file\n"
     ]
    }
   ],
   "source": [
    "try:\n",
    "    f = open(\"prince.txt\",\"r\")\n",
    "except Exception as e:\n",
    "    print(e)\n",
    "    print(\"no such file\")"
   ]
  },
  {
   "cell_type": "code",
   "execution_count": 5,
   "id": "1bd2c5c7",
   "metadata": {},
   "outputs": [
    {
     "ename": "FileNotFoundError",
     "evalue": "[Errno 2] No such file or directory: 'prince.txt'",
     "output_type": "error",
     "traceback": [
      "\u001b[1;31m---------------------------------------------------------------------------\u001b[0m",
      "\u001b[1;31mFileNotFoundError\u001b[0m                         Traceback (most recent call last)",
      "\u001b[1;32m<ipython-input-5-44aee8fc62da>\u001b[0m in \u001b[0;36m<module>\u001b[1;34m\u001b[0m\n\u001b[1;32m----> 1\u001b[1;33m \u001b[0mf\u001b[0m \u001b[1;33m=\u001b[0m \u001b[0mopen\u001b[0m\u001b[1;33m(\u001b[0m\u001b[1;34m\"prince.txt\"\u001b[0m\u001b[1;33m,\u001b[0m\u001b[1;34m\"r\"\u001b[0m\u001b[1;33m)\u001b[0m\u001b[1;33m\u001b[0m\u001b[1;33m\u001b[0m\u001b[0m\n\u001b[0m\u001b[0;32m      2\u001b[0m \u001b[0mf\u001b[0m\u001b[1;33m.\u001b[0m\u001b[0mwrite\u001b[0m\u001b[1;33m(\u001b[0m\u001b[1;34m\"this is my suspicious code\"\u001b[0m\u001b[1;33m)\u001b[0m\u001b[1;33m\u001b[0m\u001b[1;33m\u001b[0m\u001b[0m\n",
      "\u001b[1;31mFileNotFoundError\u001b[0m: [Errno 2] No such file or directory: 'prince.txt'"
     ]
    }
   ],
   "source": [
    "f = open(\"prince.txt\",\"r\")\n",
    "f.write(\"this is my suspicious code\")"
   ]
  },
  {
   "cell_type": "code",
   "execution_count": 6,
   "id": "1946d6df",
   "metadata": {},
   "outputs": [
    {
     "name": "stdout",
     "output_type": "stream",
     "text": [
      "[Errno 2] No such file or directory: 'prince.txt'\n",
      "this is not my suspicious set of code\n"
     ]
    }
   ],
   "source": [
    "try:\n",
    "    f = open(\"prince.txt\",\"r\")\n",
    "    f.write(\"this is my suspicious code\")\n",
    "except Exception as e:\n",
    "    print(e)\n",
    "    print(\"this is not my suspicious set of code\")"
   ]
  },
  {
   "cell_type": "code",
   "execution_count": 7,
   "id": "b4f3b2ff",
   "metadata": {},
   "outputs": [
    {
     "name": "stdout",
     "output_type": "stream",
     "text": [
      "[Errno 2] No such file or directory: 'prince.txt'\n",
      "this is not my suspicious set of code\n",
      "this block will be executed anytime\n"
     ]
    }
   ],
   "source": [
    "try:\n",
    "    f = open(\"prince.txt\",\"r\")\n",
    "    f.write(\"this is my suspicious code\")\n",
    "except Exception as e:\n",
    "    print(e)\n",
    "    print(\"this is not my suspicious set of code\")\n",
    "finally:\n",
    "    print(\"this block will be executed anytime\")"
   ]
  },
  {
   "cell_type": "code",
   "execution_count": 8,
   "id": "7792047f",
   "metadata": {},
   "outputs": [],
   "source": [
    "while False:\n",
    "    print('asdfasfd')"
   ]
  },
  {
   "cell_type": "code",
   "execution_count": 12,
   "id": "0cea3403",
   "metadata": {},
   "outputs": [],
   "source": [
    "def askint():\n",
    "    try:\n",
    "        val = int(input(\"enter an integer\"))\n",
    "    except Exception as e:\n",
    "        print(e)\n",
    "        print(\"enter an integer please\")\n",
    "        "
   ]
  },
  {
   "cell_type": "code",
   "execution_count": 14,
   "id": "2616640b",
   "metadata": {},
   "outputs": [
    {
     "name": "stdout",
     "output_type": "stream",
     "text": [
      "enter an integerasdfas\n",
      "invalid literal for int() with base 10: 'asdfas'\n",
      "enter an integer please\n"
     ]
    }
   ],
   "source": [
    "askint()"
   ]
  },
  {
   "cell_type": "code",
   "execution_count": 15,
   "id": "fdf03a5c",
   "metadata": {},
   "outputs": [],
   "source": [
    "def askint():\n",
    "    try:\n",
    "        val = int(input(\"enter an integer\"))\n",
    "    except Exception as e:\n",
    "        print(\"no you have not entered an integer\")\n",
    "        try:\n",
    "             val = int(input(\"enter an integer\"))\n",
    "        except:\n",
    "            print(\"we are able to handle your mistake second time \")\n",
    "    finally:\n",
    "        print(\"finally will be executed anyhow\")\n",
    "            \n",
    "        "
   ]
  },
  {
   "cell_type": "code",
   "execution_count": 16,
   "id": "556ae8a2",
   "metadata": {},
   "outputs": [
    {
     "name": "stdout",
     "output_type": "stream",
     "text": [
      "enter an integerjhk\n",
      "no you have not entered an integer\n",
      "enter an integerl;;k\n",
      "we are able to handle your mistake second time \n",
      "finally will be executed anyhow\n"
     ]
    }
   ],
   "source": [
    "askint()"
   ]
  },
  {
   "cell_type": "code",
   "execution_count": 17,
   "id": "9b7ddf66",
   "metadata": {},
   "outputs": [
    {
     "name": "stdout",
     "output_type": "stream",
     "text": [
      "enter an integerlkjl\n",
      "invalid literal for int() with base 10: 'lkjl'\n",
      "please enter an integer\n",
      "enter an integerjlkj\n",
      "invalid literal for int() with base 10: 'jlkj'\n",
      "please enter an integer\n",
      "enter an integerlkjlk\n",
      "invalid literal for int() with base 10: 'lkjlk'\n",
      "please enter an integer\n",
      "enter an integer45\n"
     ]
    }
   ],
   "source": [
    "while True:\n",
    "    try:\n",
    "        v = int(input(\"enter an integer\"))\n",
    "        break\n",
    "    except Exception as e:\n",
    "        print(e)\n",
    "        print(\"please enter an integer\")"
   ]
  },
  {
   "cell_type": "code",
   "execution_count": null,
   "id": "0e1b5cbc",
   "metadata": {},
   "outputs": [],
   "source": []
  }
 ],
 "metadata": {
  "kernelspec": {
   "display_name": "Python 3",
   "language": "python",
   "name": "python3"
  },
  "language_info": {
   "codemirror_mode": {
    "name": "ipython",
    "version": 3
   },
   "file_extension": ".py",
   "mimetype": "text/x-python",
   "name": "python",
   "nbconvert_exporter": "python",
   "pygments_lexer": "ipython3",
   "version": "3.8.8"
  }
 },
 "nbformat": 4,
 "nbformat_minor": 5
}
