{
 "cells": [
  {
   "cell_type": "code",
   "execution_count": 3,
   "id": "5e529af9",
   "metadata": {},
   "outputs": [
    {
     "name": "stdout",
     "output_type": "stream",
     "text": [
      "this is my condition\n"
     ]
    }
   ],
   "source": [
    "a=10\n",
    "if a==10:   #comparison operator\n",
    "    print(\"this is my condition\")"
   ]
  },
  {
   "cell_type": "code",
   "execution_count": 5,
   "id": "f7fa15e6",
   "metadata": {},
   "outputs": [],
   "source": [
    "a=10\n",
    "if a==10:\n",
    "    pass  #if we write nothing in the body then it will show intendation error but if we dont want to write the body then we \n",
    "          #can write pass and it will do nothing,it will just execute the program"
   ]
  },
  {
   "cell_type": "code",
   "execution_count": 6,
   "id": "e8468adf",
   "metadata": {},
   "outputs": [
    {
     "name": "stdout",
     "output_type": "stream",
     "text": [
      "my condition is false\n"
     ]
    }
   ],
   "source": [
    "a=10\n",
    "if a!=11:\n",
    "    print(\"my condition is false\")\n",
    "else:\n",
    "    print(\"print this\")"
   ]
  },
  {
   "cell_type": "code",
   "execution_count": 7,
   "id": "c367dd85",
   "metadata": {},
   "outputs": [
    {
     "name": "stdout",
     "output_type": "stream",
     "text": [
      "if all blocks fail execute this\n"
     ]
    }
   ],
   "source": [
    "a=10\n",
    "if a==12:\n",
    "    print('we are trying to compare 10 with 12')\n",
    "elif a==11:\n",
    "    print('we are trying to compare 10 with 11')\n",
    "else :\n",
    "    print('if all blocks fail execute this')"
   ]
  },
  {
   "cell_type": "code",
   "execution_count": 9,
   "id": "58c9b2c9",
   "metadata": {},
   "outputs": [
    {
     "ename": "SyntaxError",
     "evalue": "invalid syntax (<ipython-input-9-f78e4151b30c>, line 6)",
     "output_type": "error",
     "traceback": [
      "\u001b[1;36m  File \u001b[1;32m\"<ipython-input-9-f78e4151b30c>\"\u001b[1;36m, line \u001b[1;32m6\u001b[0m\n\u001b[1;33m    else price==500:\u001b[0m\n\u001b[1;37m         ^\u001b[0m\n\u001b[1;31mSyntaxError\u001b[0m\u001b[1;31m:\u001b[0m invalid syntax\n"
     ]
    }
   ],
   "source": [
    "price=500\n",
    "if price >500:\n",
    "    print('we cannot afford jacket')\n",
    "elif price <500:\n",
    "    print('will be able to afford jacket')\n",
    "else price==500:  # here we cannot put conditional statement along with else\n",
    "    print('i dont know')  # with if and elif we can write conditions\n",
    "                         # here we can use one thing elif price==500"
   ]
  },
  {
   "cell_type": "code",
   "execution_count": 10,
   "id": "3c3e32f8",
   "metadata": {},
   "outputs": [
    {
     "data": {
      "text/plain": [
       "True"
      ]
     },
     "execution_count": 10,
     "metadata": {},
     "output_type": "execute_result"
    }
   ],
   "source": [
    "l=[1,2,3,4,5,6]\n",
    "2 in l"
   ]
  },
  {
   "cell_type": "code",
   "execution_count": 11,
   "id": "b93608d2",
   "metadata": {},
   "outputs": [
    {
     "name": "stdout",
     "output_type": "stream",
     "text": [
      "perform a task\n"
     ]
    }
   ],
   "source": [
    "if 2 in l :\n",
    "    print('perform a task')\n",
    "else:\n",
    "    print('do not perform this task')"
   ]
  },
  {
   "cell_type": "code",
   "execution_count": 13,
   "id": "e15e12d1",
   "metadata": {},
   "outputs": [
    {
     "name": "stdout",
     "output_type": "stream",
     "text": [
      "try to do addition\n",
      "this is a new statement\n"
     ]
    }
   ],
   "source": [
    "if 1 in l:\n",
    "    print('try to do addition')  #all the conditions are true but it will execute the first one\n",
    "elif 2 in l:\n",
    "    print('try to do sub')\n",
    "elif 3 in l:\n",
    "    print('try to do mul')\n",
    "if 4 in l:\n",
    "    print('this is a new statement')"
   ]
  },
  {
   "cell_type": "code",
   "execution_count": 11,
   "id": "c4438aca",
   "metadata": {},
   "outputs": [
    {
     "name": "stdout",
     "output_type": "stream",
     "text": [
      "550\n",
      "i wont be able to buy anything with this price tag\n",
      "lets try something else\n"
     ]
    }
   ],
   "source": [
    "price = int(input())\n",
    "if price<500:\n",
    "    print('i will be able to buy something')\n",
    "    if price>=400:\n",
    "        print('i will be able to buy a jacket')\n",
    "    elif price>=300:\n",
    "        print('i will be able to buy a shirt')\n",
    "    else:\n",
    "        print('i wont be able to buy anything')\n",
    "else:\n",
    "    print('i wont be able to buy anything with this price tag')\n",
    "    if price<700:\n",
    "        print('lets try something else')"
   ]
  },
  {
   "cell_type": "code",
   "execution_count": 19,
   "id": "b7da84b0",
   "metadata": {},
   "outputs": [
    {
     "name": "stdout",
     "output_type": "stream",
     "text": [
      "399\n",
      "No GRE\n",
      "try something else\n"
     ]
    }
   ],
   "source": [
    "marks= int(input())\n",
    "if marks > 600:\n",
    "    print('you have cleared GRE')\n",
    "elif marks < 600:\n",
    "    print('No GRE')\n",
    "    if marks > 500:\n",
    "        print('you will be getting TOFEL')\n",
    "    elif marks < 400:\n",
    "        print('try something else')\n",
    "else : \n",
    "    print('just cleared GRE')"
   ]
  },
  {
   "cell_type": "code",
   "execution_count": 26,
   "id": "076e7621",
   "metadata": {},
   "outputs": [
    {
     "name": "stdout",
     "output_type": "stream",
     "text": [
      "enter a floating point number=0\n",
      "entered val is zero\n"
     ]
    }
   ],
   "source": [
    "val= float(input('enter a floating point number='))\n",
    "if val >=0:\n",
    "    if val==0:\n",
    "        print ('entered val is zero')\n",
    "    else:\n",
    "        print('entered val is a positive number')\n",
    "else:\n",
    "    print('entered val is a negative number')"
   ]
  },
  {
   "cell_type": "code",
   "execution_count": 1,
   "id": "96860bd5",
   "metadata": {},
   "outputs": [
    {
     "name": "stdout",
     "output_type": "stream",
     "text": [
      "try to do something\n"
     ]
    }
   ],
   "source": [
    "a=10\n",
    "if a < 10 or a==10:\n",
    "    print('try to do something')  ## false or true is true "
   ]
  },
  {
   "cell_type": "code",
   "execution_count": 2,
   "id": "33b4875c",
   "metadata": {},
   "outputs": [],
   "source": [
    "a=10\n",
    "if a < 10 and a==10:\n",
    "    print('try to do something')  ## false and true is false "
   ]
  },
  {
   "cell_type": "code",
   "execution_count": 6,
   "id": "ecea33cc",
   "metadata": {},
   "outputs": [],
   "source": [
    "a= 'sudh'"
   ]
  },
  {
   "cell_type": "code",
   "execution_count": 10,
   "id": "67b3c293",
   "metadata": {},
   "outputs": [
    {
     "name": "stdout",
     "output_type": "stream",
     "text": [
      "this is sudhanshu\n"
     ]
    }
   ],
   "source": [
    "if a =='sudh' or a=='Sudh':\n",
    "    print('this is sudhanshu')"
   ]
  },
  {
   "cell_type": "code",
   "execution_count": 11,
   "id": "f2f6c637",
   "metadata": {},
   "outputs": [],
   "source": [
    "d= {'key1':'value' , 'key2':'prin' , 'key3':'iNeuron'}"
   ]
  },
  {
   "cell_type": "code",
   "execution_count": 15,
   "id": "17db4a26",
   "metadata": {},
   "outputs": [
    {
     "name": "stdout",
     "output_type": "stream",
     "text": [
      "all values are verified\n",
      "dict_values(['value', 'prin', 'iNeuron'])\n"
     ]
    }
   ],
   "source": [
    "if d['key1'] =='value' and d['key2']== 'prin' and d['key3']== 'iNeuron':\n",
    "    print('all values are verified')\n",
    "    print(d.values())\n",
    "else:\n",
    "    print('all the values are not verified')"
   ]
  },
  {
   "cell_type": "code",
   "execution_count": 6,
   "id": "61b0fcb7",
   "metadata": {},
   "outputs": [],
   "source": [
    "p={ 'key1' : 'prince', 'key2':'iNeuron' ,'key3':'barcelona', 'key4':'gavi'}"
   ]
  },
  {
   "cell_type": "code",
   "execution_count": 7,
   "id": "b2521408",
   "metadata": {},
   "outputs": [
    {
     "name": "stdout",
     "output_type": "stream",
     "text": [
      "dict_values(['prince', 'iNeuron', 'barcelona', 'gavi'])\n"
     ]
    }
   ],
   "source": [
    "if p['key1']== 'prince' and p['key2']== 'iNeuron' and p['key3']== 'barcelona' and p['key4']== 'gavi':\n",
    "    print(p.values())\n",
    "else:\n",
    "    print('not verified')"
   ]
  },
  {
   "cell_type": "code",
   "execution_count": 8,
   "id": "c05f4994",
   "metadata": {},
   "outputs": [
    {
     "data": {
      "text/plain": [
       "dict_keys(['key1', 'key2', 'key3', 'key4'])"
      ]
     },
     "execution_count": 8,
     "metadata": {},
     "output_type": "execute_result"
    }
   ],
   "source": [
    "p.keys()"
   ]
  },
  {
   "cell_type": "markdown",
   "id": "edb26b47",
   "metadata": {},
   "source": [
    "# for loop"
   ]
  },
  {
   "cell_type": "code",
   "execution_count": 9,
   "id": "7a63ec55",
   "metadata": {},
   "outputs": [],
   "source": [
    "l=[1,2,3,4,'prince',45.65]"
   ]
  },
  {
   "cell_type": "code",
   "execution_count": 10,
   "id": "e842262a",
   "metadata": {},
   "outputs": [
    {
     "name": "stdout",
     "output_type": "stream",
     "text": [
      "1\n",
      "2\n",
      "3\n",
      "4\n",
      "prince\n",
      "45.65\n"
     ]
    }
   ],
   "source": [
    "for i in l:\n",
    "    print(i)"
   ]
  },
  {
   "cell_type": "code",
   "execution_count": 11,
   "id": "08e06153",
   "metadata": {},
   "outputs": [
    {
     "name": "stdout",
     "output_type": "stream",
     "text": [
      "2\n",
      "3\n",
      "4\n",
      "5\n"
     ]
    },
    {
     "ename": "TypeError",
     "evalue": "can only concatenate str (not \"int\") to str",
     "output_type": "error",
     "traceback": [
      "\u001b[1;31m---------------------------------------------------------------------------\u001b[0m",
      "\u001b[1;31mTypeError\u001b[0m                                 Traceback (most recent call last)",
      "\u001b[1;32m<ipython-input-11-8840afee3391>\u001b[0m in \u001b[0;36m<module>\u001b[1;34m\u001b[0m\n\u001b[0;32m      1\u001b[0m \u001b[1;32mfor\u001b[0m \u001b[0mi\u001b[0m \u001b[1;32min\u001b[0m \u001b[0ml\u001b[0m\u001b[1;33m:\u001b[0m\u001b[1;33m\u001b[0m\u001b[1;33m\u001b[0m\u001b[0m\n\u001b[1;32m----> 2\u001b[1;33m     \u001b[0mprint\u001b[0m\u001b[1;33m(\u001b[0m\u001b[0mi\u001b[0m\u001b[1;33m+\u001b[0m\u001b[1;36m1\u001b[0m\u001b[1;33m)\u001b[0m\u001b[1;33m\u001b[0m\u001b[1;33m\u001b[0m\u001b[0m\n\u001b[0m",
      "\u001b[1;31mTypeError\u001b[0m: can only concatenate str (not \"int\") to str"
     ]
    }
   ],
   "source": [
    "for i in l:\n",
    "    print(i+1)"
   ]
  },
  {
   "cell_type": "code",
   "execution_count": 15,
   "id": "c6b7d605",
   "metadata": {},
   "outputs": [
    {
     "name": "stdout",
     "output_type": "stream",
     "text": [
      "2\n",
      "3\n",
      "4\n",
      "5\n",
      "prince1\n",
      "46.65\n"
     ]
    }
   ],
   "source": [
    "for i in l:\n",
    "    if type(i)== int or type(i)== float:\n",
    "        print(i+1)\n",
    "    elif type(i) == str:\n",
    "        print(i + str(1))"
   ]
  },
  {
   "cell_type": "code",
   "execution_count": 16,
   "id": "93906976",
   "metadata": {},
   "outputs": [
    {
     "name": "stdout",
     "output_type": "stream",
     "text": [
      "[1, 2, 3, 4, 'prince', 45.65]\n",
      "[1, 2, 3, 4, 'prince', 45.65]\n",
      "[1, 2, 3, 4, 'prince', 45.65]\n",
      "[1, 2, 3, 4, 'prince', 45.65]\n",
      "[1, 2, 3, 4, 'prince', 45.65]\n",
      "[1, 2, 3, 4, 'prince', 45.65]\n"
     ]
    }
   ],
   "source": [
    "for i in l:\n",
    "    print(l)  #wrong code, here for every i in l we are printing the whole list several times"
   ]
  },
  {
   "cell_type": "code",
   "execution_count": 17,
   "id": "6b9836ec",
   "metadata": {},
   "outputs": [
    {
     "data": {
      "text/plain": [
       "[1, 2, 3, 4, 'prince', 45.65]"
      ]
     },
     "execution_count": 17,
     "metadata": {},
     "output_type": "execute_result"
    }
   ],
   "source": [
    "l"
   ]
  },
  {
   "cell_type": "code",
   "execution_count": 18,
   "id": "7c4f4786",
   "metadata": {},
   "outputs": [],
   "source": [
    "l1=[]"
   ]
  },
  {
   "cell_type": "code",
   "execution_count": 19,
   "id": "6d1a1c42",
   "metadata": {},
   "outputs": [],
   "source": [
    "for i in l:\n",
    "    if type(i)== int:\n",
    "        l1.append(i)  # trying to put all the integers in another list"
   ]
  },
  {
   "cell_type": "code",
   "execution_count": 20,
   "id": "27560fa3",
   "metadata": {},
   "outputs": [
    {
     "data": {
      "text/plain": [
       "[1, 2, 3, 4]"
      ]
     },
     "execution_count": 20,
     "metadata": {},
     "output_type": "execute_result"
    }
   ],
   "source": [
    "l1"
   ]
  },
  {
   "cell_type": "code",
   "execution_count": 32,
   "id": "d958143d",
   "metadata": {},
   "outputs": [],
   "source": [
    "l1= [\"1\", '2', '3', \"4\", 'prince']"
   ]
  },
  {
   "cell_type": "code",
   "execution_count": 35,
   "id": "2430c9fe",
   "metadata": {},
   "outputs": [
    {
     "name": "stdout",
     "output_type": "stream",
     "text": [
      "1\n",
      "2\n",
      "3\n",
      "4\n"
     ]
    }
   ],
   "source": [
    "for i in l1:\n",
    "    if i.isnumeric():\n",
    "        print(i)"
   ]
  }
 ],
 "metadata": {
  "kernelspec": {
   "display_name": "Python 3",
   "language": "python",
   "name": "python3"
  },
  "language_info": {
   "codemirror_mode": {
    "name": "ipython",
    "version": 3
   },
   "file_extension": ".py",
   "mimetype": "text/x-python",
   "name": "python",
   "nbconvert_exporter": "python",
   "pygments_lexer": "ipython3",
   "version": "3.8.8"
  }
 },
 "nbformat": 4,
 "nbformat_minor": 5
}
