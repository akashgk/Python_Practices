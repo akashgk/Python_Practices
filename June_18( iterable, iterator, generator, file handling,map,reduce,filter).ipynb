{
 "cells": [
  {
   "cell_type": "code",
   "execution_count": 1,
   "id": "c8c48e7c",
   "metadata": {},
   "outputs": [],
   "source": [
    "l = [1,3,4,5,5]"
   ]
  },
  {
   "cell_type": "code",
   "execution_count": 2,
   "id": "3dcc3a4f",
   "metadata": {},
   "outputs": [
    {
     "name": "stdout",
     "output_type": "stream",
     "text": [
      "1\n",
      "3\n",
      "4\n",
      "5\n",
      "5\n"
     ]
    }
   ],
   "source": [
    "for i in l:\n",
    "    print(i)"
   ]
  },
  {
   "cell_type": "code",
   "execution_count": 3,
   "id": "44c6aacb",
   "metadata": {},
   "outputs": [
    {
     "ename": "TypeError",
     "evalue": "'list' object is not an iterator",
     "output_type": "error",
     "traceback": [
      "\u001b[1;31m---------------------------------------------------------------------------\u001b[0m",
      "\u001b[1;31mTypeError\u001b[0m                                 Traceback (most recent call last)",
      "\u001b[1;32m<ipython-input-3-cdc8a39da60d>\u001b[0m in \u001b[0;36m<module>\u001b[1;34m\u001b[0m\n\u001b[1;32m----> 1\u001b[1;33m \u001b[0mnext\u001b[0m\u001b[1;33m(\u001b[0m\u001b[0ml\u001b[0m\u001b[1;33m)\u001b[0m\u001b[1;33m\u001b[0m\u001b[1;33m\u001b[0m\u001b[0m\n\u001b[0m",
      "\u001b[1;31mTypeError\u001b[0m: 'list' object is not an iterator"
     ]
    }
   ],
   "source": [
    "next(l)"
   ]
  },
  {
   "cell_type": "code",
   "execution_count": 4,
   "id": "dec2a200",
   "metadata": {},
   "outputs": [],
   "source": [
    "b=iter(l)"
   ]
  },
  {
   "cell_type": "code",
   "execution_count": 5,
   "id": "ee42972d",
   "metadata": {},
   "outputs": [
    {
     "data": {
      "text/plain": [
       "1"
      ]
     },
     "execution_count": 5,
     "metadata": {},
     "output_type": "execute_result"
    }
   ],
   "source": [
    "next(b)"
   ]
  },
  {
   "cell_type": "code",
   "execution_count": 6,
   "id": "baf62f61",
   "metadata": {},
   "outputs": [
    {
     "data": {
      "text/plain": [
       "3"
      ]
     },
     "execution_count": 6,
     "metadata": {},
     "output_type": "execute_result"
    }
   ],
   "source": [
    "next(b)"
   ]
  },
  {
   "cell_type": "code",
   "execution_count": 7,
   "id": "7454f4dc",
   "metadata": {},
   "outputs": [
    {
     "data": {
      "text/plain": [
       "4"
      ]
     },
     "execution_count": 7,
     "metadata": {},
     "output_type": "execute_result"
    }
   ],
   "source": [
    "next(b)"
   ]
  },
  {
   "cell_type": "code",
   "execution_count": 8,
   "id": "432d5f3f",
   "metadata": {},
   "outputs": [
    {
     "data": {
      "text/plain": [
       "5"
      ]
     },
     "execution_count": 8,
     "metadata": {},
     "output_type": "execute_result"
    }
   ],
   "source": [
    "next(b)"
   ]
  },
  {
   "cell_type": "code",
   "execution_count": 9,
   "id": "fe8b7259",
   "metadata": {},
   "outputs": [
    {
     "data": {
      "text/plain": [
       "5"
      ]
     },
     "execution_count": 9,
     "metadata": {},
     "output_type": "execute_result"
    }
   ],
   "source": [
    "next(b)"
   ]
  },
  {
   "cell_type": "code",
   "execution_count": 10,
   "id": "544c1a76",
   "metadata": {},
   "outputs": [
    {
     "ename": "StopIteration",
     "evalue": "",
     "output_type": "error",
     "traceback": [
      "\u001b[1;31m---------------------------------------------------------------------------\u001b[0m",
      "\u001b[1;31mStopIteration\u001b[0m                             Traceback (most recent call last)",
      "\u001b[1;32m<ipython-input-10-adb3e17b0219>\u001b[0m in \u001b[0;36m<module>\u001b[1;34m\u001b[0m\n\u001b[1;32m----> 1\u001b[1;33m \u001b[0mnext\u001b[0m\u001b[1;33m(\u001b[0m\u001b[0mb\u001b[0m\u001b[1;33m)\u001b[0m\u001b[1;33m\u001b[0m\u001b[1;33m\u001b[0m\u001b[0m\n\u001b[0m",
      "\u001b[1;31mStopIteration\u001b[0m: "
     ]
    }
   ],
   "source": [
    "next(b)"
   ]
  },
  {
   "cell_type": "code",
   "execution_count": 11,
   "id": "d58645d1",
   "metadata": {},
   "outputs": [
    {
     "ename": "TypeError",
     "evalue": "'int' object is not iterable",
     "output_type": "error",
     "traceback": [
      "\u001b[1;31m---------------------------------------------------------------------------\u001b[0m",
      "\u001b[1;31mTypeError\u001b[0m                                 Traceback (most recent call last)",
      "\u001b[1;32m<ipython-input-11-e50867f8c07e>\u001b[0m in \u001b[0;36m<module>\u001b[1;34m\u001b[0m\n\u001b[1;32m----> 1\u001b[1;33m \u001b[0miter\u001b[0m\u001b[1;33m(\u001b[0m\u001b[1;36m45\u001b[0m\u001b[1;33m)\u001b[0m\u001b[1;33m\u001b[0m\u001b[1;33m\u001b[0m\u001b[0m\n\u001b[0m",
      "\u001b[1;31mTypeError\u001b[0m: 'int' object is not iterable"
     ]
    }
   ],
   "source": [
    "iter(45)"
   ]
  },
  {
   "cell_type": "code",
   "execution_count": 12,
   "id": "4172f96a",
   "metadata": {},
   "outputs": [
    {
     "ename": "TypeError",
     "evalue": "'int' object is not iterable",
     "output_type": "error",
     "traceback": [
      "\u001b[1;31m---------------------------------------------------------------------------\u001b[0m",
      "\u001b[1;31mTypeError\u001b[0m                                 Traceback (most recent call last)",
      "\u001b[1;32m<ipython-input-12-08ac0b2bef2c>\u001b[0m in \u001b[0;36m<module>\u001b[1;34m\u001b[0m\n\u001b[1;32m----> 1\u001b[1;33m \u001b[1;32mfor\u001b[0m \u001b[0mi\u001b[0m \u001b[1;32min\u001b[0m \u001b[1;36m5465464\u001b[0m\u001b[1;33m:\u001b[0m\u001b[1;33m\u001b[0m\u001b[1;33m\u001b[0m\u001b[0m\n\u001b[0m\u001b[0;32m      2\u001b[0m     \u001b[0mprint\u001b[0m\u001b[1;33m(\u001b[0m\u001b[0mi\u001b[0m\u001b[1;33m)\u001b[0m\u001b[1;33m\u001b[0m\u001b[1;33m\u001b[0m\u001b[0m\n",
      "\u001b[1;31mTypeError\u001b[0m: 'int' object is not iterable"
     ]
    }
   ],
   "source": [
    "for i in 5465464:\n",
    "    print(i)"
   ]
  },
  {
   "cell_type": "code",
   "execution_count": 13,
   "id": "228412dc",
   "metadata": {},
   "outputs": [
    {
     "name": "stdout",
     "output_type": "stream",
     "text": [
      "p\n",
      "r\n",
      "i\n",
      "n\n",
      "c\n",
      "e\n"
     ]
    }
   ],
   "source": [
    "for i in 'prince':\n",
    "    print(i)"
   ]
  },
  {
   "cell_type": "code",
   "execution_count": 14,
   "id": "cb2f9d1e",
   "metadata": {},
   "outputs": [],
   "source": [
    "s = 'prince'"
   ]
  },
  {
   "cell_type": "code",
   "execution_count": 19,
   "id": "090f1596",
   "metadata": {},
   "outputs": [],
   "source": [
    "s = iter(s)"
   ]
  },
  {
   "cell_type": "code",
   "execution_count": 20,
   "id": "e944ddb8",
   "metadata": {},
   "outputs": [
    {
     "data": {
      "text/plain": [
       "'p'"
      ]
     },
     "execution_count": 20,
     "metadata": {},
     "output_type": "execute_result"
    }
   ],
   "source": [
    "next(s)"
   ]
  },
  {
   "cell_type": "code",
   "execution_count": 21,
   "id": "8ce6589c",
   "metadata": {},
   "outputs": [
    {
     "data": {
      "text/plain": [
       "'r'"
      ]
     },
     "execution_count": 21,
     "metadata": {},
     "output_type": "execute_result"
    }
   ],
   "source": [
    "next(s)"
   ]
  },
  {
   "cell_type": "code",
   "execution_count": 23,
   "id": "1ce0bdd3",
   "metadata": {},
   "outputs": [
    {
     "data": {
      "text/plain": [
       "'i'"
      ]
     },
     "execution_count": 23,
     "metadata": {},
     "output_type": "execute_result"
    }
   ],
   "source": [
    "next(s)"
   ]
  },
  {
   "cell_type": "code",
   "execution_count": 24,
   "id": "a4df79e9",
   "metadata": {},
   "outputs": [],
   "source": [
    "t = (5,6,7,8,8)"
   ]
  },
  {
   "cell_type": "code",
   "execution_count": 25,
   "id": "921c37cb",
   "metadata": {},
   "outputs": [
    {
     "ename": "TypeError",
     "evalue": "'tuple' object is not an iterator",
     "output_type": "error",
     "traceback": [
      "\u001b[1;31m---------------------------------------------------------------------------\u001b[0m",
      "\u001b[1;31mTypeError\u001b[0m                                 Traceback (most recent call last)",
      "\u001b[1;32m<ipython-input-25-f843efe259be>\u001b[0m in \u001b[0;36m<module>\u001b[1;34m\u001b[0m\n\u001b[1;32m----> 1\u001b[1;33m \u001b[0mnext\u001b[0m\u001b[1;33m(\u001b[0m\u001b[0mt\u001b[0m\u001b[1;33m)\u001b[0m\u001b[1;33m\u001b[0m\u001b[1;33m\u001b[0m\u001b[0m\n\u001b[0m",
      "\u001b[1;31mTypeError\u001b[0m: 'tuple' object is not an iterator"
     ]
    }
   ],
   "source": [
    "next(t)"
   ]
  },
  {
   "cell_type": "code",
   "execution_count": 26,
   "id": "f28d81a4",
   "metadata": {},
   "outputs": [],
   "source": [
    "t= iter(t)"
   ]
  },
  {
   "cell_type": "code",
   "execution_count": 27,
   "id": "c40ca28e",
   "metadata": {},
   "outputs": [
    {
     "data": {
      "text/plain": [
       "5"
      ]
     },
     "execution_count": 27,
     "metadata": {},
     "output_type": "execute_result"
    }
   ],
   "source": [
    "next(t)"
   ]
  },
  {
   "cell_type": "code",
   "execution_count": 28,
   "id": "7de4f367",
   "metadata": {},
   "outputs": [
    {
     "data": {
      "text/plain": [
       "6"
      ]
     },
     "execution_count": 28,
     "metadata": {},
     "output_type": "execute_result"
    }
   ],
   "source": [
    "next(t)"
   ]
  },
  {
   "cell_type": "code",
   "execution_count": 29,
   "id": "f188640d",
   "metadata": {},
   "outputs": [
    {
     "data": {
      "text/plain": [
       "7"
      ]
     },
     "execution_count": 29,
     "metadata": {},
     "output_type": "execute_result"
    }
   ],
   "source": [
    "next(t)"
   ]
  },
  {
   "cell_type": "code",
   "execution_count": 30,
   "id": "8c4f866d",
   "metadata": {},
   "outputs": [
    {
     "data": {
      "text/plain": [
       "8"
      ]
     },
     "execution_count": 30,
     "metadata": {},
     "output_type": "execute_result"
    }
   ],
   "source": [
    "next(t)"
   ]
  },
  {
   "cell_type": "code",
   "execution_count": 31,
   "id": "f7494c87",
   "metadata": {},
   "outputs": [
    {
     "data": {
      "text/plain": [
       "8"
      ]
     },
     "execution_count": 31,
     "metadata": {},
     "output_type": "execute_result"
    }
   ],
   "source": [
    "next(t)"
   ]
  },
  {
   "cell_type": "code",
   "execution_count": 32,
   "id": "68157ff0",
   "metadata": {},
   "outputs": [
    {
     "ename": "StopIteration",
     "evalue": "",
     "output_type": "error",
     "traceback": [
      "\u001b[1;31m---------------------------------------------------------------------------\u001b[0m",
      "\u001b[1;31mStopIteration\u001b[0m                             Traceback (most recent call last)",
      "\u001b[1;32m<ipython-input-32-f843efe259be>\u001b[0m in \u001b[0;36m<module>\u001b[1;34m\u001b[0m\n\u001b[1;32m----> 1\u001b[1;33m \u001b[0mnext\u001b[0m\u001b[1;33m(\u001b[0m\u001b[0mt\u001b[0m\u001b[1;33m)\u001b[0m\u001b[1;33m\u001b[0m\u001b[1;33m\u001b[0m\u001b[0m\n\u001b[0m",
      "\u001b[1;31mStopIteration\u001b[0m: "
     ]
    }
   ],
   "source": [
    "next(t)   #next funciton does not know where to stop"
   ]
  },
  {
   "cell_type": "code",
   "execution_count": 34,
   "id": "d21ba197",
   "metadata": {},
   "outputs": [
    {
     "data": {
      "text/plain": [
       "[1, 2, 3, 4, 5, 6, 7, 8, 9]"
      ]
     },
     "execution_count": 34,
     "metadata": {},
     "output_type": "execute_result"
    }
   ],
   "source": [
    "list(range(1,10))"
   ]
  },
  {
   "cell_type": "code",
   "execution_count": 35,
   "id": "564c906b",
   "metadata": {},
   "outputs": [
    {
     "data": {
      "text/plain": [
       "[1, 4, 9, 16, 25, 36, 49, 64, 81, 100]"
      ]
     },
     "execution_count": 35,
     "metadata": {},
     "output_type": "execute_result"
    }
   ],
   "source": [
    "[i**2 for i in range(1,11)]"
   ]
  },
  {
   "cell_type": "code",
   "execution_count": 44,
   "id": "03c6f940",
   "metadata": {},
   "outputs": [],
   "source": [
    "def square(a,b):\n",
    "    l =[]\n",
    "    for i in range(a,b):\n",
    "        l.append(i**2)\n",
    "    return l"
   ]
  },
  {
   "cell_type": "code",
   "execution_count": 45,
   "id": "42d23bde",
   "metadata": {},
   "outputs": [
    {
     "data": {
      "text/plain": [
       "[1, 4, 9, 16, 25, 36, 49, 64, 81, 100]"
      ]
     },
     "execution_count": 45,
     "metadata": {},
     "output_type": "execute_result"
    }
   ],
   "source": [
    "square(1,11)"
   ]
  },
  {
   "cell_type": "code",
   "execution_count": 46,
   "id": "b3440dea",
   "metadata": {},
   "outputs": [],
   "source": [
    "def square_fun(n):\n",
    "    x = [i*i for i in range(n)]\n",
    "    return x"
   ]
  },
  {
   "cell_type": "code",
   "execution_count": 47,
   "id": "0ce6b496",
   "metadata": {},
   "outputs": [
    {
     "data": {
      "text/plain": [
       "[0, 1, 4, 9]"
      ]
     },
     "execution_count": 47,
     "metadata": {},
     "output_type": "execute_result"
    }
   ],
   "source": [
    "square_fun(4)"
   ]
  },
  {
   "cell_type": "code",
   "execution_count": 50,
   "id": "56ad3939",
   "metadata": {},
   "outputs": [],
   "source": [
    "def square_fun1(n):\n",
    "    x = [i*i for i in range(n)]\n",
    "    yield x"
   ]
  },
  {
   "cell_type": "code",
   "execution_count": 51,
   "id": "09441f20",
   "metadata": {},
   "outputs": [
    {
     "data": {
      "text/plain": [
       "<generator object square_fun1 at 0x000001B371FF1C10>"
      ]
     },
     "execution_count": 51,
     "metadata": {},
     "output_type": "execute_result"
    }
   ],
   "source": [
    "square_fun1(4)"
   ]
  },
  {
   "cell_type": "code",
   "execution_count": 54,
   "id": "fc3466f3",
   "metadata": {},
   "outputs": [
    {
     "name": "stdout",
     "output_type": "stream",
     "text": [
      "[0, 1, 4, 9]\n"
     ]
    }
   ],
   "source": [
    "for i in square_fun1(4):\n",
    "    print(i)"
   ]
  },
  {
   "cell_type": "code",
   "execution_count": 55,
   "id": "958dfa69",
   "metadata": {},
   "outputs": [
    {
     "name": "stdout",
     "output_type": "stream",
     "text": [
      "0\n",
      "1\n",
      "2\n",
      "3\n"
     ]
    }
   ],
   "source": [
    "for i in range(4):\n",
    "    print(i)"
   ]
  },
  {
   "cell_type": "code",
   "execution_count": 56,
   "id": "975ee1f2",
   "metadata": {},
   "outputs": [
    {
     "data": {
      "text/plain": [
       "[0, 1, 4, 9]"
      ]
     },
     "execution_count": 56,
     "metadata": {},
     "output_type": "execute_result"
    }
   ],
   "source": [
    "next(square_fun1(4))"
   ]
  },
  {
   "cell_type": "code",
   "execution_count": 57,
   "id": "cd55fed3",
   "metadata": {},
   "outputs": [],
   "source": [
    "r=iter(range(4))"
   ]
  },
  {
   "cell_type": "code",
   "execution_count": 58,
   "id": "72db7802",
   "metadata": {},
   "outputs": [
    {
     "data": {
      "text/plain": [
       "0"
      ]
     },
     "execution_count": 58,
     "metadata": {},
     "output_type": "execute_result"
    }
   ],
   "source": [
    "next(r)"
   ]
  },
  {
   "cell_type": "code",
   "execution_count": 59,
   "id": "4d3b6765",
   "metadata": {},
   "outputs": [
    {
     "data": {
      "text/plain": [
       "1"
      ]
     },
     "execution_count": 59,
     "metadata": {},
     "output_type": "execute_result"
    }
   ],
   "source": [
    "next(r)"
   ]
  },
  {
   "cell_type": "code",
   "execution_count": 60,
   "id": "924b015a",
   "metadata": {},
   "outputs": [
    {
     "data": {
      "text/plain": [
       "2"
      ]
     },
     "execution_count": 60,
     "metadata": {},
     "output_type": "execute_result"
    }
   ],
   "source": [
    "next(r)"
   ]
  },
  {
   "cell_type": "code",
   "execution_count": 62,
   "id": "b08a786c",
   "metadata": {},
   "outputs": [
    {
     "data": {
      "text/plain": [
       "3"
      ]
     },
     "execution_count": 62,
     "metadata": {},
     "output_type": "execute_result"
    }
   ],
   "source": [
    "next(r)"
   ]
  },
  {
   "cell_type": "code",
   "execution_count": 63,
   "id": "d5a69fcb",
   "metadata": {},
   "outputs": [
    {
     "ename": "StopIteration",
     "evalue": "",
     "output_type": "error",
     "traceback": [
      "\u001b[1;31m---------------------------------------------------------------------------\u001b[0m",
      "\u001b[1;31mStopIteration\u001b[0m                             Traceback (most recent call last)",
      "\u001b[1;32m<ipython-input-63-8ebe59a56b1d>\u001b[0m in \u001b[0;36m<module>\u001b[1;34m\u001b[0m\n\u001b[1;32m----> 1\u001b[1;33m \u001b[0mnext\u001b[0m\u001b[1;33m(\u001b[0m\u001b[0mr\u001b[0m\u001b[1;33m)\u001b[0m\u001b[1;33m\u001b[0m\u001b[1;33m\u001b[0m\u001b[0m\n\u001b[0m",
      "\u001b[1;31mStopIteration\u001b[0m: "
     ]
    }
   ],
   "source": [
    "next(r)"
   ]
  },
  {
   "cell_type": "code",
   "execution_count": 68,
   "id": "65a18117",
   "metadata": {},
   "outputs": [],
   "source": [
    "#fibonacci number\n",
    "def genfib(n):\n",
    "    a = 0\n",
    "    b = 1\n",
    "    l = []\n",
    "    for i in range(n):\n",
    "        l.append(a)\n",
    "        a ,b = b, a+b\n",
    "    return l"
   ]
  },
  {
   "cell_type": "code",
   "execution_count": 69,
   "id": "8bb00491",
   "metadata": {},
   "outputs": [
    {
     "data": {
      "text/plain": [
       "[0, 1, 1, 2, 3, 5, 8, 13, 21, 34]"
      ]
     },
     "execution_count": 69,
     "metadata": {},
     "output_type": "execute_result"
    }
   ],
   "source": [
    "genfib(10)"
   ]
  },
  {
   "cell_type": "code",
   "execution_count": 72,
   "id": "c8ad4eaa",
   "metadata": {},
   "outputs": [],
   "source": [
    "#fibonacci number\n",
    "\n",
    "def genfib1(n):\n",
    "    a = 0\n",
    "    b = 1\n",
    "    for i in range(n):\n",
    "        yield a\n",
    "        a ,b = b, a+b"
   ]
  },
  {
   "cell_type": "code",
   "execution_count": 73,
   "id": "317b4ece",
   "metadata": {},
   "outputs": [
    {
     "data": {
      "text/plain": [
       "<generator object genfib1 at 0x000001B372002190>"
      ]
     },
     "execution_count": 73,
     "metadata": {},
     "output_type": "execute_result"
    }
   ],
   "source": [
    "genfib1(10)"
   ]
  },
  {
   "cell_type": "code",
   "execution_count": 74,
   "id": "71b42a69",
   "metadata": {},
   "outputs": [
    {
     "name": "stdout",
     "output_type": "stream",
     "text": [
      "0\n",
      "1\n",
      "1\n",
      "2\n",
      "3\n",
      "5\n",
      "8\n",
      "13\n",
      "21\n",
      "34\n"
     ]
    }
   ],
   "source": [
    "for i in genfib1(10):\n",
    "    print(i)"
   ]
  },
  {
   "cell_type": "code",
   "execution_count": 75,
   "id": "62c3a038",
   "metadata": {},
   "outputs": [],
   "source": [
    "#file operation"
   ]
  },
  {
   "cell_type": "code",
   "execution_count": 79,
   "id": "c4720cb4",
   "metadata": {},
   "outputs": [],
   "source": [
    "f = open('name.txt','w')"
   ]
  },
  {
   "cell_type": "code",
   "execution_count": 80,
   "id": "11d5f664",
   "metadata": {},
   "outputs": [
    {
     "name": "stdout",
     "output_type": "stream",
     "text": [
      " Volume in drive C has no label.\n",
      " Volume Serial Number is AAE0-D3AA\n",
      "\n",
      " Directory of C:\\Users\\ais\\Desktop\\ineuron\\Python\n",
      "\n",
      "10/29/2022  06:17 PM    <DIR>          .\n",
      "10/29/2022  06:17 PM    <DIR>          ..\n",
      "10/29/2022  06:14 PM    <DIR>          .ipynb_checkpoints\n",
      "06/28/2022  11:10 AM           331,288 29th May while loop.ipynb\n",
      "10/28/2022  05:42 PM            24,215 Exception Handling.ipynb\n",
      "10/12/2022  06:07 PM            41,947 for loop practice  (1).ipynb\n",
      "06/20/2022  05:55 PM            19,561 for loop.ipynb\n",
      "06/19/2022  05:13 AM            14,003 if,elif, else.ipynb\n",
      "10/29/2022  06:16 PM            19,280 June_18( iterable, iterator, generator, file handling).ipynb\n",
      "10/20/2022  06:43 AM            12,446 June_4(Revision Class).ipynb\n",
      "10/21/2022  04:19 PM            17,939 June_5(function).ipynb\n",
      "06/01/2022  09:25 PM            64,414 Lists,tuples,dict.ipynb\n",
      "08/08/2022  08:01 PM            10,882 May 14(variable in python intro).ipynb\n",
      "08/18/2022  10:38 PM            85,620 May 15(string manipulation).ipynb\n",
      "09/04/2022  11:22 PM            64,718 May_15.ipynb\n",
      "10/10/2022  05:33 PM            75,927 May_21(lists,tuples,sets,dictionary).ipynb\n",
      "10/11/2022  06:54 PM            14,285 May_22(if,elif,else,for).ipynb\n",
      "10/12/2022  06:12 PM            21,205 May_28(for loop).ipynb\n",
      "10/17/2022  01:34 AM            13,358 May_28(questions).ipynb\n",
      "10/20/2022  06:43 AM            66,651 May_29(function).ipynb\n",
      "10/13/2022  05:47 PM         1,521,750 May_29(while).ipynb\n",
      "10/29/2022  06:17 PM                 0 name.txt\n",
      "10/25/2022  05:21 PM            27,555 Practice.ipynb\n",
      "05/20/2022  11:12 AM            48,483 Python string basic.ipynb\n",
      "05/19/2022  03:24 PM             9,544 variable in python(intro).ipynb\n",
      "10/25/2022  04:26 PM                23 welcome.txt\n",
      "10/16/2022  09:50 PM         3,644,387 while loop and basic of function .ipynb\n",
      "              24 File(s)      6,149,481 bytes\n",
      "               3 Dir(s)  77,606,440,960 bytes free\n"
     ]
    }
   ],
   "source": [
    "ls"
   ]
  },
  {
   "cell_type": "code",
   "execution_count": 78,
   "id": "850fc676",
   "metadata": {},
   "outputs": [
    {
     "name": "stdout",
     "output_type": "stream",
     "text": [
      " Volume in drive C has no label.\n",
      " Volume Serial Number is AAE0-D3AA\n",
      "\n",
      " Directory of C:\\Users\\ais\\Desktop\\ineuron\\Python\n",
      "\n",
      "10/29/2022  06:16 PM    <DIR>          .\n",
      "10/29/2022  06:16 PM    <DIR>          ..\n",
      "10/29/2022  06:14 PM    <DIR>          .ipynb_checkpoints\n",
      "06/28/2022  11:10 AM           331,288 29th May while loop.ipynb\n",
      "10/28/2022  05:42 PM            24,215 Exception Handling.ipynb\n",
      "10/12/2022  06:07 PM            41,947 for loop practice  (1).ipynb\n",
      "06/20/2022  05:55 PM            19,561 for loop.ipynb\n",
      "06/19/2022  05:13 AM            14,003 if,elif, else.ipynb\n",
      "10/29/2022  06:16 PM            19,280 June_18( iterable, iterator, generator, file handling).ipynb\n",
      "10/20/2022  06:43 AM            12,446 June_4(Revision Class).ipynb\n",
      "10/21/2022  04:19 PM            17,939 June_5(function).ipynb\n",
      "06/01/2022  09:25 PM            64,414 Lists,tuples,dict.ipynb\n",
      "08/08/2022  08:01 PM            10,882 May 14(variable in python intro).ipynb\n",
      "08/18/2022  10:38 PM            85,620 May 15(string manipulation).ipynb\n",
      "09/04/2022  11:22 PM            64,718 May_15.ipynb\n",
      "10/10/2022  05:33 PM            75,927 May_21(lists,tuples,sets,dictionary).ipynb\n",
      "10/11/2022  06:54 PM            14,285 May_22(if,elif,else,for).ipynb\n",
      "10/12/2022  06:12 PM            21,205 May_28(for loop).ipynb\n",
      "10/17/2022  01:34 AM            13,358 May_28(questions).ipynb\n",
      "10/20/2022  06:43 AM            66,651 May_29(function).ipynb\n",
      "10/13/2022  05:47 PM         1,521,750 May_29(while).ipynb\n",
      "10/25/2022  05:21 PM            27,555 Practice.ipynb\n",
      "05/20/2022  11:12 AM            48,483 Python string basic.ipynb\n",
      "05/19/2022  03:24 PM             9,544 variable in python(intro).ipynb\n",
      "10/25/2022  04:26 PM                23 welcome.txt\n",
      "10/16/2022  09:50 PM         3,644,387 while loop and basic of function .ipynb\n",
      "              23 File(s)      6,149,481 bytes\n",
      "               3 Dir(s)  77,606,703,104 bytes free\n"
     ]
    }
   ],
   "source": [
    "ls"
   ]
  },
  {
   "cell_type": "code",
   "execution_count": 81,
   "id": "c4335511",
   "metadata": {},
   "outputs": [
    {
     "data": {
      "text/plain": [
       "36"
      ]
     },
     "execution_count": 81,
     "metadata": {},
     "output_type": "execute_result"
    }
   ],
   "source": [
    "f.write('this is my very first file operation')"
   ]
  },
  {
   "cell_type": "code",
   "execution_count": 82,
   "id": "0c332b43",
   "metadata": {},
   "outputs": [],
   "source": [
    "f.close()"
   ]
  },
  {
   "cell_type": "code",
   "execution_count": 83,
   "id": "2014f5c4",
   "metadata": {},
   "outputs": [
    {
     "name": "stdout",
     "output_type": "stream",
     "text": [
      " Volume in drive C has no label.\n",
      " Volume Serial Number is AAE0-D3AA\n",
      "\n",
      " Directory of C:\\Users\\ais\\Desktop\\ineuron\\Python\n",
      "\n",
      "10/29/2022  06:18 PM    <DIR>          .\n",
      "10/29/2022  06:18 PM    <DIR>          ..\n",
      "10/29/2022  06:14 PM    <DIR>          .ipynb_checkpoints\n",
      "06/28/2022  11:10 AM           331,288 29th May while loop.ipynb\n",
      "10/28/2022  05:42 PM            24,215 Exception Handling.ipynb\n",
      "10/12/2022  06:07 PM            41,947 for loop practice  (1).ipynb\n",
      "06/20/2022  05:55 PM            19,561 for loop.ipynb\n",
      "06/19/2022  05:13 AM            14,003 if,elif, else.ipynb\n",
      "10/29/2022  06:18 PM            24,880 June_18( iterable, iterator, generator, file handling).ipynb\n",
      "10/20/2022  06:43 AM            12,446 June_4(Revision Class).ipynb\n",
      "10/21/2022  04:19 PM            17,939 June_5(function).ipynb\n",
      "06/01/2022  09:25 PM            64,414 Lists,tuples,dict.ipynb\n",
      "08/08/2022  08:01 PM            10,882 May 14(variable in python intro).ipynb\n",
      "08/18/2022  10:38 PM            85,620 May 15(string manipulation).ipynb\n",
      "09/04/2022  11:22 PM            64,718 May_15.ipynb\n",
      "10/10/2022  05:33 PM            75,927 May_21(lists,tuples,sets,dictionary).ipynb\n",
      "10/11/2022  06:54 PM            14,285 May_22(if,elif,else,for).ipynb\n",
      "10/12/2022  06:12 PM            21,205 May_28(for loop).ipynb\n",
      "10/17/2022  01:34 AM            13,358 May_28(questions).ipynb\n",
      "10/20/2022  06:43 AM            66,651 May_29(function).ipynb\n",
      "10/13/2022  05:47 PM         1,521,750 May_29(while).ipynb\n",
      "10/29/2022  06:20 PM                36 name.txt\n",
      "10/25/2022  05:21 PM            27,555 Practice.ipynb\n",
      "05/20/2022  11:12 AM            48,483 Python string basic.ipynb\n",
      "05/19/2022  03:24 PM             9,544 variable in python(intro).ipynb\n",
      "10/25/2022  04:26 PM                23 welcome.txt\n",
      "10/16/2022  09:50 PM         3,644,387 while loop and basic of function .ipynb\n",
      "              24 File(s)      6,155,117 bytes\n",
      "               3 Dir(s)  77,609,234,432 bytes free\n"
     ]
    }
   ],
   "source": [
    "ls"
   ]
  },
  {
   "cell_type": "code",
   "execution_count": 85,
   "id": "22f4ccc2",
   "metadata": {},
   "outputs": [],
   "source": [
    "f1 = open(\"test1.txt\",\"w\")"
   ]
  },
  {
   "cell_type": "code",
   "execution_count": 86,
   "id": "de9ecd5c",
   "metadata": {},
   "outputs": [
    {
     "data": {
      "text/plain": [
       "56"
      ]
     },
     "execution_count": 86,
     "metadata": {},
     "output_type": "execute_result"
    }
   ],
   "source": [
    "f1.write(\"this is a file operation I am trying to do in fsds class\")"
   ]
  },
  {
   "cell_type": "code",
   "execution_count": 87,
   "id": "15fbe240",
   "metadata": {},
   "outputs": [],
   "source": [
    "f1.close()"
   ]
  },
  {
   "cell_type": "code",
   "execution_count": 88,
   "id": "f931abaa",
   "metadata": {},
   "outputs": [
    {
     "name": "stdout",
     "output_type": "stream",
     "text": [
      " Volume in drive C has no label.\n",
      " Volume Serial Number is AAE0-D3AA\n",
      "\n",
      " Directory of C:\\Users\\ais\\Desktop\\ineuron\\Python\n",
      "\n",
      "10/29/2022  06:24 PM    <DIR>          .\n",
      "10/29/2022  06:24 PM    <DIR>          ..\n",
      "10/29/2022  06:14 PM    <DIR>          .ipynb_checkpoints\n",
      "06/28/2022  11:10 AM           331,288 29th May while loop.ipynb\n",
      "10/28/2022  05:42 PM            24,215 Exception Handling.ipynb\n",
      "10/12/2022  06:07 PM            41,947 for loop practice  (1).ipynb\n",
      "06/20/2022  05:55 PM            19,561 for loop.ipynb\n",
      "06/19/2022  05:13 AM            14,003 if,elif, else.ipynb\n",
      "10/29/2022  06:24 PM            27,893 June_18( iterable, iterator, generator, file handling).ipynb\n",
      "10/20/2022  06:43 AM            12,446 June_4(Revision Class).ipynb\n",
      "10/21/2022  04:19 PM            17,939 June_5(function).ipynb\n",
      "06/01/2022  09:25 PM            64,414 Lists,tuples,dict.ipynb\n",
      "08/08/2022  08:01 PM            10,882 May 14(variable in python intro).ipynb\n",
      "08/18/2022  10:38 PM            85,620 May 15(string manipulation).ipynb\n",
      "09/04/2022  11:22 PM            64,718 May_15.ipynb\n",
      "10/10/2022  05:33 PM            75,927 May_21(lists,tuples,sets,dictionary).ipynb\n",
      "10/11/2022  06:54 PM            14,285 May_22(if,elif,else,for).ipynb\n",
      "10/12/2022  06:12 PM            21,205 May_28(for loop).ipynb\n",
      "10/17/2022  01:34 AM            13,358 May_28(questions).ipynb\n",
      "10/20/2022  06:43 AM            66,651 May_29(function).ipynb\n",
      "10/13/2022  05:47 PM         1,521,750 May_29(while).ipynb\n",
      "10/29/2022  06:20 PM                36 name.txt\n",
      "10/25/2022  05:21 PM            27,555 Practice.ipynb\n",
      "05/20/2022  11:12 AM            48,483 Python string basic.ipynb\n",
      "10/29/2022  06:24 PM                56 test1.txt\n",
      "05/19/2022  03:24 PM             9,544 variable in python(intro).ipynb\n",
      "10/25/2022  04:26 PM                23 welcome.txt\n",
      "10/16/2022  09:50 PM         3,644,387 while loop and basic of function .ipynb\n",
      "              25 File(s)      6,158,186 bytes\n",
      "               3 Dir(s)  77,607,911,424 bytes free\n"
     ]
    }
   ],
   "source": [
    "ls"
   ]
  },
  {
   "cell_type": "code",
   "execution_count": 89,
   "id": "1ad31de4",
   "metadata": {},
   "outputs": [],
   "source": [
    "l = [1,2,3,4,5,6,7,67,6]"
   ]
  },
  {
   "cell_type": "code",
   "execution_count": 90,
   "id": "996a2032",
   "metadata": {},
   "outputs": [],
   "source": [
    "f2 = open(\"test2.txt\",\"w\")"
   ]
  },
  {
   "cell_type": "code",
   "execution_count": 94,
   "id": "e4d08c1d",
   "metadata": {},
   "outputs": [
    {
     "data": {
      "text/plain": [
       "28"
      ]
     },
     "execution_count": 94,
     "metadata": {},
     "output_type": "execute_result"
    }
   ],
   "source": [
    "f2.write(str(l))"
   ]
  },
  {
   "cell_type": "code",
   "execution_count": 95,
   "id": "c70eb3ea",
   "metadata": {},
   "outputs": [],
   "source": [
    "f2.close()"
   ]
  },
  {
   "cell_type": "code",
   "execution_count": 96,
   "id": "9c186dcf",
   "metadata": {},
   "outputs": [
    {
     "data": {
      "text/plain": [
       "25"
      ]
     },
     "execution_count": 96,
     "metadata": {},
     "output_type": "execute_result"
    }
   ],
   "source": [
    "f3 = open(\"test.prince\",\"w\")\n",
    "f3.write(\"sfafsfsff asfsf asfas asf\")"
   ]
  },
  {
   "cell_type": "code",
   "execution_count": 97,
   "id": "03ef4069",
   "metadata": {},
   "outputs": [],
   "source": [
    "f3.close()"
   ]
  },
  {
   "cell_type": "code",
   "execution_count": 99,
   "id": "546f08d5",
   "metadata": {},
   "outputs": [
    {
     "name": "stdout",
     "output_type": "stream",
     "text": [
      "Overwriting test5.txt\n"
     ]
    }
   ],
   "source": [
    "%%writefile test5.txt\n",
    "this is my python program to write into a file in different way\n",
    "this is my python program to write into a file in different way\n",
    "this is my python program to write into a file in different way\n",
    "this is my python program to write into a file in different way\n",
    "this is my python program to write into a file in different way"
   ]
  },
  {
   "cell_type": "code",
   "execution_count": 100,
   "id": "b61ad66b",
   "metadata": {},
   "outputs": [],
   "source": [
    "f=open('test5.txt')"
   ]
  },
  {
   "cell_type": "code",
   "execution_count": 101,
   "id": "595788ea",
   "metadata": {},
   "outputs": [
    {
     "data": {
      "text/plain": [
       "'this is my python program to write into a file in different way\\nthis is my python program to write into a file in different way\\nthis is my python program to write into a file in different way\\nthis is my python program to write into a file in different way\\nthis is my python program to write into a file in different way\\n'"
      ]
     },
     "execution_count": 101,
     "metadata": {},
     "output_type": "execute_result"
    }
   ],
   "source": [
    "f.read()"
   ]
  },
  {
   "cell_type": "code",
   "execution_count": 102,
   "id": "35995ec4",
   "metadata": {},
   "outputs": [
    {
     "data": {
      "text/plain": [
       "''"
      ]
     },
     "execution_count": 102,
     "metadata": {},
     "output_type": "execute_result"
    }
   ],
   "source": [
    "f.read()"
   ]
  },
  {
   "cell_type": "code",
   "execution_count": 103,
   "id": "618c5db5",
   "metadata": {},
   "outputs": [
    {
     "data": {
      "text/plain": [
       "''"
      ]
     },
     "execution_count": 103,
     "metadata": {},
     "output_type": "execute_result"
    }
   ],
   "source": [
    "f.read()"
   ]
  },
  {
   "cell_type": "code",
   "execution_count": 104,
   "id": "c720790e",
   "metadata": {},
   "outputs": [
    {
     "data": {
      "text/plain": [
       "0"
      ]
     },
     "execution_count": 104,
     "metadata": {},
     "output_type": "execute_result"
    }
   ],
   "source": [
    "f.seek(0)"
   ]
  },
  {
   "cell_type": "code",
   "execution_count": 105,
   "id": "531b8a99",
   "metadata": {},
   "outputs": [
    {
     "data": {
      "text/plain": [
       "'this is my python program to write into a file in different way\\nthis is my python program to write into a file in different way\\nthis is my python program to write into a file in different way\\nthis is my python program to write into a file in different way\\nthis is my python program to write into a file in different way\\n'"
      ]
     },
     "execution_count": 105,
     "metadata": {},
     "output_type": "execute_result"
    }
   ],
   "source": [
    "f.read()"
   ]
  },
  {
   "cell_type": "code",
   "execution_count": 106,
   "id": "28176514",
   "metadata": {},
   "outputs": [
    {
     "data": {
      "text/plain": [
       "''"
      ]
     },
     "execution_count": 106,
     "metadata": {},
     "output_type": "execute_result"
    }
   ],
   "source": [
    "f.read()"
   ]
  },
  {
   "cell_type": "code",
   "execution_count": 107,
   "id": "099de0ee",
   "metadata": {},
   "outputs": [
    {
     "data": {
      "text/plain": [
       "0"
      ]
     },
     "execution_count": 107,
     "metadata": {},
     "output_type": "execute_result"
    }
   ],
   "source": [
    "f.seek(0)"
   ]
  },
  {
   "cell_type": "code",
   "execution_count": 108,
   "id": "82bcaa30",
   "metadata": {},
   "outputs": [
    {
     "data": {
      "text/plain": [
       "'this is my python program to write into a file in different way\\nthis is my python program to write into a file in different way\\nthis is my python program to write into a file in different way\\nthis is my python program to write into a file in different way\\nthis is my python program to write into a file in different way\\n'"
      ]
     },
     "execution_count": 108,
     "metadata": {},
     "output_type": "execute_result"
    }
   ],
   "source": [
    "f.read()"
   ]
  },
  {
   "cell_type": "code",
   "execution_count": 109,
   "id": "6281399d",
   "metadata": {},
   "outputs": [
    {
     "data": {
      "text/plain": [
       "4"
      ]
     },
     "execution_count": 109,
     "metadata": {},
     "output_type": "execute_result"
    }
   ],
   "source": [
    "f.seek(4)"
   ]
  },
  {
   "cell_type": "code",
   "execution_count": 110,
   "id": "bc16051c",
   "metadata": {},
   "outputs": [
    {
     "data": {
      "text/plain": [
       "' is my python program to write into a file in different way\\nthis is my python program to write into a file in different way\\nthis is my python program to write into a file in different way\\nthis is my python program to write into a file in different way\\nthis is my python program to write into a file in different way\\n'"
      ]
     },
     "execution_count": 110,
     "metadata": {},
     "output_type": "execute_result"
    }
   ],
   "source": [
    "f.read()"
   ]
  },
  {
   "cell_type": "code",
   "execution_count": 111,
   "id": "4f40cdcb",
   "metadata": {},
   "outputs": [
    {
     "data": {
      "text/plain": [
       "5"
      ]
     },
     "execution_count": 111,
     "metadata": {},
     "output_type": "execute_result"
    }
   ],
   "source": [
    "f.seek(5)"
   ]
  },
  {
   "cell_type": "code",
   "execution_count": 112,
   "id": "f7bb4171",
   "metadata": {},
   "outputs": [
    {
     "data": {
      "text/plain": [
       "'is my python program to write into a file in different way\\nthis is my python program to write into a file in different way\\nthis is my python program to write into a file in different way\\nthis is my python program to write into a file in different way\\nthis is my python program to write into a file in different way\\n'"
      ]
     },
     "execution_count": 112,
     "metadata": {},
     "output_type": "execute_result"
    }
   ],
   "source": [
    "f.read()"
   ]
  },
  {
   "cell_type": "code",
   "execution_count": 113,
   "id": "c34e1c6c",
   "metadata": {},
   "outputs": [
    {
     "data": {
      "text/plain": [
       "50"
      ]
     },
     "execution_count": 113,
     "metadata": {},
     "output_type": "execute_result"
    }
   ],
   "source": [
    "f.seek(50)"
   ]
  },
  {
   "cell_type": "code",
   "execution_count": 114,
   "id": "3f341bd6",
   "metadata": {},
   "outputs": [
    {
     "data": {
      "text/plain": [
       "'different way\\nthis is my python program to write into a file in different way\\nthis is my python program to write into a file in different way\\nthis is my python program to write into a file in different way\\nthis is my python program to write into a file in different way\\n'"
      ]
     },
     "execution_count": 114,
     "metadata": {},
     "output_type": "execute_result"
    }
   ],
   "source": [
    "f.read()"
   ]
  },
  {
   "cell_type": "code",
   "execution_count": 115,
   "id": "aecb29d9",
   "metadata": {},
   "outputs": [],
   "source": [
    "f1 = open('test5.txt')"
   ]
  },
  {
   "cell_type": "code",
   "execution_count": 116,
   "id": "a728b252",
   "metadata": {},
   "outputs": [
    {
     "data": {
      "text/plain": [
       "0"
      ]
     },
     "execution_count": 116,
     "metadata": {},
     "output_type": "execute_result"
    }
   ],
   "source": [
    "f1.tell()"
   ]
  },
  {
   "cell_type": "code",
   "execution_count": 117,
   "id": "dc25cb8e",
   "metadata": {},
   "outputs": [
    {
     "data": {
      "text/plain": [
       "'this is my python program to write into a file in different way\\nthis is my python program to write into a file in different way\\nthis is my python program to write into a file in different way\\nthis is my python program to write into a file in different way\\nthis is my python program to write into a file in different way\\n'"
      ]
     },
     "execution_count": 117,
     "metadata": {},
     "output_type": "execute_result"
    }
   ],
   "source": [
    "f1.read()"
   ]
  },
  {
   "cell_type": "code",
   "execution_count": 118,
   "id": "5b344702",
   "metadata": {},
   "outputs": [
    {
     "data": {
      "text/plain": [
       "325"
      ]
     },
     "execution_count": 118,
     "metadata": {},
     "output_type": "execute_result"
    }
   ],
   "source": [
    "f1.tell()"
   ]
  },
  {
   "cell_type": "code",
   "execution_count": 119,
   "id": "4e3c49a1",
   "metadata": {},
   "outputs": [
    {
     "data": {
      "text/plain": [
       "2"
      ]
     },
     "execution_count": 119,
     "metadata": {},
     "output_type": "execute_result"
    }
   ],
   "source": [
    "f1.seek(2)"
   ]
  },
  {
   "cell_type": "code",
   "execution_count": 120,
   "id": "1f3b9f96",
   "metadata": {},
   "outputs": [
    {
     "data": {
      "text/plain": [
       "2"
      ]
     },
     "execution_count": 120,
     "metadata": {},
     "output_type": "execute_result"
    }
   ],
   "source": [
    "f1.tell()"
   ]
  },
  {
   "cell_type": "code",
   "execution_count": 121,
   "id": "20a32f36",
   "metadata": {},
   "outputs": [
    {
     "data": {
      "text/plain": [
       "'is is my python program to write into a file in different way\\nthis is my python program to write into a file in different way\\nthis is my python program to write into a file in different way\\nthis is my python program to write into a file in different way\\nthis is my python program to write into a file in different way\\n'"
      ]
     },
     "execution_count": 121,
     "metadata": {},
     "output_type": "execute_result"
    }
   ],
   "source": [
    "f1.read()"
   ]
  },
  {
   "cell_type": "code",
   "execution_count": 122,
   "id": "8bd47bd6",
   "metadata": {},
   "outputs": [
    {
     "data": {
      "text/plain": [
       "''"
      ]
     },
     "execution_count": 122,
     "metadata": {},
     "output_type": "execute_result"
    }
   ],
   "source": [
    "f.read()"
   ]
  },
  {
   "cell_type": "code",
   "execution_count": 123,
   "id": "063c8451",
   "metadata": {},
   "outputs": [
    {
     "data": {
      "text/plain": [
       "325"
      ]
     },
     "execution_count": 123,
     "metadata": {},
     "output_type": "execute_result"
    }
   ],
   "source": [
    "f1.tell()"
   ]
  },
  {
   "cell_type": "code",
   "execution_count": 125,
   "id": "63a2c8f6",
   "metadata": {},
   "outputs": [
    {
     "data": {
      "text/plain": [
       "5"
      ]
     },
     "execution_count": 125,
     "metadata": {},
     "output_type": "execute_result"
    }
   ],
   "source": [
    "f1.seek(5)"
   ]
  },
  {
   "cell_type": "code",
   "execution_count": 126,
   "id": "20f49235",
   "metadata": {},
   "outputs": [
    {
     "data": {
      "text/plain": [
       "'is my python pr'"
      ]
     },
     "execution_count": 126,
     "metadata": {},
     "output_type": "execute_result"
    }
   ],
   "source": [
    "f1.read(15)"
   ]
  },
  {
   "cell_type": "code",
   "execution_count": 127,
   "id": "8ab011c6",
   "metadata": {},
   "outputs": [],
   "source": [
    "f2 = open('test5.txt')"
   ]
  },
  {
   "cell_type": "code",
   "execution_count": 128,
   "id": "d2cabf4e",
   "metadata": {},
   "outputs": [
    {
     "data": {
      "text/plain": [
       "0"
      ]
     },
     "execution_count": 128,
     "metadata": {},
     "output_type": "execute_result"
    }
   ],
   "source": [
    "f2.seek(0)"
   ]
  },
  {
   "cell_type": "code",
   "execution_count": 129,
   "id": "f2eb32f8",
   "metadata": {},
   "outputs": [
    {
     "data": {
      "text/plain": [
       "'this is my python program to write into a file in different way\\n'"
      ]
     },
     "execution_count": 129,
     "metadata": {},
     "output_type": "execute_result"
    }
   ],
   "source": [
    "f2.readline()"
   ]
  },
  {
   "cell_type": "code",
   "execution_count": 130,
   "id": "f19250fd",
   "metadata": {},
   "outputs": [
    {
     "data": {
      "text/plain": [
       "['this is my python program to write into a file in different way\\n',\n",
       " 'this is my python program to write into a file in different way\\n',\n",
       " 'this is my python program to write into a file in different way\\n',\n",
       " 'this is my python program to write into a file in different way\\n']"
      ]
     },
     "execution_count": 130,
     "metadata": {},
     "output_type": "execute_result"
    }
   ],
   "source": [
    "f2.readlines()"
   ]
  },
  {
   "cell_type": "code",
   "execution_count": 134,
   "id": "7151db24",
   "metadata": {},
   "outputs": [
    {
     "data": {
      "text/plain": [
       "0"
      ]
     },
     "execution_count": 134,
     "metadata": {},
     "output_type": "execute_result"
    }
   ],
   "source": [
    "f2.seek(0)"
   ]
  },
  {
   "cell_type": "code",
   "execution_count": 135,
   "id": "b5cb65a2",
   "metadata": {},
   "outputs": [
    {
     "data": {
      "text/plain": [
       "['this is my python program to write into a file in different way\\n',\n",
       " 'this is my python program to write into a file in different way\\n',\n",
       " 'this is my python program to write into a file in different way\\n',\n",
       " 'this is my python program to write into a file in different way\\n',\n",
       " 'this is my python program to write into a file in different way\\n']"
      ]
     },
     "execution_count": 135,
     "metadata": {},
     "output_type": "execute_result"
    }
   ],
   "source": [
    "[i for i in f2.readlines()]"
   ]
  },
  {
   "cell_type": "code",
   "execution_count": 136,
   "id": "17c80b84",
   "metadata": {},
   "outputs": [
    {
     "data": {
      "text/plain": [
       "<_io.TextIOWrapper name='test5.txt' mode='r' encoding='cp1252'>"
      ]
     },
     "execution_count": 136,
     "metadata": {},
     "output_type": "execute_result"
    }
   ],
   "source": [
    "f2"
   ]
  },
  {
   "cell_type": "code",
   "execution_count": 137,
   "id": "daad0cd9",
   "metadata": {},
   "outputs": [
    {
     "data": {
      "text/plain": [
       "6"
      ]
     },
     "execution_count": 137,
     "metadata": {},
     "output_type": "execute_result"
    }
   ],
   "source": [
    "f2.fileno()"
   ]
  },
  {
   "cell_type": "code",
   "execution_count": 142,
   "id": "125e6f9b",
   "metadata": {},
   "outputs": [],
   "source": [
    "f = open('test.txt','w')"
   ]
  },
  {
   "cell_type": "code",
   "execution_count": 139,
   "id": "99a27f42",
   "metadata": {},
   "outputs": [
    {
     "data": {
      "text/plain": [
       "341"
      ]
     },
     "execution_count": 139,
     "metadata": {},
     "output_type": "execute_result"
    }
   ],
   "source": [
    "f.write(\"\"\"\"this is my python program to write into a file in different way\\n',\n",
    " 'this is my python program to write into a file in different way\\n',\n",
    " 'this is my python program to write into a file in different way\\n',\n",
    " 'this is my python program to write into a file in different way\\n',\n",
    " 'this is my python program to write into a file in different way\\n\"\"\")"
   ]
  },
  {
   "cell_type": "code",
   "execution_count": 140,
   "id": "f462caa1",
   "metadata": {},
   "outputs": [],
   "source": [
    "f.close()"
   ]
  },
  {
   "cell_type": "code",
   "execution_count": 143,
   "id": "81cc45a1",
   "metadata": {},
   "outputs": [
    {
     "data": {
      "text/plain": [
       "24"
      ]
     },
     "execution_count": 143,
     "metadata": {},
     "output_type": "execute_result"
    }
   ],
   "source": [
    "f.write(\"jlkshfljslkfjls lsjflsj \")"
   ]
  },
  {
   "cell_type": "code",
   "execution_count": 144,
   "id": "a36e3c9d",
   "metadata": {},
   "outputs": [],
   "source": [
    "f.close()"
   ]
  },
  {
   "cell_type": "code",
   "execution_count": 148,
   "id": "6953c06e",
   "metadata": {},
   "outputs": [],
   "source": [
    "f = open('test.txt','a')"
   ]
  },
  {
   "cell_type": "code",
   "execution_count": 149,
   "id": "dc697292",
   "metadata": {},
   "outputs": [
    {
     "data": {
      "text/plain": [
       "23"
      ]
     },
     "execution_count": 149,
     "metadata": {},
     "output_type": "execute_result"
    }
   ],
   "source": [
    "f.write(\"this is my new dataset \")"
   ]
  },
  {
   "cell_type": "code",
   "execution_count": 150,
   "id": "a5f09f34",
   "metadata": {},
   "outputs": [],
   "source": [
    "f.close()"
   ]
  },
  {
   "cell_type": "code",
   "execution_count": 151,
   "id": "740f05a6",
   "metadata": {},
   "outputs": [
    {
     "data": {
      "text/plain": [
       "'test.txt'"
      ]
     },
     "execution_count": 151,
     "metadata": {},
     "output_type": "execute_result"
    }
   ],
   "source": [
    "f.name"
   ]
  },
  {
   "cell_type": "code",
   "execution_count": 152,
   "id": "370297c9",
   "metadata": {},
   "outputs": [
    {
     "data": {
      "text/plain": [
       "True"
      ]
     },
     "execution_count": 152,
     "metadata": {},
     "output_type": "execute_result"
    }
   ],
   "source": [
    "f.closed"
   ]
  },
  {
   "cell_type": "code",
   "execution_count": 153,
   "id": "376cecd0",
   "metadata": {},
   "outputs": [
    {
     "data": {
      "text/plain": [
       "'a'"
      ]
     },
     "execution_count": 153,
     "metadata": {},
     "output_type": "execute_result"
    }
   ],
   "source": [
    "f.mode"
   ]
  },
  {
   "cell_type": "code",
   "execution_count": 154,
   "id": "e2997b0b",
   "metadata": {},
   "outputs": [
    {
     "ename": "ValueError",
     "evalue": "I/O operation on closed file.",
     "output_type": "error",
     "traceback": [
      "\u001b[1;31m---------------------------------------------------------------------------\u001b[0m",
      "\u001b[1;31mValueError\u001b[0m                                Traceback (most recent call last)",
      "\u001b[1;32m<ipython-input-154-196c60fa607b>\u001b[0m in \u001b[0;36m<module>\u001b[1;34m\u001b[0m\n\u001b[1;32m----> 1\u001b[1;33m \u001b[0mf\u001b[0m\u001b[1;33m.\u001b[0m\u001b[0mseek\u001b[0m\u001b[1;33m(\u001b[0m\u001b[1;36m15\u001b[0m\u001b[1;33m)\u001b[0m\u001b[1;33m\u001b[0m\u001b[1;33m\u001b[0m\u001b[0m\n\u001b[0m",
      "\u001b[1;31mValueError\u001b[0m: I/O operation on closed file."
     ]
    }
   ],
   "source": [
    " f.seek(15)"
   ]
  },
  {
   "cell_type": "code",
   "execution_count": 156,
   "id": "cc1b32c4",
   "metadata": {},
   "outputs": [],
   "source": [
    "f = open('test.txt','r')"
   ]
  },
  {
   "cell_type": "code",
   "execution_count": 157,
   "id": "ea5ce820",
   "metadata": {},
   "outputs": [
    {
     "data": {
      "text/plain": [
       "15"
      ]
     },
     "execution_count": 157,
     "metadata": {},
     "output_type": "execute_result"
    }
   ],
   "source": [
    "f.seek(15)"
   ]
  },
  {
   "cell_type": "code",
   "execution_count": 158,
   "id": "6e3ef037",
   "metadata": {},
   "outputs": [
    {
     "data": {
      "text/plain": [
       "' lsjflsj lkjsalfjalkjflkaj asjfjas ljas;lkfja;lkf4 46464 6546 4646 46546465 64 646 this is my new dataset '"
      ]
     },
     "execution_count": 158,
     "metadata": {},
     "output_type": "execute_result"
    }
   ],
   "source": [
    "f.read()"
   ]
  },
  {
   "cell_type": "code",
   "execution_count": 160,
   "id": "1a5ecca2",
   "metadata": {},
   "outputs": [],
   "source": [
    "f.close()"
   ]
  },
  {
   "cell_type": "code",
   "execution_count": 161,
   "id": "a1621967",
   "metadata": {},
   "outputs": [],
   "source": [
    "#map, reduce,filter"
   ]
  },
  {
   "cell_type": "code",
   "execution_count": 163,
   "id": "a24eac3e",
   "metadata": {},
   "outputs": [],
   "source": [
    "f = open('h:/test.txt', 'w')"
   ]
  },
  {
   "cell_type": "code",
   "execution_count": 164,
   "id": "1433be6f",
   "metadata": {},
   "outputs": [],
   "source": [
    "f.close()"
   ]
  },
  {
   "cell_type": "code",
   "execution_count": 165,
   "id": "11e04626",
   "metadata": {},
   "outputs": [],
   "source": [
    "l  = [2,3,4,5,5,6]"
   ]
  },
  {
   "cell_type": "code",
   "execution_count": 166,
   "id": "26e629f2",
   "metadata": {},
   "outputs": [
    {
     "data": {
      "text/plain": [
       "[4, 9, 16, 25, 25, 36]"
      ]
     },
     "execution_count": 166,
     "metadata": {},
     "output_type": "execute_result"
    }
   ],
   "source": [
    "[i**2 for i in l]"
   ]
  },
  {
   "cell_type": "code",
   "execution_count": 167,
   "id": "ee2e3f89",
   "metadata": {},
   "outputs": [],
   "source": [
    "l1=[]\n",
    "for i in l:\n",
    "    l1.append(i**2)"
   ]
  },
  {
   "cell_type": "code",
   "execution_count": 168,
   "id": "54704a2b",
   "metadata": {},
   "outputs": [
    {
     "data": {
      "text/plain": [
       "[4, 9, 16, 25, 25, 36]"
      ]
     },
     "execution_count": 168,
     "metadata": {},
     "output_type": "execute_result"
    }
   ],
   "source": [
    "l1"
   ]
  },
  {
   "cell_type": "code",
   "execution_count": 169,
   "id": "cfd1644b",
   "metadata": {},
   "outputs": [],
   "source": [
    "def sq(n):\n",
    "    return n**2"
   ]
  },
  {
   "cell_type": "code",
   "execution_count": 171,
   "id": "28d9bd6b",
   "metadata": {},
   "outputs": [
    {
     "data": {
      "text/plain": [
       "[4, 9, 16, 25, 25, 36]"
      ]
     },
     "execution_count": 171,
     "metadata": {},
     "output_type": "execute_result"
    }
   ],
   "source": [
    "list(map(sq,l))"
   ]
  },
  {
   "cell_type": "code",
   "execution_count": 175,
   "id": "86136b60",
   "metadata": {},
   "outputs": [
    {
     "data": {
      "text/plain": [
       "[4, 9, 16, 25, 25, 36]"
      ]
     },
     "execution_count": 175,
     "metadata": {},
     "output_type": "execute_result"
    }
   ],
   "source": [
    "list(map(lambda x:x**2, l))"
   ]
  },
  {
   "cell_type": "code",
   "execution_count": 176,
   "id": "6f7eb2bf",
   "metadata": {},
   "outputs": [
    {
     "data": {
      "text/plain": [
       "[2, 3, 4, 5, 5, 6]"
      ]
     },
     "execution_count": 176,
     "metadata": {},
     "output_type": "execute_result"
    }
   ],
   "source": [
    "l"
   ]
  },
  {
   "cell_type": "code",
   "execution_count": 179,
   "id": "f32c0b0d",
   "metadata": {},
   "outputs": [
    {
     "data": {
      "text/plain": [
       "['2', '3', '4', '5', '5', '6']"
      ]
     },
     "execution_count": 179,
     "metadata": {},
     "output_type": "execute_result"
    }
   ],
   "source": [
    "list(map(lambda x : str(x), l))"
   ]
  },
  {
   "cell_type": "code",
   "execution_count": 180,
   "id": "8c495880",
   "metadata": {},
   "outputs": [],
   "source": [
    "def str_c(n):\n",
    "    return str(n)"
   ]
  },
  {
   "cell_type": "code",
   "execution_count": 182,
   "id": "b3ffcad1",
   "metadata": {},
   "outputs": [
    {
     "data": {
      "text/plain": [
       "['2', '3', '4', '5', '5', '6']"
      ]
     },
     "execution_count": 182,
     "metadata": {},
     "output_type": "execute_result"
    }
   ],
   "source": [
    "list(map(str_c,l))"
   ]
  },
  {
   "cell_type": "code",
   "execution_count": 183,
   "id": "53062ae3",
   "metadata": {},
   "outputs": [
    {
     "data": {
      "text/plain": [
       "['2', '3', '4', '5', '5', '6']"
      ]
     },
     "execution_count": 183,
     "metadata": {},
     "output_type": "execute_result"
    }
   ],
   "source": [
    "list(map(str,l))"
   ]
  },
  {
   "cell_type": "code",
   "execution_count": 184,
   "id": "016354d5",
   "metadata": {},
   "outputs": [],
   "source": [
    "from functools import reduce"
   ]
  },
  {
   "cell_type": "code",
   "execution_count": 204,
   "id": "aea842cb",
   "metadata": {},
   "outputs": [],
   "source": [
    "l =[3,4,5,6,7,8,9]"
   ]
  },
  {
   "cell_type": "code",
   "execution_count": 201,
   "id": "901af09a",
   "metadata": {},
   "outputs": [
    {
     "name": "stdout",
     "output_type": "stream",
     "text": [
      "42\n"
     ]
    }
   ],
   "source": [
    "summ = 0 \n",
    "for i in l:\n",
    "    summ=summ+i\n",
    "print(summ)"
   ]
  },
  {
   "cell_type": "code",
   "execution_count": 206,
   "id": "ba0bdff9",
   "metadata": {},
   "outputs": [
    {
     "data": {
      "text/plain": [
       "42"
      ]
     },
     "execution_count": 206,
     "metadata": {},
     "output_type": "execute_result"
    }
   ],
   "source": [
    "reduce(lambda a,b : a + b,l)"
   ]
  },
  {
   "cell_type": "code",
   "execution_count": 207,
   "id": "78664789",
   "metadata": {},
   "outputs": [
    {
     "data": {
      "text/plain": [
       "181440"
      ]
     },
     "execution_count": 207,
     "metadata": {},
     "output_type": "execute_result"
    }
   ],
   "source": [
    "reduce(lambda a,b : a *b,l)"
   ]
  },
  {
   "cell_type": "code",
   "execution_count": 211,
   "id": "b8ff4b42",
   "metadata": {},
   "outputs": [],
   "source": [
    "l = [3]"
   ]
  },
  {
   "cell_type": "code",
   "execution_count": 213,
   "id": "a0a9f77d",
   "metadata": {},
   "outputs": [
    {
     "data": {
      "text/plain": [
       "3"
      ]
     },
     "execution_count": 213,
     "metadata": {},
     "output_type": "execute_result"
    }
   ],
   "source": [
    "reduce(lambda a,b : a+b,l)   #reduce gives the aggregate of something"
   ]
  },
  {
   "cell_type": "code",
   "execution_count": 214,
   "id": "2bffc357",
   "metadata": {},
   "outputs": [],
   "source": [
    "l = [1,2,3,4,45,5]"
   ]
  },
  {
   "cell_type": "code",
   "execution_count": 217,
   "id": "be8842d4",
   "metadata": {},
   "outputs": [
    {
     "name": "stdout",
     "output_type": "stream",
     "text": [
      "2\n",
      "4\n"
     ]
    }
   ],
   "source": [
    "for i in l:\n",
    "    if i%2==0:\n",
    "        print(i)"
   ]
  },
  {
   "cell_type": "code",
   "execution_count": 218,
   "id": "9da33aeb",
   "metadata": {},
   "outputs": [
    {
     "data": {
      "text/plain": [
       "[2, 4]"
      ]
     },
     "execution_count": 218,
     "metadata": {},
     "output_type": "execute_result"
    }
   ],
   "source": [
    "list(filter(lambda x:x%2==0, l ))"
   ]
  },
  {
   "cell_type": "code",
   "execution_count": 219,
   "id": "d3f89c49",
   "metadata": {},
   "outputs": [
    {
     "data": {
      "text/plain": [
       "[False, True, False, True, False, False]"
      ]
     },
     "execution_count": 219,
     "metadata": {},
     "output_type": "execute_result"
    }
   ],
   "source": [
    "list((lambda x:x%2==0, l ))"
   ]
  },
  {
   "cell_type": "code",
   "execution_count": 220,
   "id": "afdd2497",
   "metadata": {},
   "outputs": [],
   "source": [
    "def check_even(n):\n",
    "    if n%2==0:\n",
    "        return True"
   ]
  },
  {
   "cell_type": "code",
   "execution_count": 221,
   "id": "b50b93e3",
   "metadata": {},
   "outputs": [
    {
     "data": {
      "text/plain": [
       "[2, 4]"
      ]
     },
     "execution_count": 221,
     "metadata": {},
     "output_type": "execute_result"
    }
   ],
   "source": [
    "list(filter(check_even,l))"
   ]
  },
  {
   "cell_type": "code",
   "execution_count": null,
   "id": "50e04f60",
   "metadata": {},
   "outputs": [],
   "source": []
  },
  {
   "cell_type": "code",
   "execution_count": null,
   "id": "9ad9cfa2",
   "metadata": {},
   "outputs": [],
   "source": []
  }
 ],
 "metadata": {
  "kernelspec": {
   "display_name": "Python 3",
   "language": "python",
   "name": "python3"
  },
  "language_info": {
   "codemirror_mode": {
    "name": "ipython",
    "version": 3
   },
   "file_extension": ".py",
   "mimetype": "text/x-python",
   "name": "python",
   "nbconvert_exporter": "python",
   "pygments_lexer": "ipython3",
   "version": "3.8.8"
  }
 },
 "nbformat": 4,
 "nbformat_minor": 5
}
