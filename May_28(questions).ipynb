{
 "cells": [
  {
   "cell_type": "code",
   "execution_count": null,
   "id": "6e452b54",
   "metadata": {},
   "outputs": [],
   "source": [
    "q1 :\n",
    "ineruon \n",
    "ineruon ineruon \n",
    "ineruon ineruon ineruon\n",
    "ineruon ineruon ineruon ineruon\n",
    "\n",
    "q2 - \n",
    "\n",
    "          ineruon\n",
    "    ineruon      ineruon\n",
    "ineruon\t\tineruon \tineruon\n",
    "\tineruon\t\t ineruon\n",
    "\t\t  ineruon\n",
    "\n",
    "l = [[1,2,3,4] , (2,3,4,5,6) , (3,4,5,6,7) , set([23,4,5,45,4,4,5,45,45,4,5]) , {'k1' :\"sudh\" , \"k2\" : \"ineuron\",\"k3\":\n",
    "            \"kumar\" , 3:6 , 7:8} , [\"ineuron\" , \"data science \"]]\n",
    "\n",
    "q3 : Try to extract all the list entity \n",
    "q4 : Try to extract all the dict enteties\n",
    "q5 : Try to extract all the tuples entities\n",
    "q6 : Try to extract all the numerical data it may b a part of dict key and values \n",
    "q7 : Try to give summation of all the numeric data \n",
    "q8 : Try to filter out all the odd values out all numeric data which is a part of a list \n",
    "q9 : Try to extract \"ineruon\" out of this data\n",
    "q10 :Try to find out a number of occurances of all the data \n",
    "q11 : Try to find out number of keys in dict element\n",
    "q12 : Try to filter out all the string data \n",
    "q13 : Try to Find  out alphanum in data\n",
    "q14 : Try to find out multiplication of all numeric value in  the individual collection inside dataset \n",
    "q15 : Try to unwrape all the collection inside collection and create a flat list "
   ]
  },
  {
   "cell_type": "code",
   "execution_count": 12,
   "id": "30e8529f",
   "metadata": {},
   "outputs": [
    {
     "name": "stdout",
     "output_type": "stream",
     "text": [
      "ineuron \n",
      "ineuron ineuron \n",
      "ineuron ineuron ineuron \n",
      "ineuron ineuron ineuron ineuron \n"
     ]
    }
   ],
   "source": [
    "#q1 \n",
    "s ='ineuron '\n",
    "for i in range(1,5):\n",
    "    print(s * i)"
   ]
  },
  {
   "cell_type": "code",
   "execution_count": 117,
   "id": "b243b3f5",
   "metadata": {},
   "outputs": [],
   "source": [
    "l = [[1,2,3,4] , (2,3,4,5,6) , (3,4,5,6,7) , set([23,4,5,45,4,4,5,45,45,4,5]) , {'k1' :\"sudh\" , \"k2\" : \"ineuron\",\"k3\":\n",
    "            \"kumar\" , 3:6 , 7:8} , [\"ineuron\" , \"data science \"]]"
   ]
  },
  {
   "cell_type": "code",
   "execution_count": 213,
   "id": "c9bd1243",
   "metadata": {},
   "outputs": [
    {
     "name": "stdout",
     "output_type": "stream",
     "text": [
      "            ineuron \n",
      "        ineuron ineuron \n",
      "    ineuron ineuron ineuron \n",
      "ineuron ineuron ineuron ineuron \n",
      "    ineuron ineuron ineuron \n",
      "        ineuron ineuron \n",
      "            ineuron \n"
     ]
    }
   ],
   "source": [
    "#q2\n",
    "n=4\n",
    "for i in range(n):\n",
    "    for j in range(n-i-1):\n",
    "        print('   ',end=' ')\n",
    "    for j in range(i+1):\n",
    "        print('ineuron',end=' ')\n",
    "    print()\n",
    "for i in range(n-1):\n",
    "    for j in range(i+1):\n",
    "        print('    ', end='')\n",
    "    for j in range(n-i-1):\n",
    "        print('ineuron',end=' ')\n",
    "    print()\n"
   ]
  },
  {
   "cell_type": "code",
   "execution_count": 118,
   "id": "b47eab27",
   "metadata": {},
   "outputs": [
    {
     "name": "stdout",
     "output_type": "stream",
     "text": [
      "[1, 2, 3, 4]\n",
      "['ineuron', 'data science ']\n"
     ]
    }
   ],
   "source": [
    "#question 3\n",
    "for i in l:\n",
    "    if type(i)== list:\n",
    "        print(i)"
   ]
  },
  {
   "cell_type": "code",
   "execution_count": 119,
   "id": "7c077361",
   "metadata": {},
   "outputs": [
    {
     "name": "stdout",
     "output_type": "stream",
     "text": [
      "{'k1': 'sudh', 'k2': 'ineuron', 'k3': 'kumar', 3: 6, 7: 8}\n"
     ]
    }
   ],
   "source": [
    "#question 4\n",
    "for i in l:\n",
    "    if type(i)== dict:\n",
    "        print(i)"
   ]
  },
  {
   "cell_type": "code",
   "execution_count": 120,
   "id": "a70f82df",
   "metadata": {},
   "outputs": [
    {
     "name": "stdout",
     "output_type": "stream",
     "text": [
      "(2, 3, 4, 5, 6)\n",
      "(3, 4, 5, 6, 7)\n"
     ]
    }
   ],
   "source": [
    "#question 5\n",
    "for i in l:\n",
    "    if type(i)== tuple:\n",
    "        print(i)"
   ]
  },
  {
   "cell_type": "code",
   "execution_count": 121,
   "id": "958db9e1",
   "metadata": {},
   "outputs": [],
   "source": [
    "#question 6\n",
    "l1=[]\n",
    "for i in l:\n",
    "    if type(i)==tuple or type(i)==set or type(i)==list:\n",
    "        for j in i:\n",
    "            if type(j)==int:\n",
    "                l1.append(j)\n",
    "    elif type(i)==dict:\n",
    "        for j in i.items():\n",
    "            for k in j:\n",
    "                if type(k) == int:\n",
    "                    l1.append(k)"
   ]
  },
  {
   "cell_type": "code",
   "execution_count": 122,
   "id": "b8b3eadf",
   "metadata": {},
   "outputs": [
    {
     "data": {
      "text/plain": [
       "[1, 2, 3, 4, 2, 3, 4, 5, 6, 3, 4, 5, 6, 7, 45, 4, 5, 23, 3, 6, 7, 8]"
      ]
     },
     "execution_count": 122,
     "metadata": {},
     "output_type": "execute_result"
    }
   ],
   "source": [
    "l1"
   ]
  },
  {
   "cell_type": "code",
   "execution_count": 123,
   "id": "af22356d",
   "metadata": {},
   "outputs": [
    {
     "name": "stdout",
     "output_type": "stream",
     "text": [
      "156\n"
     ]
    }
   ],
   "source": [
    "#question 7\n",
    "sum = 0\n",
    "for i in l1:\n",
    "    sum =  sum+i\n",
    "print(sum)"
   ]
  },
  {
   "cell_type": "code",
   "execution_count": 124,
   "id": "1d1221e4",
   "metadata": {},
   "outputs": [
    {
     "name": "stdout",
     "output_type": "stream",
     "text": [
      "1\n",
      "3\n",
      "3\n",
      "5\n",
      "3\n",
      "5\n",
      "7\n",
      "45\n",
      "5\n",
      "23\n",
      "3\n",
      "7\n"
     ]
    }
   ],
   "source": [
    "#question 8\n",
    "for i in l1:\n",
    "    if i%2!=0:\n",
    "        print(i)"
   ]
  },
  {
   "cell_type": "code",
   "execution_count": 125,
   "id": "c9a2c5fd",
   "metadata": {},
   "outputs": [
    {
     "name": "stdout",
     "output_type": "stream",
     "text": [
      "ineuron\n"
     ]
    }
   ],
   "source": [
    "#question 9\n",
    "for i in l:\n",
    "    if type(i)==dict:\n",
    "        for j in i.items():\n",
    "            for k in j:\n",
    "                if k=='ineuron':\n",
    "                    print(k)"
   ]
  },
  {
   "cell_type": "code",
   "execution_count": 169,
   "id": "2c409bb6",
   "metadata": {},
   "outputs": [
    {
     "name": "stdout",
     "output_type": "stream",
     "text": [
      "1 - 1\n",
      "2 - 2\n",
      "3 - 4\n",
      "4 - 4\n",
      "5 - 3\n",
      "6 - 3\n",
      "7 - 2\n",
      "k3 - 1\n",
      "8 - 1\n",
      "data science  - 1\n",
      "45 - 1\n",
      "ineuron - 2\n",
      "kumar - 1\n",
      "sudh - 1\n",
      "23 - 1\n",
      "k2 - 1\n",
      "k1 - 1\n"
     ]
    }
   ],
   "source": [
    "#question 10\n",
    "l = [[1,2,3,4] , (2,3,4,5,6) , (3,4,5,6,7) , set([23,4,5,45,4,4,5,45,45,4,5]) , {'k1' :\"sudh\" , \"k2\" : \"ineuron\",\"k3\":\n",
    "            \"kumar\" , 3:6 , 7:8} , [\"ineuron\" , \"data science \"]]\n",
    "l1=[]\n",
    "for i in l:\n",
    "    if type(i)==list or type(i)==tuple or type(i)==set:\n",
    "        for j in i:\n",
    "            l1.append(j)\n",
    "    elif type(i)==dict:\n",
    "        for j in i.items():\n",
    "            for k in j:\n",
    "                l1.append(k)\n",
    "l2=set(l1)\n",
    "for i in l2:\n",
    "    print(i,'-',l1.count(i))"
   ]
  },
  {
   "cell_type": "code",
   "execution_count": 67,
   "id": "250e5ef5",
   "metadata": {},
   "outputs": [
    {
     "name": "stdout",
     "output_type": "stream",
     "text": [
      "5\n"
     ]
    }
   ],
   "source": [
    "#question11\n",
    "l2=[]\n",
    "for i in l:\n",
    "    if type(i)==dict:\n",
    "        for k in i:\n",
    "            l2.append(k)\n",
    "print(len(l2))"
   ]
  },
  {
   "cell_type": "code",
   "execution_count": 72,
   "id": "68e383c3",
   "metadata": {},
   "outputs": [],
   "source": [
    "#question 12\n",
    "l3=[]\n",
    "for i in l:\n",
    "    if type(i)==tuple or type(i)==set or type(i)==list:\n",
    "        for j in i:\n",
    "            if type(j)==str:\n",
    "                l1.append(j)\n",
    "    elif type(i)==dict:\n",
    "        for j in i.items():\n",
    "            for k in j:\n",
    "                if type(k) == str:\n",
    "                    l1.append(k)"
   ]
  },
  {
   "cell_type": "code",
   "execution_count": 82,
   "id": "ac71d52f",
   "metadata": {},
   "outputs": [],
   "source": [
    "l = [[1,2,3,4] , (2,3,4,5,6) , (3,4,5,6,7) , set([23,4,5,45,4,4,5,45,45,4,5]) , {'k1' :\"sudh\" , \"k2\" : \"ineuron\",\"k3\":\n",
    "            \"kumar\" , 3:6 , 7:8} , [\"ineuron\" , \"data science \"]]"
   ]
  },
  {
   "cell_type": "code",
   "execution_count": 83,
   "id": "7147a7c9",
   "metadata": {},
   "outputs": [],
   "source": [
    "l3=[]\n",
    "for i in l:\n",
    "    if type(i)==list or type(i)==tuple or type(i)==set:\n",
    "        for j in i:\n",
    "            if type(j)==str:\n",
    "                l3.append(j)\n",
    "    else:\n",
    "        for j in i.items():\n",
    "            for k in j:\n",
    "                if type(k)==str:\n",
    "                    l3.append(k)"
   ]
  },
  {
   "cell_type": "code",
   "execution_count": 84,
   "id": "5aee0719",
   "metadata": {},
   "outputs": [
    {
     "data": {
      "text/plain": [
       "['k1', 'sudh', 'k2', 'ineuron', 'k3', 'kumar', 'ineuron', 'data science ']"
      ]
     },
     "execution_count": 84,
     "metadata": {},
     "output_type": "execute_result"
    }
   ],
   "source": [
    "l3"
   ]
  },
  {
   "cell_type": "code",
   "execution_count": 112,
   "id": "9873e1ab",
   "metadata": {},
   "outputs": [],
   "source": [
    "#question 13\n",
    "l3=[]\n",
    "for i in l:\n",
    "    if type(i)==list or type(i)==tuple or type(i)==set:\n",
    "        for j in i:\n",
    "            if type(j)==str:\n",
    "                if j.isdigit()==False and j.isalpha()==False and j.isalnum()==True:\n",
    "                    l3.append(j)\n",
    "    else:\n",
    "        for j in i.items():\n",
    "            for k in j:\n",
    "                if type(k)==str:\n",
    "                    if k.isdigit()==False and k.isalpha()==False and k.isalnum()==True:\n",
    "                        l3.append(k)"
   ]
  },
  {
   "cell_type": "code",
   "execution_count": 113,
   "id": "ebb72e57",
   "metadata": {},
   "outputs": [
    {
     "data": {
      "text/plain": [
       "['k1', 'k2', 'k3']"
      ]
     },
     "execution_count": 113,
     "metadata": {},
     "output_type": "execute_result"
    }
   ],
   "source": [
    "l3"
   ]
  },
  {
   "cell_type": "code",
   "execution_count": 126,
   "id": "30dbcb31",
   "metadata": {},
   "outputs": [
    {
     "name": "stdout",
     "output_type": "stream",
     "text": [
      "908605071360000\n"
     ]
    }
   ],
   "source": [
    "#question 14\n",
    "multi=1\n",
    "for i in l1:\n",
    "    multi =  multi*i\n",
    "print(multi)"
   ]
  },
  {
   "cell_type": "code",
   "execution_count": 127,
   "id": "972393ec",
   "metadata": {},
   "outputs": [],
   "source": [
    "#question 15\n",
    "l4=[]\n",
    "for i in l:\n",
    "    if type(i)==list or type(i)==tuple or type(i)==set:\n",
    "        for j in i:\n",
    "            l4.append(j)\n",
    "    else:\n",
    "        for j in i.items():\n",
    "            for k in j:\n",
    "                l4.append(k)"
   ]
  },
  {
   "cell_type": "code",
   "execution_count": 128,
   "id": "817edf05",
   "metadata": {},
   "outputs": [
    {
     "data": {
      "text/plain": [
       "[1,\n",
       " 2,\n",
       " 3,\n",
       " 4,\n",
       " 2,\n",
       " 3,\n",
       " 4,\n",
       " 5,\n",
       " 6,\n",
       " 3,\n",
       " 4,\n",
       " 5,\n",
       " 6,\n",
       " 7,\n",
       " 45,\n",
       " 4,\n",
       " 5,\n",
       " 23,\n",
       " 'k1',\n",
       " 'sudh',\n",
       " 'k2',\n",
       " 'ineuron',\n",
       " 'k3',\n",
       " 'kumar',\n",
       " 3,\n",
       " 6,\n",
       " 7,\n",
       " 8,\n",
       " 'ineuron',\n",
       " 'data science ']"
      ]
     },
     "execution_count": 128,
     "metadata": {},
     "output_type": "execute_result"
    }
   ],
   "source": [
    "l4"
   ]
  },
  {
   "cell_type": "code",
   "execution_count": null,
   "id": "18f51264",
   "metadata": {},
   "outputs": [],
   "source": []
  }
 ],
 "metadata": {
  "kernelspec": {
   "display_name": "Python 3",
   "language": "python",
   "name": "python3"
  },
  "language_info": {
   "codemirror_mode": {
    "name": "ipython",
    "version": 3
   },
   "file_extension": ".py",
   "mimetype": "text/x-python",
   "name": "python",
   "nbconvert_exporter": "python",
   "pygments_lexer": "ipython3",
   "version": "3.8.8"
  }
 },
 "nbformat": 4,
 "nbformat_minor": 5
}
